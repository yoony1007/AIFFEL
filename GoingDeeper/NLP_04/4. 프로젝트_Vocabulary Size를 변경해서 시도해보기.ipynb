{
 "cells": [
  {
   "cell_type": "markdown",
   "id": "center-mandate",
   "metadata": {},
   "source": [
    "# 프로젝트_Vocabulary Size를 변경해서 시도해보기"
   ]
  },
  {
   "cell_type": "markdown",
   "id": "dirty-instruction",
   "metadata": {},
   "source": [
    "## 목차\n",
    "- 1. 프로젝트 개요\n",
    "- 2. 필요 라이브러리 불러오기\n",
    "- 3. 직접 단어 개수 설정하기\n",
    "    - 3-1. 데이터 확인하기\n",
    "    - 3-2. 데이터 복원하기\n",
    "    - 3-3. 벡터화\n",
    "    - 3-4. 다양한 분류 모델 사용해보기\n",
    "        - (1) 나이브 베이즈 분류기\n",
    "        - (2) 컴플리먼트 나이브 베이즈 분류기\n",
    "        - (3) F1-Score\n",
    "        - (4) Confusion Matrix\n",
    "        - (5) 로지스틱 회귀(Logistic Regerssion)\n",
    "        - (6) 선형 서포트 벡터 머신\n",
    "        - (7) 결정 트리(Decision Tree)\n",
    "        - (8) 랜덤 포레스트(Random Forest)\n",
    "        - (9) 그래디언트 부스팅 트리(GradientBoostingClassifier)\n",
    "        - (10) 보팅(Voting)\n",
    "        - (11) RNN\n",
    "- 4. 모든 단어 사용하기\n",
    "    - 4-1. 데이터 확인하기\n",
    "    - 4-2. 데이터 복원하기\n",
    "    - 4-3. 벡터화\n",
    "    - 4-4. 다양한 분류 모델 사용해보기\n",
    "        - (1) 나이브 베이즈 분류기\n",
    "        - (2) 컴플리먼트 나이브 베이즈 분류기\n",
    "        - (3) F1-Score\n",
    "        - (4) Confusion Matrix\n",
    "        - (5) 로지스틱 회귀(Logistic Regerssion)\n",
    "        - (6) 선형 서포트 벡터 머신\n",
    "        - (7) 결정 트리(Decision Tree)\n",
    "        - (8) 랜덤 포레스트(Random Forest)\n",
    "        - (9) 그래디언트 부스팅 트리(GradientBoostingClassifier)\n",
    "        - (10) 보팅(Voting)\n",
    "        - (11) RNN\n",
    "- 5. 빈도수 상위 5,000개의 단어만 사용\n",
    "    - 5-1. 데이터 확인하기\n",
    "    - 5-2. 데이터 복원하기\n",
    "    - 5-3. 벡터화\n",
    "    - 5-4. 다양한 분류 모델 사용해보기\n",
    "        - (1) 나이브 베이즈 분류기\n",
    "        - (2) 컴플리먼트 나이브 베이즈 분류기\n",
    "        - (3) F1-Score\n",
    "        - (4) Confusion Matrix\n",
    "        - (5) 로지스틱 회귀(Logistic Regerssion)\n",
    "        - (6) 선형 서포트 벡터 머신\n",
    "        - (7) 결정 트리(Decision Tree)\n",
    "        - (8) 랜덤 포레스트(Random Forest)\n",
    "        - (9) 그래디언트 부스팅 트리(GradientBoostingClassifier)\n",
    "        - (10) 보팅(Voting)\n",
    "        - (11) RNN\n",
    "- 6. 결과 비교"
   ]
  },
  {
   "cell_type": "markdown",
   "id": "practical-motor",
   "metadata": {},
   "source": [
    "## 1. 프로젝트 개요"
   ]
  },
  {
   "cell_type": "markdown",
   "id": "ignored-arizona",
   "metadata": {},
   "source": [
    "- 지금까지는 모델을 변경하고, 모델을 조합해서 성능을 올려보았음\n",
    "- 그런데 어쩌면 성능을 높이는 방법은 단순히 모델을 조정하는 일에 한정되지 않을 수 있음\n",
    "- 데이터의 전처리는 모델의 성능에 영향을 직접적으로 줌\n",
    "- 특히나 Bag of Words를 기반으로 하는 DTM이나 TF-IDF의 경우, 사용하는 단어의 수를 어떻게 결정하느냐에 따라서 성능에 영향을 줄 수 있음\n",
    "<br>\n",
    "\n",
    "- 중요도가 낮은 단어들까지 포함해 너무 많은 단어를 사용하는 경우에도 성능이 저하될 수 있음\n",
    "- 반대로, 너무 적은 단어들을 사용해도 성능이 저하될 수 있음\n",
    "- 이렇게 변화된 단어의 수는 또 어떤 모델을 사용하느냐에 따라 유리할 수도, 불리할 수도 있음\n",
    "<br>\n",
    "\n",
    "- 단어의 수에 따라 모델의 성능이 어떻게 변하는지 테스트해 보기\n",
    "<br>\n",
    "\n",
    "```python\n",
    "(x_train, y_train), (x_test, y_test) = reuters.load_data(num_words = 10000, test_split = 0.2)\n",
    "```\n",
    "- 앞서 'num_words'로 사용할 단어의 수를 조정할 수 있다는 것을 배웠음\n",
    "- 빈도수가 많은 순서대로 나열했을 때, 'num_words'의 인자로 정숫값만큼의 단어를 사용하고 나머지 단어는 전부 '\\<unk\\>'로 처리하는 원리였음\n",
    "<br>\n",
    "\n",
    "- 모든 단어를 사용할 경우, 빈도수 상위 5,000 개의 단어만 사용할 경우에 대해서 지금까지 사용했던 모델들의 정확도를 직접 확인해 보기"
   ]
  },
  {
   "cell_type": "markdown",
   "id": "studied-contractor",
   "metadata": {},
   "source": [
    "### 머신러닝을 이용한 텍스트 분류\n",
    "- 텍스트 분류(Text Classification)란 주어진 텍스트를 사전 정의된 클래스(Pre-defined Class)들로 분류하는 자연어 처리 태스크\n",
    "- 이 태스크는 자연어 처리 태스크 중 가장 기본이 되면서, 비즈니스 영역에서도 가장 수요가 높음\n",
    "<br>\n",
    "\n",
    "- 평소에 쉽게 접할 수 있는 텍스트 분류의 영역으로는 '스팸 메일 자동 분류', '사용자의 리뷰로부터 긍정, 부정을 판단하는 감성 분류', '포털 사이트가 언론사의 뉴스들을 문화, 정치 등으로 자동 분류하여 보여주는 뉴스 카테고리 분류' 등이 있음\n",
    "<br>\n",
    "\n",
    "- 이러한 분류들을 AI 알고리즘을 통해 수행할 때는 일반적으로 아래와 같은 과정을 거침\n",
    "![카테고리.png](./images/카테고리.png)\n",
    "<br>\n",
    "\n",
    "- 주어진 문장 또는 문서를 벡터화하고, 이를 AI 모델에 입력값으로 넣어주면 모델은 예측한 카테고리를 리턴\n",
    "- 만약 딥러닝 모델을 사용한다면 벡터화 방법으로는 워드 임베딩을 사용하고, RNN, CNN, BERT와 같은 딥러닝 모델을 사용해서 클래스를 예측할 수 있을 것\n",
    "<br>\n",
    "\n",
    "- 텍스트 분류에는 여러 종류가 있는데, 그 중 대표적인 것으로는 클래스가 2개인 경우인 이진 분류(Binary Classfiication)와 클래스 3개 이상인 경우인 다중 클래스 분류(Multiclass Classification)가 있음\n",
    "- 메일이 스팸인지 아닌지를 결정하는 스팸 메일 분류기가 이진 분류의 대표적인 예\n",
    "- 이번 프로젝트에서 하게 될 텍스트 분류는 다중 클래스 분류(Multiclass Classification)에 속함"
   ]
  },
  {
   "cell_type": "markdown",
   "id": "needed-directory",
   "metadata": {},
   "source": [
    "## 2. 필요 라이브러리 불러오기"
   ]
  },
  {
   "cell_type": "code",
   "execution_count": 1,
   "id": "bigger-roads",
   "metadata": {},
   "outputs": [],
   "source": [
    "from tensorflow.keras.datasets import reuters\n",
    "import matplotlib.pyplot as plt\n",
    "import seaborn as sns\n",
    "import numpy as np\n",
    "import pandas as pd\n",
    "\n",
    "# vectorize module\n",
    "from sklearn.feature_extraction.text import CountVectorizer\n",
    "from sklearn.feature_extraction.text import TfidfTransformer\n",
    "\n",
    "from sklearn.naive_bayes import MultinomialNB #다항분포 나이브 베이즈 모델\n",
    "from sklearn.linear_model import LogisticRegression, SGDClassifier\n",
    "from sklearn.naive_bayes import ComplementNB\n",
    "from sklearn.tree import DecisionTreeClassifier\n",
    "from sklearn.ensemble import RandomForestClassifier\n",
    "from sklearn.ensemble import GradientBoostingClassifier\n",
    "from sklearn.ensemble import VotingClassifier\n",
    "from sklearn.svm import LinearSVC\n",
    "from sklearn.metrics import accuracy_score #정확도 계산\n",
    "\n",
    "from sklearn.metrics import classification_report\n",
    "from sklearn.metrics import confusion_matrix\n",
    "\n",
    "from tensorflow import keras\n",
    "from tensorflow.keras.preprocessing.sequence import pad_sequences\n",
    "from tensorflow.keras.utils import to_categorical\n",
    "from tensorflow.keras.callbacks import EarlyStopping"
   ]
  },
  {
   "cell_type": "code",
   "execution_count": 2,
   "id": "alive-finish",
   "metadata": {},
   "outputs": [],
   "source": [
    "import warnings\n",
    "warnings.filterwarnings(\"ignore\")\n",
    "warnings.filterwarnings(\"ignore\", category=np.VisibleDeprecationWarning)"
   ]
  },
  {
   "cell_type": "markdown",
   "id": "complete-functionality",
   "metadata": {},
   "source": [
    "## 3. 직접 단어 개수 설정하기"
   ]
  },
  {
   "cell_type": "markdown",
   "id": "opposed-turkey",
   "metadata": {},
   "source": [
    "- 사용할 데이터는 로이터 뉴스 데이터\n",
    "- 이 데이터는 총 46개의 클래스로 구성되며, 해당 뉴스가 어느 카테고리에 속하는지를 예측하기 위한 데이터\n",
    "- 텐서플로우 데이터셋에서 제공하고 있는 데이터로 아주 쉽게 다운로드가 가능"
   ]
  },
  {
   "cell_type": "markdown",
   "id": "hollywood-pacific",
   "metadata": {},
   "source": [
    "### 3-1. 데이터 확인하기"
   ]
  },
  {
   "cell_type": "markdown",
   "id": "welcome-aviation",
   "metadata": {},
   "source": [
    "#### 훈련 데이터와 테스트 데이터 로드하기\n",
    "- 텐서플로우 데이터셋으로부터 로이터 뉴스 데이터 받아오기"
   ]
  },
  {
   "cell_type": "code",
   "execution_count": 104,
   "id": "liquid-gilbert",
   "metadata": {},
   "outputs": [],
   "source": [
    "(x_train, y_train), (x_test, y_test) = reuters.load_data(num_words = 10000, test_split = 0.2)"
   ]
  },
  {
   "cell_type": "markdown",
   "id": "realistic-birthday",
   "metadata": {},
   "source": [
    "- 'num_words'는 이 데이터에서 빈도수 기준으로 상위 몇 번째 단어까지 사용할 것인지 조절\n",
    "- 각 단어는 고유한 번호가 정해져 있는 상태이고, 이를 통해서 사용할 단어의 수를 정함\n",
    "<br>\n",
    "\n",
    "- 이 데이터의 단어들은 등장 빈도수가 높은 순서대로 낮은 정수가 맵핑되어 있음\n",
    "- 예를 들어서 50번 단어보다는 10번 단어가 전체에서 빈도수가 등장 빈도 순위로 40등이 더 높은 단어\n",
    "- 위에서 'num_words = 10000'은 1 ~ 10,000번 단어만 사용한다는 의미\n",
    "- 등장 빈도수가 높은 단어들만 사용하겠다는 의미\n",
    "<br>\n",
    "\n",
    "- 주의할 점은 데이터를 받아올 때, 'num_words'의 인자로 10,000을 기재한다고 해서 10,000보다 높은 점수가 맵핑된 단어들이 받아온 데이터에서 사라지는 게 아니라는 것\n",
    "- 'num_words'로 주어진 값보다 큰 번호를 가졌던 단어들은 특정 번호로 전부 맵핑이 됨\n",
    "- 이는 **OOV 문제**라는 자연어 처리의 대표적인 문제와 연관이 있음(추후 언급)\n",
    "<br>\n",
    "\n",
    "- 'test_split = 0.2'는 전체 데이터 중에서 80%를 훈련 데이터, 20%를 테스트 데이터로 사용한다는 의미\n",
    "- 'x_train'과 'x_test'는 훈련용 뉴스 데이터와 테스트용 뉴스 데이터, 'y_train'과 'y_test'는 훈련용 뉴스 데이터의 레이블과 테스트용 뉴스 데이터의 레이블이 되는 것\n",
    "<br>\n",
    "\n",
    "- 이렇게 받아온 데이터가 어떤 구성을 가지고 있는 출력해 보기"
   ]
  },
  {
   "cell_type": "code",
   "execution_count": 4,
   "id": "defined-toilet",
   "metadata": {},
   "outputs": [
    {
     "name": "stdout",
     "output_type": "stream",
     "text": [
      "훈련 샘플의 수:8982\n",
      "테스트 샘플의 수:2246\n"
     ]
    }
   ],
   "source": [
    "print('훈련 샘플의 수:{}'.format(len(x_train)))\n",
    "print('테스트 샘플의 수:{}'.format(len(x_test)))"
   ]
  },
  {
   "cell_type": "markdown",
   "id": "conditional-universal",
   "metadata": {},
   "source": [
    "#### 데이터 출력해보기\n",
    "- 훈련용 뉴스는 8,982개\n",
    "- 테스트용 뉴스는 2.246개\n",
    "- 8:2의 비율을 가지는데, 첫 번째 훈련용 뉴스와 첫 번째 테스트용 뉴스 출력해 보기"
   ]
  },
  {
   "cell_type": "code",
   "execution_count": 5,
   "id": "original-composite",
   "metadata": {},
   "outputs": [
    {
     "name": "stdout",
     "output_type": "stream",
     "text": [
      "[1, 2, 2, 8, 43, 10, 447, 5, 25, 207, 270, 5, 3095, 111, 16, 369, 186, 90, 67, 7, 89, 5, 19, 102, 6, 19, 124, 15, 90, 67, 84, 22, 482, 26, 7, 48, 4, 49, 8, 864, 39, 209, 154, 6, 151, 6, 83, 11, 15, 22, 155, 11, 15, 7, 48, 9, 4579, 1005, 504, 6, 258, 6, 272, 11, 15, 22, 134, 44, 11, 15, 16, 8, 197, 1245, 90, 67, 52, 29, 209, 30, 32, 132, 6, 109, 15, 17, 12]\n",
      "[1, 4, 1378, 2025, 9, 697, 4622, 111, 8, 25, 109, 29, 3650, 11, 150, 244, 364, 33, 30, 30, 1398, 333, 6, 2, 159, 9, 1084, 363, 13, 2, 71, 9, 2, 71, 117, 4, 225, 78, 206, 10, 9, 1214, 8, 4, 270, 5, 2, 7, 748, 48, 9, 2, 7, 207, 1451, 966, 1864, 793, 97, 133, 336, 7, 4, 493, 98, 273, 104, 284, 25, 39, 338, 22, 905, 220, 3465, 644, 59, 20, 6, 119, 61, 11, 15, 58, 579, 26, 10, 67, 7, 4, 738, 98, 43, 88, 333, 722, 12, 20, 6, 19, 746, 35, 15, 10, 9, 1214, 855, 129, 783, 21, 4, 2280, 244, 364, 51, 16, 299, 452, 16, 515, 4, 99, 29, 5, 4, 364, 281, 48, 10, 9, 1214, 23, 644, 47, 20, 324, 27, 56, 2, 2, 5, 192, 510, 17, 12]\n"
     ]
    }
   ],
   "source": [
    "print(x_train[0])\n",
    "print(x_test[0])"
   ]
  },
  {
   "cell_type": "markdown",
   "id": "sapphire-vaccine",
   "metadata": {},
   "source": [
    "- 실제 출력해보면 텍스트가 아니라 숫자 시퀀스가 출력됨\n",
    "- 각 단어가 빈도수가 높은 순서대로 낮은 정수가 맵핑되어 있다고 했었음\n",
    "- 이미 뉴스 데이터를 다운로드할 때는 단어가 아니라 해당 번호로 변환이 되어서 출력됨\n",
    "<br>\n",
    "\n",
    "- 대부분의 자연어 처리에서는 텍스트를 숫자로 수치화하는 과정이 필요\n",
    "- 텐서플로우 데이터셋에서는 이미 전처리를 한 데이터를 제공해 주는 셈\n",
    "<br>\n",
    "\n",
    "- 레이블도 출력해 보기\n",
    "- 첫 번째 훈련용 뉴스와 테스트용 뉴스의 레이블을 출력"
   ]
  },
  {
   "cell_type": "code",
   "execution_count": 6,
   "id": "decreased-viewer",
   "metadata": {},
   "outputs": [
    {
     "name": "stdout",
     "output_type": "stream",
     "text": [
      "3\n",
      "3\n"
     ]
    }
   ],
   "source": [
    "print(y_train[0])\n",
    "print(y_test[0])"
   ]
  },
  {
   "cell_type": "markdown",
   "id": "opposite-place",
   "metadata": {},
   "source": [
    "- 둘 다 숫자 3이 출력됨\n",
    "- 각 뉴스는 정수로 된 레이블을 가지고 있음\n",
    "- 이 레이블은 숫자 0부터 시작되므로, 모든 레이블 중 최댓값을 구하고 1을 더하면 현재 클래스의 개수를 볼수 있음"
   ]
  },
  {
   "cell_type": "code",
   "execution_count": 7,
   "id": "circular-genome",
   "metadata": {},
   "outputs": [
    {
     "name": "stdout",
     "output_type": "stream",
     "text": [
      "클래스의 수: 46\n"
     ]
    }
   ],
   "source": [
    "num_classes = max(y_train) + 1\n",
    "print('클래스의 수: {}'.format(num_classes))"
   ]
  },
  {
   "cell_type": "markdown",
   "id": "dimensional-silly",
   "metadata": {},
   "source": [
    "- 이 뉴스 데이터는 총 46개의 클래스를 가지고 있음\n",
    "- 이 정도면 적지는 않은 클래스라서 높은 정확도를 얻는 일이 쉽지는 않을 것"
   ]
  },
  {
   "cell_type": "markdown",
   "id": "southeast-merit",
   "metadata": {},
   "source": [
    "#### 데이터 분포 확인해보기\n",
    "- 자연어 처리 과정에서 문장과 문서들의 길이는 보통 다름\n",
    "- 평소에 보는 뉴스 기사의 길이가 항상 똑같지는 않음\n",
    "- 이 데이터도 마찬가지\n",
    "- 모든 뉴스 데이터들은 길이가 다 다름\n",
    "- 뉴스 데이터의 길이 분포 보기"
   ]
  },
  {
   "cell_type": "code",
   "execution_count": 105,
   "id": "failing-mining",
   "metadata": {
    "scrolled": true
   },
   "outputs": [
    {
     "name": "stdout",
     "output_type": "stream",
     "text": [
      "훈련용 뉴스의 최대 길이: 2376\n",
      "훈련용 뉴스의 평균 길이: 145\n"
     ]
    },
    {
     "data": {
      "image/png": "[encoded data removed]",
      "text/plain": [
       "<Figure size 792x360 with 1 Axes>"
      ]
     },
     "metadata": {
      "needs_background": "light"
     },
     "output_type": "display_data"
    }
   ],
   "source": [
    "print('훈련용 뉴스의 최대 길이: {}'.format(max(len(l) for l in x_train)))\n",
    "print('훈련용 뉴스의 평균 길이: {}'.format(sum(map(len, x_train))//len(x_train)))\n",
    "\n",
    "plt.hist([len(s) for s in x_train], bins = 50)\n",
    "plt.xlabel('length of samples')\n",
    "plt.ylabel('number of samples')\n",
    "plt.show()"
   ]
  },
  {
   "cell_type": "markdown",
   "id": "overall-blackberry",
   "metadata": {},
   "source": [
    "- 길이가 가장 긴 뉴스의 길이는 2,376\n",
    "- 평균 길이는 145\n",
    "- 아무래도 길이가 가장 긴 뉴스의 길이가 다르 뉴스에 비해 유독 긴 편인 것 같음\n",
    "- 시각화된 그래프의 분포로 봤을 때 500 ~ 1,000 사이의 길이를 가지는 뉴스도 일부 있어 보임\n",
    "<br>\n",
    "\n",
    "- 우리가 맞춰야 하는 클래스의 분포 확인해보기\n",
    "- 모델의 성능에 영향을 줄 수 있는 요소이기 때문에 실제로 모든 클래스가 다 존재는 하는 것인지, 또 어떤 클래스가 유독 많은지와 같은 것들을 사전에 확인해 보기"
   ]
  },
  {
   "cell_type": "code",
   "execution_count": 106,
   "id": "northern-stream",
   "metadata": {},
   "outputs": [
    {
     "data": {
      "image/png": "[encoded data removed]",
      "text/plain": [
       "<Figure size 792x360 with 1 Axes>"
      ]
     },
     "metadata": {
      "needs_background": "light"
     },
     "output_type": "display_data"
    }
   ],
   "source": [
    "fig, axe = plt.subplots(ncols = 1)\n",
    "fig.set_size_inches(11, 5)\n",
    "sns.countplot(x = y_train)\n",
    "plt.show()"
   ]
  },
  {
   "cell_type": "markdown",
   "id": "blessed-macro",
   "metadata": {},
   "source": [
    "- 뉴스 데이터는 3번, 4번 클래스가 대부분을 차지하고 있음\n",
    "- 그 뒤로는 19번, 16번, 1번, 11번 등이 높은 분포를 가지고 있음\n",
    "- 시각화를 통해 어떤 클래스가 많고, 적은 것을 쉽게 확인할 수는 있었지만 수치적으로 정확히 몇 개인지도 출력해보겠음"
   ]
  },
  {
   "cell_type": "code",
   "execution_count": 107,
   "id": "respiratory-entity",
   "metadata": {},
   "outputs": [
    {
     "name": "stdout",
     "output_type": "stream",
     "text": [
      "각 클래스 빈도수:\n",
      "[[   0    1    2    3    4    5    6    7    8    9   10   11   12   13\n",
      "    14   15   16   17   18   19   20   21   22   23   24   25   26   27\n",
      "    28   29   30   31   32   33   34   35   36   37   38   39   40   41\n",
      "    42   43   44   45]\n",
      " [  55  432   74 3159 1949   17   48   16  139  101  124  390   49  172\n",
      "    26   20  444   39   66  549  269  100   15   41   62   92   24   15\n",
      "    48   19   45   39   32   11   50   10   49   19   19   24   36   30\n",
      "    13   21   12   18]]\n"
     ]
    }
   ],
   "source": [
    "unique_elements, counts_elements = np.unique(y_train, return_counts = True)\n",
    "print(\"각 클래스 빈도수:\")\n",
    "print(np.asarray((unique_elements, counts_elements)))"
   ]
  },
  {
   "cell_type": "markdown",
   "id": "narrative-elements",
   "metadata": {},
   "source": [
    "- 3번, 4번 클래스의 경우에는 각각 3,159개와 1,949개가 존재\n",
    "- 그 뒤로는 549개로 19번 클래스가 세 번째로 많고, 16번 클래스가 444개로 4번째로 많음\n",
    "- 이렇게 각 클래스가 몇 개가 존재하는지도 확인해 봤음"
   ]
  },
  {
   "cell_type": "markdown",
   "id": "weird-spoke",
   "metadata": {},
   "source": [
    "### 3-2. 데이터 복원하기"
   ]
  },
  {
   "cell_type": "markdown",
   "id": "loose-testament",
   "metadata": {},
   "source": [
    "#### 원본 뉴스 데이터로 복원해보기\n",
    "- 조금은 일반적이지 않은 전처리 해보기\n",
    "- 이 데이터는 어느 정도 전처리가 되어서 각 단어가 정수 시퀀스로 변환된 채 제공되고 있음\n",
    "- 하지만 일반적인 상황이라면 텍스트를 숫자로 수치화하는 과정을 처음부터 해야 함\n",
    "<br>\n",
    "\n",
    "- 그래서 여기서 정수 시퀀스로 변환된 데이터를 '굳이' 다시 텍스트로 돌려보기\n",
    "<br>\n",
    "\n",
    "- 아래와 같이 로이터 뉴스 데이터는 '단어'를 key값으로, 고유한 '정수'를 value로 가지는 dictionary를 제공\n",
    "- 이를 'word_index'로 저장해보겠음"
   ]
  },
  {
   "cell_type": "code",
   "execution_count": 108,
   "id": "judicial-exhaust",
   "metadata": {},
   "outputs": [],
   "source": [
    "word_index = reuters.get_word_index(path = \"reuters_word_index.json\")"
   ]
  },
  {
   "cell_type": "markdown",
   "id": "competitive-visibility",
   "metadata": {},
   "source": [
    "- 이게 이 데이터의 단어장(Vocabulary)\n",
    "- 이제 'word_index' 안에 단어를 입력하면 이 단어가 어떤 정수와 맵핑이 되는지를알 수 있음\n",
    "- 단어 'the'는 어떤 정수와 맵핑이 될까?"
   ]
  },
  {
   "cell_type": "code",
   "execution_count": 109,
   "id": "documented-anger",
   "metadata": {},
   "outputs": [
    {
     "data": {
      "text/plain": [
       "1"
      ]
     },
     "execution_count": 109,
     "metadata": {},
     "output_type": "execute_result"
    }
   ],
   "source": [
    "word_index[\"the\"]"
   ]
  },
  {
   "cell_type": "markdown",
   "id": "genetic-bubble",
   "metadata": {},
   "source": [
    "- 단어 'the'는 정수 1과 맵핑이 됨\n",
    "- 그렇다면 단어 'it'은 어떤 정수와 맵핑이 될까?"
   ]
  },
  {
   "cell_type": "code",
   "execution_count": 110,
   "id": "radio-knowing",
   "metadata": {},
   "outputs": [
    {
     "data": {
      "text/plain": [
       "13"
      ]
     },
     "execution_count": 110,
     "metadata": {},
     "output_type": "execute_result"
    }
   ],
   "source": [
    "word_index[\"it\"]"
   ]
  },
  {
   "cell_type": "markdown",
   "id": "juvenile-sugar",
   "metadata": {},
   "source": [
    "- 단어 'it'은 정수 13과 맵핑이 됨\n",
    "<br>\n",
    "\n",
    "- 해야 할 일은 현재 갖고 있는 정수 시퀀스로 되어 있는 데이터를 텍스트 형태로 되돌려야 하는 일\n",
    "- 사실 'word_index' 보다는 정수로부터 단어를 얻을 수 있는 'index_word'가 필요\n",
    "<br>\n",
    "\n",
    "- 그런데 이 데이터에는 **숨겨진 비밀**이 있음\n",
    "- 뉴스 데이터 안에서 단어 'the'는 사실 1번이 아니라 4번 단어\n",
    "- 그리고 단어 'it'은 사실 13번 단어가 아니라 16번 단어\n",
    "- 다른 단어들도 마찬가지로 word_index에 입력으로 했을 때, 얻는 숫자보다는 **+3**을 한 숫자가 원래 고유한 숫자\n",
    "- 이건 로이터 뉴스 데이터가 정의한 일종의 약속\n",
    "<br>\n",
    "\n",
    "- 'reuters.get_word_index'에는 실제 단어에 맵핑한 정수에 -3을 한 정수를 입력해 놓았음\n",
    "- 그렇기 때문에 'word_index'에서' index_word'를 만들 때 각 정수에 +3을 해주어야 함"
   ]
  },
  {
   "cell_type": "code",
   "execution_count": 111,
   "id": "original-keyboard",
   "metadata": {},
   "outputs": [],
   "source": [
    "index_to_word = {index + 3: word for word, index in word_index.items()}"
   ]
  },
  {
   "cell_type": "markdown",
   "id": "miniature-spider",
   "metadata": {},
   "source": [
    "- 숫자 4와 16을 넣어서 the와 it이 출력되는지 확인해보기"
   ]
  },
  {
   "cell_type": "code",
   "execution_count": 112,
   "id": "hungarian-filling",
   "metadata": {},
   "outputs": [
    {
     "name": "stdout",
     "output_type": "stream",
     "text": [
      "the\n",
      "it\n"
     ]
    }
   ],
   "source": [
    "print(index_to_word[4])\n",
    "print(index_to_word[16])"
   ]
  },
  {
   "cell_type": "markdown",
   "id": "silver-vienna",
   "metadata": {},
   "source": [
    "- 이 데이터를 위해 약속된 내용은 더 있음\n",
    "- 0번, 1번, 2번은 사실 각각 '\\<pad\\>', '\\<sos\\>', '\\<unk\\>'라는 자연어 처리를 위한 특별한 토큰들을 위해 맵핑된 번호\n",
    "- 그래서 만들어진 'index_to_word'에 추가적으로 이 작업을 해주어야 진짜 'index_to_word'가 완성됨"
   ]
  },
  {
   "cell_type": "code",
   "execution_count": 113,
   "id": "numerical-dimension",
   "metadata": {},
   "outputs": [],
   "source": [
    "for index, token in enumerate((\"<pad>\", \"<sos>\", \"<unk>\")):\n",
    "    index_to_word[index] = token"
   ]
  },
  {
   "cell_type": "markdown",
   "id": "suspended-silicon",
   "metadata": {},
   "source": [
    "- 'index_to_word'를 통해서 첫 번째 훈련용 뉴스 기사를 원래 텍스트로 복원"
   ]
  },
  {
   "cell_type": "code",
   "execution_count": 114,
   "id": "precious-sunset",
   "metadata": {
    "scrolled": true
   },
   "outputs": [
    {
     "name": "stdout",
     "output_type": "stream",
     "text": [
      "<sos> <unk> <unk> said as a result of its december acquisition of space co it expects earnings per share in 1987 of 1 15 to 1 30 dlrs per share up from 70 cts in 1986 the company said pretax net should rise to nine to 10 mln dlrs from six mln dlrs in 1986 and rental operation revenues to 19 to 22 mln dlrs from 12 5 mln dlrs it said cash flow per share this year should be 2 50 to three dlrs reuter 3\n"
     ]
    }
   ],
   "source": [
    "print(' '.join([index_to_word[index] for index in x_train[0]]))"
   ]
  },
  {
   "cell_type": "markdown",
   "id": "threaded-serbia",
   "metadata": {},
   "source": [
    "- 첫 번째 훈련용 뉴스 기사가 정수 시퀀스에서 텍스트로 복원되었음\n",
    "- 이 데이터도 어느 정도 전처리가 된 상태라서, 자연스럽게 읽히지는 않음\n",
    "- 하지만 문맥을 가진 텍스트이기 때문에, 이 데이터를 가지고 머신러닝을 시작해도 별 무리는 없어 보임\n",
    "<br>\n",
    "\n",
    "- 복원된 첫 번째 훈련용 뉴스 기사에 특별 토큰인 '\\<sos\\>'와 '\\<unk\\>'가 보이는데, '\\<sos\\>'는 텍스트 분류를 위한 토큰이 아니므로 크게 신경을 쓰지 않아도 됨\n",
    "- 하지만 '\\<unk\\>'는 자연어 처리 전반에서 쓰이는 특별 토큰이므로 이에 대해서는 이해할 필요가 있음"
   ]
  },
  {
   "cell_type": "markdown",
   "id": "peaceful-stevens",
   "metadata": {},
   "source": [
    "#### OOV 문제와 UNK 토큰\n",
    "- 기계가 알고 있는 단어들의 집합을 단어장(Vocabulary)이라고 함\n",
    "- 기계가 미처 배우지 못한 모르는 단어를 **OOV(Out-Of-Vocabulary) 또는 UNK(Unknow)**이라고 표현\n",
    "- 어떤 단어를 기계가 모르는 단어로 판단하면, 기계는 해당 단어를 전부 '\\<unk\\>'라는 일관된 특별 토큰으로 변환\n",
    "<br>\n",
    "\n",
    "- 우리가 가장 맨 처음 사용했던 코드를 상기해 보기\n",
    "```python\n",
    "(x_train, y_train), (x_test, y_test) = reuters.load_data(num_words = 10000, test_split = 0.2)\n",
    "```\n",
    "- 'num_words = 10000'는 정수 번호가 10,000이 넘는 단어들을 자동으로 '\\<unk\\>' 토큰으로 처리\n",
    "- 로이터 뉴스 데이터에서 '\\<unk\\>'은 정수 2번을 가지도록 약속돼 있으므로 데이터를 로드하는 과정에서 정수 번호가 10,000이 넘는 단어들은 전부 정수 2로 변환되어서 로드가 되었던 것"
   ]
  },
  {
   "cell_type": "markdown",
   "id": "close-focus",
   "metadata": {},
   "source": [
    "- 이제 전체 훈련용 뉴스 데이터와 전체 테스트용 뉴스 데이터를 텍스트 데이터로 변환해 보기"
   ]
  },
  {
   "cell_type": "code",
   "execution_count": 115,
   "id": "signed-craps",
   "metadata": {},
   "outputs": [
    {
     "name": "stdout",
     "output_type": "stream",
     "text": [
      "8982\n"
     ]
    }
   ],
   "source": [
    "decoded = []\n",
    "for i in range(len(x_train)):\n",
    "    t = ' '.join([index_to_word[index] for index in x_train[i]])\n",
    "    decoded.append(t)\n",
    "    \n",
    "x_train = decoded\n",
    "print(len(x_train))"
   ]
  },
  {
   "cell_type": "code",
   "execution_count": 116,
   "id": "necessary-discount",
   "metadata": {},
   "outputs": [
    {
     "name": "stdout",
     "output_type": "stream",
     "text": [
      "2246\n"
     ]
    }
   ],
   "source": [
    "decoded = []\n",
    "for i in range(len(x_test)):\n",
    "    t = ' '.join([index_to_word[index] for index in x_test[i]])\n",
    "    decoded.append(t)\n",
    "\n",
    "x_test = decoded\n",
    "print(len(x_test))"
   ]
  },
  {
   "cell_type": "markdown",
   "id": "simple-liverpool",
   "metadata": {},
   "source": [
    "- 각각 5개씩 출력해보고, 제대로 변환이 되었는지 확인해보기"
   ]
  },
  {
   "cell_type": "code",
   "execution_count": 117,
   "id": "unique-airfare",
   "metadata": {},
   "outputs": [
    {
     "data": {
      "text/plain": [
       "['<sos> <unk> <unk> said as a result of its december acquisition of space co it expects earnings per share in 1987 of 1 15 to 1 30 dlrs per share up from 70 cts in 1986 the company said pretax net should rise to nine to 10 mln dlrs from six mln dlrs in 1986 and rental operation revenues to 19 to 22 mln dlrs from 12 5 mln dlrs it said cash flow per share this year should be 2 50 to three dlrs reuter 3',\n",
       " '<sos> generale de banque sa lt <unk> br and lt heller overseas corp of chicago have each taken 50 pct stakes in <unk> company sa <unk> factors generale de banque said in a statement it gave no financial details of the transaction sa <unk> <unk> turnover in 1986 was 17 5 billion belgian francs reuter 3',\n",
       " '<sos> shr 3 28 dlrs vs 22 cts shr diluted 2 99 dlrs vs 22 cts net 46 0 mln vs 3 328 000 avg shrs 14 0 mln vs 15 2 mln year shr 5 41 dlrs vs 1 56 dlrs shr diluted 4 94 dlrs vs 1 50 dlrs net 78 2 mln vs 25 9 mln avg shrs 14 5 mln vs 15 1 mln note earnings per share reflect the two for one split effective january 6 1987 per share amounts are calculated after preferred stock dividends loss continuing operations for the qtr 1986 includes gains of sale of investments in <unk> corp of 14 mln dlrs and associated companies of 4 189 000 less writedowns of investments in national <unk> inc of 11 8 mln and <unk> corp of 15 6 mln reuter 3',\n",
       " \"<sos> the farmers home administration the u s agriculture department's farm lending arm could lose about seven billion dlrs in outstanding principal on its severely <unk> borrowers or about one fourth of its farm loan portfolio the general accounting office gao said in remarks prepared for delivery to the senate agriculture committee brian crowley senior associate director of gao also said that a preliminary analysis of proposed changes in <unk> financial eligibility standards indicated as many as one half of <unk> borrowers who received new loans from the agency in 1986 would be <unk> under the proposed system the agency has proposed evaluating <unk> credit using a variety of financial ratios instead of relying solely on <unk> ability senate agriculture committee chairman patrick leahy d vt <unk> the proposed eligibility changes telling <unk> administrator <unk> clark at a hearing that they would mark a dramatic shift in the agency's purpose away from being farmers' lender of last resort toward becoming a big city bank but clark defended the new regulations saying the agency had a responsibility to <unk> its 70 billion dlr loan portfolio in a <unk> yet <unk> manner crowley of gao <unk> <unk> arm said the proposed credit <unk> system attempted to ensure that <unk> would make loans only to borrowers who had a reasonable change of repaying their debt reuter 3\",\n",
       " '<sos> seton co said its board has received a proposal from chairman and chief executive officer philip d <unk> to acquire seton for 15 75 dlrs per share in cash seton said the acquisition bid is subject to <unk> arranging the necessary financing it said he intends to ask other members of senior management to participate the company said <unk> owns 30 pct of seton stock and other management members another 7 5 pct seton said it has formed an independent board committee to consider the offer and has deferred the annual meeting it had scheduled for march 31 reuter 3']"
      ]
     },
     "execution_count": 117,
     "metadata": {},
     "output_type": "execute_result"
    }
   ],
   "source": [
    "x_train[:5]"
   ]
  },
  {
   "cell_type": "code",
   "execution_count": 118,
   "id": "bigger-ethics",
   "metadata": {
    "scrolled": false
   },
   "outputs": [
    {
     "data": {
      "text/plain": [
       "['<sos> the great atlantic and pacific tea co said its three year 345 mln dlr capital program will be be substantially increased to <unk> growth and expansion plans for <unk> inc and <unk> inc over the next two years a and p said the acquisition of <unk> in august 1986 and <unk> in december helped us achieve better than expected results in the fourth quarter ended february 28 its net income from continuing operations jumped 52 6 pct to 20 7 mln dlrs or 55 cts a share in the latest quarter as sales increased 48 3 pct to 1 58 billion dlrs a and p gave no details on the expanded capital program but it did say it completed the first year of the program during 1986 a and p is 52 4 pct owned by lt <unk> <unk> of west germany reuter 3',\n",
       " \"<sos> philippine sugar production in the 1987 88 crop year ending august has been set at 1 6 mln tonnes up from a provisional 1 3 mln tonnes this year sugar regulatory administration <unk> chairman <unk> yulo said yulo told reuters a survey during the current milling season which ends next month showed the 1986 87 estimate would almost certainly be met he said at least 1 2 mln tonnes of the 1987 88 crop would be earmarked for domestic consumption yulo said about 130 000 tonnes would be set aside for the u s sugar quota 150 000 tonnes for strategic reserves and 50 000 tonnes would be sold on the world market he said if the government approved a long standing <unk> recommendation to manufacture ethanol the project would take up another 150 000 tonnes slightly raising the target the government for its own reasons has been delaying approval of the project but we expect it to come through by july yulo said ethanol could make up five pct of gasoline cutting the oil import bill by about 300 mln pesos yulo said three major philippine <unk> were ready to start manufacturing ethanol if the project was approved the ethanol project would result in employment for about 100 000 people sharply reducing those thrown out of work by depressed world sugar prices and a <unk> domestic industry production quotas set for the first time in 1987 88 had been submitted to president corazon aquino i think the president would rather wait <unk> the new congress <unk> after the may elections he said but there is really no need for such quotas we are right now producing just slightly over our own consumption level the producers have never enjoyed such high prices yulo said adding sugar was currently selling locally for 320 pesos per <unk> up from 190 pesos last august yulo said prices were driven up because of speculation following the <unk> bid to control production we are no longer concerned so much with the world market he said adding producers in the <unk> region had learned from their <unk> and diversified into corn and <unk> farming and <unk> production he said diversification into products other than ethanol was also possible within the sugar industry the <unk> long ago <unk> their <unk> yulo said they have 300 sugar mills compared with our 41 but they <unk> many of them and diversified production we want to call this a <unk> <unk> instead of the sugar industry he said sugarcane could be fed to pigs and livestock used for <unk> <unk> or used in room <unk> when you cut sugarcane you don't even have to produce sugar he said yulo said the philippines was lobbying for a renewal of the international sugar agreement which expired in 1984 as a major sugar producer we are urging them to write a new agreement which would revive world prices yulo said if there is no agreement world prices will always be depressed particularly because the european community is <unk> its producers and dumping sugar on the markets he said current world prices holding steady at about 7 60 cents per pound were <unk> for the philippines where production costs ranged from 12 to 14 cents a pound if the price holds steady for a while at 7 60 cents i expect the level to rise to about 11 cents a pound by the end of this year he said yulo said economists forecast a bullish sugar market by 1990 with world consumption <unk> production he said sugar markets were holding up despite <unk> from artificial sweeteners and high fructose corn syrup but we are not happy with the reagan administration he said since <unk> we have been regular suppliers of sugar to the u s in 1982 when they restored the quota system they cut <unk> in half without any justification manila was <unk> watching washington's moves to cut domestic support prices to 12 cents a pound from 18 cents the u s agriculture department last december slashed its 12 month 1987 sugar import quota from the philippines to 143 780 short tons from 231 660 short tons in 1986 yulo said despite next year's increased production target some philippine mills were expected to shut down at least four of the 41 mills were not working during the 1986 87 season he said we expect two or three more to follow suit during the next season reuter 3\",\n",
       " \"<sos> the agriculture department's widening of louisiana gulf differentials will affect county posted prices for number two yellow corn in ten states a usda official said all counties in iowa will be affected as will counties which use the gulf to price corn in illinois indiana tennessee kentucky missouri mississippi arkansas alabama and louisiana said <unk> <unk> deputy director of commodity operations division for the usda usda last night notified the grain industry that effective immediately all gulf differentials used to price interior corn would be widened on a sliding scale basis of four to eight cts depending on what the differential is usda's action was taken to lower excessively high posted county prices for corn caused by high gulf prices we've been following this louisiana gulf situation for a month and we don't think it's going to get back in line in any nearby time <unk> said <unk> said usda will probably narrow back the gulf differentials when and if gulf prices <unk> if we're off the mark now because we're too high wouldn't we be as much off the mark if we're too low he said while forecasting more adjustments if gulf prices fall <unk> said no other changes in usda's price system are being planned right now we don't tinker we don't make changes <unk> and we don't make changes often he said reuter 3\",\n",
       " '<sos> <unk> <unk> oil and gas partnership said it completed the sale of interests in two major oil and gas fields to lt energy assets international corp for 21 mln dlrs the company said it sold about one half of its 50 pct interest in the oak hill and north <unk> fields its two largest producing properties it said it used about 20 mln dlrs of the proceeds to <unk> principal on its senior secured notes semi annual principal payments on the remaining 40 mln dlrs of notes have been satisfied until december 1988 as a result it said the company said the note agreements were amended to reflect an easing of some financial covenants and an increase of interest to 13 5 pct from 13 0 pct until december 1990 it said the <unk> exercise price for 1 125 000 warrants was also reduced to 50 cts from 1 50 dlrs the company said energy assets agreed to share the costs of increasing production at the oak hill field reuter 3',\n",
       " '<sos> strong south <unk> winds were keeping many vessels trapped in the ice off the finnish and swedish coasts in one of the worst icy periods in the baltic for many years the finnish board of navigation said in finland and sweden up to 50 vessels were reported to be stuck in the ice and even the largest of the <unk> <unk> were having difficulties in breaking through to the <unk> ships <unk> officials said however icy conditions in the southern baltic at the soviet oil ports of <unk> and <unk> had eased they said weather officials in neighbouring sweden said the icy conditions in the baltic were the worst for 30 years with ships fighting a losing battle to keep moving in the coastal stretches of the gulf of <unk> which <unk> finland and sweden the ice is up to one <unk> thick with <unk> and <unk> packing it into almost <unk> walls three metres high swedish <unk> officials said weather forecasts say winds may ease during the weekend but a further drop in temperature could bring shipping to a standstill the officials said reuter 3']"
      ]
     },
     "execution_count": 118,
     "metadata": {},
     "output_type": "execute_result"
    }
   ],
   "source": [
    "x_test[:5]"
   ]
  },
  {
   "cell_type": "markdown",
   "id": "persistent-medicine",
   "metadata": {},
   "source": [
    "### 3-3. 벡터화 하기\n",
    "- 앞서 본 텍스트 분류의 과정을 표현한 그림을 다시 보기\n",
    "![카테고리.png](./images/카테고리.png)\n",
    "- 텍스트 데이터가 있을 때, 모델의 입력으로 넣기 위해서는 우선 각 문서를 벡터화할 필요가 있음\n",
    "- 항상 그런 것은 아니지만, 일반적으로 텍스트 분류를 할 모델로 인공 신경망을 사용하는 경우, 벡터화 방법 또한 인공 신경망을 사용하는 것이 보편적\n",
    "- Word Embedding, Document Embedding, Contextual Embedding 등의 다양한 벡터화 방법이 존재\n",
    "<br>\n",
    "\n",
    "- 이번 실습에서는 딥러닝이 아닌 머신러닝 방법을 사용하여 텍스트 분류를 진행할 예정이기 때문에 벡터화 방법도 인공 신경망이 아닌 방법을 사용\n",
    "- 사용할 벡터화 방법은 Bag of Words 가설을 기반으로 하는 **DTM, TF-IDF** 행렬\n",
    "<br>\n",
    "\n",
    "- Bag of Words 가설과 이를 통해 만드는 DTM에 대한 정의는 아래의 링크를 통해 알아보기\n",
    "- [위키독스: 문서 단어 행렬(DTM)](https://wikidocs.net/24559)"
   ]
  },
  {
   "cell_type": "markdown",
   "id": "extraordinary-bonus",
   "metadata": {},
   "source": [
    "- Document Term Matrix, DTM은 사이킷런의 'CountVectorizer()'을 통해서 생성할 수 있음\n",
    "- DTM을 생성하고, DTM의 크기 확인해보기"
   ]
  },
  {
   "cell_type": "code",
   "execution_count": 119,
   "id": "binary-prospect",
   "metadata": {},
   "outputs": [
    {
     "name": "stdout",
     "output_type": "stream",
     "text": [
      "(8982, 9670)\n"
     ]
    }
   ],
   "source": [
    "dtmvector = CountVectorizer()\n",
    "x_train_dtm = dtmvector.fit_transform(x_train)\n",
    "print(x_train_dtm.shape)"
   ]
  },
  {
   "cell_type": "markdown",
   "id": "accessible-particle",
   "metadata": {},
   "source": [
    "- 훈련용 뉴스의 수가 총 8.982개였기 때문에 DTM의 행의 개수는 8,982개가 됨\n",
    "- 그런데 이상한 점은 앞에서 데이터를 로드할 때, 'num_words = 10,000'이라는 값을 사용했음에도 DTM 열의 개수는 이보다 현저하게 적은 9,670개밖에 되지 않음\n",
    "- 그 이유는 DTM이 자체적인 규칙에 따라서 불필요하다고 판단하는 토큰들을 제거하기 때문\n",
    "<br>\n",
    "\n",
    "- DTM 행렬을 이어서 TF-IDF 행렬 만들어보기\n",
    "- TF-IDF 행렬은 퀴즈 4에서 알아본 DTM의 단점을 보정해 주는 효과 가지고 있음\n",
    "- TF-IDF 행렬에 대한 설명은 아래의 글을 참고\n",
    "- [위키독스: TF-IDF](https://wikidocs.net/31698)\n",
    "<br>\n",
    "\n",
    "- TF-IDF Matrix는 사이킷런의 'TfidfTransformer()'를 통해서 생성할 수 있음\n",
    "- TF-IDF Matrix는 추가적인 전처리를 하지 않는 이상, DTM과 동일한 크기를 가짐"
   ]
  },
  {
   "cell_type": "code",
   "execution_count": 120,
   "id": "injured-rebound",
   "metadata": {},
   "outputs": [
    {
     "name": "stdout",
     "output_type": "stream",
     "text": [
      "(8982, 9670)\n"
     ]
    }
   ],
   "source": [
    "tfidf_transformer = TfidfTransformer()\n",
    "tfidfv = tfidf_transformer.fit_transform(x_train_dtm)\n",
    "print(tfidfv.shape)"
   ]
  },
  {
   "cell_type": "code",
   "execution_count": 121,
   "id": "solid-runner",
   "metadata": {},
   "outputs": [],
   "source": [
    "# 테스트 데이터를 DTM으로 변환\n",
    "x_test_dtm = dtmvector.transform(x_test)\n",
    "\n",
    "# DTM을 TF-IDF 행렬로 변환\n",
    "tfidfv_test = tfidf_transformer.transform(x_test_dtm)"
   ]
  },
  {
   "cell_type": "markdown",
   "id": "following-darwin",
   "metadata": {},
   "source": [
    "### 3-4. 다양한 분류 모델 사용해보기"
   ]
  },
  {
   "cell_type": "markdown",
   "id": "ancient-durham",
   "metadata": {},
   "source": [
    "#### (1) 나이브 베이즈 분류기\n",
    "- 아래 영상을 통해서 나이브베이즈 분류기에 대해 간단히 알아보기\n",
    "- [나이브 베이즈(Naive Bayes)](https://www.youtube.com/watch?time_continue=3&v=3JWLIV3NaoQ&feature=emb_title)\n",
    "- 나이브 베이즈 분류기는 사이킷런의 'MultinomialNB()'을 통해 사용할 수 있음\n",
    "<br>\n",
    "- 사이킷런이 제공하는 머신러닝 모델들은 공통적으로 'fit()'이라는 함수를 제공\n",
    "- 훈련 데이터와 해당 훈련 데이터에 대한 레이블을 인자로 사용하면 모델이 이를 학습함"
   ]
  },
  {
   "cell_type": "code",
   "execution_count": 122,
   "id": "wooden-andrew",
   "metadata": {},
   "outputs": [
    {
     "name": "stdout",
     "output_type": "stream",
     "text": [
      "정확도: 0.6567230632235085 \n",
      "\n",
      "              precision    recall  f1-score   support\n",
      "\n",
      "           0       0.00      0.00      0.00        12\n",
      "           1       0.62      0.69      0.65       105\n",
      "           2       0.00      0.00      0.00        20\n",
      "           3       0.81      0.90      0.85       813\n",
      "           4       0.51      0.96      0.67       474\n",
      "           5       0.00      0.00      0.00         5\n",
      "           6       0.00      0.00      0.00        14\n",
      "           7       0.00      0.00      0.00         3\n",
      "           8       0.00      0.00      0.00        38\n",
      "           9       1.00      0.08      0.15        25\n",
      "          10       0.00      0.00      0.00        30\n",
      "          11       0.66      0.63      0.64        83\n",
      "          12       0.00      0.00      0.00        13\n",
      "          13       1.00      0.03      0.05        37\n",
      "          14       0.00      0.00      0.00         2\n",
      "          15       0.00      0.00      0.00         9\n",
      "          16       0.69      0.56      0.61        99\n",
      "          17       0.00      0.00      0.00        12\n",
      "          18       0.00      0.00      0.00        20\n",
      "          19       0.60      0.78      0.68       133\n",
      "          20       1.00      0.04      0.08        70\n",
      "          21       0.00      0.00      0.00        27\n",
      "          22       0.00      0.00      0.00         7\n",
      "          23       0.00      0.00      0.00        12\n",
      "          24       0.00      0.00      0.00        19\n",
      "          25       1.00      0.03      0.06        31\n",
      "          26       0.00      0.00      0.00         8\n",
      "          27       0.00      0.00      0.00         4\n",
      "          28       0.00      0.00      0.00        10\n",
      "          29       0.00      0.00      0.00         4\n",
      "          30       0.00      0.00      0.00        12\n",
      "          31       0.00      0.00      0.00        13\n",
      "          32       0.00      0.00      0.00        10\n",
      "          33       0.00      0.00      0.00         5\n",
      "          34       0.00      0.00      0.00         7\n",
      "          35       0.00      0.00      0.00         6\n",
      "          36       0.00      0.00      0.00        11\n",
      "          37       0.00      0.00      0.00         2\n",
      "          38       0.00      0.00      0.00         3\n",
      "          39       0.00      0.00      0.00         5\n",
      "          40       0.00      0.00      0.00        10\n",
      "          41       0.00      0.00      0.00         8\n",
      "          42       0.00      0.00      0.00         3\n",
      "          43       0.00      0.00      0.00         6\n",
      "          44       0.00      0.00      0.00         5\n",
      "          45       0.00      0.00      0.00         1\n",
      "\n",
      "    accuracy                           0.66      2246\n",
      "   macro avg       0.17      0.10      0.10      2246\n",
      "weighted avg       0.59      0.66      0.58      2246\n",
      "\n"
     ]
    }
   ],
   "source": [
    "model = MultinomialNB()\n",
    "model.fit(tfidfv, y_train)\n",
    "\n",
    "# 테스트 데이터에 대한 예측\n",
    "predicted = model.predict(tfidfv_test) \n",
    "\n",
    "# 예측값과 실제값 비교\n",
    "print(\"정확도:\", accuracy_score(y_test, predicted),'\\n')\n",
    "print(classification_report(y_test, model.predict(tfidfv_test)))"
   ]
  },
  {
   "cell_type": "markdown",
   "id": "knowing-credits",
   "metadata": {},
   "source": [
    "- 약 66%의 정확도를 얻었음\n",
    "- 사실 그렇게 좋은 성능은 아님\n",
    "- 뒤에서 다른 모델들을 통해서 더 좋은 성능을 얻어보기\n",
    "<br>\n",
    "\n",
    "- 나이브 베이즈 분류기가 임의의 샘플에 대해서 클래스를 정확히 예측하는지 테스트 해보기\n",
    "- 네번째 샘플(인덱스 상으로는 3)의 원문을 출력하면 다음과 같음"
   ]
  },
  {
   "cell_type": "code",
   "execution_count": 123,
   "id": "intense-painting",
   "metadata": {},
   "outputs": [
    {
     "data": {
      "text/plain": [
       "'<sos> <unk> <unk> oil and gas partnership said it completed the sale of interests in two major oil and gas fields to lt energy assets international corp for 21 mln dlrs the company said it sold about one half of its 50 pct interest in the oak hill and north <unk> fields its two largest producing properties it said it used about 20 mln dlrs of the proceeds to <unk> principal on its senior secured notes semi annual principal payments on the remaining 40 mln dlrs of notes have been satisfied until december 1988 as a result it said the company said the note agreements were amended to reflect an easing of some financial covenants and an increase of interest to 13 5 pct from 13 0 pct until december 1990 it said the <unk> exercise price for 1 125 000 warrants was also reduced to 50 cts from 1 50 dlrs the company said energy assets agreed to share the costs of increasing production at the oak hill field reuter 3'"
      ]
     },
     "execution_count": 123,
     "metadata": {},
     "output_type": "execute_result"
    }
   ],
   "source": [
    "x_test[3]"
   ]
  },
  {
   "cell_type": "code",
   "execution_count": 124,
   "id": "southern-horse",
   "metadata": {},
   "outputs": [
    {
     "data": {
      "text/plain": [
       "4"
      ]
     },
     "execution_count": 124,
     "metadata": {},
     "output_type": "execute_result"
    }
   ],
   "source": [
    "y_test[3]"
   ]
  },
  {
   "cell_type": "markdown",
   "id": "apparent-symphony",
   "metadata": {},
   "source": [
    "- 이 샘플의 레이블은 4\n",
    "- 과연 모델은 제대로 예측하고 있는지 그리고 어느 정도의 확신을 가지고 판단하는지 모델이 결정한 확률을 그래프로 시각화"
   ]
  },
  {
   "cell_type": "code",
   "execution_count": 125,
   "id": "correct-plate",
   "metadata": {},
   "outputs": [
    {
     "data": {
      "image/png": "[encoded data removed]",
      "text/plain": [
       "<Figure size 792x360 with 1 Axes>"
      ]
     },
     "metadata": {
      "needs_background": "light"
     },
     "output_type": "display_data"
    }
   ],
   "source": [
    "probability_3 = model.predict_proba(tfidfv_test[3])[0]\n",
    "\n",
    "plt.rcParams[\"figure.figsize\"] = (11, 5)\n",
    "plt.bar(model.classes_, probability_3)\n",
    "plt.xlim(-1, 21)\n",
    "plt.xticks(model.classes_)\n",
    "plt.xlabel(\"Class\")\n",
    "plt.ylabel(\"Probability\")\n",
    "plt.show()"
   ]
  },
  {
   "cell_type": "code",
   "execution_count": 126,
   "id": "static-arcade",
   "metadata": {},
   "outputs": [
    {
     "data": {
      "text/plain": [
       "array([4])"
      ]
     },
     "execution_count": 126,
     "metadata": {},
     "output_type": "execute_result"
    }
   ],
   "source": [
    "model.predict(tfidfv_test[3])"
   ]
  },
  {
   "cell_type": "markdown",
   "id": "occupied-dublin",
   "metadata": {},
   "source": [
    "- 모델은 4번 클래스를 약 90%의 확률로 확신\n",
    "- 10%의 확률로 3번 클래스라고 판단\n",
    "- 90%의 확률로 확신하므로 모델이 예측한 레이블은 4번\n",
    "- 해당 샘플은 정확하게 예측했음"
   ]
  },
  {
   "cell_type": "markdown",
   "id": "private-acrylic",
   "metadata": {},
   "source": [
    "#### (2) 컴플리먼트 나이브 베이즈 분류기"
   ]
  },
  {
   "cell_type": "markdown",
   "id": "informative-identifier",
   "metadata": {},
   "source": [
    "- 앞서 사용한 나이브 베이즈 분류기(MultinomialNB)로는 약 66%의 정확도밖에 얻지 못했음\n",
    "- 사실 클래스의 개수가 46개인 것을 감안해도 그리 좋은 성능은 아님\n",
    "- 좀 더 좋은 성능을 얻기 위해서 여러 다른 모델들을 시도해 보기"
   ]
  },
  {
   "cell_type": "markdown",
   "id": "welsh-claim",
   "metadata": {},
   "source": [
    "#### Complement Naive Bayes Classifier(CNB)\n",
    "- 나이브 베이지안 분류기는 독립 변수가 '조건부로 독립적'이라는 가정을 하기 때문에, 문서가 특정 분류에 속할 실제 확률을 사용할 때 문제가 발생할 수 있음\n",
    "- 예를 들어, 많은 샘플(sample)이 특정 클래스에 치우쳐져 있을 경우, 결정 경계의 가중치가 한쪽으로 치우쳐져 모델이 특정 클래스를 선호할 수 있음\n",
    "- 앞서 로이터 뉴스 데이터에서도 3번, 4번 클래스가 다른 클래스에 비해 상대적으로 많은 클래스를 갖고 있음을 확인했었음\n",
    "<br>\n",
    "\n",
    "- 데이터가 불균형할 경우를 대비해 나이브베이즈 분류기를 보완한 것이 **컴플리먼트 나이브 베이즈 분류기**\n",
    "- 컴플리먼트 나이브 베이즈 분류기는 데이터의 불균형을 고려하여 가중치를 부여하는 특징을 가지고 있음\n",
    "- 따라서 컴플리먼트 나이브 베이즈 분류기는 나이브베이즈 분류기(MultinomialNB)보다 성능이 일반적으로 더 좋음"
   ]
  },
  {
   "cell_type": "code",
   "execution_count": 127,
   "id": "rental-pavilion",
   "metadata": {},
   "outputs": [
    {
     "name": "stdout",
     "output_type": "stream",
     "text": [
      "정확도: 0.7707034728406055\n"
     ]
    }
   ],
   "source": [
    "cb = ComplementNB()\n",
    "cb.fit(tfidfv, y_train)\n",
    "\n",
    "# 테스트 데이터에 대한 예측\n",
    "predicted = cb.predict(tfidfv_test)\n",
    "\n",
    "# 예측값과 실제값 비교\n",
    "print(\"정확도:\", accuracy_score(y_test, predicted))"
   ]
  },
  {
   "cell_type": "markdown",
   "id": "representative-combining",
   "metadata": {},
   "source": [
    "- 77%의 정확도를 얻었음\n",
    "- 기존 나이브 베이즈 분류기보다 10% 이상 높은 성능"
   ]
  },
  {
   "cell_type": "markdown",
   "id": "contrary-weather",
   "metadata": {},
   "source": [
    "#### (3). F1-Score\n",
    "#### Precision, Recall & F1 Score\n",
    "- 프로젝트에서는 성능 비교를 위한 척도로 **정확도(Accuracy)**를 사용함\n",
    "- 하지만 Accuracy 외에 또 다른 방법에는 **F1-score**이 있음\n",
    "<br>\n",
    "\n",
    "- 아래의 글을 통해서 Precision과 Recall 그리고 F1 score에 대한 설명 읽어보기\n",
    "- [분류성능평가지표 - Precision(정밀도), Recall(재현율) and Accuracy(정확도)](https://sumniya.tistory.com/26)\n",
    "- 사이킷런의 'metrics' 패키지에서는 정밀도, 재현율, F1 점수를 구하는 'classification_report()'함수를 제공\n",
    "- 이 함수는 각각의 클래스를 양성(positive) 클래스로 보았을 때의 정밀도, 재현율, F1 점수를 각각 구하고 그 평균값으로 전체 모델의 성능을 평가\n",
    "- 최종 결과에서 각각이 의미하는 바는 다음과 같음\n",
    "    - 'marco': 단순평균\n",
    "    - 'weighted': 각 클래스에 속하는 표본의 개수로 가중평균\n",
    "    - 'accuracy': 정확도. 전체 학습 데이터의 개수에서 클래스를 정확하게 맞춘 개수의 비율"
   ]
  },
  {
   "cell_type": "code",
   "execution_count": 128,
   "id": "expensive-recycling",
   "metadata": {},
   "outputs": [
    {
     "name": "stdout",
     "output_type": "stream",
     "text": [
      "              precision    recall  f1-score   support\n",
      "\n",
      "           0       0.00      0.00      0.00        12\n",
      "           1       0.62      0.69      0.65       105\n",
      "           2       0.00      0.00      0.00        20\n",
      "           3       0.81      0.90      0.85       813\n",
      "           4       0.51      0.96      0.67       474\n",
      "           5       0.00      0.00      0.00         5\n",
      "           6       0.00      0.00      0.00        14\n",
      "           7       0.00      0.00      0.00         3\n",
      "           8       0.00      0.00      0.00        38\n",
      "           9       1.00      0.08      0.15        25\n",
      "          10       0.00      0.00      0.00        30\n",
      "          11       0.66      0.63      0.64        83\n",
      "          12       0.00      0.00      0.00        13\n",
      "          13       1.00      0.03      0.05        37\n",
      "          14       0.00      0.00      0.00         2\n",
      "          15       0.00      0.00      0.00         9\n",
      "          16       0.69      0.56      0.61        99\n",
      "          17       0.00      0.00      0.00        12\n",
      "          18       0.00      0.00      0.00        20\n",
      "          19       0.60      0.78      0.68       133\n",
      "          20       1.00      0.04      0.08        70\n",
      "          21       0.00      0.00      0.00        27\n",
      "          22       0.00      0.00      0.00         7\n",
      "          23       0.00      0.00      0.00        12\n",
      "          24       0.00      0.00      0.00        19\n",
      "          25       1.00      0.03      0.06        31\n",
      "          26       0.00      0.00      0.00         8\n",
      "          27       0.00      0.00      0.00         4\n",
      "          28       0.00      0.00      0.00        10\n",
      "          29       0.00      0.00      0.00         4\n",
      "          30       0.00      0.00      0.00        12\n",
      "          31       0.00      0.00      0.00        13\n",
      "          32       0.00      0.00      0.00        10\n",
      "          33       0.00      0.00      0.00         5\n",
      "          34       0.00      0.00      0.00         7\n",
      "          35       0.00      0.00      0.00         6\n",
      "          36       0.00      0.00      0.00        11\n",
      "          37       0.00      0.00      0.00         2\n",
      "          38       0.00      0.00      0.00         3\n",
      "          39       0.00      0.00      0.00         5\n",
      "          40       0.00      0.00      0.00        10\n",
      "          41       0.00      0.00      0.00         8\n",
      "          42       0.00      0.00      0.00         3\n",
      "          43       0.00      0.00      0.00         6\n",
      "          44       0.00      0.00      0.00         5\n",
      "          45       0.00      0.00      0.00         1\n",
      "\n",
      "    accuracy                           0.66      2246\n",
      "   macro avg       0.17      0.10      0.10      2246\n",
      "weighted avg       0.59      0.66      0.58      2246\n",
      "\n"
     ]
    }
   ],
   "source": [
    "print(classification_report(y_test, model.predict(tfidfv_test), zero_division = 0))"
   ]
  },
  {
   "cell_type": "markdown",
   "id": "immediate-resolution",
   "metadata": {},
   "source": [
    "#### (4) Confusion Matrix\n",
    "- **Confusion Matrix**는 생소한 개념이라기보다는 앞서 f1-score를 이해하기 위해 읽었던 위의 글의 가장 처음에 있던 행렬\n",
    "- Confusion matrix를 아래의 동영상을 통해 이해해보기\n",
    "- [머신러닝 - Confusion Matrix(혼동행렬) 알고리즘 및 파이썬 실습](https://www.youtube.com/watch?v=M0GBAzFV9_A&feature=emb_title)\n",
    "- 지금까지 배운 내용들을 아래의 링크를 통해 간단히 정리\n",
    "- [Confusion Matrix](https://mjdeeplearning.tistory.com/31)\n",
    "- 아래 함수를 통해 혼동 행렬(confusion matrix)을 시각화"
   ]
  },
  {
   "cell_type": "code",
   "execution_count": 37,
   "id": "tropical-paradise",
   "metadata": {},
   "outputs": [],
   "source": [
    "def graph_confusion_matrix(model, x_test, y_test):#, classes_name):\n",
    "    df_cm = pd.DataFrame(confusion_matrix(y_test, model.predict(x_test)))#, index = classes_name, columns = classes_name)\n",
    "    fig = plt.figure(figsize = (12, 12))\n",
    "    heatmap = sns.heatmap(df_cm, annot = True, fmt = \"d\")\n",
    "    heatmap.yaxis.set_ticklabels(heatmap.yaxis.get_ticklabels(), rotation = 0, ha = 'right', fontsize = 12)\n",
    "    heatmap.xaxis.set_ticklabels(heatmap.xaxis.get_ticklabels(), rotation = 45, ha = 'right', fontsize = 12)\n",
    "    plt.ylabel('label')\n",
    "    plt.xlabel('predicted value')"
   ]
  },
  {
   "cell_type": "code",
   "execution_count": 38,
   "id": "polished-stock",
   "metadata": {},
   "outputs": [
    {
     "data": {
      "image/png": "[encoded data removed]",
      "text/plain": [
       "<Figure size 864x864 with 2 Axes>"
      ]
     },
     "metadata": {
      "needs_background": "light"
     },
     "output_type": "display_data"
    }
   ],
   "source": [
    "graph_confusion_matrix(model, tfidfv_test, y_test)"
   ]
  },
  {
   "cell_type": "markdown",
   "id": "complete-rehabilitation",
   "metadata": {},
   "source": [
    "#### (5) 로지스틱 회귀(Logistic Regerssion)\n",
    "- 가장 널리 알려진 2개의 선형 분류 알고리즘인 로지스틱 회귀와 서포트 벡터 머신을 통해서 로이터 뉴스 분류해 보기\n",
    "<br>\n",
    "\n",
    "- 로지스틱 회귀는 소프트맥스(softmax) 함수를 사용한 다중 클래스 분류 알고리즘을 지원\n",
    "- 다중 클래스 분류를 위한 로지스틱 회귀를 **소프트맥스 회귀(Softmax Regression)**라고도 함\n",
    "- 주의할 점은 이름은 회귀지만, 실제로는 분류를 수행한다는 점\n",
    "![소프트맥스.png](./images/소프트맥스.png)\n",
    "- 소프트맥스 함수는 클래스가 N개일 때, N차원의 벡터가 '각 클래스가 정답일 확률'을 표현하도록 정규화해주는 함수\n",
    "- 예를 들어 위의 그림은 4차원의 벡터를 입력으로 받으면서 3개의 클래스를 가지는 경우의 소프트맥스 회귀의 동작 과정을 보여주고 있음\n",
    "- 3개의 클래스 중 1개의 클래스를 예측해야 하므로 소프트맥스 회귀의 출력은 3차원이 벡터고, 각 벡터의 차원은 특정 클래스일 확률\n",
    "- 오차와 실제값의 차일을 줄이는 과정에서 가중치와 편향이 학슴됨\n",
    "<br>\n",
    "\n",
    "- 사이킷런에서 소프트맥스 회귀는 'LogisticRegression()'을 통해서 구현할 수 있음"
   ]
  },
  {
   "cell_type": "code",
   "execution_count": 129,
   "id": "lesbian-stadium",
   "metadata": {},
   "outputs": [
    {
     "name": "stdout",
     "output_type": "stream",
     "text": [
      "정확도: 0.8076580587711487\n"
     ]
    }
   ],
   "source": [
    "lr = LogisticRegression(C = 10000, penalty = 'l2')\n",
    "lr.fit(tfidfv, y_train)\n",
    "\n",
    "# 테스트 데이터에 대한 예측\n",
    "predicted = lr.predict(tfidfv_test)\n",
    "\n",
    "# 예측값과 실제값 비교\n",
    "print(\"정확도:\", accuracy_score(y_test, predicted))"
   ]
  },
  {
   "cell_type": "markdown",
   "id": "democratic-welsh",
   "metadata": {},
   "source": [
    "- 80%의 정확도를 얻었음\n",
    "- 지금까지의 모델 중 가장 높은 정확도 얻었음"
   ]
  },
  {
   "cell_type": "markdown",
   "id": "apart-margin",
   "metadata": {},
   "source": [
    "#### (6) 선형 서포트 벡터 머신\n",
    "- 서포트 벡터 머신(SVM)은 대표적인 선형 분류 알고리즘\n",
    "- 아래의 영상을 통해 서포트 벡터 머신에 대해 이해해 보기\n",
    "-[머신러닝 - SVM](https://www.youtube.com/watch?v=y4CYcpRiNsw)\n",
    "- 많은 선형 분류 모델은 태생적으로는 이진 분류만을 지원하는 이진 분류 모델(위에서 설명한 로지 로지스틱 회귀는 예외)\n",
    "- 서포트 벡터 머신의 구현체인 사이킷런의 'LinearSVC' 또한 태생적으로는 이진 분류를 위한 모델\n",
    "- 그런데 이진 분류 알고리즘을 다중 클래스 분류 알고리즘으로 사용하는 방법이 있음\n",
    "- 바로 일대다(one-vs.-rest 또는 one-vs.-all) 방법\n",
    "- 일대다 방식은 각 클래스를 다른 모든 클래스와 구분하도록 이진 분류 모델을 학습시킴\n",
    "<br>\n",
    "\n",
    "- 결국 클래스의 수만큼 이진 분류 모델이 만들어짐\n",
    "- 예측할 때는 만들어진 모든 이진 분류기가 작동하여 가장 높은 점수를 내는 분류기의 클래스를 예측값으로 선택\n",
    "- 서포트 벡터 머신을 사용하여 로이터 뉴스 분류해 보기"
   ]
  },
  {
   "cell_type": "code",
   "execution_count": 130,
   "id": "fourth-subscriber",
   "metadata": {},
   "outputs": [
    {
     "name": "stdout",
     "output_type": "stream",
     "text": [
      "정확도: 0.7764915405164737\n"
     ]
    }
   ],
   "source": [
    "lsvc = LinearSVC(C = 1000, penalty = 'l1', max_iter = 500, dual = False)\n",
    "lsvc.fit(tfidfv, y_train)\n",
    "\n",
    "# 테스트 데이터에 대한 예측\n",
    "predicted = lsvc.predict(tfidfv_test)\n",
    "\n",
    "# 예측값과 실제값 비교\n",
    "print(\"정확도:\", accuracy_score(y_test, predicted))"
   ]
  },
  {
   "cell_type": "markdown",
   "id": "czech-bangladesh",
   "metadata": {},
   "source": [
    "- CNB와 유사하게 77%의 정확도를 얻었음"
   ]
  },
  {
   "cell_type": "markdown",
   "id": "numerical-raise",
   "metadata": {},
   "source": [
    "#### (7) 결정 트리(Decision Tree)\n",
    "- 결정 트리는 분류와 회귀 문제에 널리 사용하는 모델\n",
    "- 기본적으로 결정 트른 결정에 다다르기 위해 '예/아니오' 질문을 이어 나가면서 학습\n",
    "- 이 질문은 스무고개 놀이의 질문과 비슷\n",
    "- 아래의 영상을 통해 결정 트리에 대해서 이해해 보기\n",
    "- [머신러닝 - 의사결정트리](https://www.youtube.com/watch?v=n0p0120Gxqk)\n",
    "<br>\n",
    "\n",
    "- 사이킷런에서는 'DecisionTreeClassifier()'를 사용해서 결정 트리 구현할 수 있음\n",
    "- 결정 트리의 깊이는 'max_depth'라는 인자를 통해서 정해줄 수 있음"
   ]
  },
  {
   "cell_type": "code",
   "execution_count": 131,
   "id": "rising-entry",
   "metadata": {},
   "outputs": [
    {
     "name": "stdout",
     "output_type": "stream",
     "text": [
      "정확도: 0.6202137132680321\n"
     ]
    }
   ],
   "source": [
    "tree = DecisionTreeClassifier(max_depth = 10, random_state = 0)\n",
    "tree.fit(tfidfv, y_train)\n",
    "\n",
    "# 테스트 데이터에 대한 예측\n",
    "predicted = tree.predict(tfidfv_test)\n",
    "\n",
    "# 예측값과 실제값 비교\n",
    "print(\"정확도:\", accuracy_score(y_test, predicted))"
   ]
  },
  {
   "cell_type": "markdown",
   "id": "turned-brook",
   "metadata": {},
   "source": [
    "- 지금까지의 모델 중 가장 낮은 정확도인 62%를 얻음\n",
    "- 사실 트리 계열의 모델들은 고차원이고 희소한 데이터에 대해서는 성능이 나오지 않는다는 특징이 있음\n",
    "- DTM이나 TF-IDF 행렬의 경우, 고차원이면서 대부분의 값이 0인 희소한 데이터이므로 트리 계열의 모델보다는 선형 분류 모델을 통해 접근하는 것이 더 나은 접근일 수 있음"
   ]
  },
  {
   "cell_type": "markdown",
   "id": "suffering-kazakhstan",
   "metadata": {},
   "source": [
    "#### (8) 랜덤 포레스트(Random Forest)\n",
    "- **앙상블(Ensemble)**이란 여러 머신러닝 모델을 연결하여 더 강력한 모델을 만드는 기법\n",
    "- 뒤에서 보팅(Voting)이라는 앙상블 기법을 알아볼텐데, 모델 자체가 앙상블을 사용하는 모델들도 존재\n",
    "- 랜던 포레스트와 그래디언트 부스팅 트리는 결정 트리를 사용하는 앙상블 모델\n",
    "<br>\n",
    "\n",
    "- 랜덤 포레스트에 관한 아래의 영상을 통해서 이해\n",
    "- [머신러닝 - 랜덤포레스트](https://www.youtube.com/watch?v=nZB37IBCiSA)"
   ]
  },
  {
   "cell_type": "code",
   "execution_count": 132,
   "id": "systematic-softball",
   "metadata": {},
   "outputs": [
    {
     "name": "stdout",
     "output_type": "stream",
     "text": [
      "정확도: 0.674087266251113\n"
     ]
    }
   ],
   "source": [
    "forest = RandomForestClassifier(n_estimators = 5, random_state = 0)\n",
    "forest.fit(tfidfv, y_train)\n",
    "\n",
    "# 테스트 데이터에 대한 예측\n",
    "predicted = forest.predict(tfidfv_test)\n",
    "\n",
    "# 예측값과 실제값 비교\n",
    "print(\"정확도:\", accuracy_score(y_test, predicted))"
   ]
  },
  {
   "cell_type": "markdown",
   "id": "hazardous-leonard",
   "metadata": {},
   "source": [
    "#### (9) 그래디언트 부스팅 트리(GradientBoostingClassifier)\n",
    "- 그래디언트 부스팅 트리는 여러 개의 결정 트리를 묶어 만드는 앙상블 모델\n",
    "- 그래디언트 부스팅은 랜덤 포레스트와 다르게 이전 트리의 오차를 보완하는 방식으로 순차적으로 트리를 만듬\n",
    "<br>\n",
    "\n",
    "- 그래디언트 부스팅 트리는 일부 특성을 무시한다는 특징을 가지고 있음\n",
    "- 그리서 보통 랜덤 포레스트를 먼저 사용해보고, 성능이나 예측 시간 면에서 만족스럽지 않은 경우에 그래디언트 부스팅 트리를 시도해보는 것이 좋음\n",
    "<br>\n",
    "\n",
    "- 일반적으로 1 ~ 5 정도의 깊지 않은 트리를 사용하므로 **메모리도 적게 사용하고 예측도 빠름**\n",
    "<br>\n",
    "\n",
    "- 정확도도 준수하고, 특히 예측 속도가 빠르다는 점에서 데이터 경진 대회에서 많은 우승을 했던 모델\n",
    "- 다만, 훈련 시간의 속도가 좀 오래 걸리고, 트리 기반 모델의 특성으로 인해서 희소한 고차원 데이터에 대해서는 잘 동작하지 않는다는 단점이 있음\n",
    "<br>\n",
    "\n",
    "- 사용하는 TF-IDF 행렬은 희소하고 고차원 데이터지만, 결정 트리나 랜덤 포레스트보다 더 높은 성능을 얻을 수 있는지 테스트해 보기\n",
    "<br>\n",
    "\n",
    "- 아래 코드 실행에 약 12분 정도 소요되었음\n",
    "- 'verbose = 3'을 'GradientBoostingClassifier' 안에 인자로 넣어 진행 상황을 확인할 수 있으니 참고"
   ]
  },
  {
   "cell_type": "code",
   "execution_count": 133,
   "id": "reserved-sigma",
   "metadata": {},
   "outputs": [
    {
     "name": "stdout",
     "output_type": "stream",
     "text": [
      "      Iter       Train Loss   Remaining Time \n",
      "         1       13120.6334           15.44m\n",
      "         2   858177598.4933           15.35m\n",
      "         3   946802549.6393           15.22m\n",
      "         4 237936546535516355390923778577443137004998111350751232.0000           15.08m\n",
      "         5 29932193976389972415457316369798088344148526429337375113230188232847921979331343979616204345474359412007156081620446930232527552512.0000           14.94m\n",
      "         6 29932193976389972415457316369798088344148526429337375113230188232847921979331343979616204345474359412007156081620446930232527552512.0000           14.80m\n",
      "         7 29932193976389972415457316369798088344148526429337375113230188232847921979331343979616204345474359412007156081620446930232527552512.0000           14.65m\n",
      "         8 29932193976389972415457316369798088344148526429337375113230188232847921979331343979616204345474359412007156081620446930232527552512.0000           14.50m\n",
      "         9 29932193976389972415457316369798088344148526429337375113230188232847921979331343979616204345474359412007156081620446930232527552512.0000           14.35m\n",
      "        10 29932193976389972415457316369798088344148526429337375113230188232847921979331343979616204345474359412007156081620446930232527552512.0000           14.20m\n",
      "        11 133241604195543544730923504073661458186388693113892106655906663702503754123160194053998540169759677913969725237240462866978825043968.0000           14.05m\n",
      "        12 133241604195543544730923504073661458186388693113892106655906663702503754123160194053998540169759677913969725237240462866978825043968.0000           13.89m\n",
      "        13 133241604195543544730923504073661458186388693113892106655906663702503754123160194053998540169759677913969725237240462866978825043968.0000           13.74m\n",
      "        14 133241604195543544730923504073661458186388693113892106655906663702503754123160194053998540169759677913969725237240462866978825043968.0000           13.58m\n",
      "        15 133241604195543544730923504073661458186388693113892106655906663702503754123160194053998540169759677913969725237240462866978825043968.0000           13.42m\n",
      "        16 133241604195543544730923504073661458186388693113892106655906663702503754123160194053998540169759677913969725237240462866978825043968.0000           13.27m\n",
      "        17 133241604195543544730923504073661458186388693113892106655906663702503754123160194053998540169759677913969725237240462866978825043968.0000           13.11m\n",
      "        18 133241604195543544730923504073661458186388693113892106655906663702503754123160194053998540169759677913969725237240462866978825043968.0000           12.95m\n",
      "        19 133241604195543544730923504073661458186388693113892106655906663702503754123160194053998540169759677913969725237240462866978825043968.0000           12.80m\n",
      "        20 133241604195543544730923504073661458186388693113892106655906663702503754123160194053998540169759677913969725237240462866978825043968.0000           12.63m\n",
      "        21 133241604195543544730923504073661458186388693113892106655906663702503754123160194053998540169759677913969725237240462866978825043968.0000           12.48m\n",
      "        22 133241604195543544730923504073661458186388693113892106655906663702503754123160194053998540169759677913969725237240462866978825043968.0000           12.32m\n",
      "        23 133241604195543544730923504073661458186388693113892106655906663702503754123160194053998540169759677913969725237240462866978825043968.0000           12.16m\n",
      "        24 133241604195543544730923504073661458186388693113892106655906663702503754123160194053998540169759677913969725237240462866978825043968.0000           12.00m\n",
      "        25 133241604195543544730923504073661458186388693113892106655906663702503754123160194053998540169759677913969725237240462866978825043968.0000           11.84m\n",
      "        26 133241604195543544730923504073661458186388693113892106655906663702503754123160194053998540169759677913969725237240462866978825043968.0000           11.68m\n",
      "        27 133241604195543544730923504073661458186388693113892106655906663702503754123160194053998540169759677913969725237240462866978825043968.0000           11.52m\n",
      "        28 133241604195543544730923504073661458186388693113892106655906663702503754123160194053998540169759677913969725237240462866978825043968.0000           11.37m\n",
      "        29 133241604195543544730923504073661458186388693113892106655906663702503754123160194053998540169759677913969725237240462866978825043968.0000           11.21m\n",
      "        30 133241604195543544730923504073661458186388693113892106655906663702503754123160194053998540169759677913969725237240462866978825043968.0000           11.05m\n",
      "        31 133241604195543544730923504073661458186388693113892106655906663702503754123160194053998540169759677913969725237240462866978825043968.0000           10.89m\n",
      "        32 133241604195543544730923504073661458186388693113892106655906663702503754123160194053998540169759677913969725237240462866978825043968.0000           10.73m\n",
      "        33 133241604195543544730923504073661458186388693113892106655906663702503754123160194053998540169759677913969725237240462866978825043968.0000           10.57m\n",
      "        34 133241604195543544730923504073661458186388693113892106655906663702503754123160194053998540169759677913969725237240462866978825043968.0000           10.42m\n",
      "        35 133241604195543544730923504073661458186388693113892106655906663702503754123160194053998540169759677913969725237240462866978825043968.0000           10.26m\n",
      "        36 133241604195543544730923504073661458186388693113892106655906663702503754123160194053998540169759677913969725237240462866978825043968.0000           10.10m\n",
      "        37 133241604195543544730923504073661458186388693113892106655906663702503754123160194053998540169759677913969725237240462866978825043968.0000            9.94m\n",
      "        38 133241604195543544730923504073661458186388693113892106655906663702503754123160194053998540169759677913969725237240462866978825043968.0000            9.78m\n",
      "        39 133241604195543544730923504073661458186388693113892106655906663702503754123160194053998540169759677913969725237240462866978825043968.0000            9.63m\n",
      "        40 133241604195543544730923504073661458186388693113892106655906663702503754123160194053998540169759677913969725237240462866978825043968.0000            9.47m\n",
      "        41 133241604195543544730923504073661458186388693113892106655906663702503754123160194053998540169759677913969725237240462866978825043968.0000            9.31m\n",
      "        42 133241604195543544730923504073661458186388693113892106655906663702503754123160194053998540169759677913969725237240462866978825043968.0000            9.16m\n",
      "        43 133241604195543544730923504073661458186388693113892106655906663702503754123160194053998540169759677913969725237240462866978825043968.0000            9.00m\n",
      "        44 133241604195543544730923504073661458186388693113892106655906663702503754123160194053998540169759677913969725237240462866978825043968.0000            8.84m\n",
      "        45 133241604195543544730923504073661458186388693113892106655906663702503754123160194053998540169759677913969725237240462866978825043968.0000            8.69m\n",
      "        46 133241604195543544730923504073661458186388693113892106655906663702503754123160194053998540169759677913969725237240462866978825043968.0000            8.53m\n",
      "        47 133241604195543544730923504073661458186388693113892106655906663702503754123160194053998540169759677913969725237240462866978825043968.0000            8.37m\n",
      "        48 133241604195543544730923504073661458186388693113892106655906663702503754123160194053998540169759677913969725237240462866978825043968.0000            8.21m\n",
      "        49 133241604195543544730923504073661458186388693113892106655906663702503754123160194053998540169759677913969725237240462866978825043968.0000            8.06m\n",
      "        50 133241604195543544730923504073661458186388693113892106655906663702503754123160194053998540169759677913969725237240462866978825043968.0000            7.90m\n",
      "        51 133241604195543544730923504073661458186388693113892106655906663702503754123160194053998540169759677913969725237240462866978825043968.0000            7.74m\n",
      "        52 133241604195543544730923504073661458186388693113892106655906663702503754123160194053998540169759677913969725237240462866978825043968.0000            7.58m\n",
      "        53 133241604195543544730923504073661458186388693113892106655906663702503754123160194053998540169759677913969725237240462866978825043968.0000            7.43m\n",
      "        54 133241604195543544730923504073661458186388693113892106655906663702503754123160194053998540169759677913969725237240462866978825043968.0000            7.27m\n",
      "        55 133241604195543544730923504073661458186388693113892106655906663702503754123160194053998540169759677913969725237240462866978825043968.0000            7.11m\n",
      "        56 133241604195543544730923504073661458186388693113892106655906663702503754123160194053998540169759677913969725237240462866978825043968.0000            6.95m\n",
      "        57 133241604195543544730923504073661458186388693113892106655906663702503754123160194053998540169759677913969725237240462866978825043968.0000            6.79m\n",
      "        58 133241604195543544730923504073661458186388693113892106655906663702503754123160194053998540169759677913969725237240462866978825043968.0000            6.63m\n",
      "        59 133241604195543544730923504073661458186388693113892106655906663702503754123160194053998540169759677913969725237240462866978825043968.0000            6.48m\n",
      "        60 133241604195543544730923504073661458186388693113892106655906663702503754123160194053998540169759677913969725237240462866978825043968.0000            6.32m\n",
      "        61 133241604195543544730923504073661458186388693113892106655906663702503754123160194053998540169759677913969725237240462866978825043968.0000            6.16m\n",
      "        62 133241604195543544730923504073661458186388693113892106655906663702503754123160194053998540169759677913969725237240462866978825043968.0000            6.00m\n",
      "        63 133241604195543544730923504073661458186388693113892106655906663702503754123160194053998540169759677913969725237240462866978825043968.0000            5.85m\n",
      "        64 133241604195543544730923504073661458186388693113892106655906663702503754123160194053998540169759677913969725237240462866978825043968.0000            5.69m\n",
      "        65 133241604195543544730923504073661458186388693113892106655906663702503754123160194053998540169759677913969725237240462866978825043968.0000            5.53m\n",
      "        66 133241604195543544730923504073661458186388693113892106655906663702503754123160194053998540169759677913969725237240462866978825043968.0000            5.37m\n",
      "        67 133241604195543544730923504073661458186388693113892106655906663702503754123160194053998540169759677913969725237240462866978825043968.0000            5.21m\n",
      "        68 133241604195543544730923504073661458186388693113892106655906663702503754123160194053998540169759677913969725237240462866978825043968.0000            5.06m\n",
      "        69 133241604195543544730923504073661458186388693113892106655906663702503754123160194053998540169759677913969725237240462866978825043968.0000            4.90m\n",
      "        70 133241604195543544730923504073661458186388693113892106655906663702503754123160194053998540169759677913969725237240462866978825043968.0000            4.74m\n",
      "        71 133241604195543544730923504073661458186388693113892106655906663702503754123160194053998540169759677913969725237240462866978825043968.0000            4.58m\n",
      "        72 133241604195543544730923504073661458186388693113892106655906663702503754123160194053998540169759677913969725237240462866978825043968.0000            4.42m\n",
      "        73 133241604195543544730923504073661458186388693113892106655906663702503754123160194053998540169759677913969725237240462866978825043968.0000            4.27m\n",
      "        74 133241604195543544730923504073661458186388693113892106655906663702503754123160194053998540169759677913969725237240462866978825043968.0000            4.11m\n",
      "        75 133241604195543544730923504073661458186388693113892106655906663702503754123160194053998540169759677913969725237240462866978825043968.0000            3.95m\n",
      "        76 133241604195543544730923504073661458186388693113892106655906663702503754123160194053998540169759677913969725237240462866978825043968.0000            3.79m\n",
      "        77 133241604195543544730923504073661458186388693113892106655906663702503754123160194053998540169759677913969725237240462866978825043968.0000            3.63m\n",
      "        78 133241604195543544730923504073661458186388693113892106655906663702503754123160194053998540169759677913969725237240462866978825043968.0000            3.48m\n",
      "        79 133241604195543544730923504073661458186388693113892106655906663702503754123160194053998540169759677913969725237240462866978825043968.0000            3.32m\n",
      "        80 133241604195543544730923504073661458186388693113892106655906663702503754123160194053998540169759677913969725237240462866978825043968.0000            3.16m\n",
      "        81 133241604195543544730923504073661458186388693113892106655906663702503754123160194053998540169759677913969725237240462866978825043968.0000            3.00m\n",
      "        82 133241604195543544730923504073661458186388693113892106655906663702503754123160194053998540169759677913969725237240462866978825043968.0000            2.84m\n",
      "        83 133241604195543544730923504073661458186388693113892106655906663702503754123160194053998540169759677913969725237240462866978825043968.0000            2.69m\n",
      "        84 133241604195543544730923504073661458186388693113892106655906663702503754123160194053998540169759677913969725237240462866978825043968.0000            2.53m\n",
      "        85 133241604195543544730923504073661458186388693113892106655906663702503754123160194053998540169759677913969725237240462866978825043968.0000            2.37m\n",
      "        86 133241604195543544730923504073661458186388693113892106655906663702503754123160194053998540169759677913969725237240462866978825043968.0000            2.21m\n",
      "        87 133241604195543544730923504073661458186388693113892106655906663702503754123160194053998540169759677913969725237240462866978825043968.0000            2.05m\n",
      "        88 133241604195543544730923504073661458186388693113892106655906663702503754123160194053998540169759677913969725237240462866978825043968.0000            1.90m\n",
      "        89 133241604195543544730923504073661458186388693113892106655906663702503754123160194053998540169759677913969725237240462866978825043968.0000            1.74m\n",
      "        90 133241604195543544730923504073661458186388693113892106655906663702503754123160194053998540169759677913969725237240462866978825043968.0000            1.58m\n",
      "        91 133241604195543544730923504073661458186388693113892106655906663702503754123160194053998540169759677913969725237240462866978825043968.0000            1.42m\n",
      "        92 133241604195543544730923504073661458186388693113892106655906663702503754123160194053998540169759677913969725237240462866978825043968.0000            1.26m\n",
      "        93 133241604195543544730923504073661458186388693113892106655906663702503754123160194053998540169759677913969725237240462866978825043968.0000            1.11m\n",
      "        94 133241604195543544730923504073661458186388693113892106655906663702503754123160194053998540169759677913969725237240462866978825043968.0000           56.88s\n",
      "        95 133241604195543544730923504073661458186388693113892106655906663702503754123160194053998540169759677913969725237240462866978825043968.0000           47.40s\n",
      "        96 133241604195543544730923504073661458186388693113892106655906663702503754123160194053998540169759677913969725237240462866978825043968.0000           37.92s\n",
      "        97 133241604195543544730923504073661458186388693113892106655906663702503754123160194053998540169759677913969725237240462866978825043968.0000           28.44s\n",
      "        98 133241604195543544730923504073661458186388693113892106655906663702503754123160194053998540169759677913969725237240462866978825043968.0000           18.96s\n",
      "        99 133241604195543544730923504073661458186388693113892106655906663702503754123160194053998540169759677913969725237240462866978825043968.0000            9.48s\n",
      "       100 133241604195543544730923504073661458186388693113892106655906663702503754123160194053998540169759677913969725237240462866978825043968.0000            0.00s\n",
      "정확도: 0.7666963490650045\n"
     ]
    }
   ],
   "source": [
    "grbt = GradientBoostingClassifier(random_state = 0, verbose = 3)\n",
    "grbt.fit(tfidfv, y_train)\n",
    "\n",
    "# 테스트 데이터에 대한 예측\n",
    "predicted = grbt.predict(tfidfv_test)\n",
    "\n",
    "# 예측값과 실제값 비교\n",
    "print(\"정확도:\", accuracy_score(y_test, predicted))"
   ]
  },
  {
   "cell_type": "markdown",
   "id": "adjacent-masters",
   "metadata": {},
   "source": [
    "- 76%의 정확도로 결정 트리와 랜덤 포래스트와 비교하여 좋은 성능 얻었음"
   ]
  },
  {
   "cell_type": "markdown",
   "id": "preceding-hampshire",
   "metadata": {},
   "source": [
    "#### (10) 보팅(Voting)\n",
    "- 데이터 경진 대회 캐글(Kaggle)에서 상위권을 차지한 많은 솔루션들이 앙상블(Ansemble learning)이라는 방법을 사용\n",
    "- 그 중에서 투표를 통해 결과를 도출하는 **보팅(Voting)**\n",
    "- [머신러닝 - 앙상블: 하드보팅, 소프트 보팅](https://www.youtube.com/watch?v=y4Wh0E1d4oE)"
   ]
  },
  {
   "cell_type": "code",
   "execution_count": 134,
   "id": "magnetic-protection",
   "metadata": {},
   "outputs": [
    {
     "name": "stdout",
     "output_type": "stream",
     "text": [
      "정확도: 0.8116651825467498\n"
     ]
    }
   ],
   "source": [
    "voting_classifier = VotingClassifier(estimators = [\n",
    "    ('lr', LogisticRegression(C = 10000, penalty = 'l2')),\n",
    "    ('cb', ComplementNB()),\n",
    "    ('grbt', GradientBoostingClassifier(random_state = 0))\n",
    "], voting = 'soft', n_jobs = 1)\n",
    "\n",
    "voting_classifier.fit(tfidfv, y_train)\n",
    "\n",
    "# 테스트 데이터에 대한 예측\n",
    "predicted = voting_classifier.predict(tfidfv_test)\n",
    "\n",
    "# 예측값과 실제값 비교\n",
    "print(\"정확도:\", accuracy_score(y_test, predicted))"
   ]
  },
  {
   "cell_type": "markdown",
   "id": "editorial-mercy",
   "metadata": {},
   "source": [
    "#### (11) RNN"
   ]
  },
  {
   "cell_type": "code",
   "execution_count": 135,
   "id": "conditional-stability",
   "metadata": {},
   "outputs": [
    {
     "name": "stdout",
     "output_type": "stream",
     "text": [
      "8982 2246\n",
      "max_len :  2376\n"
     ]
    }
   ],
   "source": [
    "(rnn_x_train, rnn_y_train), (rnn_x_test, rnn_y_test) = reuters.load_data(num_words=10000, test_split=0.2)\n",
    "print(len(rnn_x_train), len(rnn_x_test))\n",
    "max_len = max(len(l) for l in np.concatenate((rnn_x_train, rnn_x_test), axis=0))\n",
    "print('max_len : ', max_len)"
   ]
  },
  {
   "cell_type": "code",
   "execution_count": 136,
   "id": "behavioral-resolution",
   "metadata": {},
   "outputs": [],
   "source": [
    "rnn_x_train = pad_sequences(rnn_x_train, maxlen=max_len)\n",
    "rnn_x_test = pad_sequences(rnn_x_test, maxlen=max_len)\n",
    "\n",
    "rnn_y_train = to_categorical(rnn_y_train, num_classes=46)\n",
    "rnn_y_test = to_categorical(rnn_y_test, num_classes=46)\n",
    "\n",
    "rnn_x_train = rnn_x_train[1000:]\n",
    "rnn_y_train = rnn_y_train[1000:]\n",
    "rnn_x_val = rnn_x_train[:1000]\n",
    "rnn_y_val = rnn_y_train[:1000]"
   ]
  },
  {
   "cell_type": "code",
   "execution_count": 137,
   "id": "divine-prescription",
   "metadata": {},
   "outputs": [
    {
     "name": "stdout",
     "output_type": "stream",
     "text": [
      "30982\n",
      "Epoch 1/50\n",
      "63/63 [==============================] - 86s 1s/step - loss: 0.4205 - accuracy: 0.1140 - val_loss: 0.0745 - val_accuracy: 0.3260\n",
      "Epoch 2/50\n",
      "63/63 [==============================] - 84s 1s/step - loss: 0.0722 - accuracy: 0.3521 - val_loss: 0.0733 - val_accuracy: 0.3260\n",
      "Epoch 3/50\n",
      "63/63 [==============================] - 84s 1s/step - loss: 0.0724 - accuracy: 0.3495 - val_loss: 0.0732 - val_accuracy: 0.3260\n",
      "Epoch 4/50\n",
      "63/63 [==============================] - 84s 1s/step - loss: 0.0720 - accuracy: 0.3555 - val_loss: 0.0731 - val_accuracy: 0.3260\n",
      "Epoch 5/50\n",
      "63/63 [==============================] - 84s 1s/step - loss: 0.0717 - accuracy: 0.3459 - val_loss: 0.0733 - val_accuracy: 0.3260\n",
      "Epoch 6/50\n",
      "63/63 [==============================] - 84s 1s/step - loss: 0.0718 - accuracy: 0.3459 - val_loss: 0.0731 - val_accuracy: 0.3260\n",
      "Epoch 7/50\n",
      "63/63 [==============================] - 83s 1s/step - loss: 0.0724 - accuracy: 0.3468 - val_loss: 0.0732 - val_accuracy: 0.3260\n",
      "Epoch 8/50\n",
      "63/63 [==============================] - 84s 1s/step - loss: 0.0720 - accuracy: 0.3476 - val_loss: 0.0731 - val_accuracy: 0.3260\n",
      "Epoch 9/50\n",
      "63/63 [==============================] - 84s 1s/step - loss: 0.0724 - accuracy: 0.3403 - val_loss: 0.0730 - val_accuracy: 0.3260\n",
      "Epoch 10/50\n",
      "63/63 [==============================] - 83s 1s/step - loss: 0.0719 - accuracy: 0.3514 - val_loss: 0.0730 - val_accuracy: 0.3260\n",
      "Epoch 11/50\n",
      "63/63 [==============================] - 84s 1s/step - loss: 0.0718 - accuracy: 0.3558 - val_loss: 0.0732 - val_accuracy: 0.3260\n",
      "Epoch 12/50\n",
      "63/63 [==============================] - 84s 1s/step - loss: 0.0722 - accuracy: 0.3514 - val_loss: 0.0732 - val_accuracy: 0.3260\n",
      "Epoch 13/50\n",
      "63/63 [==============================] - 83s 1s/step - loss: 0.0717 - accuracy: 0.3539 - val_loss: 0.0731 - val_accuracy: 0.3260\n",
      "Epoch 14/50\n",
      "63/63 [==============================] - 84s 1s/step - loss: 0.0724 - accuracy: 0.3459 - val_loss: 0.0730 - val_accuracy: 0.3260\n",
      "Epoch 15/50\n",
      "63/63 [==============================] - 84s 1s/step - loss: 0.0720 - accuracy: 0.3472 - val_loss: 0.0731 - val_accuracy: 0.3260\n",
      "Epoch 16/50\n",
      "63/63 [==============================] - 83s 1s/step - loss: 0.0716 - accuracy: 0.3565 - val_loss: 0.0733 - val_accuracy: 0.3260\n",
      "Epoch 17/50\n",
      "63/63 [==============================] - 84s 1s/step - loss: 0.0722 - accuracy: 0.3458 - val_loss: 0.0734 - val_accuracy: 0.3260\n",
      "Epoch 18/50\n",
      "63/63 [==============================] - 84s 1s/step - loss: 0.0723 - accuracy: 0.3513 - val_loss: 0.0731 - val_accuracy: 0.3260\n",
      "Epoch 19/50\n",
      "63/63 [==============================] - 84s 1s/step - loss: 0.0712 - accuracy: 0.3529 - val_loss: 0.0731 - val_accuracy: 0.3260\n",
      "Epoch 00019: early stopping\n"
     ]
    }
   ],
   "source": [
    "vocab_size = len(index_to_word)\n",
    "print(vocab_size)\n",
    "word_vector_dim = 120\n",
    "\n",
    "model = keras.Sequential()\n",
    "model.add(keras.layers.Embedding(vocab_size, word_vector_dim))\n",
    "model.add(keras.layers.LSTM(120))\n",
    "model.add(keras.layers.Dense(46, activation='softmax'))\n",
    "\n",
    "# 모델 훈련\n",
    "es = EarlyStopping(monitor='val_loss', mode='min', verbose=1, patience=5)\n",
    "model.compile(optimizer='adam', loss='binary_crossentropy', metrics=['accuracy'])\n",
    "history = model.fit(rnn_x_train, rnn_y_train, epochs=50, callbacks=[es], batch_size=128, validation_data=(rnn_x_val, rnn_y_val), verbose=1)"
   ]
  },
  {
   "cell_type": "code",
   "execution_count": 138,
   "id": "entertaining-density",
   "metadata": {},
   "outputs": [
    {
     "name": "stdout",
     "output_type": "stream",
     "text": [
      "71/71 [==============================] - 17s 245ms/step - loss: 0.0720 - accuracy: 0.3620\n"
     ]
    },
    {
     "data": {
      "text/plain": [
       "[0.07199543714523315, 0.36197686195373535]"
      ]
     },
     "execution_count": 138,
     "metadata": {},
     "output_type": "execute_result"
    }
   ],
   "source": [
    "model.evaluate(rnn_x_test, rnn_y_test)"
   ]
  },
  {
   "cell_type": "markdown",
   "id": "vulnerable-cooper",
   "metadata": {},
   "source": [
    "## 4. 모든 단어 사용하기"
   ]
  },
  {
   "cell_type": "markdown",
   "id": "competent-butler",
   "metadata": {},
   "source": [
    "```python\n",
    "(x_train, y_train), (x_test, y_test) = reuters.load_data(num_words = 5000, test_split = 0.2)\n",
    "```"
   ]
  },
  {
   "cell_type": "markdown",
   "id": "perceived-receptor",
   "metadata": {},
   "source": [
    "### 4-1. 데이터 확인하기"
   ]
  },
  {
   "cell_type": "code",
   "execution_count": 52,
   "id": "directed-restriction",
   "metadata": {},
   "outputs": [],
   "source": [
    "(x_train, y_train), (x_test, y_test) = reuters.load_data(num_words=None, test_split=0.2)"
   ]
  },
  {
   "cell_type": "code",
   "execution_count": 53,
   "id": "secondary-smile",
   "metadata": {},
   "outputs": [
    {
     "name": "stdout",
     "output_type": "stream",
     "text": [
      "훈련 샘플의 수: 8982\n",
      "테스트 샘플의 수: 2246\n",
      "\n",
      "데이터 출력\n",
      "[1, 27595, 28842, 8, 43, 10, 447, 5, 25, 207, 270, 5, 3095, 111, 16, 369, 186, 90, 67, 7, 89, 5, 19, 102, 6, 19, 124, 15, 90, 67, 84, 22, 482, 26, 7, 48, 4, 49, 8, 864, 39, 209, 154, 6, 151, 6, 83, 11, 15, 22, 155, 11, 15, 7, 48, 9, 4579, 1005, 504, 6, 258, 6, 272, 11, 15, 22, 134, 44, 11, 15, 16, 8, 197, 1245, 90, 67, 52, 29, 209, 30, 32, 132, 6, 109, 15, 17, 12]\n",
      "[1, 4, 1378, 2025, 9, 697, 4622, 111, 8, 25, 109, 29, 3650, 11, 150, 244, 364, 33, 30, 30, 1398, 333, 6, 18292, 159, 9, 1084, 363, 13, 19231, 71, 9, 16273, 71, 117, 4, 225, 78, 206, 10, 9, 1214, 8, 4, 270, 5, 16273, 7, 748, 48, 9, 19231, 7, 207, 1451, 966, 1864, 793, 97, 133, 336, 7, 4, 493, 98, 273, 104, 284, 25, 39, 338, 22, 905, 220, 3465, 644, 59, 20, 6, 119, 61, 11, 15, 58, 579, 26, 10, 67, 7, 4, 738, 98, 43, 88, 333, 722, 12, 20, 6, 19, 746, 35, 15, 10, 9, 1214, 855, 129, 783, 21, 4, 2280, 244, 364, 51, 16, 299, 452, 16, 515, 4, 99, 29, 5, 4, 364, 281, 48, 10, 9, 1214, 23, 644, 47, 20, 324, 27, 56, 23406, 28185, 5, 192, 510, 17, 12]\n"
     ]
    }
   ],
   "source": [
    "print('훈련 샘플의 수: {}'.format(len(x_train)))\n",
    "print('테스트 샘플의 수: {}'.format(len(x_test)))\n",
    "\n",
    "# 데이터 출력\n",
    "print(\"\\n데이터 출력\")\n",
    "print(x_train[0])\n",
    "print(x_test[0])\n",
    "\n",
    "num_classes = max(y_train) + 1"
   ]
  },
  {
   "cell_type": "markdown",
   "id": "reverse-whole",
   "metadata": {},
   "source": [
    "### 4-2. 데이터 복원하기"
   ]
  },
  {
   "cell_type": "code",
   "execution_count": 54,
   "id": "ahead-portuguese",
   "metadata": {},
   "outputs": [
    {
     "name": "stdout",
     "output_type": "stream",
     "text": [
      "<sos> mcgrath rentcorp said as a result of its december acquisition of space co it expects earnings per share in 1987 of 1 15 to 1 30 dlrs per share up from 70 cts in 1986 the company said pretax net should rise to nine to 10 mln dlrs from six mln dlrs in 1986 and rental operation revenues to 19 to 22 mln dlrs from 12 5 mln dlrs it said cash flow per share this year should be 2 50 to three dlrs reuter 3\n",
      "<sos> the great atlantic and pacific tea co said its three year 345 mln dlr capital program will be be substantially increased to accommodate growth and expansion plans for waldbaum inc and shopwell inc over the next two years a and p said the acquisition of shopwell in august 1986 and waldbaum in december helped us achieve better than expected results in the fourth quarter ended february 28 its net income from continuing operations jumped 52 6 pct to 20 7 mln dlrs or 55 cts a share in the latest quarter as sales increased 48 3 pct to 1 58 billion dlrs a and p gave no details on the expanded capital program but it did say it completed the first year of the program during 1986 a and p is 52 4 pct owned by lt tengelmann warenhandelsgesellschaft of west germany reuter 3\n"
     ]
    }
   ],
   "source": [
    "word_index = reuters.get_word_index(path=\"reuters_word_index.json\")\n",
    "\n",
    "index_to_word = {index + 3 : word for word, index in word_index.items()}\n",
    "\n",
    "for index, token in enumerate((\"<pad>\", \"<sos>\", \"<unk>\")):\n",
    "    index_to_word[index]=token\n",
    "    \n",
    "# train 데이터 복원\n",
    "decoded = []\n",
    "for i in range(len(x_train)):\n",
    "    t = ' '.join([index_to_word[index] for index in x_train[i]])\n",
    "    decoded.append(t)\n",
    "x_train = decoded\n",
    "\n",
    "# test 데이터 복원\n",
    "decoded = []\n",
    "for i in range(len(x_test)):\n",
    "    t = ' '.join([index_to_word[index] for index in x_test[i]])\n",
    "    decoded.append(t)\n",
    "x_test = decoded\n",
    "\n",
    "# 데이터 확인\n",
    "print(x_train[0])\n",
    "print(x_test[0])"
   ]
  },
  {
   "cell_type": "markdown",
   "id": "accepted-pennsylvania",
   "metadata": {},
   "source": [
    "### 4-3. 벡터화"
   ]
  },
  {
   "cell_type": "code",
   "execution_count": 55,
   "id": "statewide-design",
   "metadata": {},
   "outputs": [
    {
     "name": "stdout",
     "output_type": "stream",
     "text": [
      "(8982, 26506)\n",
      "(8982, 26506)\n"
     ]
    }
   ],
   "source": [
    "# DTM 생성\n",
    "dtmvector = CountVectorizer()  \n",
    "\n",
    "# TF-IDF 생성\n",
    "tfidf_transformer = TfidfTransformer()  \n",
    "\n",
    "# train data\n",
    "x_train_dtm = dtmvector.fit_transform(x_train)\n",
    "tfidfv = tfidf_transformer.fit_transform(x_train_dtm)\n",
    "print(x_train_dtm.shape)\n",
    "print(tfidfv.shape)\n",
    "\n",
    "# test data\n",
    "# 테스트 데이터를 DTM으로 변환\n",
    "x_test_dtm = dtmvector.transform(x_test) \n",
    "# DTM을 TF-IDF 행렬로 변환\n",
    "tfidfv_test = tfidf_transformer.transform(x_test_dtm) "
   ]
  },
  {
   "cell_type": "markdown",
   "id": "solid-dividend",
   "metadata": {},
   "source": [
    "### 4-4. 다양한 분류 모델 사용해보기"
   ]
  },
  {
   "cell_type": "markdown",
   "id": "planned-parcel",
   "metadata": {},
   "source": [
    "#### (1) 나이브 베이즈 분류기"
   ]
  },
  {
   "cell_type": "code",
   "execution_count": 56,
   "id": "sapphire-palmer",
   "metadata": {},
   "outputs": [
    {
     "name": "stdout",
     "output_type": "stream",
     "text": [
      "정확도: 0.5997328584149599\n"
     ]
    }
   ],
   "source": [
    "model = MultinomialNB()\n",
    "model.fit(tfidfv, y_train)\n",
    "\n",
    "# 테스트 데이터에 대한 예측\n",
    "predicted = model.predict(tfidfv_test)\n",
    "\n",
    "# 예측값과 실제값 비교\n",
    "print(\"정확도:\", accuracy_score(y_test, predicted))"
   ]
  },
  {
   "cell_type": "markdown",
   "id": "protecting-divide",
   "metadata": {},
   "source": [
    "#### (2) 컴플리먼트 나이브 베이즈 분류기"
   ]
  },
  {
   "cell_type": "code",
   "execution_count": 57,
   "id": "processed-canada",
   "metadata": {},
   "outputs": [
    {
     "name": "stdout",
     "output_type": "stream",
     "text": [
      "정확도: 0.7649154051647373\n"
     ]
    }
   ],
   "source": [
    "cb = ComplementNB()\n",
    "cb.fit(tfidfv, y_train)\n",
    "\n",
    "# 테스트 데이터에 대한 예측\n",
    "predicted = cb.predict(tfidfv_test)\n",
    "\n",
    "# 예측값과 실제값 비교\n",
    "print(\"정확도:\", accuracy_score(y_test, predicted))"
   ]
  },
  {
   "cell_type": "markdown",
   "id": "aging-integrity",
   "metadata": {},
   "source": [
    "#### (3) F1-Score"
   ]
  },
  {
   "cell_type": "code",
   "execution_count": 58,
   "id": "incredible-trick",
   "metadata": {},
   "outputs": [
    {
     "name": "stdout",
     "output_type": "stream",
     "text": [
      "              precision    recall  f1-score   support\n",
      "\n",
      "           0       0.00      0.00      0.00        12\n",
      "           1       0.79      0.21      0.33       105\n",
      "           2       0.00      0.00      0.00        20\n",
      "           3       0.72      0.92      0.81       813\n",
      "           4       0.45      0.96      0.61       474\n",
      "           5       0.00      0.00      0.00         5\n",
      "           6       0.00      0.00      0.00        14\n",
      "           7       0.00      0.00      0.00         3\n",
      "           8       0.00      0.00      0.00        38\n",
      "           9       0.00      0.00      0.00        25\n",
      "          10       0.00      0.00      0.00        30\n",
      "          11       0.80      0.29      0.42        83\n",
      "          12       0.00      0.00      0.00        13\n",
      "          13       0.00      0.00      0.00        37\n",
      "          14       0.00      0.00      0.00         2\n",
      "          15       0.00      0.00      0.00         9\n",
      "          16       0.75      0.18      0.29        99\n",
      "          17       0.00      0.00      0.00        12\n",
      "          18       0.00      0.00      0.00        20\n",
      "          19       0.73      0.58      0.64       133\n",
      "          20       0.00      0.00      0.00        70\n",
      "          21       0.00      0.00      0.00        27\n",
      "          22       0.00      0.00      0.00         7\n",
      "          23       0.00      0.00      0.00        12\n",
      "          24       0.00      0.00      0.00        19\n",
      "          25       0.00      0.00      0.00        31\n",
      "          26       0.00      0.00      0.00         8\n",
      "          27       0.00      0.00      0.00         4\n",
      "          28       0.00      0.00      0.00        10\n",
      "          29       0.00      0.00      0.00         4\n",
      "          30       0.00      0.00      0.00        12\n",
      "          31       0.00      0.00      0.00        13\n",
      "          32       0.00      0.00      0.00        10\n",
      "          33       0.00      0.00      0.00         5\n",
      "          34       0.00      0.00      0.00         7\n",
      "          35       0.00      0.00      0.00         6\n",
      "          36       0.00      0.00      0.00        11\n",
      "          37       0.00      0.00      0.00         2\n",
      "          38       0.00      0.00      0.00         3\n",
      "          39       0.00      0.00      0.00         5\n",
      "          40       0.00      0.00      0.00        10\n",
      "          41       0.00      0.00      0.00         8\n",
      "          42       0.00      0.00      0.00         3\n",
      "          43       0.00      0.00      0.00         6\n",
      "          44       0.00      0.00      0.00         5\n",
      "          45       0.00      0.00      0.00         1\n",
      "\n",
      "    accuracy                           0.60      2246\n",
      "   macro avg       0.09      0.07      0.07      2246\n",
      "weighted avg       0.50      0.60      0.50      2246\n",
      "\n"
     ]
    }
   ],
   "source": [
    "print(classification_report(y_test, model.predict(tfidfv_test), zero_division = 0))"
   ]
  },
  {
   "cell_type": "markdown",
   "id": "heated-airline",
   "metadata": {},
   "source": [
    "#### (4) Confusion Matrix"
   ]
  },
  {
   "cell_type": "code",
   "execution_count": 59,
   "id": "unnecessary-chaos",
   "metadata": {},
   "outputs": [],
   "source": [
    "def graph_confusion_matrix(model, x_test, y_test):#, classes_name):\n",
    "    df_cm = pd.DataFrame(confusion_matrix(y_test, model.predict(x_test)))#, index = classes_name, columns = classes_name)\n",
    "    fig = plt.figure(figsize = (12, 12))\n",
    "    heatmap = sns.heatmap(df_cm, annot = True, fmt = \"d\")\n",
    "    heatmap.yaxis.set_ticklabels(heatmap.yaxis.get_ticklabels(), rotation = 0, ha = 'right', fontsize = 12)\n",
    "    heatmap.xaxis.set_ticklabels(heatmap.xaxis.get_ticklabels(), rotation = 45, ha = 'right', fontsize = 12)\n",
    "    plt.ylabel('label')\n",
    "    plt.xlabel('predicted value')"
   ]
  },
  {
   "cell_type": "code",
   "execution_count": 60,
   "id": "historic-somalia",
   "metadata": {},
   "outputs": [
    {
     "data": {
      "image/png": "[encoded data removed]",
      "text/plain": [
       "<Figure size 864x864 with 2 Axes>"
      ]
     },
     "metadata": {
      "needs_background": "light"
     },
     "output_type": "display_data"
    }
   ],
   "source": [
    "graph_confusion_matrix(model, tfidfv_test, y_test)"
   ]
  },
  {
   "cell_type": "markdown",
   "id": "special-sherman",
   "metadata": {},
   "source": [
    "#### (5) 로지스틱 회귀(Logistic Regerssion)"
   ]
  },
  {
   "cell_type": "code",
   "execution_count": 61,
   "id": "complimentary-kenya",
   "metadata": {},
   "outputs": [
    {
     "name": "stdout",
     "output_type": "stream",
     "text": [
      "정확도: 0.813446126447017\n"
     ]
    }
   ],
   "source": [
    "lr = LogisticRegression(C = 10000, penalty = 'l2')\n",
    "lr.fit(tfidfv, y_train)\n",
    "\n",
    "# 테스트 데이터에 대한 예측\n",
    "predicted = lr.predict(tfidfv_test)\n",
    "\n",
    "# 예측값과 실제값 비교\n",
    "print(\"정확도:\", accuracy_score(y_test, predicted))"
   ]
  },
  {
   "cell_type": "markdown",
   "id": "french-shopper",
   "metadata": {},
   "source": [
    "#### (6) 선형 서포트 벡터 머신"
   ]
  },
  {
   "cell_type": "code",
   "execution_count": 62,
   "id": "sporting-crisis",
   "metadata": {},
   "outputs": [
    {
     "name": "stdout",
     "output_type": "stream",
     "text": [
      "정확도: 0.7804986642920748\n"
     ]
    }
   ],
   "source": [
    "lsvc = LinearSVC(C = 1000, penalty = 'l1', max_iter = 500, dual = False)\n",
    "lsvc.fit(tfidfv, y_train)\n",
    "\n",
    "# 테스트 데이터에 대한 예측\n",
    "predicted = lsvc.predict(tfidfv_test)\n",
    "\n",
    "# 예측값과 실제값 비교\n",
    "print(\"정확도:\", accuracy_score(y_test, predicted))"
   ]
  },
  {
   "cell_type": "markdown",
   "id": "dying-break",
   "metadata": {},
   "source": [
    "#### (7) 결정 트리(Decision Tree)"
   ]
  },
  {
   "cell_type": "code",
   "execution_count": 63,
   "id": "foreign-credit",
   "metadata": {},
   "outputs": [
    {
     "name": "stdout",
     "output_type": "stream",
     "text": [
      "정확도: 0.6211041852181657\n"
     ]
    }
   ],
   "source": [
    "tree = DecisionTreeClassifier(max_depth = 10, random_state = 0)\n",
    "tree.fit(tfidfv, y_train)\n",
    "\n",
    "# 테스트 데이터에 대한 예측\n",
    "predicted = tree.predict(tfidfv_test)\n",
    "\n",
    "# 예측값과 실제값 비교\n",
    "print(\"정확도:\", accuracy_score(y_test, predicted))"
   ]
  },
  {
   "cell_type": "markdown",
   "id": "stopped-devil",
   "metadata": {},
   "source": [
    "#### (8) 랜덤 포레스트(Random Forest)"
   ]
  },
  {
   "cell_type": "code",
   "execution_count": 64,
   "id": "caring-scotland",
   "metadata": {},
   "outputs": [
    {
     "name": "stdout",
     "output_type": "stream",
     "text": [
      "정확도: 0.6544968833481746\n"
     ]
    }
   ],
   "source": [
    "forest = RandomForestClassifier(n_estimators = 5, random_state = 0)\n",
    "forest.fit(tfidfv, y_train)\n",
    "\n",
    "# 테스트 데이터에 대한 예측\n",
    "predicted = forest.predict(tfidfv_test)\n",
    "\n",
    "# 예측값과 실제값 비교\n",
    "print(\"정확도:\", accuracy_score(y_test, predicted))"
   ]
  },
  {
   "cell_type": "markdown",
   "id": "following-premium",
   "metadata": {},
   "source": [
    "#### (9) 그래디언트 부스팅 트리(GradientBoostingClassifier)"
   ]
  },
  {
   "cell_type": "code",
   "execution_count": 65,
   "id": "antique-continent",
   "metadata": {
    "scrolled": false
   },
   "outputs": [
    {
     "name": "stdout",
     "output_type": "stream",
     "text": [
      "      Iter       Train Loss   Remaining Time \n",
      "         1       12845.1851           16.65m\n",
      "         2   689466281.7264           16.55m\n",
      "         3 6884613407215.1387           16.38m\n",
      "         4 5935818824582923550720.0000           16.22m\n",
      "         5 9040644020576697454476775298309462042959687372080133879675061827235923374847613060426279764553817024942513812241979907601155443654656.0000           16.06m\n",
      "         6 9040644020576697454476775298309462042959687372080133879675061827235923374847613060426279764553817024942513812241979907601155443654656.0000           15.90m\n",
      "         7 9040644020576697454476775298309462042959687372080133879675061827235923374847613060426279764553817024942513812241979907601155443654656.0000           15.74m\n",
      "         8 9040644020576697454476775298309462042959687372080133879675061827235923374847613060426279764553817024942513812241979907601155443654656.0000           15.58m\n",
      "         9 9040644020576697454476775298309462042959687372080133879675061827235923374847613060426279764553817024942513812241979907601155443654656.0000           15.41m\n",
      "        10 9040644020576697454476775298309462042959687372080133879675061827235923374847613060426279764553817024942513812241979907601155443654656.0000           15.24m\n",
      "        11 9040644020576697454476775298309462042959687372080133879675061827235923374847613060426279764553817024942513812241979907601155443654656.0000           15.07m\n",
      "        12 9040644020576697454476775298309462042959687372080133879675061827235923374847613060426279764553817024942513812241979907601155443654656.0000           14.90m\n",
      "        13 9040644020576697454476775298309462042959687372080133879675061827235923374847613060426279764553817024942513812241979907601155443654656.0000           14.72m\n",
      "        14 9040644020576697454476775298309462042959687372080133879675061827235923374847613060426279764553817024942513812241979907601155443654656.0000           14.55m\n",
      "        15 9040644020576697454476775298309462042959687372080133879675061827235923374847613060426279764553817024942513812241979907601155443654656.0000           14.38m\n",
      "        16 9040644020576697454476775298309462042959687372080133879675061827235923374847613060426279764553817024942513812241979907601155443654656.0000           14.20m\n",
      "        17 9040644020576697454476775298309462042959687372080133879675061827235923374847613060426279764553817024942513812241979907601155443654656.0000           14.03m\n",
      "        18 9040644020576697454476775298309462042959687372080133879675061827235923374847613060426279764553817024942513812241979907601155443654656.0000           13.86m\n",
      "        19 9040644020576697454476775298309462042959687372080133879675061827235923374847613060426279764553817024942513812241979907601155443654656.0000           13.69m\n",
      "        20 9040644020576697454476775298309462042959687372080133879675061827235923374847613060426279764553817024942513812241979907601155443654656.0000           13.52m\n",
      "        21 9040644020576697454476775298309462042959687372080133879675061827235923374847613060426279764553817024942513812241979907601155443654656.0000           13.35m\n",
      "        22 9040644020576697454476775298309462042959687372080133879675061827235923374847613060426279764553817024942513812241979907601155443654656.0000           13.18m\n",
      "        23 9040644020576697454476775298309462042959687372080133879675061827235923374847613060426279764553817024942513812241979907601155443654656.0000           13.01m\n",
      "        24 9040644020576697454476775298309462042959687372080133879675061827235923374847613060426279764553817024942513812241979907601155443654656.0000           12.84m\n",
      "        25 71276538223797627407516241100862978529530963044983872457904873785026599868454939389911852427245548475410496325767775571272401790294044479567429632.0000           12.67m\n",
      "        26 71276538223797627407516241100862978529530963044983872457904873785026599868454939389911852427245548475410496325767775571272401790294044479567429632.0000           12.50m\n",
      "        27 71276538223797627407516241100862978529530963044983872457904873785026599868454939389911852427245548475410496325767775571272401790294044479567429632.0000           12.33m\n",
      "        28 71276538223797627407516241100862978529530963044983872457904873785026599868454939389911852427245548475410496325767775571272401790294044479567429632.0000           12.16m\n",
      "        29 71276538223797627407516241100862978529530963044983872457904873785026599868454939389911852427245548475410496325767775571272401790294044479567429632.0000           11.99m\n",
      "        30 71276538223797627407516241100862978529530963044983872457904873785026599868454939389911852427245548475410496325767775571272401790294044479567429632.0000           11.82m\n",
      "        31 71276538223797627407516241100862978529530963044983872457904873785026599868454939389911852427245548475410496325767775571272401790294044479567429632.0000           11.65m\n",
      "        32 71276538223797627407516241100862978529530963044983872457904873785026599868454939389911852427245548475410496325767775571272401790294044479567429632.0000           11.48m\n",
      "        33 71276538223797627407516241100862978529530963044983872457904873785026599868454939389911852427245548475410496325767775571272401790294044479567429632.0000           11.31m\n",
      "        34 71276538223797627407516241100862978529530963044983872457904873785026599868454939389911852427245548475410496325767775571272401790294044479567429632.0000           11.14m\n",
      "        35 71276538223797627407516241100862978529530963044983872457904873785026599868454939389911852427245548475410496325767775571272401790294044479567429632.0000           10.97m\n",
      "        36 71276538223797627407516241100862978529530963044983872457904873785026599868454939389911852427245548475410496325767775571272401790294044479567429632.0000           10.80m\n",
      "        37 71276538223797627407516241100862978529530963044983872457904873785026599868454939389911852427245548475410496325767775571272401790294044479567429632.0000           10.63m\n",
      "        38 71276538223797627407516241100862978529530963044983872457904873785026599868454939389911852427245548475410496325767775571272401790294044479567429632.0000           10.46m\n",
      "        39 71276538223797627407516241100862978529530963044983872457904873785026599868454939389911852427245548475410496325767775571272401790294044479567429632.0000           10.29m\n",
      "        40 71276538223797627407516241100862978529530963044983872457904873785026599868454939389911852427245548475410496325767775571272401790294044479567429632.0000           10.12m\n",
      "        41 71276538223797627407516241100862978529530963044983872457904873785026599868454939389911852427245548475410496325767775571272401790294044479567429632.0000            9.95m\n",
      "        42 71276538223797627407516241100862978529530963044983872457904873785026599868454939389911852427245548475410496325767775571272401790294044479567429632.0000            9.78m\n",
      "        43 71276538223797627407516241100862978529530963044983872457904873785026599868454939389911852427245548475410496325767775571272401790294044479567429632.0000            9.61m\n",
      "        44 71276538223797627407516241100862978529530963044983872457904873785026599868454939389911852427245548475410496325767775571272401790294044479567429632.0000            9.44m\n",
      "        45 71276538223797627407516241100862978529530963044983872457904873785026599868454939389911852427245548475410496325767775571272401790294044479567429632.0000            9.27m\n",
      "        46 71276538223797627407516241100862978529530963044983872457904873785026599868454939389911852427245548475410496325767775571272401790294044479567429632.0000            9.11m\n",
      "        47 71276538223797627407516241100862978529530963044983872457904873785026599868454939389911852427245548475410496325767775571272401790294044479567429632.0000            8.94m\n",
      "        48 71276538223797627407516241100862978529530963044983872457904873785026599868454939389911852427245548475410496325767775571272401790294044479567429632.0000            8.77m\n",
      "        49 71276538223797627407516241100862978529530963044983872457904873785026599868454939389911852427245548475410496325767775571272401790294044479567429632.0000            8.60m\n",
      "        50 71276538223797627407516241100862978529530963044983872457904873785026599868454939389911852427245548475410496325767775571272401790294044479567429632.0000            8.44m\n",
      "        51 71276538223797627407516241100862978529530963044983872457904873785026599868454939389911852427245548475410496325767775571272401790294044479567429632.0000            8.27m\n",
      "        52 71276538223797627407516241100862978529530963044983872457904873785026599868454939389911852427245548475410496325767775571272401790294044479567429632.0000            8.10m\n",
      "        53 71276538223797627407516241100862978529530963044983872457904873785026599868454939389911852427245548475410496325767775571272401790294044479567429632.0000            7.93m\n",
      "        54 71276538223797627407516241100862978529530963044983872457904873785026599868454939389911852427245548475410496325767775571272401790294044479567429632.0000            7.76m\n",
      "        55 71276538223797627407516241100862978529530963044983872457904873785026599868454939389911852427245548475410496325767775571272401790294044479567429632.0000            7.59m\n",
      "        56 71276538223797627407516241100862978529530963044983872457904873785026599868454939389911852427245548475410496325767775571272401790294044479567429632.0000            7.42m\n",
      "        57 71276538223797627407516241100862978529530963044983872457904873785026599868454939389911852427245548475410496325767775571272401790294044479567429632.0000            7.26m\n",
      "        58 71276538223797627407516241100862978529530963044983872457904873785026599868454939389911852427245548475410496325767775571272401790294044479567429632.0000            7.09m\n",
      "        59 71276538223797627407516241100862978529530963044983872457904873785026599868454939389911852427245548475410496325767775571272401790294044479567429632.0000            6.92m\n",
      "        60 71276538223797627407516241100862978529530963044983872457904873785026599868454939389911852427245548475410496325767775571272401790294044479567429632.0000            6.75m\n",
      "        61 71276538223797627407516241100862978529530963044983872457904873785026599868454939389911852427245548475410496325767775571272401790294044479567429632.0000            6.58m\n",
      "        62 71276538223797627407516241100862978529530963044983872457904873785026599868454939389911852427245548475410496325767775571272401790294044479567429632.0000            6.41m\n",
      "        63 71276538223797627407516241100862978529530963044983872457904873785026599868454939389911852427245548475410496325767775571272401790294044479567429632.0000            6.24m\n",
      "        64 71276538223797627407516241100862978529530963044983872457904873785026599868454939389911852427245548475410496325767775571272401790294044479567429632.0000            6.08m\n",
      "        65 71276538223797627407516241100862978529530963044983872457904873785026599868454939389911852427245548475410496325767775571272401790294044479567429632.0000            5.91m\n",
      "        66 71276538223797627407516241100862978529530963044983872457904873785026599868454939389911852427245548475410496325767775571272401790294044479567429632.0000            5.74m\n",
      "        67 71276538223797627407516241100862978529530963044983872457904873785026599868454939389911852427245548475410496325767775571272401790294044479567429632.0000            5.57m\n",
      "        68 71276538223797627407516241100862978529530963044983872457904873785026599868454939389911852427245548475410496325767775571272401790294044479567429632.0000            5.40m\n",
      "        69 71276538223797627407516241100862978529530963044983872457904873785026599868454939389911852427245548475410496325767775571272401790294044479567429632.0000            5.23m\n",
      "        70 71276538223797627407516241100862978529530963044983872457904873785026599868454939389911852427245548475410496325767775571272401790294044479567429632.0000            5.06m\n",
      "        71 71276538223797627407516241100862978529530963044983872457904873785026599868454939389911852427245548475410496325767775571272401790294044479567429632.0000            4.89m\n",
      "        72 71276538223797627407516241100862978529530963044983872457904873785026599868454939389911852427245548475410496325767775571272401790294044479567429632.0000            4.73m\n",
      "        73 71276538223797627407516241100862978529530963044983872457904873785026599868454939389911852427245548475410496325767775571272401790294044479567429632.0000            4.56m\n",
      "        74 71276538223797627407516241100862978529530963044983872457904873785026599868454939389911852427245548475410496325767775571272401790294044479567429632.0000            4.39m\n",
      "        75 71276538223797627407516241100862978529530963044983872457904873785026599868454939389911852427245548475410496325767775571272401790294044479567429632.0000            4.22m\n",
      "        76 71276538223797627407516241100862978529530963044983872457904873785026599868454939389911852427245548475410496325767775571272401790294044479567429632.0000            4.05m\n",
      "        77 71276538223797627407516241100862978529530963044983872457904873785026599868454939389911852427245548475410496325767775571272401790294044479567429632.0000            3.88m\n",
      "        78 71276538223797627407516241100862978529530963044983872457904873785026599868454939389911852427245548475410496325767775571272401790294044479567429632.0000            3.71m\n",
      "        79 71276538223797627407516241100862978529530963044983872457904873785026599868454939389911852427245548475410496325767775571272401790294044479567429632.0000            3.54m\n",
      "        80 71276538223797627407516241100862978529530963044983872457904873785026599868454939389911852427245548475410496325767775571272401790294044479567429632.0000            3.38m\n",
      "        81 71276538223797627407516241100862978529530963044983872457904873785026599868454939389911852427245548475410496325767775571272401790294044479567429632.0000            3.21m\n",
      "        82 71276538223797627407516241100862978529530963044983872457904873785026599868454939389911852427245548475410496325767775571272401790294044479567429632.0000            3.04m\n",
      "        83 71276538223797627407516241100862978529530963044983872457904873785026599868454939389911852427245548475410496325767775571272401790294044479567429632.0000            2.87m\n",
      "        84 71276538223797627407516241100862978529530963044983872457904873785026599868454939389911852427245548475410496325767775571272401790294044479567429632.0000            2.70m\n",
      "        85 71276538223797627407516241100862978529530963044983872457904873785026599868454939389911852427245548475410496325767775571272401790294044479567429632.0000            2.53m\n",
      "        86 71276538223797627407516241100862978529530963044983872457904873785026599868454939389911852427245548475410496325767775571272401790294044479567429632.0000            2.36m\n",
      "        87 71276538223797627407516241100862978529530963044983872457904873785026599868454939389911852427245548475410496325767775571272401790294044479567429632.0000            2.19m\n",
      "        88 71276538223797627407516241100862978529530963044983872457904873785026599868454939389911852427245548475410496325767775571272401790294044479567429632.0000            2.03m\n",
      "        89 71276538223797627407516241100862978529530963044983872457904873785026599868454939389911852427245548475410496325767775571272401790294044479567429632.0000            1.86m\n",
      "        90 71276538223797627407516241100862978529530963044983872457904873785026599868454939389911852427245548475410496325767775571272401790294044479567429632.0000            1.69m\n",
      "        91 71276538223797627407516241100862978529530963044983872457904873785026599868454939389911852427245548475410496325767775571272401790294044479567429632.0000            1.52m\n",
      "        92 71276538223797627407516241100862978529530963044983872457904873785026599868454939389911852427245548475410496325767775571272401790294044479567429632.0000            1.35m\n",
      "        93 71276538223797627407516241100862978529530963044983872457904873785026599868454939389911852427245548475410496325767775571272401790294044479567429632.0000            1.18m\n",
      "        94 71276538223797627407516241100862978529530963044983872457904873785026599868454939389911852427245548475410496325767775571272401790294044479567429632.0000            1.01m\n",
      "        95 71276538223797627407516241100862978529530963044983872457904873785026599868454939389911852427245548475410496325767775571272401790294044479567429632.0000           50.64s\n",
      "        96 71276538223797627407516241100862978529530963044983872457904873785026599868454939389911852427245548475410496325767775571272401790294044479567429632.0000           40.52s\n",
      "        97 71276538223797627407516241100862978529530963044983872457904873785026599868454939389911852427245548475410496325767775571272401790294044479567429632.0000           30.39s\n",
      "        98 71276538223797627407516241100862978529530963044983872457904873785026599868454939389911852427245548475410496325767775571272401790294044479567429632.0000           20.26s\n",
      "        99 71276538223797627407516241100862978529530963044983872457904873785026599868454939389911852427245548475410496325767775571272401790294044479567429632.0000           10.13s\n",
      "       100 71276538223797627407516241100862978529530963044983872457904873785026599868454939389911852427245548475410496325767775571272401790294044479567429632.0000            0.00s\n",
      "정확도: 0.7702582368655387\n"
     ]
    }
   ],
   "source": [
    "grbt = GradientBoostingClassifier(random_state = 0, verbose = 3)\n",
    "grbt.fit(tfidfv, y_train)\n",
    "\n",
    "# 테스트 데이터에 대한 예측\n",
    "predicted = grbt.predict(tfidfv_test)\n",
    "\n",
    "# 예측값과 실제값 비교\n",
    "print(\"정확도:\", accuracy_score(y_test, predicted))"
   ]
  },
  {
   "cell_type": "markdown",
   "id": "responsible-consideration",
   "metadata": {},
   "source": [
    "#### (10) 보팅(Voting)"
   ]
  },
  {
   "cell_type": "code",
   "execution_count": 66,
   "id": "economic-kruger",
   "metadata": {},
   "outputs": [
    {
     "name": "stdout",
     "output_type": "stream",
     "text": [
      "정확도: 0.8187889581478184\n"
     ]
    }
   ],
   "source": [
    "voting_classifier = VotingClassifier(estimators = [\n",
    "    ('lr', LogisticRegression(C = 10000, penalty = 'l2')),\n",
    "    ('cb', ComplementNB()),\n",
    "    ('grbt', GradientBoostingClassifier(random_state = 0))\n",
    "], voting = 'soft', n_jobs = 1)\n",
    "\n",
    "voting_classifier.fit(tfidfv, y_train)\n",
    "\n",
    "# 테스트 데이터에 대한 예측\n",
    "predicted = voting_classifier.predict(tfidfv_test)\n",
    "\n",
    "# 예측값과 실제값 비교\n",
    "print(\"정확도:\", accuracy_score(y_test, predicted))"
   ]
  },
  {
   "cell_type": "markdown",
   "id": "ahead-transmission",
   "metadata": {},
   "source": [
    "#### (11) RNN"
   ]
  },
  {
   "cell_type": "code",
   "execution_count": 81,
   "id": "detected-breathing",
   "metadata": {},
   "outputs": [
    {
     "name": "stdout",
     "output_type": "stream",
     "text": [
      "8982 2246\n",
      "max_len :  2376\n"
     ]
    }
   ],
   "source": [
    "(rnn_x_train, rnn_y_train), (rnn_x_test, rnn_y_test) = reuters.load_data(num_words = None, test_split = 0.2)\n",
    "print(len(rnn_x_train), len(rnn_x_test))\n",
    "max_len = max(len(l) for l in np.concatenate((rnn_x_train, rnn_x_test), axis=0))\n",
    "print('max_len : ', max_len)"
   ]
  },
  {
   "cell_type": "code",
   "execution_count": 82,
   "id": "scenic-cruise",
   "metadata": {},
   "outputs": [],
   "source": [
    "rnn_x_train = pad_sequences(rnn_x_train, maxlen=max_len)\n",
    "rnn_x_test = pad_sequences(rnn_x_test, maxlen=max_len)\n",
    "\n",
    "rnn_y_train = to_categorical(rnn_y_train, num_classes=46)\n",
    "rnn_y_test = to_categorical(rnn_y_test, num_classes=46)\n",
    "\n",
    "rnn_x_train = rnn_x_train[1000:]\n",
    "rnn_y_train = rnn_y_train[1000:]\n",
    "rnn_x_val = rnn_x_train[:1000]\n",
    "rnn_y_val = rnn_y_train[:1000]"
   ]
  },
  {
   "cell_type": "code",
   "execution_count": 83,
   "id": "rural-crime",
   "metadata": {},
   "outputs": [
    {
     "name": "stdout",
     "output_type": "stream",
     "text": [
      "30982\n",
      "Epoch 1/50\n",
      "63/63 [==============================] - 85s 1s/step - loss: 0.3993 - accuracy: 0.3013 - val_loss: 0.0739 - val_accuracy: 0.3260\n",
      "Epoch 2/50\n",
      "63/63 [==============================] - 84s 1s/step - loss: 0.0729 - accuracy: 0.3500 - val_loss: 0.0732 - val_accuracy: 0.3260\n",
      "Epoch 3/50\n",
      "63/63 [==============================] - 84s 1s/step - loss: 0.0719 - accuracy: 0.3552 - val_loss: 0.0731 - val_accuracy: 0.3260\n",
      "Epoch 4/50\n",
      "63/63 [==============================] - 83s 1s/step - loss: 0.0723 - accuracy: 0.3451 - val_loss: 0.0731 - val_accuracy: 0.3260\n",
      "Epoch 5/50\n",
      "63/63 [==============================] - 84s 1s/step - loss: 0.0723 - accuracy: 0.3456 - val_loss: 0.0732 - val_accuracy: 0.3260\n",
      "Epoch 6/50\n",
      "63/63 [==============================] - 84s 1s/step - loss: 0.0716 - accuracy: 0.3479 - val_loss: 0.0730 - val_accuracy: 0.3260\n",
      "Epoch 7/50\n",
      "63/63 [==============================] - 83s 1s/step - loss: 0.0715 - accuracy: 0.3530 - val_loss: 0.0730 - val_accuracy: 0.3260\n",
      "Epoch 8/50\n",
      "63/63 [==============================] - 84s 1s/step - loss: 0.0718 - accuracy: 0.3542 - val_loss: 0.0730 - val_accuracy: 0.3260\n",
      "Epoch 9/50\n",
      "63/63 [==============================] - 84s 1s/step - loss: 0.0718 - accuracy: 0.3580 - val_loss: 0.0730 - val_accuracy: 0.3260\n",
      "Epoch 10/50\n",
      "63/63 [==============================] - 83s 1s/step - loss: 0.0719 - accuracy: 0.3492 - val_loss: 0.0730 - val_accuracy: 0.3260\n",
      "Epoch 11/50\n",
      "63/63 [==============================] - 84s 1s/step - loss: 0.0697 - accuracy: 0.3546 - val_loss: 0.0691 - val_accuracy: 0.3260\n",
      "Epoch 12/50\n",
      "63/63 [==============================] - 84s 1s/step - loss: 0.0675 - accuracy: 0.3819 - val_loss: 0.0674 - val_accuracy: 0.4750\n",
      "Epoch 13/50\n",
      "63/63 [==============================] - 84s 1s/step - loss: 0.0640 - accuracy: 0.4933 - val_loss: 0.0628 - val_accuracy: 0.4980\n",
      "Epoch 14/50\n",
      "63/63 [==============================] - 83s 1s/step - loss: 0.0600 - accuracy: 0.5221 - val_loss: 0.0607 - val_accuracy: 0.5060\n",
      "Epoch 15/50\n",
      "63/63 [==============================] - 84s 1s/step - loss: 0.0580 - accuracy: 0.5332 - val_loss: 0.0593 - val_accuracy: 0.5220\n",
      "Epoch 16/50\n",
      "63/63 [==============================] - 84s 1s/step - loss: 0.0588 - accuracy: 0.5253 - val_loss: 0.0593 - val_accuracy: 0.5180\n",
      "Epoch 17/50\n",
      "63/63 [==============================] - 84s 1s/step - loss: 0.0559 - accuracy: 0.5452 - val_loss: 0.0582 - val_accuracy: 0.5250\n",
      "Epoch 18/50\n",
      "63/63 [==============================] - 84s 1s/step - loss: 0.0546 - accuracy: 0.5592 - val_loss: 0.0579 - val_accuracy: 0.5250\n",
      "Epoch 19/50\n",
      "63/63 [==============================] - 84s 1s/step - loss: 0.0554 - accuracy: 0.5512 - val_loss: 0.0580 - val_accuracy: 0.5240\n",
      "Epoch 20/50\n",
      "63/63 [==============================] - 84s 1s/step - loss: 0.0564 - accuracy: 0.5408 - val_loss: 0.0576 - val_accuracy: 0.5280\n",
      "Epoch 21/50\n",
      "63/63 [==============================] - 84s 1s/step - loss: 0.0557 - accuracy: 0.5487 - val_loss: 0.0576 - val_accuracy: 0.5280\n",
      "Epoch 22/50\n",
      "63/63 [==============================] - 83s 1s/step - loss: 0.0558 - accuracy: 0.5483 - val_loss: 0.0574 - val_accuracy: 0.5290\n",
      "Epoch 23/50\n",
      "63/63 [==============================] - 84s 1s/step - loss: 0.0644 - accuracy: 0.5344 - val_loss: 0.0627 - val_accuracy: 0.5200\n",
      "Epoch 24/50\n",
      "63/63 [==============================] - 84s 1s/step - loss: 0.0577 - accuracy: 0.5446 - val_loss: 0.0577 - val_accuracy: 0.5270\n",
      "Epoch 25/50\n",
      "63/63 [==============================] - 83s 1s/step - loss: 0.0555 - accuracy: 0.5540 - val_loss: 0.0573 - val_accuracy: 0.5290\n",
      "Epoch 26/50\n",
      "63/63 [==============================] - 84s 1s/step - loss: 0.0542 - accuracy: 0.5624 - val_loss: 0.0577 - val_accuracy: 0.5290\n",
      "Epoch 27/50\n",
      "63/63 [==============================] - 84s 1s/step - loss: 0.0552 - accuracy: 0.5539 - val_loss: 0.0571 - val_accuracy: 0.5310\n",
      "Epoch 28/50\n",
      "63/63 [==============================] - 84s 1s/step - loss: 0.0556 - accuracy: 0.5519 - val_loss: 0.0571 - val_accuracy: 0.5310\n",
      "Epoch 29/50\n",
      "63/63 [==============================] - 84s 1s/step - loss: 0.0546 - accuracy: 0.5553 - val_loss: 0.0571 - val_accuracy: 0.5310\n",
      "Epoch 30/50\n",
      "63/63 [==============================] - 84s 1s/step - loss: 0.0553 - accuracy: 0.5470 - val_loss: 0.0568 - val_accuracy: 0.5310\n",
      "Epoch 31/50\n",
      "63/63 [==============================] - 84s 1s/step - loss: 0.0546 - accuracy: 0.5541 - val_loss: 0.0569 - val_accuracy: 0.5310\n",
      "Epoch 32/50\n",
      "63/63 [==============================] - 84s 1s/step - loss: 0.0545 - accuracy: 0.5510 - val_loss: 0.0563 - val_accuracy: 0.5310\n",
      "Epoch 33/50\n",
      "63/63 [==============================] - 84s 1s/step - loss: 0.0539 - accuracy: 0.5607 - val_loss: 0.0569 - val_accuracy: 0.5320\n",
      "Epoch 34/50\n",
      "63/63 [==============================] - 83s 1s/step - loss: 0.0546 - accuracy: 0.5588 - val_loss: 0.0569 - val_accuracy: 0.5320\n",
      "Epoch 35/50\n",
      "63/63 [==============================] - 84s 1s/step - loss: 0.0548 - accuracy: 0.5497 - val_loss: 0.0567 - val_accuracy: 0.5320\n",
      "Epoch 36/50\n",
      "63/63 [==============================] - 84s 1s/step - loss: 0.0547 - accuracy: 0.5517 - val_loss: 0.0569 - val_accuracy: 0.5320\n",
      "Epoch 37/50\n",
      "63/63 [==============================] - 83s 1s/step - loss: 0.0537 - accuracy: 0.5620 - val_loss: 0.0566 - val_accuracy: 0.5330\n",
      "Epoch 00037: early stopping\n"
     ]
    }
   ],
   "source": [
    "vocab_size = len(index_to_word)\n",
    "print(vocab_size)\n",
    "word_vector_dim = 120\n",
    "\n",
    "model = keras.Sequential()\n",
    "model.add(keras.layers.Embedding(vocab_size, word_vector_dim))\n",
    "model.add(keras.layers.LSTM(120))\n",
    "model.add(keras.layers.Dense(46, activation='softmax'))\n",
    "# 모델 훈련\n",
    "es = EarlyStopping(monitor='val_loss', mode='min', verbose=1, patience=5)\n",
    "model.compile(optimizer='adam', loss='binary_crossentropy', metrics=['accuracy'])\n",
    "history = model.fit(rnn_x_train, rnn_y_train, epochs=50, callbacks=[es], batch_size=128, validation_data=(rnn_x_val, rnn_y_val), verbose=1)"
   ]
  },
  {
   "cell_type": "code",
   "execution_count": 84,
   "id": "multiple-soccer",
   "metadata": {},
   "outputs": [
    {
     "name": "stdout",
     "output_type": "stream",
     "text": [
      "71/71 [==============================] - 17s 244ms/step - loss: 0.0563 - accuracy: 0.5441\n"
     ]
    },
    {
     "data": {
      "text/plain": [
       "[0.056306030601263046, 0.5440783500671387]"
      ]
     },
     "execution_count": 84,
     "metadata": {},
     "output_type": "execute_result"
    }
   ],
   "source": [
    "model.evaluate(rnn_x_test, rnn_y_test)"
   ]
  },
  {
   "cell_type": "markdown",
   "id": "active-morgan",
   "metadata": {},
   "source": [
    "## 5. 빈도수 상위 5,000개의 단어만 사용"
   ]
  },
  {
   "cell_type": "markdown",
   "id": "critical-witness",
   "metadata": {},
   "source": [
    "### 5-1. 데이터 확인하기"
   ]
  },
  {
   "cell_type": "code",
   "execution_count": 85,
   "id": "revolutionary-stream",
   "metadata": {},
   "outputs": [],
   "source": [
    "(x_train, y_train), (x_test, y_test) = reuters.load_data(num_words=5000, test_split=0.2)"
   ]
  },
  {
   "cell_type": "code",
   "execution_count": 86,
   "id": "centered-deposit",
   "metadata": {},
   "outputs": [
    {
     "name": "stdout",
     "output_type": "stream",
     "text": [
      "훈련 샘플의 수: 8982\n",
      "테스트 샘플의 수: 2246\n",
      "\n",
      "데이터 출력\n",
      "[1, 2, 2, 8, 43, 10, 447, 5, 25, 207, 270, 5, 3095, 111, 16, 369, 186, 90, 67, 7, 89, 5, 19, 102, 6, 19, 124, 15, 90, 67, 84, 22, 482, 26, 7, 48, 4, 49, 8, 864, 39, 209, 154, 6, 151, 6, 83, 11, 15, 22, 155, 11, 15, 7, 48, 9, 4579, 1005, 504, 6, 258, 6, 272, 11, 15, 22, 134, 44, 11, 15, 16, 8, 197, 1245, 90, 67, 52, 29, 209, 30, 32, 132, 6, 109, 15, 17, 12]\n",
      "[1, 4, 1378, 2025, 9, 697, 4622, 111, 8, 25, 109, 29, 3650, 11, 150, 244, 364, 33, 30, 30, 1398, 333, 6, 2, 159, 9, 1084, 363, 13, 2, 71, 9, 2, 71, 117, 4, 225, 78, 206, 10, 9, 1214, 8, 4, 270, 5, 2, 7, 748, 48, 9, 2, 7, 207, 1451, 966, 1864, 793, 97, 133, 336, 7, 4, 493, 98, 273, 104, 284, 25, 39, 338, 22, 905, 220, 3465, 644, 59, 20, 6, 119, 61, 11, 15, 58, 579, 26, 10, 67, 7, 4, 738, 98, 43, 88, 333, 722, 12, 20, 6, 19, 746, 35, 15, 10, 9, 1214, 855, 129, 783, 21, 4, 2280, 244, 364, 51, 16, 299, 452, 16, 515, 4, 99, 29, 5, 4, 364, 281, 48, 10, 9, 1214, 23, 644, 47, 20, 324, 27, 56, 2, 2, 5, 192, 510, 17, 12]\n"
     ]
    }
   ],
   "source": [
    "print('훈련 샘플의 수: {}'.format(len(x_train)))\n",
    "print('테스트 샘플의 수: {}'.format(len(x_test)))\n",
    "\n",
    "# 데이터 출력\n",
    "print(\"\\n데이터 출력\")\n",
    "print(x_train[0])\n",
    "print(x_test[0])\n",
    "\n",
    "num_classes = max(y_train) + 1"
   ]
  },
  {
   "cell_type": "markdown",
   "id": "technical-edmonton",
   "metadata": {},
   "source": [
    "### 5-2. 데이터 복원하기"
   ]
  },
  {
   "cell_type": "code",
   "execution_count": 87,
   "id": "integrated-tampa",
   "metadata": {},
   "outputs": [
    {
     "name": "stdout",
     "output_type": "stream",
     "text": [
      "<sos> <unk> <unk> said as a result of its december acquisition of space co it expects earnings per share in 1987 of 1 15 to 1 30 dlrs per share up from 70 cts in 1986 the company said pretax net should rise to nine to 10 mln dlrs from six mln dlrs in 1986 and rental operation revenues to 19 to 22 mln dlrs from 12 5 mln dlrs it said cash flow per share this year should be 2 50 to three dlrs reuter 3\n",
      "<sos> the great atlantic and pacific tea co said its three year 345 mln dlr capital program will be be substantially increased to <unk> growth and expansion plans for <unk> inc and <unk> inc over the next two years a and p said the acquisition of <unk> in august 1986 and <unk> in december helped us achieve better than expected results in the fourth quarter ended february 28 its net income from continuing operations jumped 52 6 pct to 20 7 mln dlrs or 55 cts a share in the latest quarter as sales increased 48 3 pct to 1 58 billion dlrs a and p gave no details on the expanded capital program but it did say it completed the first year of the program during 1986 a and p is 52 4 pct owned by lt <unk> <unk> of west germany reuter 3\n"
     ]
    }
   ],
   "source": [
    "word_index = reuters.get_word_index(path=\"reuters_word_index.json\")\n",
    "\n",
    "index_to_word = {index + 3 : word for word, index in word_index.items()}\n",
    "\n",
    "for index, token in enumerate((\"<pad>\", \"<sos>\", \"<unk>\")):\n",
    "    index_to_word[index]=token\n",
    "    \n",
    "# train 데이터 복원\n",
    "decoded = []\n",
    "for i in range(len(x_train)):\n",
    "    t = ' '.join([index_to_word[index] for index in x_train[i]])\n",
    "    decoded.append(t)\n",
    "x_train = decoded\n",
    "\n",
    "# test 데이터 복원\n",
    "decoded = []\n",
    "for i in range(len(x_test)):\n",
    "    t = ' '.join([index_to_word[index] for index in x_test[i]])\n",
    "    decoded.append(t)\n",
    "x_test = decoded\n",
    "\n",
    "# 데이터 확인\n",
    "print(x_train[0])\n",
    "print(x_test[0])"
   ]
  },
  {
   "cell_type": "markdown",
   "id": "bound-snake",
   "metadata": {},
   "source": [
    "### 5-3. 벡터화"
   ]
  },
  {
   "cell_type": "code",
   "execution_count": 88,
   "id": "static-stereo",
   "metadata": {},
   "outputs": [
    {
     "name": "stdout",
     "output_type": "stream",
     "text": [
      "(8982, 4867)\n",
      "(8982, 4867)\n"
     ]
    }
   ],
   "source": [
    "# DTM 생성\n",
    "dtmvector = CountVectorizer()  \n",
    "\n",
    "# TF-IDF 생성\n",
    "tfidf_transformer = TfidfTransformer()  \n",
    "\n",
    "# train data\n",
    "x_train_dtm = dtmvector.fit_transform(x_train)\n",
    "tfidfv = tfidf_transformer.fit_transform(x_train_dtm)\n",
    "print(x_train_dtm.shape)\n",
    "print(tfidfv.shape)\n",
    "\n",
    "# test data\n",
    "# 테스트 데이터를 DTM으로 변환\n",
    "x_test_dtm = dtmvector.transform(x_test) \n",
    "# DTM을 TF-IDF 행렬로 변환\n",
    "tfidfv_test = tfidf_transformer.transform(x_test_dtm) "
   ]
  },
  {
   "cell_type": "markdown",
   "id": "limited-century",
   "metadata": {},
   "source": [
    "### 5-4. 다양한 분류 모델 사용해보기"
   ]
  },
  {
   "cell_type": "markdown",
   "id": "assured-modeling",
   "metadata": {},
   "source": [
    "#### (1) 나이브 베이즈 분류기"
   ]
  },
  {
   "cell_type": "code",
   "execution_count": 89,
   "id": "opposite-conversion",
   "metadata": {},
   "outputs": [
    {
     "name": "stdout",
     "output_type": "stream",
     "text": [
      "정확도: 0.6731967943009796\n"
     ]
    }
   ],
   "source": [
    "model = MultinomialNB()\n",
    "model.fit(tfidfv, y_train)\n",
    "\n",
    "# 테스트 데이터에 대한 예측\n",
    "predicted = model.predict(tfidfv_test)\n",
    "\n",
    "# 예측값과 실제값 비교\n",
    "print(\"정확도:\", accuracy_score(y_test, predicted))"
   ]
  },
  {
   "cell_type": "markdown",
   "id": "invisible-australian",
   "metadata": {},
   "source": [
    "#### (2) 컴플리먼트 나이브 베이즈 분류기"
   ]
  },
  {
   "cell_type": "code",
   "execution_count": 90,
   "id": "preliminary-ethiopia",
   "metadata": {},
   "outputs": [
    {
     "name": "stdout",
     "output_type": "stream",
     "text": [
      "정확도: 0.7707034728406055\n"
     ]
    }
   ],
   "source": [
    "cb = ComplementNB()\n",
    "cb.fit(tfidfv, y_train)\n",
    "\n",
    "# 테스트 데이터에 대한 예측\n",
    "predicted = cb.predict(tfidfv_test)\n",
    "\n",
    "# 예측값과 실제값 비교\n",
    "print(\"정확도:\", accuracy_score(y_test, predicted))"
   ]
  },
  {
   "cell_type": "markdown",
   "id": "designing-lyric",
   "metadata": {},
   "source": [
    "#### (3) F1-Score"
   ]
  },
  {
   "cell_type": "code",
   "execution_count": 91,
   "id": "conceptual-price",
   "metadata": {},
   "outputs": [
    {
     "name": "stdout",
     "output_type": "stream",
     "text": [
      "              precision    recall  f1-score   support\n",
      "\n",
      "           0       0.00      0.00      0.00        12\n",
      "           1       0.50      0.80      0.62       105\n",
      "           2       0.00      0.00      0.00        20\n",
      "           3       0.86      0.89      0.87       813\n",
      "           4       0.59      0.95      0.73       474\n",
      "           5       0.00      0.00      0.00         5\n",
      "           6       0.00      0.00      0.00        14\n",
      "           7       0.00      0.00      0.00         3\n",
      "           8       0.00      0.00      0.00        38\n",
      "           9       1.00      0.28      0.44        25\n",
      "          10       0.00      0.00      0.00        30\n",
      "          11       0.48      0.73      0.58        83\n",
      "          12       0.00      0.00      0.00        13\n",
      "          13       1.00      0.14      0.24        37\n",
      "          14       0.00      0.00      0.00         2\n",
      "          15       0.00      0.00      0.00         9\n",
      "          16       0.60      0.66      0.62        99\n",
      "          17       0.00      0.00      0.00        12\n",
      "          18       0.00      0.00      0.00        20\n",
      "          19       0.51      0.81      0.63       133\n",
      "          20       0.90      0.13      0.23        70\n",
      "          21       0.00      0.00      0.00        27\n",
      "          22       0.00      0.00      0.00         7\n",
      "          23       0.00      0.00      0.00        12\n",
      "          24       0.00      0.00      0.00        19\n",
      "          25       1.00      0.06      0.12        31\n",
      "          26       0.00      0.00      0.00         8\n",
      "          27       0.00      0.00      0.00         4\n",
      "          28       0.00      0.00      0.00        10\n",
      "          29       0.00      0.00      0.00         4\n",
      "          30       0.00      0.00      0.00        12\n",
      "          31       0.00      0.00      0.00        13\n",
      "          32       0.00      0.00      0.00        10\n",
      "          33       0.00      0.00      0.00         5\n",
      "          34       0.00      0.00      0.00         7\n",
      "          35       0.00      0.00      0.00         6\n",
      "          36       0.00      0.00      0.00        11\n",
      "          37       0.00      0.00      0.00         2\n",
      "          38       0.00      0.00      0.00         3\n",
      "          39       0.00      0.00      0.00         5\n",
      "          40       0.00      0.00      0.00        10\n",
      "          41       0.00      0.00      0.00         8\n",
      "          42       0.00      0.00      0.00         3\n",
      "          43       0.00      0.00      0.00         6\n",
      "          44       0.00      0.00      0.00         5\n",
      "          45       0.00      0.00      0.00         1\n",
      "\n",
      "    accuracy                           0.67      2246\n",
      "   macro avg       0.16      0.12      0.11      2246\n",
      "weighted avg       0.60      0.67      0.60      2246\n",
      "\n"
     ]
    }
   ],
   "source": [
    "print(classification_report(y_test, model.predict(tfidfv_test), zero_division = 0))"
   ]
  },
  {
   "cell_type": "markdown",
   "id": "completed-velvet",
   "metadata": {},
   "source": [
    "#### (4) Confusion Matrix"
   ]
  },
  {
   "cell_type": "code",
   "execution_count": 92,
   "id": "integral-lunch",
   "metadata": {},
   "outputs": [],
   "source": [
    "def graph_confusion_matrix(model, x_test, y_test):#, classes_name):\n",
    "    df_cm = pd.DataFrame(confusion_matrix(y_test, model.predict(x_test)))#, index = classes_name, columns = classes_name)\n",
    "    fig = plt.figure(figsize = (12, 12))\n",
    "    heatmap = sns.heatmap(df_cm, annot = True, fmt = \"d\")\n",
    "    heatmap.yaxis.set_ticklabels(heatmap.yaxis.get_ticklabels(), rotation = 0, ha = 'right', fontsize = 12)\n",
    "    heatmap.xaxis.set_ticklabels(heatmap.xaxis.get_ticklabels(), rotation = 45, ha = 'right', fontsize = 12)\n",
    "    plt.ylabel('label')\n",
    "    plt.xlabel('predicted value')"
   ]
  },
  {
   "cell_type": "code",
   "execution_count": 93,
   "id": "british-aviation",
   "metadata": {},
   "outputs": [
    {
     "data": {
      "image/png": "[encoded data removed]",
      "text/plain": [
       "<Figure size 864x864 with 2 Axes>"
      ]
     },
     "metadata": {
      "needs_background": "light"
     },
     "output_type": "display_data"
    }
   ],
   "source": [
    "graph_confusion_matrix(model, tfidfv_test, y_test)"
   ]
  },
  {
   "cell_type": "markdown",
   "id": "several-college",
   "metadata": {},
   "source": [
    "#### (5) 로지스틱 회귀(Logistic Regerssion)"
   ]
  },
  {
   "cell_type": "code",
   "execution_count": 94,
   "id": "dangerous-austin",
   "metadata": {},
   "outputs": [
    {
     "name": "stdout",
     "output_type": "stream",
     "text": [
      "정확도: 0.8058771148708815\n"
     ]
    }
   ],
   "source": [
    "lr = LogisticRegression(C = 10000, penalty = 'l2')\n",
    "lr.fit(tfidfv, y_train)\n",
    "\n",
    "# 테스트 데이터에 대한 예측\n",
    "predicted = lr.predict(tfidfv_test)\n",
    "\n",
    "# 예측값과 실제값 비교\n",
    "print(\"정확도:\", accuracy_score(y_test, predicted))"
   ]
  },
  {
   "cell_type": "markdown",
   "id": "desirable-haiti",
   "metadata": {},
   "source": [
    "#### (6) 선형 서포트 벡터 머신"
   ]
  },
  {
   "cell_type": "code",
   "execution_count": 95,
   "id": "swiss-trainer",
   "metadata": {},
   "outputs": [
    {
     "name": "stdout",
     "output_type": "stream",
     "text": [
      "정확도: 0.7658058771148709\n"
     ]
    }
   ],
   "source": [
    "lsvc = LinearSVC(C = 1000, penalty = 'l1', max_iter = 500, dual = False)\n",
    "lsvc.fit(tfidfv, y_train)\n",
    "\n",
    "# 테스트 데이터에 대한 예측\n",
    "predicted = lsvc.predict(tfidfv_test)\n",
    "\n",
    "# 예측값과 실제값 비교\n",
    "print(\"정확도:\", accuracy_score(y_test, predicted))"
   ]
  },
  {
   "cell_type": "markdown",
   "id": "surrounded-snake",
   "metadata": {},
   "source": [
    "#### (7) 결정 트리(Decision Tree)"
   ]
  },
  {
   "cell_type": "code",
   "execution_count": 96,
   "id": "waiting-southwest",
   "metadata": {},
   "outputs": [
    {
     "name": "stdout",
     "output_type": "stream",
     "text": [
      "정확도: 0.6179875333926982\n"
     ]
    }
   ],
   "source": [
    "tree = DecisionTreeClassifier(max_depth = 10, random_state = 0)\n",
    "tree.fit(tfidfv, y_train)\n",
    "\n",
    "# 테스트 데이터에 대한 예측\n",
    "predicted = tree.predict(tfidfv_test)\n",
    "\n",
    "# 예측값과 실제값 비교\n",
    "print(\"정확도:\", accuracy_score(y_test, predicted))"
   ]
  },
  {
   "cell_type": "markdown",
   "id": "changing-cooperation",
   "metadata": {},
   "source": [
    "#### (8) 랜덤 포레스트(Random Forest)"
   ]
  },
  {
   "cell_type": "code",
   "execution_count": 97,
   "id": "welsh-honolulu",
   "metadata": {},
   "outputs": [
    {
     "name": "stdout",
     "output_type": "stream",
     "text": [
      "정확도: 0.701246660730187\n"
     ]
    }
   ],
   "source": [
    "forest = RandomForestClassifier(n_estimators = 5, random_state = 0)\n",
    "forest.fit(tfidfv, y_train)\n",
    "\n",
    "# 테스트 데이터에 대한 예측\n",
    "predicted = forest.predict(tfidfv_test)\n",
    "\n",
    "# 예측값과 실제값 비교\n",
    "print(\"정확도:\", accuracy_score(y_test, predicted))"
   ]
  },
  {
   "cell_type": "markdown",
   "id": "native-azerbaijan",
   "metadata": {},
   "source": [
    "#### (9) 그래디언트 부스팅 트리(GradientBoostingClassifier"
   ]
  },
  {
   "cell_type": "code",
   "execution_count": 98,
   "id": "enormous-weather",
   "metadata": {},
   "outputs": [
    {
     "name": "stdout",
     "output_type": "stream",
     "text": [
      "      Iter       Train Loss   Remaining Time \n",
      "         1       13200.9090           14.81m\n",
      "         2 19141531432.3860           14.70m\n",
      "         3 1018136056482137345428864037762575643679300980036667356656533462569269067776.0000           14.58m\n",
      "         4 5793438208146438552371750463374243580454084126740516228669142075250525372030044080110043136.0000           14.44m\n",
      "         5 3979630484381169793867261128601856110593550227404752540847489843154493525639763256294740889013872088305157670725524817116093080321688237768704.0000           14.29m\n",
      "         6 3979630484381169793867261128601856110593550227404752540847489843154493525639763256294740889013872088305157670725524817116093080321688237768704.0000           14.17m\n",
      "         7 3979630484381169793867261128601856110593550227404752540847489843154493525639763256294740889013872088305157670725524817116093080321688237768704.0000           14.04m\n",
      "         8 3979630484381169793867261128601856110593550227404752540847489843154493525639763256294740889013872088305157670725524817116093080321688237768704.0000           13.89m\n",
      "         9 3979630484381169793867261128601856110593550227404752540847489843154493525639763256294740889013872088305157670725524817116093080321688237768704.0000           13.74m\n",
      "        10 3979630484381169793867261128601856110593550227404752540847489843154493525639763256294740889013872088305157670725524817116093080321688237768704.0000           13.58m\n",
      "        11 3979630484381169793867261128601856110593550227404752540847489843154493525639763256294740889013872088305157670725524817116093080321688237768704.0000           13.43m\n",
      "        12 3979630484381169793867261128601856110593550227404752540847489843154493525639763256294740889013872088305157670725524817116093080321688237768704.0000           13.27m\n",
      "        13 3979630484381169793867261128601856110593550227404752540847489843154493525639763256294740889013872088305157670725524817116093080321688237768704.0000           13.13m\n",
      "        14 3979630484381169793867261128601856110593550227404752540847489843154493525639763256294740889013872088305157670725524817116093080321688237768704.0000           12.97m\n",
      "        15 3979630484381169793867261128601856110593550227404752540847489843154493525639763256294740889013872088305157670725524817116093080321688237768704.0000           12.82m\n",
      "        16 3979630484381169793867261128601856110593550227404752540847489843154493525639763256294740889013872088305157670725524817116093080321688237768704.0000           12.67m\n",
      "        17 3979630484381169793867261128601856110593550227404752540847489843154493525639763256294740889013872088305157670725524817116093080321688237768704.0000           12.52m\n",
      "        18 3979630484381169793867261128601856110593550227404752540847489843154493525639763256294740889013872088305157670725524817116093080321688237768704.0000           12.37m\n",
      "        19 3979630484381169793867261128601856110593550227404752540847489843154493525639763256294740889013872088305157670725524817116093080321688237768704.0000           12.22m\n",
      "        20 3979630484381169793867261128601856110593550227404752540847489843154493525639763256294740889013872088305157670725524817116093080321688237768704.0000           12.07m\n",
      "        21 3979630484381169793867261128601856110593550227404752540847489843154493525639763256294740889013872088305157670725524817116093080321688237768704.0000           11.91m\n",
      "        22 3979630484381169793867261128601856110593550227404752540847489843154493525639763256294740889013872088305157670725524817116093080321688237768704.0000           11.76m\n",
      "        23 3979630484381169793867261128601856110593550227404752540847489843154493525639763256294740889013872088305157670725524817116093080321688237768704.0000           11.61m\n",
      "        24 3979630484381169793867261128601856110593550227404752540847489843154493525639763256294740889013872088305157670725524817116093080321688237768704.0000           11.45m\n",
      "        25 3979630484381169793867261128601856110593550227404752540847489843154493525639763256294740889013872088305157670725524817116093080321688237768704.0000           11.30m\n",
      "        26 3979630484381169793867261128601856110593550227404752540847489843154493525639763256294740889013872088305157670725524817116093080321688237768704.0000           11.15m\n",
      "        27 3979630484381173178473821334674682744399927355192476462279466620274336263041595061252392018927962713273915122067783236783098648441282755559424.0000           11.00m\n",
      "        28 3979630484381173178473821334674682744399927355192476462279466620274336263041595061252392018927962713273915122067783236783098648441282755559424.0000           10.85m\n",
      "        29 3979630484381173178473821334674682744399927355192476462279466620274336263041595061252392018927962713273915122067783236783098648441282755559424.0000           10.69m\n",
      "        30 3979630484381173178473821334674682744399927355192476462279466620274336263041595061252392018927962713273915122067783236783098648441282755559424.0000           10.54m\n",
      "        31 3979630484381173178473821334674682744399927355192476462279466620274336263041595061252392018927962713273915122067783236783098648441282755559424.0000           10.39m\n",
      "        32 3979630484381173178473821334674682744399927355192476462279466620274336263041595061252392018927962713273915122067783236783098648441282755559424.0000           10.24m\n",
      "        33 3979630484381173178473821334674682744399927355192476462279466620274336263041595061252392018927962713273915122067783236783098648441282755559424.0000           10.09m\n",
      "        34 3979630484381173178473821334674682744399927355192476462279466620274336263041595061252392018927962713273915122067783236783098648441282755559424.0000            9.94m\n",
      "        35 3979630484381173178473821334674682744399927355192476462279466620274336263041595061252392018927962713273915122067783236783098648441282755559424.0000            9.79m\n",
      "        36 3979630484381173178473821334674682744399927355192476462279466620274336263041595061252392018927962713273915122067783236783098648441282755559424.0000            9.64m\n",
      "        37 3979630484381173178473821334674682744399927355192476462279466620274336263041595061252392018927962713273915122067783236783098648441282755559424.0000            9.49m\n",
      "        38 3979630484381173178473821334674682744399927355192476462279466620274336263041595061252392018927962713273915122067783236783098648441282755559424.0000            9.34m\n",
      "        39 3979630484381173178473821334674682744399927355192476462279466620274336263041595061252392018927962713273915122067783236783098648441282755559424.0000            9.19m\n",
      "        40 3979630484381173178473821334674682744399927355192476462279466620274336263041595061252392018927962713273915122067783236783098648441282755559424.0000            9.04m\n",
      "        41 3979630484381173178473821334674682744399927355192476462279466620274336263041595061252392018927962713273915122067783236783098648441282755559424.0000            8.89m\n",
      "        42 3979630484381173178473821334674682744399927355192476462279466620274336263041595061252392018927962713273915122067783236783098648441282755559424.0000            8.74m\n",
      "        43 3979630484381173178473821334674682744399927355192476462279466620274336263041595061252392018927962713273915122067783236783098648441282755559424.0000            8.59m\n",
      "        44 3979630484381173178473821334674682744399927355192476462279466620274336263041595061252392018927962713273915122067783236783098648441282755559424.0000            8.44m\n",
      "        45 3979630484381173178473821334674682744399927355192476462279466620274336263041595061252392018927962713273915122067783236783098648441282755559424.0000            8.28m\n",
      "        46 3979630484381173178473821334674682744399927355192476462279466620274336263041595061252392018927962713273915122067783236783098648441282755559424.0000            8.13m\n",
      "        47 3979630484381173178473821334674682744399927355192476462279466620274336263041595061252392018927962713273915122067783236783098648441282755559424.0000            7.98m\n",
      "        48 3979630484381173178473821334674682744399927355192476462279466620274336263041595061252392018927962713273915122067783236783098648441282755559424.0000            7.83m\n",
      "        49 3979630484381173178473821334674682744399927355192476462279466620274336263041595061252392018927962713273915122067783236783098648441282755559424.0000            7.68m\n",
      "        50 3979630484381173178473821334674682744399927355192476462279466620274336263041595061252392018927962713273915122067783236783098648441282755559424.0000            7.53m\n",
      "        51 3979630484381173178473821334674682744399927355192476462279466620274336263041595061252392018927962713273915122067783236783098648441282755559424.0000            7.38m\n",
      "        52 3979630484381173178473821334674682744399927355192476462279466620274336263041595061252392018927962713273915122067783236783098648441282755559424.0000            7.23m\n",
      "        53 3979630484381173178473821334674682744399927355192476462279466620274336263041595061252392018927962713273915122067783236783098648441282755559424.0000            7.08m\n",
      "        54 3979630484381173178473821334674682744399927355192476462279466620274336263041595061252392018927962713273915122067783236783098648441282755559424.0000            6.93m\n",
      "        55 3979630484381173178473821334674682744399927355192476462279466620274336263041595061252392018927962713273915122067783236783098648441282755559424.0000            6.78m\n",
      "        56 3979630484381173178473821334674682744399927355192476462279466620274336263041595061252392018927962713273915122067783236783098648441282755559424.0000            6.63m\n",
      "        57 3979630484381173178473821334674682744399927355192476462279466620274336263041595061252392018927962713273915122067783236783098648441282755559424.0000            6.48m\n",
      "        58 3979630484381173178473821334674682744399927355192476462279466620274336263041595061252392018927962713273915122067783236783098648441282755559424.0000            6.33m\n",
      "        59 3979630484381173178473821334674682744399927355192476462279466620274336263041595061252392018927962713273915122067783236783098648441282755559424.0000            6.17m\n",
      "        60 3979630484381173178473821334674682744399927355192476462279466620274336263041595061252392018927962713273915122067783236783098648441282755559424.0000            6.02m\n",
      "        61 3979630484381173178473821334674682744399927355192476462279466620274336263041595061252392018927962713273915122067783236783098648441282755559424.0000            5.87m\n",
      "        62 3979630484381173178473821334674682744399927355192476462279466620274336263041595061252392018927962713273915122067783236783098648441282755559424.0000            5.72m\n",
      "        63 3979630484381173178473821334674682744399927355192476462279466620274336263041595061252392018927962713273915122067783236783098648441282755559424.0000            5.57m\n",
      "        64 3979630484381173178473821334674682744399927355192476462279466620274336263041595061252392018927962713273915122067783236783098648441282755559424.0000            5.42m\n",
      "        65 3979630484381173178473821334674682744399927355192476462279466620274336263041595061252392018927962713273915122067783236783098648441282755559424.0000            5.27m\n",
      "        66 3979630484381173178473821334674682744399927355192476462279466620274336263041595061252392018927962713273915122067783236783098648441282755559424.0000            5.12m\n",
      "        67 3979630484381173178473821334674682744399927355192476462279466620274336263041595061252392018927962713273915122067783236783098648441282755559424.0000            4.97m\n",
      "        68 3979630484381173178473821334674682744399927355192476462279466620274336263041595061252392018927962713273915122067783236783098648441282755559424.0000            4.82m\n",
      "        69 3979630484381173178473821334674682744399927355192476462279466620274336263041595061252392018927962713273915122067783236783098648441282755559424.0000            4.67m\n",
      "        70 3979630484381173178473821334674682744399927355192476462279466620274336263041595061252392018927962713273915122067783236783098648441282755559424.0000            4.52m\n",
      "        71 3979630484381173178473821334674682744399927355192476462279466620274336263041595061252392018927962713273915122067783236783098648441282755559424.0000            4.37m\n",
      "        72 3979630484381173178473821334674682744399927355192476462279466620274336263041595061252392018927962713273915122067783236783098648441282755559424.0000            4.22m\n",
      "        73 3979630484381173178473821334674682744399927355192476462279466620274336263041595061252392018927962713273915122067783236783098648441282755559424.0000            4.07m\n",
      "        74 3979630484381173178473821334674682744399927355192476462279466620274336263041595061252392018927962713273915122067783236783098648441282755559424.0000            3.92m\n",
      "        75 3979630484381173178473821334674682744399927355192476462279466620274336263041595061252392018927962713273915122067783236783098648441282755559424.0000            3.77m\n",
      "        76 3979630484381173178473821334674682744399927355192476462279466620274336263041595061252392018927962713273915122067783236783098648441282755559424.0000            3.62m\n",
      "        77 3979630484381173178473821334674682744399927355192476462279466620274336263041595061252392018927962713273915122067783236783098648441282755559424.0000            3.47m\n",
      "        78 3979630484381173178473821334674682744399927355192476462279466620274336263041595061252392018927962713273915122067783236783098648441282755559424.0000            3.32m\n",
      "        79 3979630484381173178473821334674682744399927355192476462279466620274336263041595061252392018927962713273915122067783236783098648441282755559424.0000            3.17m\n",
      "        80 3979630484381173178473821334674682744399927355192476462279466620274336263041595061252392018927962713273915122067783236783098648441282755559424.0000            3.02m\n",
      "        81 3979630484381173178473821334674682744399927355192476462279466620274336263041595061252392018927962713273915122067783236783098648441282755559424.0000            2.87m\n",
      "        82 3979630484381173178473821334674682744399927355192476462279466620274336263041595061252392018927962713273915122067783236783098648441282755559424.0000            2.71m\n",
      "        83 3979630484381173178473821334674682744399927355192476462279466620274336263041595061252392018927962713273915122067783236783098648441282755559424.0000            2.56m\n",
      "        84 3979630484381173178473821334674682744399927355192476462279466620274336263041595061252392018927962713273915122067783236783098648441282755559424.0000            2.41m\n",
      "        85 3979630484381173178473821334674682744399927355192476462279466620274336263041595061252392018927962713273915122067783236783098648441282755559424.0000            2.26m\n",
      "        86 3979630484381173178473821334674682744399927355192476462279466620274336263041595061252392018927962713273915122067783236783098648441282755559424.0000            2.11m\n",
      "        87 3979630484381173178473821334674682744399927355192476462279466620274336263041595061252392018927962713273915122067783236783098648441282755559424.0000            1.96m\n",
      "        88 3979630484381173178473821334674682744399927355192476462279466620274336263041595061252392018927962713273915122067783236783098648441282755559424.0000            1.81m\n",
      "        89 3979630484381173178473821334674682744399927355192476462279466620274336263041595061252392018927962713273915122067783236783098648441282755559424.0000            1.66m\n",
      "        90 3979630484381173178473821334674682744399927355192476462279466620274336263041595061252392018927962713273915122067783236783098648441282755559424.0000            1.51m\n",
      "        91 3979630484381173178473821334674682744399927355192476462279466620274336263041595061252392018927962713273915122067783236783098648441282755559424.0000            1.36m\n",
      "        92 3979630484381173178473821334674682744399927355192476462279466620274336263041595061252392018927962713273915122067783236783098648441282755559424.0000            1.21m\n",
      "        93 3979630484381173178473821334674682744399927355192476462279466620274336263041595061252392018927962713273915122067783236783098648441282755559424.0000            1.06m\n",
      "        94 3979630484381173178473821334674682744399927355192476462279466620274336263041595061252392018927962713273915122067783236783098648441282755559424.0000           54.31s\n",
      "        95 3979630484381173178473821334674682744399927355192476462279466620274336263041595061252392018927962713273915122067783236783098648441282755559424.0000           45.26s\n",
      "        96 3979630484381173178473821334674682744399927355192476462279466620274336263041595061252392018927962713273915122067783236783098648441282755559424.0000           36.21s\n",
      "        97 3979630484381173178473821334674682744399927355192476462279466620274336263041595061252392018927962713273915122067783236783098648441282755559424.0000           27.16s\n",
      "        98 3979630484381173178473821334674682744399927355192476462279466620274336263041595061252392018927962713273915122067783236783098648441282755559424.0000           18.10s\n",
      "        99 3979630484381173178473821334674682744399927355192476462279466620274336263041595061252392018927962713273915122067783236783098648441282755559424.0000            9.05s\n",
      "       100 3979630484381173178473821334674682744399927355192476462279466620274336263041595061252392018927962713273915122067783236783098648441282755559424.0000            0.00s\n",
      "정확도: 0.767586821015138\n"
     ]
    }
   ],
   "source": [
    "grbt = GradientBoostingClassifier(random_state = 0, verbose = 3)\n",
    "grbt.fit(tfidfv, y_train)\n",
    "\n",
    "# 테스트 데이터에 대한 예측\n",
    "predicted = grbt.predict(tfidfv_test)\n",
    "\n",
    "# 예측값과 실제값 비교\n",
    "print(\"정확도:\", accuracy_score(y_test, predicted))"
   ]
  },
  {
   "cell_type": "markdown",
   "id": "powerful-remove",
   "metadata": {},
   "source": [
    "#### (10) 보팅(Voting)"
   ]
  },
  {
   "cell_type": "code",
   "execution_count": 99,
   "id": "several-cornwall",
   "metadata": {},
   "outputs": [
    {
     "name": "stdout",
     "output_type": "stream",
     "text": [
      "정확도: 0.8161175422974176\n"
     ]
    }
   ],
   "source": [
    "voting_classifier = VotingClassifier(estimators = [\n",
    "    ('lr', LogisticRegression(C = 10000, penalty = 'l2')),\n",
    "    ('cb', ComplementNB()),\n",
    "    ('grbt', GradientBoostingClassifier(random_state = 0))\n",
    "], voting = 'soft', n_jobs = 1)\n",
    "\n",
    "voting_classifier.fit(tfidfv, y_train)\n",
    "\n",
    "# 테스트 데이터에 대한 예측\n",
    "predicted = voting_classifier.predict(tfidfv_test)\n",
    "\n",
    "# 예측값과 실제값 비교\n",
    "print(\"정확도:\", accuracy_score(y_test, predicted))"
   ]
  },
  {
   "cell_type": "markdown",
   "id": "whole-nothing",
   "metadata": {},
   "source": [
    "#### (11) RNN"
   ]
  },
  {
   "cell_type": "code",
   "execution_count": 100,
   "id": "unlike-cream",
   "metadata": {},
   "outputs": [
    {
     "name": "stdout",
     "output_type": "stream",
     "text": [
      "8982 2246\n",
      "max_len :  2376\n"
     ]
    }
   ],
   "source": [
    "(rnn_x_train, rnn_y_train), (rnn_x_test, rnn_y_test) = reuters.load_data(num_words=5000, test_split=0.2)\n",
    "print(len(rnn_x_train), len(rnn_x_test))\n",
    "max_len = max(len(l) for l in np.concatenate((rnn_x_train, rnn_x_test), axis=0))\n",
    "print('max_len : ', max_len)"
   ]
  },
  {
   "cell_type": "code",
   "execution_count": 101,
   "id": "careful-wisconsin",
   "metadata": {},
   "outputs": [],
   "source": [
    "rnn_x_train = pad_sequences(rnn_x_train, maxlen=max_len)\n",
    "rnn_x_test = pad_sequences(rnn_x_test, maxlen=max_len)\n",
    "\n",
    "rnn_y_train = to_categorical(rnn_y_train, num_classes=46)\n",
    "rnn_y_test = to_categorical(rnn_y_test, num_classes=46)\n",
    "\n",
    "rnn_x_train = rnn_x_train[1000:]\n",
    "rnn_y_train = rnn_y_train[1000:]\n",
    "rnn_x_val = rnn_x_train[:1000]\n",
    "rnn_y_val = rnn_y_train[:1000]"
   ]
  },
  {
   "cell_type": "code",
   "execution_count": 102,
   "id": "worst-purple",
   "metadata": {
    "scrolled": true
   },
   "outputs": [
    {
     "name": "stdout",
     "output_type": "stream",
     "text": [
      "30982\n",
      "Epoch 1/50\n",
      "63/63 [==============================] - 86s 1s/step - loss: 0.4071 - accuracy: 0.2615 - val_loss: 0.0747 - val_accuracy: 0.3260\n",
      "Epoch 2/50\n",
      "63/63 [==============================] - 83s 1s/step - loss: 0.0730 - accuracy: 0.3528 - val_loss: 0.0736 - val_accuracy: 0.3260\n",
      "Epoch 3/50\n",
      "63/63 [==============================] - 84s 1s/step - loss: 0.0724 - accuracy: 0.3450 - val_loss: 0.0732 - val_accuracy: 0.3260\n",
      "Epoch 4/50\n",
      "63/63 [==============================] - 84s 1s/step - loss: 0.0717 - accuracy: 0.3510 - val_loss: 0.0732 - val_accuracy: 0.3260\n",
      "Epoch 5/50\n",
      "63/63 [==============================] - 84s 1s/step - loss: 0.0721 - accuracy: 0.3517 - val_loss: 0.0730 - val_accuracy: 0.3260\n",
      "Epoch 6/50\n",
      "63/63 [==============================] - 84s 1s/step - loss: 0.0723 - accuracy: 0.3479 - val_loss: 0.0733 - val_accuracy: 0.3260\n",
      "Epoch 7/50\n",
      "63/63 [==============================] - 84s 1s/step - loss: 0.0718 - accuracy: 0.3535 - val_loss: 0.0730 - val_accuracy: 0.3260\n",
      "Epoch 8/50\n",
      "63/63 [==============================] - 83s 1s/step - loss: 0.0726 - accuracy: 0.3443 - val_loss: 0.0731 - val_accuracy: 0.3260\n",
      "Epoch 9/50\n",
      "63/63 [==============================] - 84s 1s/step - loss: 0.0721 - accuracy: 0.3501 - val_loss: 0.0730 - val_accuracy: 0.3260\n",
      "Epoch 10/50\n",
      "63/63 [==============================] - 84s 1s/step - loss: 0.0721 - accuracy: 0.3548 - val_loss: 0.0730 - val_accuracy: 0.3260\n",
      "Epoch 11/50\n",
      "63/63 [==============================] - 83s 1s/step - loss: 0.0722 - accuracy: 0.3513 - val_loss: 0.0730 - val_accuracy: 0.3260\n",
      "Epoch 12/50\n",
      "63/63 [==============================] - 84s 1s/step - loss: 0.0725 - accuracy: 0.3411 - val_loss: 0.0732 - val_accuracy: 0.3260\n",
      "Epoch 00012: early stopping\n"
     ]
    }
   ],
   "source": [
    "vocab_size = len(index_to_word)\n",
    "print(vocab_size)\n",
    "word_vector_dim = 120\n",
    "\n",
    "model = keras.Sequential()\n",
    "model.add(keras.layers.Embedding(vocab_size, word_vector_dim))\n",
    "model.add(keras.layers.LSTM(120))\n",
    "model.add(keras.layers.Dense(46, activation='softmax'))\n",
    "# 모델 훈련\n",
    "es = EarlyStopping(monitor='val_loss', mode='min', verbose=1, patience=5)\n",
    "model.compile(optimizer='adam', loss='binary_crossentropy', metrics=['accuracy'])\n",
    "history = model.fit(rnn_x_train, rnn_y_train, epochs=50, callbacks=[es], batch_size=128, validation_data=(rnn_x_val, rnn_y_val), verbose=1)"
   ]
  },
  {
   "cell_type": "code",
   "execution_count": 103,
   "id": "confused-selling",
   "metadata": {},
   "outputs": [
    {
     "name": "stdout",
     "output_type": "stream",
     "text": [
      "71/71 [==============================] - 17s 244ms/step - loss: 0.0720 - accuracy: 0.3620\n"
     ]
    },
    {
     "data": {
      "text/plain": [
       "[0.07198374718427658, 0.36197686195373535]"
      ]
     },
     "execution_count": 103,
     "metadata": {},
     "output_type": "execute_result"
    }
   ],
   "source": [
    "model.evaluate(rnn_x_test, rnn_y_test)"
   ]
  },
  {
   "cell_type": "markdown",
   "id": "treated-shannon",
   "metadata": {},
   "source": [
    "## 6. 평가하기\n",
    "- 아래의 기준을 바탕으로 프로젝트를 평가\n",
    "\n",
    "|평가문항|상세기준|\n",
    "|---|---|\n",
    "|1. 분류 모델의 accuracy가 기준 이상 높게 나왔는가?|3가지 단어 개수에 대해 8가지 머린서닝 기법을 적용하여 그중 최적의 솔루션을 도출하였음|\n",
    "|2. 분류 모델의 F1 score가 기준 이상 높게 나왔는가?|Vocabulary size에 따른 각 머신러닝 모델의 성능변화 추이를 살피고, 해당 머신러닝 알고리즘의 특성에 근거해 원인을 분석하였음|\n",
    "|3. 딥러닝 모델을 활용해 성능이 비교 및 확인되었는가|동일한 데이터셋과 전처리 조건으로 딥러닝 모델의 성능과 비교하여 결과에 따른 원인을 분석하였음|"
   ]
  },
  {
   "cell_type": "markdown",
   "id": "muslim-resource",
   "metadata": {},
   "source": [
    "|:model:|:None:|:5000:|:10000:|\n",
    "|---|---|---|---|\n",
    "|나이브베이즈 분류기|0.59|0.67|0.65|\n",
    "|컴플리먼트 나이브 베이즈 분류기|0.76|0.77|0.77|\n",
    "|F1-score|0.60|0.67|0.66|\n",
    "|로지스틱 회귀|0.81|0.80|0.80|\n",
    "|선형 서포트 벡터 머신|0.78|0.76|0.77|\n",
    "|결정 트리|0.62|0.61|0.62|\n",
    "|랜덤 포레스트|0.65|0.70|0.67|\n",
    "|그래디언트 부스팅|트0.77|0.76|0.76|\n",
    "|보팅|0.81|0.81|0.81|\n",
    "|RNN|0.54|0.36|0.36|"
   ]
  },
  {
   "cell_type": "code",
   "execution_count": null,
   "id": "rotary-peeing",
   "metadata": {},
   "outputs": [],
   "source": []
  }
 ],
 "metadata": {
  "kernelspec": {
   "display_name": "Python 3",
   "language": "python",
   "name": "python3"
  },
  "language_info": {
   "codemirror_mode": {
    "name": "ipython",
    "version": 3
   },
   "file_extension": ".py",
   "mimetype": "text/x-python",
   "name": "python",
   "nbconvert_exporter": "python",
   "pygments_lexer": "ipython3",
   "version": "3.7.9"
  }
 },
 "nbformat": 4,
 "nbformat_minor": 5
}
