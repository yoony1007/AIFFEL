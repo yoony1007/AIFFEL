{
 "cells": [
  {
   "cell_type": "markdown",
   "id": "wrapped-bouquet",
   "metadata": {},
   "source": [
    "# 프로젝트: SentencePiece 사용하기"
   ]
  },
  {
   "cell_type": "markdown",
   "id": "controlling-information",
   "metadata": {},
   "source": [
    "## 목차\n",
    "- 1. 프로젝트 개요\n",
    "- 2. 데이터셋 소개\n",
    "    - (1) 데이터 준비와 확인\n",
    "    - (2) 데이터 전처리\n",
    "        - 데이터의 중복 제거\n",
    "        - NaN 결측치 제거\n",
    "        - 한글, 영어, 공백 제외하고 모두 제거\n",
    "        - 레이블 분포 확인\n",
    "    - (3) 문장 corpus 분석\n",
    "- 3. SentencePiece 설치하기\n",
    "- 4. SentencePiece 모델 학습\n",
    "- 5. Tokenizer 함수 작성\n",
    "- 6. 네이버 영화리뷰 감정 분석 문제에 SentencePiece 적용해 보기\n",
    "    - (1) 네이버 영화리뷰 감정 분석 코퍼스에 SentencePiece를 적용시킨 모델 학습하기\n",
    "    - (2) 학습된 모델로 sp_tokenizer() 메소드 구현하기\n",
    "    - (3) 구현된 토크나이저를 적용하여 네이버 영화리뷰 감정 분석 모델을 재학습하기\n",
    "    - (4) KoNLPy 형태소 분석기를 사용한 모델과 성능 비교하기\n",
    "    - (5) SentencePiece 모델의 model_type, vocab_size 등을 변경해 가면서 성능 개선 여부 확인하기\n",
    "- 평가기준"
   ]
  },
  {
   "cell_type": "markdown",
   "id": "hollow-expert",
   "metadata": {},
   "source": [
    "## 1. 프로젝트 개요"
   ]
  },
  {
   "cell_type": "markdown",
   "id": "resistant-festival",
   "metadata": {},
   "source": [
    "- 한국어 텍스트의 감정분석 진행\n",
    "- 활용할 데이터셋은 네이버 영화의 댓글을 모아 구성된 [Naver sentiment movie corpus](https://github.com/e9t/nsmc)\n",
    "- 네이버 영화리뷰 감정 분석 코퍼스에 SentencePiece를 적용시킨 모델 학습하기\n",
    "- 학습된 모델로 sp_tokenizer() 메소드 구현하기\n",
    "- 구현된 토크나이저를 적용하여 네이버 영화리뷰 감정 분석 모델을 재학습하기\n",
    "- KoNLPy 형태소 분석기를 사용한 모델과 성능 비교하기\n",
    "- SentencePiece 모델의 model_type, vocab_size 등을 변경해 가면서 성능 개선 여부 확인하기"
   ]
  },
  {
   "cell_type": "markdown",
   "id": "absolute-absolute",
   "metadata": {},
   "source": [
    "## 2. 데이터셋 소개"
   ]
  },
  {
   "cell_type": "markdown",
   "id": "other-inflation",
   "metadata": {},
   "source": [
    "- [Naver Movies](https://movie.naver.com/movie/point/af/list.naver)에서 스크랩된 한국어로 작성된 영화 리뷰 데이터셋\n",
    "- 데이터 세트 구성은 Maas et.al., 2011의 [Large movie review dataset](http://ai.stanford.edu/~amaas/data/sentiment/)에 언급된 방법에 기초하고 있음"
   ]
  },
  {
   "cell_type": "markdown",
   "id": "phantom-ancient",
   "metadata": {},
   "source": [
    "### 데이터셋 구성\n",
    "- 각 파일은 3개의 컬럼(id, document, label)으로 구성되어 있음\n",
    "    - id: 리뷰를 작성한 id(네이버에 의해 제공됨)\n",
    "    - document: 작성된 영화 리뷰\n",
    "    - label: 리뷰가 속한 sentiment 클래스(0: 부정, 1: 긍정)\n",
    "    - 컬럼은 'tab'으로 구분되어 있음(tsv 파일 형식. 그러나, 파일 확장명은 .txt이므로 초보자들도 쉽게 다룰 수 있음)\n",
    "- 총 20만건의 영화 리뷰\n",
    "    - ratings.txt: 전체 20만 개의 리뷰\n",
    "    - ratings_test.txt: test에 사용할 50,000개의 리뷰\n",
    "    - ratings_train.txt: train에 사용할 15만 개의 리뷰"
   ]
  },
  {
   "cell_type": "markdown",
   "id": "wooden-sacramento",
   "metadata": {},
   "source": [
    "### 데이터셋 특징\n",
    "- 모든 리뷰가 140자 미만으로 작성되어 있음\n",
    "- 각 sentimenet class가 동일하게 표본 추출됨(즉, 랜덤 추출은 50% 정확도를 산출함)\n",
    "- 10만 개의 부정적 입장의 리뷰(1점-4점에 해당하는 리뷰)\n",
    "- 10만 개의 긍정적 입장의 리뷰(9점-10점에 해당하는 리뷰)\n",
    "- 중립적 입장의 리뷰(5점-8점에 해당하는 리뷰)는 제외됨"
   ]
  },
  {
   "cell_type": "markdown",
   "id": "graduate-squad",
   "metadata": {},
   "source": [
    "### 예시\n",
    "![예시.png](./images/예시.png)"
   ]
  },
  {
   "cell_type": "markdown",
   "id": "rough-matthew",
   "metadata": {},
   "source": [
    "### (1) 데이터 준비와 확인"
   ]
  },
  {
   "cell_type": "code",
   "execution_count": 1,
   "id": "concerned-response",
   "metadata": {},
   "outputs": [
    {
     "data": {
      "text/html": [
       "<div>\n",
       "<style scoped>\n",
       "    .dataframe tbody tr th:only-of-type {\n",
       "        vertical-align: middle;\n",
       "    }\n",
       "\n",
       "    .dataframe tbody tr th {\n",
       "        vertical-align: top;\n",
       "    }\n",
       "\n",
       "    .dataframe thead th {\n",
       "        text-align: right;\n",
       "    }\n",
       "</style>\n",
       "<table border=\"1\" class=\"dataframe\">\n",
       "  <thead>\n",
       "    <tr style=\"text-align: right;\">\n",
       "      <th></th>\n",
       "      <th>id</th>\n",
       "      <th>document</th>\n",
       "      <th>label</th>\n",
       "    </tr>\n",
       "  </thead>\n",
       "  <tbody>\n",
       "    <tr>\n",
       "      <th>0</th>\n",
       "      <td>9976970</td>\n",
       "      <td>아 더빙.. 진짜 짜증나네요 목소리</td>\n",
       "      <td>0</td>\n",
       "    </tr>\n",
       "    <tr>\n",
       "      <th>1</th>\n",
       "      <td>3819312</td>\n",
       "      <td>흠...포스터보고 초딩영화줄....오버연기조차 가볍지 않구나</td>\n",
       "      <td>1</td>\n",
       "    </tr>\n",
       "    <tr>\n",
       "      <th>2</th>\n",
       "      <td>10265843</td>\n",
       "      <td>너무재밓었다그래서보는것을추천한다</td>\n",
       "      <td>0</td>\n",
       "    </tr>\n",
       "    <tr>\n",
       "      <th>3</th>\n",
       "      <td>9045019</td>\n",
       "      <td>교도소 이야기구먼 ..솔직히 재미는 없다..평점 조정</td>\n",
       "      <td>0</td>\n",
       "    </tr>\n",
       "    <tr>\n",
       "      <th>4</th>\n",
       "      <td>6483659</td>\n",
       "      <td>사이몬페그의 익살스런 연기가 돋보였던 영화!스파이더맨에서 늙어보이기만 했던 커스틴 ...</td>\n",
       "      <td>1</td>\n",
       "    </tr>\n",
       "  </tbody>\n",
       "</table>\n",
       "</div>"
      ],
      "text/plain": [
       "         id                                           document  label\n",
       "0   9976970                                아 더빙.. 진짜 짜증나네요 목소리      0\n",
       "1   3819312                  흠...포스터보고 초딩영화줄....오버연기조차 가볍지 않구나      1\n",
       "2  10265843                                  너무재밓었다그래서보는것을추천한다      0\n",
       "3   9045019                      교도소 이야기구먼 ..솔직히 재미는 없다..평점 조정      0\n",
       "4   6483659  사이몬페그의 익살스런 연기가 돋보였던 영화!스파이더맨에서 늙어보이기만 했던 커스틴 ...      1"
      ]
     },
     "execution_count": 1,
     "metadata": {},
     "output_type": "execute_result"
    }
   ],
   "source": [
    "import pandas as pd\n",
    "import urllib.request\n",
    "import tensorflow as tf\n",
    "%matplotlib inline\n",
    "import matplotlib.pyplot as plt\n",
    "import re\n",
    "from konlpy.tag import Okt\n",
    "from tensorflow import keras\n",
    "from tensorflow.keras.preprocessing.text import Tokenizer\n",
    "import numpy as np\n",
    "from tensorflow.keras.preprocessing.sequence import pad_sequences\n",
    "from collections import Counter\n",
    "\n",
    "# 데이터를 읽어봅시다. \n",
    "train_data = pd.read_table('~/aiffel/sentiment_classification/data/ratings_train.txt')\n",
    "test_data = pd.read_table('~/aiffel/sentiment_classification/data/ratings_test.txt')\n",
    "\n",
    "train_data.head()"
   ]
  },
  {
   "cell_type": "code",
   "execution_count": 2,
   "id": "provincial-polymer",
   "metadata": {},
   "outputs": [
    {
     "name": "stdout",
     "output_type": "stream",
     "text": [
      "학습데이터 문장의 갯수 :  150000\n",
      "테스트데이터 문장의 갯수 :  50000\n"
     ]
    }
   ],
   "source": [
    "print('학습데이터 문장의 갯수 : ',len(train_data['document']))\n",
    "print('테스트데이터 문장의 갯수 : ',len(test_data['document']))"
   ]
  },
  {
   "cell_type": "markdown",
   "id": "dated-creek",
   "metadata": {},
   "source": [
    "#### 데이터의 중복 제거"
   ]
  },
  {
   "cell_type": "code",
   "execution_count": 3,
   "id": "unusual-struggle",
   "metadata": {},
   "outputs": [
    {
     "name": "stdout",
     "output_type": "stream",
     "text": [
      "중복제거 후 학습데이터 문장 개수: 146183\n",
      "중복제거 후 테스트데이터 문장 개수: 49158\n"
     ]
    }
   ],
   "source": [
    "train_data.drop_duplicates(subset = ['document'], inplace = True)\n",
    "test_data.drop_duplicates(subset = ['document'], inplace = True)\n",
    "\n",
    "print('중복제거 후 학습데이터 문장 개수:', len(train_data['document']))\n",
    "print('중복제거 후 테스트데이터 문장 개수:', len(test_data['document']))"
   ]
  },
  {
   "cell_type": "markdown",
   "id": "buried-request",
   "metadata": {},
   "source": [
    "#### NaN 결측치 제거"
   ]
  },
  {
   "cell_type": "code",
   "execution_count": 4,
   "id": "guided-purchase",
   "metadata": {},
   "outputs": [
    {
     "name": "stdout",
     "output_type": "stream",
     "text": [
      "결측치 제거 후 학습데이터 문장 개수: 146182\n",
      "결측치 제거 후 테스트데이터 문장 개수: 49157\n"
     ]
    }
   ],
   "source": [
    "train_data = train_data.dropna(how = 'any')\n",
    "test_data = test_data.dropna(how = 'any')\n",
    "\n",
    "print('결측치 제거 후 학습데이터 문장 개수:', len(train_data['document']))\n",
    "print('결측치 제거 후 테스트데이터 문장 개수:', len(test_data['document']))"
   ]
  },
  {
   "cell_type": "markdown",
   "id": "comparative-decade",
   "metadata": {},
   "source": [
    "#### 한글, 영어 공백 제외하고 모두 제거"
   ]
  },
  {
   "cell_type": "code",
   "execution_count": 5,
   "id": "acquired-alert",
   "metadata": {},
   "outputs": [
    {
     "data": {
      "text/plain": [
       "1    흠...포스터보고 초딩영화줄....오버연기조차 가볍지 않구나\n",
       "Name: document, dtype: object"
      ]
     },
     "execution_count": 5,
     "metadata": {},
     "output_type": "execute_result"
    }
   ],
   "source": [
    "train_data[train_data['id'] == 3819312]['document']"
   ]
  },
  {
   "cell_type": "code",
   "execution_count": 6,
   "id": "respected-possible",
   "metadata": {},
   "outputs": [
    {
     "name": "stderr",
     "output_type": "stream",
     "text": [
      "/opt/conda/lib/python3.7/site-packages/ipykernel_launcher.py:2: FutureWarning: The default value of regex will change from True to False in a future version.\n",
      "  \n",
      "/opt/conda/lib/python3.7/site-packages/ipykernel_launcher.py:3: FutureWarning: The default value of regex will change from True to False in a future version.\n",
      "  This is separate from the ipykernel package so we can avoid doing imports until\n"
     ]
    }
   ],
   "source": [
    "# 한글, 영문, 공벡 제외한 나머지 문자 공백으로 치환\n",
    "train_data['document'] = train_data['document'].str.replace(\"[^ㄱ-ㅎㅏ-ㅣ가-힣A-Za-z ]\",\" \")\n",
    "test_data['document'] = test_data['document'].str.replace(\"[^ㄱ-ㅎㅏ-ㅣ가-힣A-Za-z ]\",\" \")"
   ]
  },
  {
   "cell_type": "code",
   "execution_count": 7,
   "id": "upper-webcam",
   "metadata": {
    "scrolled": true
   },
   "outputs": [
    {
     "data": {
      "text/plain": [
       "1    흠   포스터보고 초딩영화줄    오버연기조차 가볍지 않구나\n",
       "Name: document, dtype: object"
      ]
     },
     "execution_count": 7,
     "metadata": {},
     "output_type": "execute_result"
    }
   ],
   "source": [
    "train_data[train_data['id'] == 3819312]['document']"
   ]
  },
  {
   "cell_type": "code",
   "execution_count": 8,
   "id": "manufactured-petersburg",
   "metadata": {},
   "outputs": [
    {
     "name": "stderr",
     "output_type": "stream",
     "text": [
      "/opt/conda/lib/python3.7/site-packages/ipykernel_launcher.py:2: FutureWarning: The default value of regex will change from True to False in a future version.\n",
      "  \n",
      "/opt/conda/lib/python3.7/site-packages/ipykernel_launcher.py:3: FutureWarning: The default value of regex will change from True to False in a future version.\n",
      "  This is separate from the ipykernel package so we can avoid doing imports until\n"
     ]
    }
   ],
   "source": [
    "# 다중 공백 제거\n",
    "train_data['document'] = train_data['document'].str.replace(' +', ' ')\n",
    "test_data['document'] = test_data['document'].str.replace(' +', ' ')"
   ]
  },
  {
   "cell_type": "code",
   "execution_count": 9,
   "id": "signed-blink",
   "metadata": {},
   "outputs": [
    {
     "data": {
      "text/plain": [
       "1    흠 포스터보고 초딩영화줄 오버연기조차 가볍지 않구나\n",
       "Name: document, dtype: object"
      ]
     },
     "execution_count": 9,
     "metadata": {},
     "output_type": "execute_result"
    }
   ],
   "source": [
    "train_data[train_data['id'] == 3819312]['document']"
   ]
  },
  {
   "cell_type": "code",
   "execution_count": 10,
   "id": "textile-evidence",
   "metadata": {},
   "outputs": [
    {
     "name": "stdout",
     "output_type": "stream",
     "text": [
      "전처리 완료한 학습데이터 문장 개수: 144871\n",
      "전처리 완료한 테스트데이터 문장 개수: 48792\n"
     ]
    }
   ],
   "source": [
    "# 중복 제거\n",
    "train_data.drop_duplicates('document', inplace = True)\n",
    "test_data.drop_duplicates('document', inplace = True)\n",
    "\n",
    "print(\"전처리 완료한 학습데이터 문장 개수:\", len(train_data['document']))\n",
    "print(\"전처리 완료한 테스트데이터 문장 개수:\", len(test_data['document']))"
   ]
  },
  {
   "cell_type": "markdown",
   "id": "instant-tunnel",
   "metadata": {},
   "source": [
    "#### 레이블 분포 확인"
   ]
  },
  {
   "cell_type": "code",
   "execution_count": 11,
   "id": "modular-tower",
   "metadata": {},
   "outputs": [
    {
     "data": {
      "text/plain": [
       "label\n",
       "0    72702\n",
       "1    72169\n",
       "dtype: int64"
      ]
     },
     "execution_count": 11,
     "metadata": {},
     "output_type": "execute_result"
    }
   ],
   "source": [
    "train_data.groupby('label').size()"
   ]
  },
  {
   "cell_type": "markdown",
   "id": "continent-southeast",
   "metadata": {},
   "source": [
    "### (3) 문장 corpus 분석\n",
    "- 다운로드한 데이터가 어떻게 생겼는지 확인해보기<br>\n",
    "- 문장은 위에서 확인한 것처럼 '144871'개가 포함되어 있음<br>\n",
    "- 각 문장이 어느 정도의 길이를 가지는지 확인해보기<br>\n",
    "- 이 과정을 거치면 지나치게 긴 데이터를 삭제하거나(*연산량을 감소시켜 학습 속도가 빨라짐)*\n",
    "- 지나치게 짧은 데이터를 검증(*무조건 필요가 없지는 않음. '단어 <-> 단어'라면 번역을 학습할 수 있음)*\n",
    "- 즉, **데이터를 얼마나 사용할지 타협점을 정의**할 수 있음\n",
    "<br>\n",
    "\n",
    "- 아래 소스는 문장의 최단 길이, 최장 길이, 평균 길이를 구한 후 문장 길이 분포를 막대그래프로 표현해 주는 소스"
   ]
  },
  {
   "cell_type": "code",
   "execution_count": 12,
   "id": "central-character",
   "metadata": {
    "scrolled": false
   },
   "outputs": [
    {
     "name": "stdout",
     "output_type": "stream",
     "text": [
      "문장의 최단 길이: 1\n",
      "문장의 최장 길이: 140\n",
      "문장의 평균 길이: 34\n"
     ]
    },
    {
     "data": {
      "image/png": "[encoded data removed]",
      "text/plain": [
       "<Figure size 432x288 with 1 Axes>"
      ]
     },
     "metadata": {
      "needs_background": "light"
     },
     "output_type": "display_data"
    }
   ],
   "source": [
    "min_len = 999\n",
    "max_len = 0\n",
    "sum_len = 0\n",
    "\n",
    "for sen in train_data['document']:\n",
    "    length = len(sen)\n",
    "    if min_len > length: min_len = length\n",
    "    if max_len < length: max_len = length\n",
    "    sum_len += length\n",
    "\n",
    "print(\"문장의 최단 길이:\", min_len)\n",
    "print(\"문장의 최장 길이:\", max_len)\n",
    "print(\"문장의 평균 길이:\", sum_len // len(train_data['document']))\n",
    "\n",
    "sentence_length = np.zeros((max_len), dtype=np.int)\n",
    "\n",
    "for sen in train_data['document']:\n",
    "    sentence_length[len(sen)-1] += 1\n",
    "\n",
    "plt.bar(range(max_len), sentence_length, width=1.0)\n",
    "plt.title(\"Train Data Sentence Length Distribution\")\n",
    "plt.show()"
   ]
  },
  {
   "cell_type": "markdown",
   "id": "caroline-singer",
   "metadata": {},
   "source": [
    "- 최단 길이 1, 최장 길이 140의 막대그래프가 나왔음\n",
    "- 이 결과를 확인하고 아래와 같은 생각이 들 수 있음\n",
    "    - 1) 길이 1짜리 문장은 어떻게 생긴 문장인가\n",
    "    - 2) 그래프의 앞부분에서 치솟는 임의의 군간은 무엇인지, 유의미한 데이터가 담겨 있는 부분인가\n",
    "    - 3) 어디서부터 어디까지 잘라서 사용하는가"
   ]
  },
  {
   "cell_type": "code",
   "execution_count": 13,
   "id": "ahead-question",
   "metadata": {
    "scrolled": false
   },
   "outputs": [
    {
     "name": "stdout",
     "output_type": "stream",
     "text": [
      "아\n",
      "잼\n",
      " \n",
      "굿\n",
      "짱\n",
      "휴\n",
      "음\n",
      "ㅎ\n",
      "ㅋ\n",
      "즐\n",
      "굳\n",
      "네\n",
      "ㅇ\n",
      "k\n",
      "ㅠ\n",
      "쒯\n",
      "토\n",
      "O\n",
      "똥\n",
      "z\n",
      "헐\n",
      "삼\n",
      "꽝\n",
      "풉\n",
      "ㅅ\n",
      "왜\n",
      "ㄴ\n",
      "쉣\n",
      "봐\n",
      "뿌\n",
      "ㅜ\n",
      "ㅁ\n",
      "ㅉ\n",
      "d\n",
      "흥\n",
      "찜\n",
      "귯\n",
      "린\n",
      "시\n",
      "ㅗ\n",
      "a\n",
      "c\n",
      "흠\n",
      "웅\n",
      "ㅣ\n",
      "오\n",
      "쩜\n",
      "애\n",
      "헝\n",
      "쨩\n",
      "f\n",
      "움\n",
      "ㄳ\n",
      "업\n",
      "헉\n",
      "군\n",
      "b\n",
      "g\n",
      "올\n",
      "걍\n",
      "허\n",
      "쀍\n",
      "로\n",
      "ㄹ\n",
      "ㅂ\n",
      "갑\n",
      "즛\n",
      "킥\n",
      "함\n",
      "진\n",
      "ㅡ\n",
      "잠\n",
      "곧\n",
      "ㅍ\n",
      "h\n",
      "캬\n",
      "ㅆ\n",
      "풋\n",
      "ㄱ\n",
      "파\n",
      "ㄷ\n",
      "웩\n",
      "꺅\n",
      "욜\n",
      "ㅄ\n",
      "핡\n"
     ]
    }
   ],
   "source": [
    "# 길이가 1짜리 문장 확인\n",
    "def check_sentence_with_length(raw, length):\n",
    "    count = 0\n",
    "    \n",
    "    for sen in train_data['document']:\n",
    "        if len(sen) == length:\n",
    "            print(sen)\n",
    "            count += 1\n",
    "            if count > 100:return \n",
    "check_sentence_with_length(train_data['document'], 1)"
   ]
  },
  {
   "cell_type": "markdown",
   "id": "standing-smell",
   "metadata": {},
   "source": [
    "- 길이가 1인 문장을 조회해보니 노이즈인 데이터가 많아 제외"
   ]
  },
  {
   "cell_type": "code",
   "execution_count": 14,
   "id": "hungry-essex",
   "metadata": {},
   "outputs": [],
   "source": [
    "cleaned_corpus = []\n",
    "for sen in train_data['document']:\n",
    "    cleaned_corpus.append(sen)"
   ]
  },
  {
   "cell_type": "code",
   "execution_count": 15,
   "id": "amino-judgment",
   "metadata": {},
   "outputs": [
    {
     "data": {
      "image/png": "[encoded data removed]",
      "text/plain": [
       "<Figure size 432x288 with 1 Axes>"
      ]
     },
     "metadata": {
      "needs_background": "light"
     },
     "output_type": "display_data"
    }
   ],
   "source": [
    "min_len = 2\n",
    "max_len = 60\n",
    "\n",
    "# 길이 조건에 맞는 문장만 선택\n",
    "filtered_corpus = [s for s in cleaned_corpus if (len(s) < max_len) & (len(s) >= min_len)]\n",
    "\n",
    "# 분포도 다시 그리기\n",
    "sentence_length = np.zeros((max_len), dtype = np.int)\n",
    "\n",
    "for sen in filtered_corpus:\n",
    "    sentence_length[len(sen)-1] += 1\n",
    "    \n",
    "plt.bar(range(max_len), sentence_length, width = 1.0)\n",
    "plt.title(\"Sentence Length Distribution\")\n",
    "plt.show()"
   ]
  },
  {
   "cell_type": "markdown",
   "id": "thermal-works",
   "metadata": {},
   "source": [
    "## 2. SentencePiece 설치하기"
   ]
  },
  {
   "cell_type": "markdown",
   "id": "governmental-valentine",
   "metadata": {},
   "source": [
    "- SentencePiece는 Google에서 제공하는 오픈소스 기반 Sentence Tokenize/Detokenizer\n",
    "- BPE와 unigram 2가지 subword 토크나이징 모델 중 하나를 선택해서 사용할 수 있도록 패키징한 것\n",
    "- 아래 링크의 페이지에서 상세한 내용을 파악할 수 있음\n",
    "- [google/sentence.piece](https://github.com/google/sentencepiece)\n",
    "<br>\n",
    "\n",
    "- 위 페이지의 서두에서도 언급하고 있듯, SentencePiece는 딥러닝 자연어처리 모델의 앞부분에 사용할 목적으로 최적화되어 있음\n",
    "- 최근 pretrained model들이 거의 대부분 SentencePiece를 tokenizer로 채용하면서 사실상 표준의 역할을 하고 있음\n",
    "- 앞으로의 실습 과정에서 자주 만나게 될 것이므로 친숙해지기\n",
    "<br>\n",
    "\n",
    "- 다음과 같이 설치 진행\n",
    "- SentencePiece는 python에서쓰라고 만들어진 라이브러리는 아니지만 편리한 파이썬 wrapper를 아래와 같이 제공하고 있음\n",
    "```python\n",
    "$ pip install sentencepiece\n",
    "```"
   ]
  },
  {
   "cell_type": "markdown",
   "id": "alone-french",
   "metadata": {},
   "source": [
    "## 5. 네이버 영화리뷰 감정 분석 문제에 SentencePiece 적용해 보기"
   ]
  },
  {
   "cell_type": "markdown",
   "id": "labeled-render",
   "metadata": {},
   "source": [
    "- [네이버 영화리뷰 감정 분석 태스크](https://github.com/e9t/nsmc/)에 SentencePiece 적용해 보기\n",
    "- 한국어로 된 corpus를 다루어야 하므로 주로 KoNLPy에서 제공하는 형태소 분석기를 사용하여 텍스트를 전처리해서 RNN 모델을 분류기로 사용했을 것\n",
    "<br>\n",
    "\n",
    "- 만약 이 문제에서tokenizer를 SentnecePiece로 바꾸어 다시 풀어본다면 더 성능이 좋아지는지 비교해 보는 것도 흥미로울 것\n",
    "    - 네이버 영화리뷰 감정 분석 코퍼스에 SentencePiece를 적용시킨 모델 학습하기\n",
    "    - 학습된 모델로 sp_tokenizer() 메소드 구현하기\n",
    "    - 구현된 토크나이저를 적용하여 네이버 영화리뷰 감정 분석 모델을 재학습하기\n",
    "    - KoNLPy 형태소 분석기를 사용한 모델과 성능 비교하기\n",
    "    - (보너스) SentencePiece 모델의 model_type, vocab_size 등을 변경해 가면서 성능 개선 여부 확인하기\n",
    "    \n",
    "<br>\n",
    "\n",
    "- Word Vector는 활용할 필요가 없음(활용이 가능하지도 않을 것)\n",
    "- 머지않아 SentencePiece와 BERT 등의 pretrained 모델을 함께 활용하는 태스크 다루게 될 것"
   ]
  },
  {
   "cell_type": "markdown",
   "id": "collected-newport",
   "metadata": {},
   "source": [
    "### (1) 네이버 영화리뷰 감정 분석 코퍼스에 SentencePiece를 적용시킨 모델 학습하기"
   ]
  },
  {
   "cell_type": "markdown",
   "id": "horizontal-magnet",
   "metadata": {},
   "source": [
    "- 앞서 배운 'tokenize()' 함수\n",
    "```python\n",
    "# corpus:  Tokenized Sentence's List\n",
    "def(tokenize(corpus):\n",
    "    tokenizer = tf.keras.preprocessing.text.Tokenizer(filters = '')\n",
    "    tokenizer.fit_on_texts(corpus)\n",
    "    \n",
    "    tensor = tokenizer.texts_to_sequences(corpus)\n",
    "    \n",
    "    tensor= tf.keras.preprocessing.sequence.pad_sequences(tensor, padding = 'post')\n",
    "    \n",
    "    return tensor, tokenizer\n",
    "```"
   ]
  },
  {
   "cell_type": "markdown",
   "id": "excited-enlargement",
   "metadata": {},
   "source": [
    "- 위와 같이 'tf.keras.preprocessing.text.Tokenizer'에 corpus를 주고 'tokenizer.fit_on_texts(corpus)'을 하면 토크나이저 내부적으로 단어사전과 토크나이저 기능을 corpus에 맞춤형으로 자동 생성해 주는 것\n",
    "<br>\n",
    "\n",
    "- 이를 위해서 SentencePiece 모델을 학습하는 과정 거쳐야 함"
   ]
  },
  {
   "cell_type": "code",
   "execution_count": 16,
   "id": "after-crawford",
   "metadata": {},
   "outputs": [
    {
     "name": "stdout",
     "output_type": "stream",
     "text": [
      "-rw-r--r-- 1 root root 377786 Oct  4 15:20 korean_spm.model\r\n",
      "-rw-r--r-- 1 root root 147213 Oct  4 15:20 korean_spm.vocab\r\n"
     ]
    }
   ],
   "source": [
    "import sentencepiece as spm\n",
    "import os\n",
    "temp_file = os.getenv('HOME') + '/aiffel/sp_tokenizer/data/korean-english-park.train.ko.temp'\n",
    "\n",
    "vocab_size = 8000\n",
    "\n",
    "with open(temp_file, 'w') as f:\n",
    "    # 이전 스텝에서 정제했던 corpus 활용\n",
    "    for row in filtered_corpus:\n",
    "        f.write(str(row) + '\\n')\n",
    "\n",
    "# Train에서 --model_type = 'unigram'이 디폴트 적용되어 있음\n",
    "# --model_type = 'bpe'로 옵션 주어 변경할 수 있음\n",
    "spm.SentencePieceTrainer.Train(\n",
    "     '--input={} --model_prefix=korean_spm --vocab_size={}'.format(temp_file, vocab_size)   \n",
    ")\n",
    "\n",
    "!ls -l korean_spm*"
   ]
  },
  {
   "cell_type": "markdown",
   "id": "convertible-editing",
   "metadata": {},
   "source": [
    "### (2) 학습된 모델로 sp_tokenizer() 메소드 구현하기"
   ]
  },
  {
   "cell_type": "markdown",
   "id": "martial-truck",
   "metadata": {},
   "source": [
    "- 위에서 훈련시킨 SentencePiece를 활용하여 위 함수와 유사한 기능을 하는 'sp_tokenize()' 함수 정의할 것\n",
    "- 하지만 SentencePiece가 동작하는 방식이 단순 토큰화와는 달라 완전히 동일하게는 정의하기 어려움\n",
    "- 그러니 아래 조건을 만족하는 함수를 정의하기\n",
    "> 1) 매개변수로 토큰화된 문장의 'list'를 전달하는 대신 **온전한 문장**의 'list'를 전달<br>\n",
    "> 2) **생성된 vocab 파일**을 읽어와 '{ \\<word\\> : \\<idx\\> }' 형태를 가지는 'word_index' 사전과 '{\\<idx\\> : \\<word\\>'} 형태를 가자ㅣ는 'index_word' 사전을 생성하고 함께 **반환**<br>\n",
    "> 3) 리턴값인 'tensor'는 앞의 함수와 동일하게 토큰화한 후 Encoding된 문장, 바로 학습에 사용할 수 있게 Padding"
   ]
  },
  {
   "cell_type": "code",
   "execution_count": 17,
   "id": "light-variation",
   "metadata": {},
   "outputs": [
    {
     "name": "stdout",
     "output_type": "stream",
     "text": [
      "True\n"
     ]
    }
   ],
   "source": [
    "s = spm.SentencePieceProcessor()\n",
    "print(s.Load('korean_spm.model'))"
   ]
  },
  {
   "cell_type": "code",
   "execution_count": 18,
   "id": "great-graph",
   "metadata": {},
   "outputs": [],
   "source": [
    "def sp_tokenize(s, corpus):\n",
    "\n",
    "    tensor = []\n",
    "\n",
    "    for sen in corpus:\n",
    "#         print(sen)\n",
    "        tensor.append(s.EncodeAsIds(sen))\n",
    "\n",
    "    with open(\"./korean_spm.vocab\", 'r') as f:\n",
    "        vocab = f.readlines()\n",
    "\n",
    "    word_index = {}\n",
    "    index_word = {}\n",
    "\n",
    "    for idx, line in enumerate(vocab):\n",
    "        word = line.split(\"\\t\")[0]\n",
    "\n",
    "        word_index.update({idx:word})\n",
    "        index_word.update({word:idx})\n",
    "\n",
    "    tensor = tf.keras.preprocessing.sequence.pad_sequences(tensor, padding='post')\n",
    "\n",
    "    return tensor, word_index, index_word"
   ]
  },
  {
   "cell_type": "code",
   "execution_count": 19,
   "id": "welsh-travel",
   "metadata": {},
   "outputs": [
    {
     "name": "stdout",
     "output_type": "stream",
     "text": [
      "[[ 458 2779   11  849 2090    0    0    0    0    0    0]\n",
      " [1144    3 1945  137  427    7    3   12 7575 1036    0]]\n"
     ]
    }
   ],
   "source": [
    "#sp_tokenize(s, corpus) 사용예제\n",
    "\n",
    "my_corpus = ['나는 밥을 먹었습니다.', '그러나 여전히 ㅠㅠ 배가 고픕니다...']\n",
    "tensor, word_index, index_word = sp_tokenize(s, my_corpus)\n",
    "print(tensor)"
   ]
  },
  {
   "cell_type": "markdown",
   "id": "improved-intensity",
   "metadata": {},
   "source": [
    "### (3) 구현된 토크나이저를 적용하여 네이버 영화리뷰 감정 분석 모델을 재학습하기"
   ]
  },
  {
   "cell_type": "code",
   "execution_count": 20,
   "id": "transparent-absolute",
   "metadata": {},
   "outputs": [],
   "source": [
    "X_train = train_data['document']\n",
    "X_test = test_data['document']"
   ]
  },
  {
   "cell_type": "code",
   "execution_count": 21,
   "id": "intellectual-globe",
   "metadata": {},
   "outputs": [],
   "source": [
    "y_train = train_data['label']\n",
    "y_test = test_data['label']"
   ]
  },
  {
   "cell_type": "code",
   "execution_count": 22,
   "id": "divided-collection",
   "metadata": {},
   "outputs": [],
   "source": [
    "X_train_tensor, X_train_word_to_index, X_train_index_to_word = sp_tokenize(s,X_train)\n",
    "X_test_tensor, X_test_word_to_index, X_test_index_to_word = sp_tokenize(s,X_train)"
   ]
  },
  {
   "cell_type": "code",
   "execution_count": 23,
   "id": "surgical-description",
   "metadata": {},
   "outputs": [
    {
     "name": "stdout",
     "output_type": "stream",
     "text": [
      "(116871, 133)\n",
      "(116871,)\n"
     ]
    }
   ],
   "source": [
    "# validation set 28000건 분리(전체 data의 약 20%)\n",
    "X_val = X_train_tensor[:28000]   \n",
    "y_val = y_train[:28000]\n",
    "\n",
    "# validation set을 제외한 나머지 116871건\n",
    "partial_X_train = X_train_tensor[28000:]  \n",
    "partial_y_train = y_train[28000:]\n",
    "\n",
    "print(partial_X_train.shape)\n",
    "print(partial_y_train.shape)"
   ]
  },
  {
   "cell_type": "code",
   "execution_count": 24,
   "id": "jewish-cotton",
   "metadata": {},
   "outputs": [],
   "source": [
    "vocab_size = 8000\n",
    "word_vector_dim = 16"
   ]
  },
  {
   "cell_type": "code",
   "execution_count": 25,
   "id": "departmental-controversy",
   "metadata": {},
   "outputs": [
    {
     "name": "stdout",
     "output_type": "stream",
     "text": [
      "Model: \"LSTM\"\n",
      "_________________________________________________________________\n",
      "Layer (type)                 Output Shape              Param #   \n",
      "=================================================================\n",
      "embedding (Embedding)        (None, None, 16)          128000    \n",
      "_________________________________________________________________\n",
      "lstm (LSTM)                  (None, None, 32)          6272      \n",
      "_________________________________________________________________\n",
      "dropout (Dropout)            (None, None, 32)          0         \n",
      "_________________________________________________________________\n",
      "lstm_1 (LSTM)                (None, None, 32)          8320      \n",
      "_________________________________________________________________\n",
      "dropout_1 (Dropout)          (None, None, 32)          0         \n",
      "_________________________________________________________________\n",
      "dense (Dense)                (None, None, 1)           33        \n",
      "=================================================================\n",
      "Total params: 142,625\n",
      "Trainable params: 142,625\n",
      "Non-trainable params: 0\n",
      "_________________________________________________________________\n"
     ]
    }
   ],
   "source": [
    "model = keras.Sequential(name=\"LSTM\")\n",
    "model.add(keras.layers.Embedding(vocab_size, word_vector_dim, input_shape=(None,)))\n",
    "model.add(keras.layers.LSTM(32, return_sequences = True))\n",
    "model.add(keras.layers.Dropout(0.3))\n",
    "model.add(keras.layers.LSTM(32, return_sequences = True))\n",
    "model.add(keras.layers.Dropout(0.3))\n",
    "model.add(keras.layers.Dense(1, activation='sigmoid'))\n",
    "\n",
    "model.summary()"
   ]
  },
  {
   "cell_type": "code",
   "execution_count": 26,
   "id": "interstate-identifier",
   "metadata": {},
   "outputs": [
    {
     "name": "stdout",
     "output_type": "stream",
     "text": [
      "Epoch 1/30\n",
      "229/229 [==============================] - 16s 51ms/step - loss: 0.6217 - accuracy: 0.6061 - val_loss: 0.3965 - val_accuracy: 0.8241\n",
      "Epoch 2/30\n",
      "229/229 [==============================] - 10s 45ms/step - loss: 0.3711 - accuracy: 0.8414 - val_loss: 0.3661 - val_accuracy: 0.8392\n",
      "Epoch 3/30\n",
      "229/229 [==============================] - 10s 45ms/step - loss: 0.3459 - accuracy: 0.8529 - val_loss: 0.3621 - val_accuracy: 0.8381\n",
      "Epoch 4/30\n",
      "229/229 [==============================] - 10s 45ms/step - loss: 0.3308 - accuracy: 0.8582 - val_loss: 0.3565 - val_accuracy: 0.8400\n",
      "Epoch 5/30\n",
      "229/229 [==============================] - 10s 45ms/step - loss: 0.3185 - accuracy: 0.8604 - val_loss: 0.3585 - val_accuracy: 0.8395\n",
      "Epoch 6/30\n",
      "229/229 [==============================] - 10s 45ms/step - loss: 0.3078 - accuracy: 0.8638 - val_loss: 0.3711 - val_accuracy: 0.8387\n",
      "Epoch 7/30\n",
      "229/229 [==============================] - 10s 45ms/step - loss: 0.3021 - accuracy: 0.8632 - val_loss: 0.3666 - val_accuracy: 0.8352\n",
      "Epoch 8/30\n",
      "229/229 [==============================] - 10s 45ms/step - loss: 0.2911 - accuracy: 0.8678 - val_loss: 0.3693 - val_accuracy: 0.8383\n",
      "Epoch 9/30\n",
      "229/229 [==============================] - 10s 45ms/step - loss: 0.2835 - accuracy: 0.8704 - val_loss: 0.3816 - val_accuracy: 0.8378\n",
      "Epoch 10/30\n",
      "229/229 [==============================] - 10s 45ms/step - loss: 0.2751 - accuracy: 0.8734 - val_loss: 0.3863 - val_accuracy: 0.8389\n",
      "Epoch 11/30\n",
      "229/229 [==============================] - 10s 45ms/step - loss: 0.2684 - accuracy: 0.8783 - val_loss: 0.3967 - val_accuracy: 0.8382\n",
      "Epoch 12/30\n",
      "229/229 [==============================] - 10s 45ms/step - loss: 0.2583 - accuracy: 0.8825 - val_loss: 0.4235 - val_accuracy: 0.8362\n",
      "Epoch 13/30\n",
      "229/229 [==============================] - 10s 45ms/step - loss: 0.2505 - accuracy: 0.8858 - val_loss: 0.4081 - val_accuracy: 0.8350\n",
      "Epoch 14/30\n",
      "229/229 [==============================] - 10s 45ms/step - loss: 0.2418 - accuracy: 0.8915 - val_loss: 0.4359 - val_accuracy: 0.8326\n",
      "Epoch 15/30\n",
      "229/229 [==============================] - 10s 45ms/step - loss: 0.2283 - accuracy: 0.8994 - val_loss: 0.4432 - val_accuracy: 0.8269\n",
      "Epoch 16/30\n",
      "229/229 [==============================] - 10s 45ms/step - loss: 0.2213 - accuracy: 0.9022 - val_loss: 0.4469 - val_accuracy: 0.8291\n",
      "Epoch 17/30\n",
      "229/229 [==============================] - 10s 45ms/step - loss: 0.2126 - accuracy: 0.9067 - val_loss: 0.4494 - val_accuracy: 0.8229\n",
      "Epoch 18/30\n",
      "229/229 [==============================] - 10s 45ms/step - loss: 0.2073 - accuracy: 0.9112 - val_loss: 0.4635 - val_accuracy: 0.8273\n",
      "Epoch 19/30\n",
      "229/229 [==============================] - 10s 45ms/step - loss: 0.2016 - accuracy: 0.9139 - val_loss: 0.4748 - val_accuracy: 0.8242\n",
      "Epoch 20/30\n",
      "229/229 [==============================] - 10s 45ms/step - loss: 0.1950 - accuracy: 0.9172 - val_loss: 0.5074 - val_accuracy: 0.8217\n",
      "Epoch 21/30\n",
      "229/229 [==============================] - 10s 45ms/step - loss: 0.1904 - accuracy: 0.9195 - val_loss: 0.5112 - val_accuracy: 0.8196\n",
      "Epoch 22/30\n",
      "229/229 [==============================] - 10s 45ms/step - loss: 0.1852 - accuracy: 0.9220 - val_loss: 0.4926 - val_accuracy: 0.8218\n",
      "Epoch 23/30\n",
      "229/229 [==============================] - 10s 45ms/step - loss: 0.1795 - accuracy: 0.9251 - val_loss: 0.5188 - val_accuracy: 0.8183\n",
      "Epoch 24/30\n",
      "229/229 [==============================] - 10s 45ms/step - loss: 0.1775 - accuracy: 0.9268 - val_loss: 0.5514 - val_accuracy: 0.8140\n",
      "Epoch 25/30\n",
      "229/229 [==============================] - 10s 44ms/step - loss: 0.1815 - accuracy: 0.9240 - val_loss: 0.5379 - val_accuracy: 0.8159\n",
      "Epoch 26/30\n",
      "229/229 [==============================] - 10s 45ms/step - loss: 0.1663 - accuracy: 0.9318 - val_loss: 0.5301 - val_accuracy: 0.8161\n",
      "Epoch 27/30\n",
      "229/229 [==============================] - 10s 45ms/step - loss: 0.1653 - accuracy: 0.9323 - val_loss: 0.6076 - val_accuracy: 0.8157\n",
      "Epoch 28/30\n",
      "229/229 [==============================] - 10s 45ms/step - loss: 0.1558 - accuracy: 0.9369 - val_loss: 0.6005 - val_accuracy: 0.8169\n",
      "Epoch 29/30\n",
      "229/229 [==============================] - 10s 45ms/step - loss: 0.1520 - accuracy: 0.9381 - val_loss: 0.6163 - val_accuracy: 0.8154\n",
      "Epoch 30/30\n",
      "229/229 [==============================] - 10s 45ms/step - loss: 0.1507 - accuracy: 0.9385 - val_loss: 0.6135 - val_accuracy: 0.8143\n"
     ]
    }
   ],
   "source": [
    "model.compile(optimizer='adam',\n",
    "              loss='binary_crossentropy',\n",
    "              metrics=['accuracy'])\n",
    "\n",
    "history = model.fit(partial_X_train,\n",
    "                    partial_y_train,\n",
    "                    epochs=30,\n",
    "                    batch_size=512,\n",
    "                    validation_data=(X_val, y_val))"
   ]
  },
  {
   "cell_type": "code",
   "execution_count": 27,
   "id": "packed-cattle",
   "metadata": {},
   "outputs": [],
   "source": [
    "history_dict = history.history"
   ]
  },
  {
   "cell_type": "code",
   "execution_count": 28,
   "id": "outer-commercial",
   "metadata": {},
   "outputs": [
    {
     "data": {
      "image/png": "[encoded data removed]",
      "text/plain": [
       "<Figure size 432x288 with 1 Axes>"
      ]
     },
     "metadata": {
      "needs_background": "light"
     },
     "output_type": "display_data"
    }
   ],
   "source": [
    "import matplotlib.pyplot as plt\n",
    "\n",
    "acc = history_dict['accuracy']\n",
    "val_acc = history_dict['val_accuracy']\n",
    "loss = history_dict['loss']\n",
    "val_loss = history_dict['val_loss']\n",
    "\n",
    "epochs = range(1, len(acc) + 1)\n",
    "\n",
    "# 빨간 실선으로 표시\n",
    "plt.plot(epochs, loss, 'r', label='Training loss')\n",
    "# 파란 실선으로 표시\n",
    "plt.plot(epochs, val_loss, 'b', label='Validation loss')\n",
    "plt.title('Training and validation loss')\n",
    "plt.xlabel('Epochs')\n",
    "plt.ylabel('Loss')\n",
    "plt.grid()\n",
    "plt.legend()\n",
    "\n",
    "plt.show()"
   ]
  },
  {
   "cell_type": "code",
   "execution_count": 29,
   "id": "following-hearts",
   "metadata": {},
   "outputs": [
    {
     "data": {
      "image/png": "[encoded data removed]",
      "text/plain": [
       "<Figure size 432x288 with 1 Axes>"
      ]
     },
     "metadata": {
      "needs_background": "light"
     },
     "output_type": "display_data"
    }
   ],
   "source": [
    "# 그림 초기화\n",
    "plt.clf() \n",
    "\n",
    "plt.plot(epochs, acc, 'bo', label='Training acc')\n",
    "plt.plot(epochs, val_acc, 'b', label='Validation acc')\n",
    "plt.title(\"Training and validation accuracy\")\n",
    "plt.xlabel('Epochs')\n",
    "plt.ylabel('Accuracy')\n",
    "plt.legend()\n",
    "\n",
    "plt.show()"
   ]
  },
  {
   "cell_type": "code",
   "execution_count": 31,
   "id": "prerequisite-luxembourg",
   "metadata": {},
   "outputs": [
    {
     "name": "stdout",
     "output_type": "stream",
     "text": [
      "-rw-r--r-- 1 root root 377790 Oct  4 15:38 korean_spm_bpe.model\r\n",
      "-rw-r--r-- 1 root root 147213 Oct  4 15:38 korean_spm_bpe.vocab\r\n"
     ]
    }
   ],
   "source": [
    "import sentencepiece as spm\n",
    "import os\n",
    "temp_file = os.getenv('HOME')+'/aiffel/sp_tokenizer/data/korean-english-park.train.ko.temp'\n",
    "\n",
    "vocab_size = 8000\n",
    "\n",
    "with open(temp_file, 'w') as f:\n",
    "    for row in filtered_corpus:   # 이전 스텝에서 정제했던 corpus를 활용합니다.\n",
    "        f.write(str(row) + '\\n')\n",
    "\n",
    "spm.SentencePieceTrainer.Train(\n",
    "    '--input={} --model_prefix=korean_spm_bpe --vocab_size={}'.format(temp_file, vocab_size)    \n",
    ")\n",
    "#위 Train에서  --model_type = 'unigram'이 디폴트 적용되어 있습니다. --model_type = 'bpe' 로 옵션을 주어 변경할 수 있습니다.\n",
    "\n",
    "!ls -l korean_spm_bpe*"
   ]
  },
  {
   "cell_type": "code",
   "execution_count": 32,
   "id": "acting-instrumentation",
   "metadata": {},
   "outputs": [
    {
     "name": "stdout",
     "output_type": "stream",
     "text": [
      "True\n"
     ]
    }
   ],
   "source": [
    "s = spm.SentencePieceProcessor()\n",
    "print(s.Load('korean_spm_bpe.model'))"
   ]
  },
  {
   "cell_type": "code",
   "execution_count": 33,
   "id": "optical-perth",
   "metadata": {},
   "outputs": [],
   "source": [
    "def sp_tokenize_bpe(s, corpus):\n",
    "\n",
    "    tensor = []\n",
    "\n",
    "    for sen in corpus:\n",
    "        tensor.append(s.EncodeAsIds(sen))\n",
    "\n",
    "    with open(\"./korean_spm_bpe.vocab\", 'r') as f:\n",
    "        vocab = f.readlines()\n",
    "\n",
    "    word_index = {}\n",
    "    index_word = {}\n",
    "\n",
    "    for idx, line in enumerate(vocab):\n",
    "        word = line.split(\"\\t\")[0]\n",
    "\n",
    "        word_index.update({idx:word})\n",
    "        index_word.update({word:idx})\n",
    "\n",
    "    tensor = tf.keras.preprocessing.sequence.pad_sequences(tensor, padding='post')\n",
    "\n",
    "    return tensor, word_index, index_word"
   ]
  },
  {
   "cell_type": "code",
   "execution_count": 34,
   "id": "equipped-unknown",
   "metadata": {},
   "outputs": [],
   "source": [
    "X_train_tensor_bpe, X_train_word_to_index_bpe, X_train_index_to_word_bpe = sp_tokenize_bpe(s,X_train)\n",
    "X_test_tensor_bpe, X_test_word_to_index_bpe, X_test_index_to_word_bpe = sp_tokenize_bpe(s,X_train)"
   ]
  },
  {
   "cell_type": "code",
   "execution_count": 35,
   "id": "baking-productivity",
   "metadata": {},
   "outputs": [
    {
     "name": "stdout",
     "output_type": "stream",
     "text": [
      "(116871, 133)\n",
      "(116871,)\n"
     ]
    }
   ],
   "source": [
    "# validation set 28000건 분리(전체 data의 약 20%)\n",
    "X_val_bpe = X_train_tensor_bpe[:28000]   \n",
    "y_val_bpe = y_train[:28000]\n",
    "\n",
    "# validation set을 제외한 나머지 116871건\n",
    "partial_X_train_bpe = X_train_tensor_bpe[28000:]  \n",
    "partial_y_train_bpe = y_train[28000:]\n",
    "\n",
    "print(partial_X_train_bpe.shape)\n",
    "print(partial_y_train_bpe.shape)"
   ]
  },
  {
   "cell_type": "code",
   "execution_count": 36,
   "id": "instant-peninsula",
   "metadata": {
    "scrolled": true
   },
   "outputs": [
    {
     "name": "stdout",
     "output_type": "stream",
     "text": [
      "Model: \"LSTM\"\n",
      "_________________________________________________________________\n",
      "Layer (type)                 Output Shape              Param #   \n",
      "=================================================================\n",
      "embedding_1 (Embedding)      (None, None, 16)          128000    \n",
      "_________________________________________________________________\n",
      "lstm_2 (LSTM)                (None, None, 32)          6272      \n",
      "_________________________________________________________________\n",
      "dropout_2 (Dropout)          (None, None, 32)          0         \n",
      "_________________________________________________________________\n",
      "lstm_3 (LSTM)                (None, None, 32)          8320      \n",
      "_________________________________________________________________\n",
      "dropout_3 (Dropout)          (None, None, 32)          0         \n",
      "_________________________________________________________________\n",
      "dense_1 (Dense)              (None, None, 1)           33        \n",
      "=================================================================\n",
      "Total params: 142,625\n",
      "Trainable params: 142,625\n",
      "Non-trainable params: 0\n",
      "_________________________________________________________________\n"
     ]
    }
   ],
   "source": [
    "model1 = keras.Sequential(name=\"LSTM\")\n",
    "model1.add(keras.layers.Embedding(vocab_size, word_vector_dim, input_shape=(None,)))\n",
    "model1.add(keras.layers.LSTM(32, return_sequences = True))\n",
    "model1.add(keras.layers.Dropout(0.3))\n",
    "model1.add(keras.layers.LSTM(32, return_sequences = True))\n",
    "model1.add(keras.layers.Dropout(0.3))\n",
    "model1.add(keras.layers.Dense(1, activation='sigmoid'))\n",
    "\n",
    "model1.summary()"
   ]
  },
  {
   "cell_type": "code",
   "execution_count": 37,
   "id": "dirty-fifth",
   "metadata": {},
   "outputs": [
    {
     "name": "stdout",
     "output_type": "stream",
     "text": [
      "Epoch 1/30\n",
      "229/229 [==============================] - 14s 49ms/step - loss: 0.1519 - accuracy: 0.9382 - val_loss: 0.5712 - val_accuracy: 0.8140\n",
      "Epoch 2/30\n",
      "229/229 [==============================] - 10s 44ms/step - loss: 0.1415 - accuracy: 0.9437 - val_loss: 0.6478 - val_accuracy: 0.8134\n",
      "Epoch 3/30\n",
      "229/229 [==============================] - 10s 44ms/step - loss: 0.1341 - accuracy: 0.9468 - val_loss: 0.6538 - val_accuracy: 0.8114\n",
      "Epoch 4/30\n",
      "229/229 [==============================] - 10s 44ms/step - loss: 0.1339 - accuracy: 0.9460 - val_loss: 0.6421 - val_accuracy: 0.8098\n",
      "Epoch 5/30\n",
      "229/229 [==============================] - 10s 45ms/step - loss: 0.1307 - accuracy: 0.9477 - val_loss: 0.6421 - val_accuracy: 0.8107\n",
      "Epoch 6/30\n",
      "229/229 [==============================] - 10s 44ms/step - loss: 0.1241 - accuracy: 0.9508 - val_loss: 0.7104 - val_accuracy: 0.8147\n",
      "Epoch 7/30\n",
      "229/229 [==============================] - 10s 45ms/step - loss: 0.1306 - accuracy: 0.9489 - val_loss: 0.6727 - val_accuracy: 0.8128\n",
      "Epoch 8/30\n",
      "229/229 [==============================] - 10s 45ms/step - loss: 0.1234 - accuracy: 0.9510 - val_loss: 0.7059 - val_accuracy: 0.8126\n",
      "Epoch 9/30\n",
      "229/229 [==============================] - 10s 44ms/step - loss: 0.1140 - accuracy: 0.9543 - val_loss: 0.6786 - val_accuracy: 0.8108\n",
      "Epoch 10/30\n",
      "229/229 [==============================] - 10s 44ms/step - loss: 0.1145 - accuracy: 0.9541 - val_loss: 0.7252 - val_accuracy: 0.8140\n",
      "Epoch 11/30\n",
      "229/229 [==============================] - 10s 45ms/step - loss: 0.1121 - accuracy: 0.9554 - val_loss: 0.7313 - val_accuracy: 0.8071\n",
      "Epoch 12/30\n",
      "229/229 [==============================] - 10s 45ms/step - loss: 0.1088 - accuracy: 0.9562 - val_loss: 0.7483 - val_accuracy: 0.8100\n",
      "Epoch 13/30\n",
      "229/229 [==============================] - 10s 45ms/step - loss: 0.1090 - accuracy: 0.9568 - val_loss: 0.7442 - val_accuracy: 0.8101\n",
      "Epoch 14/30\n",
      "229/229 [==============================] - 10s 44ms/step - loss: 0.1114 - accuracy: 0.9558 - val_loss: 0.7513 - val_accuracy: 0.8076\n",
      "Epoch 15/30\n",
      "229/229 [==============================] - 10s 44ms/step - loss: 0.1051 - accuracy: 0.9585 - val_loss: 0.6627 - val_accuracy: 0.8084\n",
      "Epoch 16/30\n",
      "229/229 [==============================] - 10s 44ms/step - loss: 0.1067 - accuracy: 0.9577 - val_loss: 0.7500 - val_accuracy: 0.8120\n",
      "Epoch 17/30\n",
      "229/229 [==============================] - 10s 45ms/step - loss: 0.0988 - accuracy: 0.9601 - val_loss: 0.8098 - val_accuracy: 0.8080\n",
      "Epoch 18/30\n",
      "229/229 [==============================] - 10s 45ms/step - loss: 0.1006 - accuracy: 0.9600 - val_loss: 0.8018 - val_accuracy: 0.8078\n",
      "Epoch 19/30\n",
      "229/229 [==============================] - 10s 45ms/step - loss: 0.0954 - accuracy: 0.9623 - val_loss: 0.8057 - val_accuracy: 0.8057\n",
      "Epoch 20/30\n",
      "229/229 [==============================] - 10s 45ms/step - loss: 0.0992 - accuracy: 0.9604 - val_loss: 0.7321 - val_accuracy: 0.8131\n",
      "Epoch 21/30\n",
      "229/229 [==============================] - 10s 44ms/step - loss: 0.0923 - accuracy: 0.9633 - val_loss: 0.7922 - val_accuracy: 0.8076\n",
      "Epoch 22/30\n",
      "229/229 [==============================] - 10s 44ms/step - loss: 0.0924 - accuracy: 0.9632 - val_loss: 0.7589 - val_accuracy: 0.8086\n",
      "Epoch 23/30\n",
      "229/229 [==============================] - 10s 44ms/step - loss: 0.0915 - accuracy: 0.9643 - val_loss: 0.7992 - val_accuracy: 0.8115\n",
      "Epoch 24/30\n",
      "229/229 [==============================] - 10s 45ms/step - loss: 0.0906 - accuracy: 0.9644 - val_loss: 0.8039 - val_accuracy: 0.8098\n",
      "Epoch 25/30\n",
      "229/229 [==============================] - 10s 45ms/step - loss: 0.0903 - accuracy: 0.9646 - val_loss: 0.7940 - val_accuracy: 0.8123\n",
      "Epoch 26/30\n",
      "229/229 [==============================] - 10s 45ms/step - loss: 0.0874 - accuracy: 0.9655 - val_loss: 0.8179 - val_accuracy: 0.8075\n",
      "Epoch 27/30\n",
      "229/229 [==============================] - 10s 44ms/step - loss: 0.0869 - accuracy: 0.9662 - val_loss: 0.8445 - val_accuracy: 0.8089\n",
      "Epoch 28/30\n",
      "229/229 [==============================] - 10s 44ms/step - loss: 0.0852 - accuracy: 0.9670 - val_loss: 0.8929 - val_accuracy: 0.8058\n",
      "Epoch 29/30\n",
      "229/229 [==============================] - 10s 44ms/step - loss: 0.0846 - accuracy: 0.9668 - val_loss: 0.8737 - val_accuracy: 0.8054\n",
      "Epoch 30/30\n",
      "229/229 [==============================] - 10s 44ms/step - loss: 0.0827 - accuracy: 0.9677 - val_loss: 0.8993 - val_accuracy: 0.8098\n"
     ]
    }
   ],
   "source": [
    "model.compile(optimizer='adam',\n",
    "              loss='binary_crossentropy',\n",
    "              metrics=['accuracy'])\n",
    "\n",
    "history = model.fit(partial_X_train_bpe,\n",
    "                    partial_y_train_bpe,\n",
    "                    epochs=30,\n",
    "                    batch_size=512,\n",
    "                    validation_data=(X_val_bpe, y_val_bpe))"
   ]
  },
  {
   "cell_type": "code",
   "execution_count": 38,
   "id": "romantic-tracker",
   "metadata": {},
   "outputs": [],
   "source": [
    "history_dict = history.history"
   ]
  },
  {
   "cell_type": "code",
   "execution_count": 39,
   "id": "proprietary-lightning",
   "metadata": {},
   "outputs": [
    {
     "data": {
      "image/png": "[encoded data removed]",
      "text/plain": [
       "<Figure size 432x288 with 1 Axes>"
      ]
     },
     "metadata": {
      "needs_background": "light"
     },
     "output_type": "display_data"
    }
   ],
   "source": [
    "acc = history_dict['accuracy']\n",
    "val_acc = history_dict['val_accuracy']\n",
    "loss = history_dict['loss']\n",
    "val_loss = history_dict['val_loss']\n",
    "\n",
    "epochs = range(1, len(acc) + 1)\n",
    "\n",
    "# 빨간 실선으로 표시\n",
    "plt.plot(epochs, loss, 'r', label='Training loss')\n",
    "# 파란 실선으로 표시\n",
    "plt.plot(epochs, val_loss, 'b', label='Validation loss')\n",
    "plt.title('Training and validation loss')\n",
    "plt.xlabel('Epochs')\n",
    "plt.ylabel('Loss')\n",
    "plt.grid()\n",
    "plt.legend()\n",
    "\n",
    "plt.show()"
   ]
  },
  {
   "cell_type": "code",
   "execution_count": 40,
   "id": "modular-worst",
   "metadata": {},
   "outputs": [
    {
     "data": {
      "image/png": "[encoded data removed]",
      "text/plain": [
       "<Figure size 432x288 with 1 Axes>"
      ]
     },
     "metadata": {
      "needs_background": "light"
     },
     "output_type": "display_data"
    }
   ],
   "source": [
    "# 그림 초기화\n",
    "plt.clf() \n",
    "\n",
    "plt.plot(epochs, acc, 'bo', label='Training acc')\n",
    "plt.plot(epochs, val_acc, 'b', label='Validation acc')\n",
    "plt.title(\"Training and validation accuracy\")\n",
    "plt.xlabel('Epochs')\n",
    "plt.ylabel('Accuracy')\n",
    "plt.legend()\n",
    "\n",
    "plt.show()"
   ]
  },
  {
   "cell_type": "markdown",
   "id": "professional-martin",
   "metadata": {},
   "source": [
    "### (4) KoNLPy 형태소 분석기를 사용한 모델과 성능 비교하기"
   ]
  },
  {
   "cell_type": "code",
   "execution_count": 41,
   "id": "musical-memorial",
   "metadata": {},
   "outputs": [],
   "source": [
    "from konlpy.tag import Mecab"
   ]
  },
  {
   "cell_type": "code",
   "execution_count": 42,
   "id": "liquid-omega",
   "metadata": {},
   "outputs": [],
   "source": [
    "mecab = Mecab()"
   ]
  },
  {
   "cell_type": "code",
   "execution_count": 43,
   "id": "elegant-chair",
   "metadata": {},
   "outputs": [],
   "source": [
    "def mecab_split(sentence):\n",
    "    return mecab.morphs(sentence)\n",
    "\n",
    "mecab_corpus = []\n",
    "\n",
    "for kor in train_data['document']:\n",
    "    mecab_corpus.append(mecab_split(kor))"
   ]
  },
  {
   "cell_type": "code",
   "execution_count": 44,
   "id": "whole-society",
   "metadata": {},
   "outputs": [
    {
     "data": {
      "text/plain": [
       "[['아', '더', '빙', '진짜', '짜증', '나', '네요', '목소리'],\n",
       " ['흠', '포스터', '보고', '초딩', '영화', '줄', '오버', '연기', '조차', '가볍', '지', '않', '구나'],\n",
       " ['너무', '재', '밓었다그래서보는것을추천한다'],\n",
       " ['교도소', '이야기', '구먼', '솔직히', '재미', '는', '없', '다', '평점', '조정']]"
      ]
     },
     "execution_count": 44,
     "metadata": {},
     "output_type": "execute_result"
    }
   ],
   "source": [
    "mecab_corpus[:4]"
   ]
  },
  {
   "cell_type": "code",
   "execution_count": 45,
   "id": "formed-endorsement",
   "metadata": {},
   "outputs": [
    {
     "name": "stdout",
     "output_type": "stream",
     "text": [
      "193663\n"
     ]
    }
   ],
   "source": [
    "mecab_train_len_list = [len(token) for token in mecab_corpus]\n",
    "mecab_test_len_list = [len(token) for token in X_test]\n",
    "mecab_num_tokens = mecab_train_len_list + mecab_test_len_list\n",
    "print(len(mecab_num_tokens))"
   ]
  },
  {
   "cell_type": "code",
   "execution_count": 46,
   "id": "indie-boutique",
   "metadata": {},
   "outputs": [
    {
     "name": "stdout",
     "output_type": "stream",
     "text": [
      "문장 길이 평균 :  21.101294516763655\n",
      "문장 길이 최대 :  140\n",
      "문장 길이 최소 :  0\n",
      "문장 길이 표준편차 :  20.19083550414943\n"
     ]
    }
   ],
   "source": [
    "print('문장 길이 평균 : ', np.mean(mecab_num_tokens))\n",
    "print('문장 길이 최대 : ', np.max(mecab_num_tokens))\n",
    "print('문장 길이 최소 : ', np.min(mecab_num_tokens))\n",
    "print('문장 길이 표준편차 : ', np.std(mecab_num_tokens))"
   ]
  },
  {
   "cell_type": "code",
   "execution_count": 47,
   "id": "loving-clause",
   "metadata": {},
   "outputs": [
    {
     "name": "stdout",
     "output_type": "stream",
     "text": [
      "pad_sequences maxlen :  91\n",
      "전체 문장의 98.34093244450412%가 maxlen 설정값 이내에 포함됩니다.\n"
     ]
    }
   ],
   "source": [
    "mecab_max_tokens = np.mean(mecab_num_tokens) + 70\n",
    "mecab_maxlen = int(mecab_max_tokens)\n",
    "print('pad_sequences maxlen : ', mecab_maxlen)\n",
    "# 길이가 111인 문장이 약 25% 정도 되어 따로 삭제하지 않고 그대로 사용\n",
    "print(f'전체 문장의 {np.sum(mecab_num_tokens < mecab_max_tokens) / len(mecab_num_tokens)*100}%가 maxlen 설정값 이내에 포함됩니다.')"
   ]
  },
  {
   "cell_type": "code",
   "execution_count": 48,
   "id": "numerous-lecture",
   "metadata": {},
   "outputs": [],
   "source": [
    "def tokenize(corpus):  # corpus: Tokenized Sentence's List\n",
    "    tokenizer = tf.keras.preprocessing.text.Tokenizer(filters='')\n",
    "    tokenizer.fit_on_texts(corpus)\n",
    "\n",
    "    tensor = tokenizer.texts_to_sequences(corpus)\n",
    "    tensor = tf.keras.preprocessing.sequence.pad_sequences(tensor, padding='post')\n",
    "\n",
    "    return tensor, tokenizer"
   ]
  },
  {
   "cell_type": "code",
   "execution_count": 49,
   "id": "creative-great",
   "metadata": {},
   "outputs": [
    {
     "name": "stdout",
     "output_type": "stream",
     "text": [
      "MeCab Vocab Size: 51210\n"
     ]
    }
   ],
   "source": [
    "# 형태소 기반 토큰화를 진행한 후, 단어 사전의 길이 확인\n",
    "mecab_tensor, mecab_tokenizer = tokenize(mecab_corpus)\n",
    "print(\"MeCab Vocab Size:\", len(mecab_tokenizer.index_word))"
   ]
  },
  {
   "cell_type": "code",
   "execution_count": 50,
   "id": "wooden-thompson",
   "metadata": {},
   "outputs": [
    {
     "data": {
      "text/plain": [
       "144871"
      ]
     },
     "execution_count": 50,
     "metadata": {},
     "output_type": "execute_result"
    }
   ],
   "source": [
    "len(mecab_tensor)"
   ]
  },
  {
   "cell_type": "code",
   "execution_count": 51,
   "id": "sonic-neighbor",
   "metadata": {},
   "outputs": [
    {
     "data": {
      "text/plain": [
       "array([ 35,  78, 923,  41, 227,  22,  36, 721,   0,   0,   0,   0,   0,\n",
       "         0,   0,   0,   0,   0,   0,   0,   0,   0,   0,   0,   0,   0,\n",
       "         0,   0,   0,   0,   0,   0,   0,   0,   0,   0,   0,   0,   0,\n",
       "         0,   0,   0,   0,   0,   0,   0,   0,   0,   0,   0,   0,   0,\n",
       "         0,   0,   0,   0,   0,   0,   0,   0,   0,   0,   0,   0,   0,\n",
       "         0,   0,   0,   0,   0,   0,   0,   0,   0,   0,   0,   0,   0,\n",
       "         0,   0,   0,   0,   0,   0,   0,   0,   0,   0,   0,   0,   0,\n",
       "         0,   0,   0,   0], dtype=int32)"
      ]
     },
     "execution_count": 51,
     "metadata": {},
     "output_type": "execute_result"
    }
   ],
   "source": [
    "mecab_tensor[0]"
   ]
  },
  {
   "cell_type": "code",
   "execution_count": 52,
   "id": "sized-fiction",
   "metadata": {},
   "outputs": [],
   "source": [
    "tmp_x_test = mecab_tokenizer.texts_to_sequences(test_data['document'])\n",
    "tmp_x_test = tf.keras.preprocessing.sequence.pad_sequences(tmp_x_test, padding='post')"
   ]
  },
  {
   "cell_type": "code",
   "execution_count": 53,
   "id": "delayed-valve",
   "metadata": {},
   "outputs": [
    {
     "data": {
      "text/plain": [
       "array([809, 132,   0,   0,   0,   0,   0,   0,   0,   0,   0,   0,   0,\n",
       "         0,   0,   0,   0,   0,   0,   0,   0,   0,   0,   0,   0,   0,\n",
       "         0,   0,   0,   0,   0,   0,   0], dtype=int32)"
      ]
     },
     "execution_count": 53,
     "metadata": {},
     "output_type": "execute_result"
    }
   ],
   "source": [
    "tmp_x_test[0]"
   ]
  },
  {
   "cell_type": "code",
   "execution_count": 54,
   "id": "formed-royalty",
   "metadata": {},
   "outputs": [],
   "source": [
    "mecab_x_train = mecab_tensor\n",
    "mecab_y_train = np.array(train_data['label'])\n",
    "mecab_x_test = tmp_x_test\n",
    "mecab_y_test = np.array(test_data['label'])"
   ]
  },
  {
   "cell_type": "code",
   "execution_count": 55,
   "id": "violent-steel",
   "metadata": {},
   "outputs": [
    {
     "name": "stdout",
     "output_type": "stream",
     "text": [
      "144871 144871\n",
      "48792 48792\n"
     ]
    }
   ],
   "source": [
    "print(len(mecab_x_train), len(mecab_y_train))\n",
    "print(len(mecab_x_test), len(mecab_y_test))"
   ]
  },
  {
   "cell_type": "code",
   "execution_count": 56,
   "id": "apart-passion",
   "metadata": {},
   "outputs": [
    {
     "name": "stdout",
     "output_type": "stream",
     "text": [
      "<class 'numpy.ndarray'> <class 'numpy.ndarray'>\n",
      "<class 'numpy.ndarray'> <class 'numpy.ndarray'>\n"
     ]
    }
   ],
   "source": [
    "print(type(mecab_x_train), type(mecab_y_train))\n",
    "print(type(mecab_x_test), type(mecab_y_test))"
   ]
  },
  {
   "cell_type": "code",
   "execution_count": 57,
   "id": "refined-courage",
   "metadata": {},
   "outputs": [
    {
     "data": {
      "text/plain": [
       "array([[   35,    78,   923, ...,     0,     0,     0],\n",
       "       [ 1006,   500,   513, ...,     0,     0,     0],\n",
       "       [   26,   204, 29147, ...,     0,     0,     0],\n",
       "       ...,\n",
       "       [  152,    90,   194, ...,     0,     0,     0],\n",
       "       [ 1021,     3,     8, ...,     0,     0,     0],\n",
       "       [  180,     3,  1890, ...,     0,     0,     0]], dtype=int32)"
      ]
     },
     "execution_count": 57,
     "metadata": {},
     "output_type": "execute_result"
    }
   ],
   "source": [
    "mecab_x_train"
   ]
  },
  {
   "cell_type": "code",
   "execution_count": 58,
   "id": "based-sellers",
   "metadata": {},
   "outputs": [
    {
     "name": "stdout",
     "output_type": "stream",
     "text": [
      "51210\n"
     ]
    }
   ],
   "source": [
    "# check\n",
    "ch_max = 0\n",
    "for x in mecab_x_train:\n",
    "    tmp = max(x)\n",
    "    if tmp > ch_max:\n",
    "        ch_max = tmp\n",
    "print(ch_max)"
   ]
  },
  {
   "cell_type": "code",
   "execution_count": 59,
   "id": "aggregate-mother",
   "metadata": {
    "scrolled": true
   },
   "outputs": [
    {
     "name": "stdout",
     "output_type": "stream",
     "text": [
      "Model: \"sequential\"\n",
      "_________________________________________________________________\n",
      "Layer (type)                 Output Shape              Param #   \n",
      "=================================================================\n",
      "embedding_2 (Embedding)      (None, None, 16)          819376    \n",
      "_________________________________________________________________\n",
      "lstm_4 (LSTM)                (None, 8)                 800       \n",
      "_________________________________________________________________\n",
      "dense_2 (Dense)              (None, 8)                 72        \n",
      "_________________________________________________________________\n",
      "dense_3 (Dense)              (None, 1)                 9         \n",
      "=================================================================\n",
      "Total params: 820,257\n",
      "Trainable params: 820,257\n",
      "Non-trainable params: 0\n",
      "_________________________________________________________________\n"
     ]
    }
   ],
   "source": [
    "# 모델 생성\n",
    "word_vector_dim = 16\n",
    "\n",
    "model2 = keras.Sequential()\n",
    "model2.add(keras.layers.Embedding(ch_max+1, word_vector_dim, input_shape=(None,)))\n",
    "model2.add(keras.layers.LSTM(8))\n",
    "model2.add(keras.layers.Dense(8, activation='relu'))\n",
    "model2.add(keras.layers.Dense(1, activation='sigmoid'))\n",
    "\n",
    "model2.summary()"
   ]
  },
  {
   "cell_type": "code",
   "execution_count": 60,
   "id": "black-processor",
   "metadata": {},
   "outputs": [
    {
     "name": "stdout",
     "output_type": "stream",
     "text": [
      "Epoch 1/20\n",
      "227/227 [==============================] - 7s 23ms/step - loss: 0.6932 - accuracy: 0.5022 - val_loss: 0.6931 - val_accuracy: 0.5040\n",
      "Epoch 2/20\n",
      "227/227 [==============================] - 5s 21ms/step - loss: 0.6932 - accuracy: 0.4995 - val_loss: 0.6931 - val_accuracy: 0.5040\n",
      "Epoch 3/20\n",
      "227/227 [==============================] - 5s 21ms/step - loss: 0.6931 - accuracy: 0.5041 - val_loss: 0.6931 - val_accuracy: 0.5040\n",
      "Epoch 4/20\n",
      "227/227 [==============================] - 5s 21ms/step - loss: 0.6932 - accuracy: 0.4992 - val_loss: 0.6932 - val_accuracy: 0.4960\n",
      "Epoch 5/20\n",
      "227/227 [==============================] - 5s 21ms/step - loss: 0.6932 - accuracy: 0.4971 - val_loss: 0.6931 - val_accuracy: 0.5040\n",
      "Epoch 6/20\n",
      "227/227 [==============================] - 5s 21ms/step - loss: 0.6931 - accuracy: 0.4979 - val_loss: 0.6931 - val_accuracy: 0.5040\n",
      "Epoch 7/20\n",
      "227/227 [==============================] - 5s 21ms/step - loss: 0.6931 - accuracy: 0.5021 - val_loss: 0.6931 - val_accuracy: 0.5040\n",
      "Epoch 8/20\n",
      "227/227 [==============================] - 5s 21ms/step - loss: 0.6932 - accuracy: 0.4992 - val_loss: 0.6931 - val_accuracy: 0.5040\n",
      "Epoch 9/20\n",
      "227/227 [==============================] - 5s 21ms/step - loss: 0.6932 - accuracy: 0.5001 - val_loss: 0.6931 - val_accuracy: 0.5040\n",
      "Epoch 10/20\n",
      "227/227 [==============================] - 5s 21ms/step - loss: 0.6931 - accuracy: 0.5014 - val_loss: 0.6931 - val_accuracy: 0.5040\n",
      "Epoch 11/20\n",
      "227/227 [==============================] - 5s 21ms/step - loss: 0.6931 - accuracy: 0.5040 - val_loss: 0.6931 - val_accuracy: 0.5040\n",
      "Epoch 12/20\n",
      "227/227 [==============================] - 5s 21ms/step - loss: 0.6931 - accuracy: 0.4985 - val_loss: 0.6931 - val_accuracy: 0.5040\n",
      "Epoch 13/20\n",
      "227/227 [==============================] - 5s 21ms/step - loss: 0.6904 - accuracy: 0.5116 - val_loss: 0.6478 - val_accuracy: 0.6156\n",
      "Epoch 14/20\n",
      "227/227 [==============================] - 5s 21ms/step - loss: 0.6433 - accuracy: 0.6288 - val_loss: 0.6358 - val_accuracy: 0.6527\n",
      "Epoch 15/20\n",
      "227/227 [==============================] - 5s 21ms/step - loss: 0.6777 - accuracy: 0.5521 - val_loss: 0.6928 - val_accuracy: 0.4984\n",
      "Epoch 16/20\n",
      "227/227 [==============================] - 5s 21ms/step - loss: 0.6924 - accuracy: 0.5029 - val_loss: 0.6932 - val_accuracy: 0.4960\n",
      "Epoch 17/20\n",
      "227/227 [==============================] - 5s 21ms/step - loss: 0.6932 - accuracy: 0.4985 - val_loss: 0.6931 - val_accuracy: 0.5040\n",
      "Epoch 18/20\n",
      "227/227 [==============================] - 5s 21ms/step - loss: 0.6931 - accuracy: 0.4998 - val_loss: 0.6931 - val_accuracy: 0.5040\n",
      "Epoch 19/20\n",
      "227/227 [==============================] - 5s 21ms/step - loss: 0.6932 - accuracy: 0.4994 - val_loss: 0.6931 - val_accuracy: 0.5040\n",
      "Epoch 20/20\n",
      "227/227 [==============================] - 5s 21ms/step - loss: 0.6931 - accuracy: 0.5009 - val_loss: 0.6931 - val_accuracy: 0.5040\n"
     ]
    }
   ],
   "source": [
    "model2.compile(optimizer='adam', loss='binary_crossentropy', metrics=['accuracy'])\n",
    "history_mecab = model2.fit(mecab_x_train, mecab_y_train, epochs=20, batch_size=512, validation_split=0.2, verbose=1)"
   ]
  },
  {
   "cell_type": "code",
   "execution_count": 61,
   "id": "vocational-municipality",
   "metadata": {},
   "outputs": [
    {
     "name": "stdout",
     "output_type": "stream",
     "text": [
      "1525/1525 - 5s - loss: 0.6932 - accuracy: 0.4975\n"
     ]
    }
   ],
   "source": [
    "results_mecab = model2.evaluate(mecab_x_test,  mecab_y_test, verbose=2)"
   ]
  },
  {
   "cell_type": "markdown",
   "id": "passing-prince",
   "metadata": {},
   "source": [
    "## 평가기준\n",
    "- 아래의 기준을 바탕으로 평가\n",
    "\n",
    "|평가문항|상세기준|\n",
    "|---|---|\n",
    "|1. SentencePice를 이용하여 모델을 만들기까지의 과정이 정상적으로 진행되었는가?|코퍼스 분석, 전처리, SentencePiece 적용, 토크나이저 구현 및 동작이 빠짐없이 진행되었는가|\n",
    "|2. SentencePiece를 통해 만든 Tokenizer가 자연어처리 모델과 결합하여 동작하는가?|SentencePiece 토크나이저가 적용된 Text Classifier 모델이 정상적으로 수렴하여 80% 이상의 test accuracy가 확인되었는가|\n",
    "|3. SentencePiece의 성능을 다각도로 비교분석하였는가?|SentencePiece 토크나이저를 활용했을 때의 성능을 다른 토크나이저 혹은 SentencePiece의 다른 옵션의 경우와 비교하여 분석을 체계적으로 진행하였는가|"
   ]
  }
 ],
 "metadata": {
  "kernelspec": {
   "display_name": "Python 3",
   "language": "python",
   "name": "python3"
  },
  "language_info": {
   "codemirror_mode": {
    "name": "ipython",
    "version": 3
   },
   "file_extension": ".py",
   "mimetype": "text/x-python",
   "name": "python",
   "nbconvert_exporter": "python",
   "pygments_lexer": "ipython3",
   "version": "3.7.9"
  }
 },
 "nbformat": 4,
 "nbformat_minor": 5
}
