{
 "cells": [
  {
   "cell_type": "markdown",
   "id": "sporting-documentary",
   "metadata": {},
   "source": [
    "# 10. Transformer로 번역기 만들기"
   ]
  },
  {
   "cell_type": "markdown",
   "id": "informational-general",
   "metadata": {},
   "source": [
    "## 목차\n",
    "- 1. 들어가며\n",
    "- 2. 내부 모듈 구현하기\n",
    "- 3. 모듈 조립하기\n",
    "- 4. 모델 밖의 조력자들"
   ]
  },
  {
   "cell_type": "markdown",
   "id": "featured-minority",
   "metadata": {},
   "source": [
    "## 1. 들어가며"
   ]
  },
  {
   "cell_type": "markdown",
   "id": "remarkable-round",
   "metadata": {},
   "source": [
    "- 트랜스포머는 현재까지도 각종 번역 부문에서 최고의 성능을 자랑하는 모델\n",
    "- 트랜스포머로 번역기 만들어보기\n",
    "- 트랜스포머 모델은 NLP 분야에서는 어느 곳에도 빠지지 않는 가장 중요한 모델 구조의 근간이 되기 때문에, 구현 실습을 통해 트랜스포머의 구조 꼼꼼히 파악해 보기"
   ]
  },
  {
   "cell_type": "markdown",
   "id": "fifty-hudson",
   "metadata": {},
   "source": [
    "### 준비물\n",
    "- 터미널을 열고 프로젝트를 위한 디렉토리 생성해 보기\n",
    "- ```python\n",
    "$ mkdir -p ~/aiffel/transformer\n",
    "```\n",
    "- 실습에서는 한국어가 포함된 말뭉치를 사용하므로, 한국어를 잘 시각화기 위한 준비가 필요\n",
    "- 다만 'matplotlib' 라이브러리의 기본 폰트는 한국어를 지원하지 않음\n",
    "- 올바른 Attention Map을 확인하기 위해 한국어를 지원하는 폰트로 변경해 주기\n",
    "<br>\n",
    "\n",
    "- 아직 컴퓨터에 글꼴이 설치되어 있지 않다면, 터미널에서 나눔 글꼴을 설치\n",
    "- ```python\n",
    "$ sudo apt -qq -y install fonts-nanum\n",
    "```\n",
    "- 아래 코드를 실행\n",
    "- 앞으로 필요한 경우 한글을 실행해야 할 때 미리 한 번씩 실행해 주기"
   ]
  },
  {
   "cell_type": "code",
   "execution_count": 1,
   "id": "allied-champion",
   "metadata": {},
   "outputs": [],
   "source": [
    "import matplotlib as mpl\n",
    "import matplotlib.pyplot as plt\n",
    "import matplotlib.font_manager as fm\n",
    "\n",
    "%config InlineBackend.figure_format = 'retina'\n",
    "\n",
    "fontpath = '/usr/share/fonts/truetype/nanum/NanumBarunGothic.ttf'\n",
    "font = fm.FontProperties(fname = fontpath, size=9)\n",
    "plt.rc('font', family ='NanumBarunGothic') \n",
    "mpl.font_manager._rebuild()"
   ]
  },
  {
   "cell_type": "markdown",
   "id": "clinical-architect",
   "metadata": {},
   "source": [
    "## 2. 내부 모듈 구현하기"
   ]
  },
  {
   "cell_type": "markdown",
   "id": "intellectual-coach",
   "metadata": {},
   "source": [
    "- 트랜스포머를 완성하는 데에 필요한 모듈들을 하나씩 만든 후, 조립하여 완성하는 방식으로 진행\n",
    "<br>\n",
    "\n",
    "- Tensor로 변환된 입력 데이터가 주어졌다고 가정하고 흐름을 생각해 보기\n",
    "- 최초의 텍스트 입력 데이터는 \\[batch_size x length\\]의 형태를 가지고 있음\n",
    "- 번역이 끝나고 난 최종 출력 데이터는 \\[batch_size x length x vocab_size\\]의 형태를 가지게 됨\n",
    "- 번역 문제는 결국 매 스텝마다 'vocab_size' 만큼의 클래스 개수 중에 적당한 단어를 선택하는 작업을 'length'만큼 반복하는 것\n",
    "- 모델 구성하는 과정에서 레이어를 통과할 때마다 텐서의 shape가 어떻게 바뀌는지 눈여겨보기\n",
    "\n",
    "=====================================================================================================================================\n",
    "- 1. 입력 데이터 -> \\[batch_size x length\\]\n",
    "- 2. Source & Target Embedding -> \\[batch_size x length x d_emb\\]\n",
    "- 3. **Positional Encoding** 강의 노드에서 구현. 2번의 결과에 더해지므로 shape 변화는 없음\n",
    "- 4. **Multi-Head Attention** 아래와 같이 여러 개의 서브 모듈들이 존재\n",
    "    - 1) **Split Heads** -> \\[batch_size x length x heads x (d_emb / n_heads)\\]\n",
    "    - 2) **Masking for Masked Attention**\n",
    "    - 3) **Scaled Dot Product Attention**\n",
    "    - 4) **Combine Heads** -> \\[batch_size x length x d_emb\\]\n",
    "- 5. Residual Connection\n",
    "- 6. Layer Normalization\n",
    "- 7. **Position-wise Feed-Forward Network** -> \\[batch_size x length x d_ff\\]\n",
    "- 8. Output Linear Layer -> \\[batch_size x length x vocab_size\\]\n",
    "\n",
    "=====================================================================================================================================\n",
    "\n",
    "- **굵게** 표시된 모듈을 제외하면 나머지는 텐서플로우 내부에 이미 구현체가 포함되어 있어서 간단하게 사용할 수 있음\n",
    "- **Positional Encoding**부터 시작\n",
    "<br>\n",
    "\n",
    "- 프로젝트에 사용될 라이브러리를 먼저 'import' 해주기"
   ]
  },
  {
   "cell_type": "code",
   "execution_count": 2,
   "id": "earlier-blair",
   "metadata": {},
   "outputs": [
    {
     "name": "stdout",
     "output_type": "stream",
     "text": [
      "2.4.1\n"
     ]
    }
   ],
   "source": [
    "import numpy as np\n",
    "import tensorflow as tf\n",
    "import matplotlib.pyplot as plt\n",
    "\n",
    "import re\n",
    "import os\n",
    "import io\n",
    "import time\n",
    "import random\n",
    "\n",
    "# Attention 시각화를 위해 필요!\n",
    "import seaborn \n",
    "\n",
    "print(tf.__version__)"
   ]
  },
  {
   "cell_type": "markdown",
   "id": "stone-piano",
   "metadata": {},
   "source": [
    "### Positional Encoding"
   ]
  },
  {
   "cell_type": "markdown",
   "id": "frank-mechanics",
   "metadata": {},
   "source": [
    "![positional_encoding.png](./images/positional_encoding.png)\n",
    "<br>\n",
    "\n",
    "- 가장 먼저 구현할 Positional Encoding"
   ]
  },
  {
   "cell_type": "code",
   "execution_count": 3,
   "id": "severe-prayer",
   "metadata": {},
   "outputs": [],
   "source": [
    "def positional_encoding(pos, d_model):\n",
    "    def cal_angle(position, i):\n",
    "        return position / np.power(10000, int(i) / d_model)\n",
    "\n",
    "    def get_posi_angle_vec(position):\n",
    "        return [cal_angle(position, i) for i in range(d_model)]\n",
    "\n",
    "    sinusoid_table = np.array([get_posi_angle_vec(pos_i) for pos_i in range(pos)])\n",
    "    sinusoid_table[:, 0::2] = np.sin(sinusoid_table[:, 0::2])\n",
    "    sinusoid_table[:, 1::2] = np.cos(sinusoid_table[:, 1::2])\n",
    "    return sinusoid_table"
   ]
  },
  {
   "cell_type": "markdown",
   "id": "extraordinary-finger",
   "metadata": {},
   "source": [
    "### Multi-Head Attention\n",
    "![multi_head_attention.png](./images/multi_head_attention.png)\n",
    "- Multi-Head Attention은 여러 개의 서브 모듈을 결합하여 완성됨\n",
    "- Embedding된 입력을 **Head 수로 본할**하는 'split_heads()', 분할된 입력으로부터 **Attention 값을 구하는** 'scaled_dot_product_attention()', 연산이 종료되고 분할된 **Head를 다시 하나로 결합**시켜주는 'combine_heads()'까지 'MultiHeadAttention' 클래스를 정의하여 모두 포함시켜줄 것\n",
    "<br>\n",
    "\n",
    "- 마스크의 형태를 결정하는 것이 모델 외부의 훈련 데이터이기 때문에 그를 생성하는 함수는 'MultiHeadAttention' 외부에 정의되는 것이 올바름\n",
    "- 마스크를 생성하는 함수는 모델을 완성한 후에 구현\n",
    "- 대신 생성된 마스크를 처리할 수 있도록 'scaled_dot_product_attention()'에는 아래 한 줄을 포함\n",
    "- scaled_qk: Attention을 위한 Softmax 직전의 Scaled QK\n",
    "- ```python\n",
    "if mask is not None:\n",
    "    scaled_qk += (mask * -1e9)\n",
    "```"
   ]
  },
  {
   "cell_type": "code",
   "execution_count": 4,
   "id": "regulated-cookie",
   "metadata": {},
   "outputs": [],
   "source": [
    "class MultiHeadAttention(tf.keras.layers.Layer):\n",
    "    def __init__(self, d_model, num_heads):\n",
    "        super(MultiHeadAttention, self).__init__()\n",
    "        self.num_heads = num_heads\n",
    "        self.d_model = d_model\n",
    "        \n",
    "        self.depth = d_model // self.num_heads\n",
    "        \n",
    "        # Linear Layer\n",
    "        self.W_q = tf.keras.layers.Dense(d_model) \n",
    "        self.W_k = tf.keras.layers.Dense(d_model)\n",
    "        self.W_v = tf.keras.layers.Dense(d_model)\n",
    "        \n",
    "        self.linear = tf.keras.layers.Dense(d_model)\n",
    "\n",
    "    def scaled_dot_product_attention(self, Q, K, V, mask):\n",
    "        d_k = tf.cast(K.shape[-1], tf.float32)\n",
    "\n",
    "        \"\"\"\n",
    "        Scaled QK 값 구하기\n",
    "        \"\"\"\n",
    "        QK = tf.matmul(Q, K, transpose_b = True)\n",
    "\n",
    "        if mask is not None: scaled_qk += (mask * -1e9) \n",
    "\n",
    "        \"\"\"\n",
    "        1. Attention Weights 값 구하기 -> attentions\n",
    "        2. Attention 값을 V에 곱하기 -> out\n",
    "        \"\"\" \n",
    "        attentions = tf.nn.softmax(scaled_qk, axis = 1)\n",
    "        out = tf.matmul(attentions, V)\n",
    "\n",
    "        return out, attentions\n",
    "        \n",
    "\n",
    "    def split_heads(self, x):\n",
    "        \"\"\"\n",
    "        Embedding을 Head의 수로 분할하는 함수\n",
    "\n",
    "        x: [ batch x length x emb ]\n",
    "        return: [ batch x length x heads x self.depth ]\n",
    "        \"\"\"\n",
    "        batch_size = x.shape[0]\n",
    "        split_x = tf.reshape(x, (batch_size, -1, self.num_heads, self.depth))\n",
    "        split_x = tf.transpose(split_x, perm = [0, 2, 1, 3])\n",
    "        \n",
    "        return split_x\n",
    "\n",
    "    def combine_heads(self, x):\n",
    "        \"\"\"\n",
    "        분할된 Embedding을 하나로 결합하는 함수\n",
    "\n",
    "        x: [ batch x length x heads x self.depth ]\n",
    "        return: [ batch x length x emb ]\n",
    "        \"\"\"\n",
    "        batch_size = x.shape[0]\n",
    "        combined_x = tf.transpose(x, perm = [0, 2, 1, 3])\n",
    "        combined_x = tf.reshape(combined_x, (batch_size, -1, self.d_model))\n",
    "        \n",
    "        return combined_x\n",
    "    \n",
    "\n",
    "    def call(self, Q, K, V, mask):\n",
    "        \"\"\"\n",
    "        아래 순서에 따라 소스를 작성하세요.\n",
    "\n",
    "        Step 1: Linear_in(Q, K, V) -> WQ, WK, WV\n",
    "        Step 2: Split Heads(WQ, WK, WV) -> WQ_split, WK_split, WV_split\n",
    "        Step 3: Scaled Dot Product Attention(WQ_split, WK_split, WV_split)\n",
    "                 -> out, attention_weights\n",
    "        Step 4: Combine Heads(out) -> out\n",
    "        Step 5: Linear_out(out) -> out\n",
    "\n",
    "        \"\"\"\n",
    "        WQ = self.W_q(Q)\n",
    "        WK = self.W_k(K)\n",
    "        WV = self.W_v(V)\n",
    "        \n",
    "        WQ_splits = self.split_heads(WQ)\n",
    "        WK_splits = self.split_heads(WK)\n",
    "        WV_splits = self.split_heads(WV)\n",
    "        \n",
    "        out, attention_weights = self.scaled_dot_product_attention(WQ_splits, WK_splits, WV_splits, mask)\n",
    "        \n",
    "        out = self.combine_heads(out)\n",
    "        out = self.linear(out)\n",
    "\n",
    "        return out, attention_weights"
   ]
  },
  {
   "cell_type": "markdown",
   "id": "spare-palmer",
   "metadata": {},
   "source": [
    "### Position-wise Feed-Forward Network\n",
    "![position_wise_feed_forward_network.png](./images/position_wise_feed_forward_network.png)\n",
    "<br>\n",
    "\n",
    "- **Position-wise Feed-Forward Network**는 논문 설명에서도 아주 간략하게 적혀 있었음\n",
    "- 구현도 아주 쉬운편"
   ]
  },
  {
   "cell_type": "code",
   "execution_count": 5,
   "id": "homeless-jenny",
   "metadata": {},
   "outputs": [],
   "source": [
    "class PoswiseFeedForwardNet(tf.keras.layers.Layer):\n",
    "    def __init__(self, d_model, d_ff):\n",
    "        super(PoswiseFeedForwardNet, self).__init__()\n",
    "        self.w_1 = tf.keras.layers.Dense(d_ff, activation='relu')\n",
    "        self.w_2 = tf.keras.layers.Dense(d_model)\n",
    "\n",
    "    def call(self, x):\n",
    "        out = self.w_1(x)\n",
    "        out = self.w_2(out)\n",
    "            \n",
    "        return out"
   ]
  },
  {
   "cell_type": "markdown",
   "id": "floral-publicity",
   "metadata": {},
   "source": [
    "- 'd_ff'는 논문의 설명대로라도 2048일 거고, 'd_model'은 512\n",
    "- \\[batch x length x d_model\\]의 입력을 받아 'w_1'이 2048 차원으로 매핑하고 활성함수 ReLU를 적용한 후, 다시 'w_2'를 통해 512차원으로 되돌리는 과정\n",
    "- 이렇게 FNN 완성"
   ]
  },
  {
   "cell_type": "markdown",
   "id": "administrative-scene",
   "metadata": {},
   "source": [
    "## 3. 모듈 조립하기"
   ]
  },
  {
   "cell_type": "markdown",
   "id": "informal-arbor",
   "metadata": {},
   "source": [
    "- 내부에 포함될 모듈들을 모두 완성했음\n",
    "- 이 모든 모듈들을 가지고 트랜스포머를 완성할 수 있는데, 정확하게는 트랜스포머의 **Encoder** 한 층과 **Decoder** 한 층을 각각 완성할 수 있음\n",
    "<br>\n",
    "\n",
    "- 이만큼의 코드를 5번 더 짜야 여섯 층짜리 논문 속 트랜스포머가 완성되는가?\n",
    "- 보다 효율적인 방법으로 트랜스포머 완성할 예정\n",
    "![표.png](./images/표.png)\n",
    "- \\<Attention Is All You Need\\> 논문에 포함된 이 표는 트랜스포머가 얼마나 많은 실험을 통해서 탄생한 모델인지 보여줌\n",
    "- 이런 실험이 가능하게 하려면 모델이 동적으로 완성될 수 있게끔 해야 함\n",
    "- 즉, 레이어 수를 원하는 만큼 쌓아 실험을 자유자재로 할 수 있게 모델을 완성하자는 것\n",
    "<br>\n",
    "\n",
    "- 방법은 단순\n",
    "- 마치 텐서플로우의 'Dense' 레이어를 사용하듯이 'EncoderLayer', 'DecoderLayer'를 쓸 수 있게 'tf.keras.layers.Layer' 클래스를 상속받아 레이어 클래스로 정의해 주면 됨\n",
    "- 바로 직전의 'MultiHeadAttention'이 그렇게 정의된 레이어\n",
    "- 이 방법을 사용하면 아래와 같은 용법으로 트래스포머 레이어 사용할 수 있음\n",
    "\n",
    "```python\n",
    "N = 10\n",
    "\n",
    "# 10개의 Linear Layer를 한 방에!\n",
    "linear_layers = [tf.keras.layers.Dense(30) for _ in range(N)]\n",
    "\n",
    "# 10개의 Endoer Layer도 한 방에!\n",
    "enc_layers = [TransformerEncoderLayer(30) for _ in range(N)]\n",
    "```"
   ]
  },
  {
   "cell_type": "markdown",
   "id": "disciplinary-simple",
   "metadata": {},
   "source": [
    "### Encoder 레이어 구현하기\n",
    "- 본격적으로 Layer 디자인해보기\n",
    "- 먼저 'EncoderLayer' 구현 해보기\n",
    "- 이를 참고해 'DecoderLayer' 구현 해보기"
   ]
  },
  {
   "cell_type": "code",
   "execution_count": 6,
   "id": "pleasant-water",
   "metadata": {},
   "outputs": [
    {
     "name": "stdout",
     "output_type": "stream",
     "text": [
      "슝=3\n"
     ]
    }
   ],
   "source": [
    "class EncoderLayer(tf.keras.layers.Layer):\n",
    "    def __init__(self, d_model, n_heads, d_ff, dropout):\n",
    "        super(EncoderLayer, self).__init__()\n",
    "\n",
    "        self.enc_self_attn = MultiHeadAttention(d_model, n_heads)\n",
    "        self.ffn = PoswiseFeedForwardNet(d_model, d_ff)\n",
    "\n",
    "        self.norm_1 = tf.keras.layers.LayerNormalization(epsilon=1e-6)\n",
    "        self.norm_2 = tf.keras.layers.LayerNormalization(epsilon=1e-6)\n",
    "\n",
    "        self.dropout = tf.keras.layers.Dropout(dropout)\n",
    "        \n",
    "    def call(self, x, mask):\n",
    "\n",
    "        \"\"\"\n",
    "        Multi-Head Attention\n",
    "        \"\"\"\n",
    "        residual = x\n",
    "        out = self.norm_1(x)\n",
    "        out, enc_attn = self.enc_self_attn(out, out, out, mask)\n",
    "        out = self.dropout(out)\n",
    "        out += residual\n",
    "        \n",
    "        \"\"\"\n",
    "        Position-Wise Feed Forward Network\n",
    "        \"\"\"\n",
    "        residual = out\n",
    "        out = self.norm_2(out)\n",
    "        out = self.ffn(out)\n",
    "        out = self.dropout(out)\n",
    "        out += residual\n",
    "        \n",
    "        return out, enc_attn\n",
    "\n",
    "print(\"슝=3\")"
   ]
  },
  {
   "cell_type": "markdown",
   "id": "center-skiing",
   "metadata": {},
   "source": [
    "- Transformer의 구현은 정말 많은데, 그중에서 **Normalization Layer의 위치**에 대한 논의가 종종 나옴\n",
    "- 실제 논문에서는 \\[Input\\] - \\[Module\\] - \\[Residual\\] - \\[Norm\\](Module = MHA, FFN)으로 표현되어 있지만 정작 Official 구현인 구굴의 Tensor2Tensor에서는 \\[Input\\] - \\[Norm\\]- \\[Module\\] - \\[Residual\\] 방식을 사용했음\n",
    "<br>\n",
    "\n",
    "- 레이어가 많아질수록 후자가 약간 더 좋은 성능을 보였기에 논문 대신 Official 구현을 따르길 권장\n",
    "- 이번 프로젝트는 소규모라서 큰 차이가 나지 않으니 알아두기만 해도 괜찮음\n",
    "<br>\n",
    "\n",
    "- 트랜스포머의 Layer Normalization의 위치에 대한 논의를 다룬 [On Layer Normalizatoin in the Transformer Architecture](https://arxiv.org/pdf/2002.04745.pdf)이라는 제목의 논문이 2020년 초반에 발표되었음\n",
    "- 이 논문에서는 모듈 앞에 Normalization Layer를 두는 pre-LN 방식이 왜 유리한지를 설명하고 있음"
   ]
  },
  {
   "cell_type": "markdown",
   "id": "meaningful-travel",
   "metadata": {},
   "source": [
    "### Decoder 레이어 구현하기\n",
    "- 위 'EncoderLayer' 클래스를 참고해여 'DecoderLyaer' 클래스를 완성하기\n",
    "- (참고: Decoder에서는 2번의 Attention이 진행되니 반환되는 Attentioneh 2개)"
   ]
  },
  {
   "cell_type": "code",
   "execution_count": 7,
   "id": "centered-gregory",
   "metadata": {},
   "outputs": [],
   "source": [
    "class DecoderLayer(tf.keras.layers.Layer):\n",
    "    def __init__(self, d_model, num_heads, d_ff, dropout):\n",
    "        super(DecoderLayer, self).__init__()\n",
    "\n",
    "        self.dec_self_attn = MultiHeadAttention(d_model, num_heads)\n",
    "        self.enc_dec_attn = MultiHeadAttention(d_model, num_heads)\n",
    "\n",
    "        self.ffn = PoswiseFeedForwardNet(d_model, d_ff)\n",
    "\n",
    "        self.norm_1 = tf.keras.layers.LayerNormalization(epsilon=1e-6)\n",
    "        self.norm_2 = tf.keras.layers.LayerNormalization(epsilon=1e-6)\n",
    "        self.norm_3 = tf.keras.layers.LayerNormalization(epsilon=1e-6)\n",
    "\n",
    "        self.dropout = tf.keras.layers.Dropout(dropout)\n",
    "    \n",
    "    def call(self, x, enc_out, causality_mask, padding_mask):\n",
    "\n",
    "        \"\"\"\n",
    "        Masked Multi-Head Attention\n",
    "        \"\"\"\n",
    "        residual = x\n",
    "        out = self.norm_1(x)\n",
    "        out, dec_attn = self.dec_self_attn(out, out, out, causality_mask)\n",
    "        out = self.dropout(out)\n",
    "        out += residual\n",
    "\n",
    "        \"\"\"\n",
    "        Multi-Head Attention\n",
    "        \"\"\"\n",
    "        residual = out\n",
    "        out = self.norm_2(out)\n",
    "        out, dec_enc_attn = self.enc_dec_attn(out, enc_out, enc_out, padding_mask)\n",
    "        out = self.dropout(out)\n",
    "        out += residual\n",
    "        \n",
    "        \"\"\"\n",
    "        Position-Wise Feed Forward Network\n",
    "        \"\"\"\n",
    "        residual = out\n",
    "        out = self.norm_3(out)\n",
    "        out = self.ffn(out)\n",
    "        out = self.dropout(out)\n",
    "        out += residual\n",
    "\n",
    "        return out, dec_attn, dec_enc_attn"
   ]
  },
  {
   "cell_type": "markdown",
   "id": "fourth-question",
   "metadata": {},
   "source": [
    "- 'EncoderLayer'와 'DecoderLayer'를 모두 정의했으니 이를 조립하는 것은 어렵지 않음\n",
    "- 이를 이용해 'Encoder'와 'Decoder' 클래스 정의하기"
   ]
  },
  {
   "cell_type": "code",
   "execution_count": 8,
   "id": "different-specific",
   "metadata": {},
   "outputs": [
    {
     "name": "stdout",
     "output_type": "stream",
     "text": [
      "슝=3\n"
     ]
    }
   ],
   "source": [
    "class Encoder(tf.keras.Model):\n",
    "    def __init__(self,\n",
    "                 n_layers,\n",
    "                 d_model,\n",
    "                 n_heads,\n",
    "                 d_ff,\n",
    "                 dropout):\n",
    "        super(Encoder, self).__init__()\n",
    "        self.n_layers = n_layers\n",
    "        self.enc_layers = [EncoderLayer(d_model, n_heads, d_ff, dropout) \n",
    "                        for _ in range(n_layers)]\n",
    "        \n",
    "    def call(self, x, mask):\n",
    "        out = x\n",
    "    \n",
    "        enc_attns = list()\n",
    "        for i in range(self.n_layers):\n",
    "            out, enc_attn = self.enc_layers[i](out, mask)\n",
    "            enc_attns.append(enc_attn)\n",
    "        \n",
    "        return out, enc_attns\n",
    "\n",
    "print(\"슝=3\")"
   ]
  },
  {
   "cell_type": "code",
   "execution_count": 9,
   "id": "vulnerable-quilt",
   "metadata": {},
   "outputs": [
    {
     "name": "stdout",
     "output_type": "stream",
     "text": [
      "슝=3\n"
     ]
    }
   ],
   "source": [
    "class Decoder(tf.keras.Model):\n",
    "    def __init__(self,\n",
    "                 n_layers,\n",
    "                 d_model,\n",
    "                 n_heads,\n",
    "                 d_ff,\n",
    "                 dropout):\n",
    "        super(Decoder, self).__init__()\n",
    "        self.n_layers = n_layers\n",
    "        self.dec_layers = [DecoderLayer(d_model, n_heads, d_ff, dropout) \n",
    "                            for _ in range(n_layers)]\n",
    "                            \n",
    "                            \n",
    "    def call(self, x, enc_out, causality_mask, padding_mask):\n",
    "        out = x\n",
    "    \n",
    "        dec_attns = list()\n",
    "        dec_enc_attns = list()\n",
    "        for i in range(self.n_layers):\n",
    "            out, dec_attn, dec_enc_attn = \\\n",
    "            self.dec_layers[i](out, enc_out, causality_mask, padding_mask)\n",
    "\n",
    "            dec_attns.append(dec_attn)\n",
    "            dec_enc_attns.append(dec_enc_attn)\n",
    "\n",
    "        return out, dec_attns, dec_enc_attns\n",
    "\n",
    "print(\"슝=3\")"
   ]
  },
  {
   "cell_type": "markdown",
   "id": "entire-logic",
   "metadata": {},
   "source": [
    "### Transformer 완성하기\n",
    "- 정의된 'Encoder'와 'Decoder'를 가지고 최종적으로 트랜스포머 완성하기\n",
    "- 아래 조건을 만족하는 'Transformer 클래스 완성하기\n",
    "\n",
    "======================================================================================================================================\n",
    "- 1. '**shared**' 변수를 매개변수로 받아 '**True**'일 경우 **Decoder Embedding과 출력층 Linear의 Weight를 공유**할 수 있게 하기. Weight가 공유될 경우, Embedding 값에 **sqrt(d_model)**을 곱해줘야 함(참고: **tf.keras.layers.Layer.set_weights()**)\n",
    "- 2. 정의한 '**positional_encoding**'의 변환값 형태는 '\\[**Length x d_model**\\]'인데, 이를 더해 줄 Embedding 값 형태가 **[Batch x Length x d_model]**'이라서 연산이 불가능함. 연산이 가능하도록 수정(참고:**tf.expand_dims(), np.newaxis**)"
   ]
  },
  {
   "cell_type": "code",
   "execution_count": 10,
   "id": "artificial-technician",
   "metadata": {},
   "outputs": [
    {
     "name": "stdout",
     "output_type": "stream",
     "text": [
      "슝=3\n"
     ]
    }
   ],
   "source": [
    "class Transformer(tf.keras.Model):\n",
    "    def __init__(self,\n",
    "                 n_layers,\n",
    "                 d_model,\n",
    "                 n_heads,\n",
    "                 d_ff,\n",
    "                 src_vocab_size,\n",
    "                 tgt_vocab_size,\n",
    "                 pos_len,\n",
    "                 dropout=0.2,\n",
    "                 shared=True):\n",
    "        super(Transformer, self).__init__()\n",
    "        self.d_model = tf.cast(d_model, tf.float32)\n",
    "\n",
    "        \"\"\"\n",
    "        1. Embedding Layer 정의\n",
    "        2. Positional Encoding 정의\n",
    "        3. Encoder / Decoder 정의\n",
    "        4. Output Linear 정의\n",
    "        5. Shared Weights\n",
    "        6. Dropout 정의\n",
    "        \"\"\"\n",
    "        self.enc_emb = tf.keras.layers.Embedding(src_vocab_size, d_model)\n",
    "        self.dec_emb = tf.keras.layers.Embedding(tgt_vocab_size, d_model)\n",
    "\n",
    "        self.pos_encoding = positional_encoding(pos_len, d_model)\n",
    "        self.dropout = tf.keras.layers.Dropout(dropout)\n",
    "\n",
    "        self.encoder = Encoder(n_layers, d_model, n_heads, d_ff, dropout)\n",
    "        self.decoder = Decoder(n_layers, d_model, n_heads, d_ff, dropout)\n",
    "\n",
    "        self.fc = tf.keras.layers.Dense(tgt_vocab_size)\n",
    "\n",
    "        self.shared = shared\n",
    "\n",
    "        if shared: self.fc.set_weights(tf.transpose(self.dec_emb.weights))\n",
    "\n",
    "    def embedding(self, emb, x):\n",
    "        \"\"\"\n",
    "        입력된 정수 배열을 Embedding + Pos Encoding\n",
    "        + Shared일 경우 Scaling 작업 포함\n",
    "\n",
    "        x: [ batch x length ]\n",
    "        return: [ batch x length x emb ]\n",
    "        \"\"\"\n",
    "        seq_len = x.shape[1]\n",
    "        out = emb(x)\n",
    "\n",
    "        if self.shared: out *= tf.math.sqrt(self.d_model)\n",
    "\n",
    "        out += self.pos_encoding[np.newaxis, ...][:, :seq_len, :]\n",
    "        out = self.dropout(out)\n",
    "\n",
    "        return out\n",
    "\n",
    "        \n",
    "    def call(self, enc_in, dec_in, enc_mask, causality_mask, dec_mask):\n",
    "        \"\"\"\n",
    "        아래 순서에 따라 소스를 작성하세요.\n",
    "\n",
    "        Step 1: Embedding(enc_in, dec_in) -> enc_in, dec_in\n",
    "        Step 2: Encoder(enc_in, enc_mask) -> enc_out, enc_attns\n",
    "        Step 3: Decoder(dec_in, enc_out, mask)\n",
    "                -> dec_out, dec_attns, dec_enc_attns\n",
    "        Step 4: Out Linear(dec_out) -> logits\n",
    "        \"\"\"\n",
    "        enc_in = self.embedding(self.enc_emb, enc_in)\n",
    "        dec_in = self.embedding(self.dec_emb, dec_in)\n",
    "\n",
    "        enc_out, enc_attns = self.encoder(enc_in, enc_mask)\n",
    "        \n",
    "        dec_out, dec_attns, dec_enc_attns = \\\n",
    "        self.decoder(dec_in, enc_out, causality_mask, dec_mask)\n",
    "        \n",
    "        logits = self.fc(dec_out)\n",
    "        \n",
    "        return logits, enc_attns, dec_attns, dec_enc_attns\n",
    "\n",
    "print(\"슝=3\")"
   ]
  },
  {
   "cell_type": "markdown",
   "id": "qualified-mississippi",
   "metadata": {},
   "source": [
    "## 4. 모델 밖의 조력자들"
   ]
  },
  {
   "cell_type": "markdown",
   "id": "behind-memorial",
   "metadata": {},
   "source": [
    "- **Masking**을 살펴볼 시간\n",
    "- 트랜스포머의 **Learning Rate**는 일반적이지 않음\n",
    "- 지금부터는 모델 외적인 부분 정의\n",
    "- 이번 스텝에서는 데이터의 특성이나 학습 과정에 따라 달라지는 부분 다루게 됨\n",
    "<br>\n",
    "\n",
    "- 먼저 **Masking**\n",
    "- 이전 노드에서 배운 'generate_causality_mask()'를 그대로 사용하면 되는데, 약간 추가할 내용이 있음\n",
    "- 아래 구현을 먼저 보기"
   ]
  },
  {
   "cell_type": "code",
   "execution_count": 11,
   "id": "interpreted-multiple",
   "metadata": {},
   "outputs": [
    {
     "name": "stdout",
     "output_type": "stream",
     "text": [
      "슝=3\n"
     ]
    }
   ],
   "source": [
    "import numpy as np\n",
    "import tensorflow as tf\n",
    "\n",
    "def generate_padding_mask(seq):\n",
    "    seq = tf.cast(tf.math.equal(seq, 0), tf.float32)\n",
    "    return seq[:, tf.newaxis, tf.newaxis, :]\n",
    "\n",
    "def generate_causality_mask(src_len, tgt_len):\n",
    "    mask = 1 - np.cumsum(np.eye(src_len, tgt_len), 0)\n",
    "    return tf.cast(mask, tf.float32)\n",
    "\n",
    "def generate_masks(src, tgt):\n",
    "    enc_mask = generate_padding_mask(src)\n",
    "    dec_mask = generate_padding_mask(tgt)\n",
    "\n",
    "    dec_enc_causality_mask = generate_causality_mask(tgt.shape[1], src.shape[1])\n",
    "    dec_enc_mask = tf.maximum(enc_mask, dec_enc_causality_mask)\n",
    "\n",
    "    dec_causality_mask = generate_causality_mask(tgt.shape[1], tgt.shape[1])\n",
    "    dec_mask = tf.maximum(dec_mask, dec_causality_mask)\n",
    "\n",
    "    return enc_mask, dec_enc_mask, dec_mask\n",
    "\n",
    "print(\"슝=3\")"
   ]
  },
  {
   "cell_type": "markdown",
   "id": "annoying-hungarian",
   "metadata": {},
   "source": [
    "- generate_padding_mask()'는 Attention을 할 때에 \\<PAD\\> 토큰에도 Attention을 주는 것을 방지해 주는 역할\n",
    "- 일전에 Sequence-to-Sequence 모델에서 Loss에 대한 Masking을 해줄 때도 위와 같은 방법으로 진행했음\n",
    "- 한 배치의 데이터에서 \\<PAD\\> 토큰으로 이뤄진 부분을 모두 찾아내는 마스크를 생성함\n",
    "- 아래 코드 통해 확인해보기"
   ]
  },
  {
   "cell_type": "code",
   "execution_count": 12,
   "id": "affecting-tanzania",
   "metadata": {},
   "outputs": [
    {
     "data": {
      "image/png": "[encoded data removed]",
      "text/plain": [
       "<Figure size 504x504 with 3 Axes>"
      ]
     },
     "metadata": {
      "image/png": {
       "height": 208,
       "width": 426
      },
      "needs_background": "light"
     },
     "output_type": "display_data"
    }
   ],
   "source": [
    "import matplotlib.pyplot as plt\n",
    "\n",
    "batch, length = 16, 20\n",
    "src_padding = 5\n",
    "tgt_padding = 15\n",
    "\n",
    "src_pad = tf.zeros(shape=(batch, src_padding))\n",
    "tgt_pad = tf.zeros(shape=(batch, tgt_padding))\n",
    "\n",
    "sample_data = tf.ones(shape=(batch, length))\n",
    "\n",
    "sample_src = tf.concat([sample_data, src_pad], axis=-1)\n",
    "sample_tgt = tf.concat([sample_data, tgt_pad], axis=-1)\n",
    "\n",
    "enc_mask, dec_enc_mask, dec_mask = \\\n",
    "generate_masks(sample_src, sample_tgt)\n",
    "\n",
    "fig = plt.figure(figsize=(7, 7))\n",
    "\n",
    "ax1 = fig.add_subplot(131)\n",
    "ax2 = fig.add_subplot(132)\n",
    "ax3 = fig.add_subplot(133)\n",
    "\n",
    "ax1.set_title('1) Encoder Mask')\n",
    "ax2.set_title('2) Encoder-Decoder Mask')\n",
    "ax3.set_title('3) Decoder Mask')\n",
    "\n",
    "ax1.imshow(enc_mask[:3, 0, 0].numpy(), cmap='Dark2')\n",
    "ax2.imshow(dec_enc_mask[0, 0].numpy(), cmap='Dark2')\n",
    "ax3.imshow(dec_mask[0, 0].numpy(), cmap='Dark2')\n",
    "\n",
    "plt.show()"
   ]
  },
  {
   "cell_type": "markdown",
   "id": "labeled-journey",
   "metadata": {},
   "source": [
    "- 첫 번째 마스크는 각 배치 별로 **데이터의 꼬리 부분을 Masking**하는 형태임을 알 수 있음\n",
    "- 낯선 부분은 두 번째와 세 번째의 Decoder가 연관된 마스크\n",
    "- 이것이 바로 **Causality Mask와 Padding Mask를 결합한 형태**\n",
    "- 자기 회귀적인 특성을 살리기 위해 Masked Multi-Head Attention에서 **인과 관계 마스킹**을 했음\n",
    "- 인과 관계를 가리는 것도 중요하지만 Decoder 역시 \\<PAD\\> 토큰은 피해 가야 하기 때문에 이런 형태의 마스크가 사용됨\n",
    "<br>\n",
    "\n",
    "- 또, 트랜스포머는 고정된 Learning Rate를 사용하지 않았음\n",
    "- 논문의 해당 부분을 Optimize까지 포함하여 다시 한번 살펴보기\n",
    "- 이전 노드에서 Learning Rate를 'numpy'로 간단히 구현을 했었음\n",
    "- 이번에 **Tensorflow상에서 잘 구동될 수 있도록** 'LearningRateSchedule' 클래스를 상속받아 구현"
   ]
  },
  {
   "cell_type": "code",
   "execution_count": 13,
   "id": "absolute-terminology",
   "metadata": {},
   "outputs": [
    {
     "name": "stdout",
     "output_type": "stream",
     "text": [
      "슝=3\n"
     ]
    }
   ],
   "source": [
    "class LearningRateScheduler(tf.keras.optimizers.schedules.LearningRateSchedule):\n",
    "    def __init__(self, d_model, warmup_steps=4000):\n",
    "        super(LearningRateScheduler, self).__init__()\n",
    "        self.d_model = d_model\n",
    "        self.warmup_steps = warmup_steps\n",
    "    \n",
    "    def __call__(self, step):\n",
    "        arg1 = step ** -0.5\n",
    "        arg2 = step * (self.warmup_steps ** -1.5)\n",
    "        \n",
    "        return (self.d_model ** -0.5) * tf.math.minimum(arg1, arg2)\n",
    "\n",
    "learning_rate = LearningRateScheduler(512)\n",
    "optimizer = tf.keras.optimizers.Adam(learning_rate,\n",
    "                                     beta_1=0.9,\n",
    "                                     beta_2=0.98, \n",
    "                                     epsilon=1e-9)\n",
    "\n",
    "print(\"슝=3\")"
   ]
  },
  {
   "cell_type": "markdown",
   "id": "warming-local",
   "metadata": {},
   "source": [
    "- 트랜스포머가 제안한 수식이 아니더라도 가변적인 Learning Rate를 사용하려면 위와 같이 구현을 하면 됨\n",
    "- Optimizer와 Scheduler를 연결하는 과정도 아주 간단함\n",
    "- Optimizer는 논문에 정의된 대로 Adam Optimizer를 사용하며 세부 파라미터도 동일하게 맞춰 줌"
   ]
  }
 ],
 "metadata": {
  "kernelspec": {
   "display_name": "Python 3",
   "language": "python",
   "name": "python3"
  },
  "language_info": {
   "codemirror_mode": {
    "name": "ipython",
    "version": 3
   },
   "file_extension": ".py",
   "mimetype": "text/x-python",
   "name": "python",
   "nbconvert_exporter": "python",
   "pygments_lexer": "ipython3",
   "version": "3.7.9"
  }
 },
 "nbformat": 4,
 "nbformat_minor": 5
}
