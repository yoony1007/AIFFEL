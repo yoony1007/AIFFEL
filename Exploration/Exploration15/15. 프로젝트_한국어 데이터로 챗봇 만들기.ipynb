{
 "cells": [
  {
   "cell_type": "markdown",
   "id": "flying-empty",
   "metadata": {},
   "source": [
    "# 프로젝트: 한국어 데이터로 챗봇 만들기"
   ]
  },
  {
   "cell_type": "markdown",
   "id": "funky-fisher",
   "metadata": {},
   "source": [
    "- 영어로 만들었던 챗봇을 한국어 데이터로 바꿔서 훈련시키기"
   ]
  },
  {
   "cell_type": "markdown",
   "id": "cognitive-insulation",
   "metadata": {},
   "source": [
    "## 목차\n",
    "- 1. 프로젝트 개요\n",
    "- 2. 데이터 수집하기\n",
    "- 3. 데이터 전처리하기\n",
    "- 4. Subword TextEncoder 사용하기\n",
    "    - (1) 단어장(Vacabulary) 만들기\n",
    "    - (2) 각 단어를 고유한 정수로 인코딩(Integer encoding) & 패딩(Padding)\n",
    "    - (3) 교사 강요(Teacher Forcing) 사용하기\n",
    "- 5. 모델 구성하기\n",
    "    - (1) 함수 정의하기\n",
    "    - (2) 모델 생성하기\n",
    "    - (3) 손실 함수(Loss Function)\n",
    "    - (4) 커스텀 된 학습률(Learning rate)\n",
    "    - (5) 모델 컴파일\n",
    "    - (6) 훈련하기\n",
    "- 6. 모델 평가하기"
   ]
  },
  {
   "cell_type": "markdown",
   "id": "compound-angel",
   "metadata": {},
   "source": [
    "## 1. 프로젝트 개요"
   ]
  },
  {
   "cell_type": "markdown",
   "id": "afraid-disability",
   "metadata": {},
   "source": [
    "### 트랜스포머의 인코더와 디코더\n",
    "- 트랜스포머 또한 번역기와 마찬가지로 기본적으로 인코더와 디코더 구성 가지고 있음\n",
    "- 입력 문장을 넣으면 출력 문장을 내뱉고 있음\n",
    "![트랜스포머.png](./images/트랜스포머.png)\n",
    "- [출처](http://jalammar.github.io/illustrated-transformer/)\n",
    "- 위의 블랙박스로 가려져 있는 트랜스포머의 내부 구조를 열어보면 아래와 같음\n",
    "![트랜스포머2.png](./images/트랜스포머2.png)\n",
    "- [출처](http://jalammar.github.io/illustrated-transformer/)\n",
    "- 초록색 색깔의 도형을 인코더 층(Encoder layer), 핑크색 색깔의 도형을 디코더(Decoder layer)라고 하였을 때\n",
    "- 입력 문장은 누적해 쌓아 올린 인코더의 층을 통해서 정보를 뽑아내고, 디코더는 누적해 쌓아올린 디코더의 층을 통해서 출력 문장의 단어를 하나씩 만들어가는 구조 갖고 있음\n",
    "- 그리고 그 내부를 조금 더 확대해 보면 아래와 같이 톱니바퀴처럼 맞물려 돌아가는 여러 가지 부품들로 구성되어 있음\n",
    "![트랜스포머3.png](./images/트랜스포머3.png)\n",
    "- [출처](http://jalammar.github.io/illustrated-transformer/)"
   ]
  },
  {
   "cell_type": "markdown",
   "id": "wrong-officer",
   "metadata": {},
   "source": [
    "### 트랜스포머의 입력 이해하기\n",
    "![포지셔널인코딩.png](./images/포지셔널인코딩.png)\n",
    "- 많은 자연어 처리 모델들은 텍스트 문장을 입력으로 받기 위해 단어를 임베딩 벡터로 변환하는 벡터화 과정 거침\n",
    "- 트랜스포머 또한 그 점에서는 다르 모델들과 다르지 않음\n",
    "- 하지만 트랜스포머 모델의 입력 데이터 처리에는 RNN 계열의 모델들과 다른 점이 1가지 있음\n",
    "- 바로 임베팅 벡터에 어떤 값을 더해준 뒤에 입력으로 사용한다는 점\n",
    "- 그 값은 바로 위 그림에서의 '포지셔널 인코딩(positional Encoding)'에 해당하는 부분\n",
    "- 위 그림에서 인코더의 입력 부분을 조금 더 확대해 본다면 아래 그림과 같을 것\n",
    "![포지셔널인코딩2.png](./images/포지셔널인코딩2.png)\n",
    "- 이렇게 해주는 이유는 트랜스포머는 입력을 받을 때, 문장에 있는 단어들을 1개씩 순차적으로 받는 것이 아니라, 문장에 있는 모든 단어를 한꺼번에 입력으로 받기 때문\n",
    "- 트랜스포머가 RNN과 결정적으로 다른 점이 바로 이 부분\n",
    "- RNN에는 어차피 문장을 구성하는 단어들이 어순대로 모델에 입력되므로, 모델에게 따로 어순 정보를 알려줄 필요가 없었음\n",
    "- 그러나 문장에 있는 모든 단어를 한꺼분에 문장 단위로 입력받는 트랜스포머는 자칫 'I ate lunch'와 'lunch ate I'를 구분할 수 없을지도 모름\n",
    "- 그래서 같은 단어라도 그 단어가 문장의 몇 번째 어순으로 입력되었는지를 모델에 추가로 알려 주기 위해, 단어의 임베딩 벡터에다가 위치 정보를 가진 벡터(Positional Encoding) 값을 더해서 모델의 입력으로 삼는 것\n",
    "![포지셔널인코딩3.png](./images/포지셔널인코딩3.png)\n",
    "- 포지셔널 인코딩의 벡터값은 위의 수식에 의해 정해짐\n",
    "- 사인 함수와 코사인 함수의 그래프를 상기해보면 요동치는 값의 행태를 생각해 볼 수 있음\n",
    "- 트랜스포머는 사인 함수와 코사인 함수의 값을 임베딩 벡터에 더해줌으로써 단어의 순서 정보를 더하여 줌\n",
    "- 위의 두 함수에서는 pos, i, d model등 생소한 변수들이 있음\n",
    "- 위의 함수를 이해하기 위해서는 위에서 본 임베딩 벡터와 포지셔널 인코딩의 덧셈은 사실 임베딩 벡터가 모여 만들어진 문장 벡터 행렬과 포지셔널 인코딩 행렬의 덧셈 연산을 통해 이루어진다는 점 이해\n",
    "![포지셔널인코딩4.png](./images/포지셔널인코딩4.png)\n",
    "- d model은 임베딩 벡터의 차원을 의미하고 있고, pos는 입력 문장에서의 임베딩 벡터의 위치를 나타내며, i는 임베딩 벡터 내의 차원의 인덱스를 의미\n",
    "- 이렇게 임베딩 행렬과 포지셔널 행렬이라는 두 행렬을 더함으로써 각 단어 벡터에 위치 정보를 더해주게 되는 것"
   ]
  },
  {
   "cell_type": "markdown",
   "id": "reserved-madness",
   "metadata": {},
   "source": [
    "### 진행에 필요한 패키지 import"
   ]
  },
  {
   "cell_type": "code",
   "execution_count": 1,
   "id": "embedded-matthew",
   "metadata": {},
   "outputs": [
    {
     "name": "stdout",
     "output_type": "stream",
     "text": [
      "슝=3\n"
     ]
    }
   ],
   "source": [
    "import numpy as np\n",
    "import pandas as pd\n",
    "import tensorflow as tf\n",
    "import tensorflow_datasets as tfds\n",
    "import os\n",
    "import re\n",
    "import numpy as np\n",
    "import matplotlib.pyplot as plt\n",
    "print('슝=3')"
   ]
  },
  {
   "cell_type": "markdown",
   "id": "patient-large",
   "metadata": {},
   "source": [
    "## 2. 데이터 수집하기"
   ]
  },
  {
   "cell_type": "markdown",
   "id": "weekly-creature",
   "metadata": {},
   "source": [
    "- 한국어 챗봇 데이터는 송영숙님이 공개한 챗봇 데이터 사용\n",
    "- 아래의 링크에서 다운로드 받을 수 있음\n",
    "- [songs/Chatbot_data](https://github.com/songys/Chatbot_data/blob/master/ChatbotData.csv)\n",
    "- Cloud shell에서 아래 명령어 입력\n",
    "```python\n",
    "$ mkdir -p ~/aiffel/transformer_chatbot/data/\n",
    "$ ln -s ~/data/*. ~/aiffel/transformer_chatbot/data/\n",
    "```"
   ]
  },
  {
   "cell_type": "code",
   "execution_count": 2,
   "id": "tracked-brass",
   "metadata": {},
   "outputs": [
    {
     "name": "stdout",
     "output_type": "stream",
     "text": [
      "(11823, 3)\n"
     ]
    },
    {
     "data": {
      "text/html": [
       "<div>\n",
       "<style scoped>\n",
       "    .dataframe tbody tr th:only-of-type {\n",
       "        vertical-align: middle;\n",
       "    }\n",
       "\n",
       "    .dataframe tbody tr th {\n",
       "        vertical-align: top;\n",
       "    }\n",
       "\n",
       "    .dataframe thead th {\n",
       "        text-align: right;\n",
       "    }\n",
       "</style>\n",
       "<table border=\"1\" class=\"dataframe\">\n",
       "  <thead>\n",
       "    <tr style=\"text-align: right;\">\n",
       "      <th></th>\n",
       "      <th>Q</th>\n",
       "      <th>A</th>\n",
       "      <th>label</th>\n",
       "    </tr>\n",
       "  </thead>\n",
       "  <tbody>\n",
       "    <tr>\n",
       "      <th>0</th>\n",
       "      <td>12시 땡!</td>\n",
       "      <td>하루가 또 가네요.</td>\n",
       "      <td>0</td>\n",
       "    </tr>\n",
       "    <tr>\n",
       "      <th>1</th>\n",
       "      <td>1지망 학교 떨어졌어</td>\n",
       "      <td>위로해 드립니다.</td>\n",
       "      <td>0</td>\n",
       "    </tr>\n",
       "    <tr>\n",
       "      <th>2</th>\n",
       "      <td>3박4일 놀러가고 싶다</td>\n",
       "      <td>여행은 언제나 좋죠.</td>\n",
       "      <td>0</td>\n",
       "    </tr>\n",
       "    <tr>\n",
       "      <th>3</th>\n",
       "      <td>3박4일 정도 놀러가고 싶다</td>\n",
       "      <td>여행은 언제나 좋죠.</td>\n",
       "      <td>0</td>\n",
       "    </tr>\n",
       "    <tr>\n",
       "      <th>4</th>\n",
       "      <td>PPL 심하네</td>\n",
       "      <td>눈살이 찌푸려지죠.</td>\n",
       "      <td>0</td>\n",
       "    </tr>\n",
       "  </tbody>\n",
       "</table>\n",
       "</div>"
      ],
      "text/plain": [
       "                 Q            A  label\n",
       "0           12시 땡!   하루가 또 가네요.      0\n",
       "1      1지망 학교 떨어졌어    위로해 드립니다.      0\n",
       "2     3박4일 놀러가고 싶다  여행은 언제나 좋죠.      0\n",
       "3  3박4일 정도 놀러가고 싶다  여행은 언제나 좋죠.      0\n",
       "4          PPL 심하네   눈살이 찌푸려지죠.      0"
      ]
     },
     "execution_count": 2,
     "metadata": {},
     "output_type": "execute_result"
    }
   ],
   "source": [
    "data = pd.read_csv(os.getenv('HOME') + '/aiffel/transformer_chatbot/data/ChatbotData .csv')\n",
    "print(data.shape)\n",
    "data.head()"
   ]
  },
  {
   "cell_type": "markdown",
   "id": "pursuant-royalty",
   "metadata": {},
   "source": [
    "## 3. 데이터 전처리하기"
   ]
  },
  {
   "cell_type": "markdown",
   "id": "lovely-shade",
   "metadata": {},
   "source": [
    "- 영어 데이터와는 전혀 다른 데이터인 만큼 영어 데이터에 사용했던 전처리와 일부 동일한 전처리도 필요하겠지만 전체적으로 다른 전처리 수행해야 할 수도 있음"
   ]
  },
  {
   "cell_type": "markdown",
   "id": "incredible-impression",
   "metadata": {},
   "source": [
    "- 이를 위한 전처리 함수는 다음과 같음\n",
    "- 이번 전처리는 **정규 표현식(Regular Expression)**을 사용하여 **구두점(punctuation)**을 제거하여 단어를 **토크나이징(tokenizing)**하는 일에 방해가 되지 않도록 정제하는 것을 목표로 함"
   ]
  },
  {
   "cell_type": "code",
   "execution_count": 3,
   "id": "retained-ending",
   "metadata": {},
   "outputs": [
    {
     "name": "stdout",
     "output_type": "stream",
     "text": [
      "슝=3\n"
     ]
    }
   ],
   "source": [
    "# 전처리 함수\n",
    "def preprocess_sentence(sentence):\n",
    "    sentence = sentence.lower().strip()\n",
    "\n",
    "  # 단어와 구두점(punctuation) 사이 거리 만들기\n",
    "  # 예를 들어서 \"I am a student.\" => \"I am a student .\"와 같이\n",
    "  # student와 온점 사이에 거리 만들기\n",
    "    sentence = re.sub(r\"([?.!,])\", r\" \\1 \", sentence)\n",
    "    sentence = re.sub(r'[\" \"]+', \" \", sentence)\n",
    "\n",
    "  # (a-z, A-Z, \".\", \"?\", \"!\", \",\")를 제외한 모든 문자를 공백인 ' '로 대체\n",
    "    sentence = re.sub(r\"[^가-힣a-zA-Z0-9?.!,]+\", \" \", sentence)\n",
    "    sentence = sentence.strip()\n",
    "    return sentence\n",
    "print(\"슝=3\")"
   ]
  },
  {
   "cell_type": "markdown",
   "id": "abandoned-sierra",
   "metadata": {},
   "source": [
    "- 데이터를 로드하는 동시에 전처리 함수를 호출하여 질문과 답변의 쌍을 전처리"
   ]
  },
  {
   "cell_type": "code",
   "execution_count": 4,
   "id": "adopted-booth",
   "metadata": {},
   "outputs": [
    {
     "name": "stdout",
     "output_type": "stream",
     "text": [
      "슝=3\n"
     ]
    }
   ],
   "source": [
    "# 질문과 답변의 쌍인 데이터셋을 구성하기 위한 데이터 로드 함수\n",
    "def load_conversations():\n",
    "    inputs, outputs = [], []\n",
    "    \n",
    "    for i in range(len(data) - 1):\n",
    "        # 전처리 함수를 질문에 해당되는 inputs와 답변에 해당되는 outputs에 적용\n",
    "        inputs.append(preprocess_sentence(data['Q'].values[i]))\n",
    "        outputs.append(preprocess_sentence(data['A'].values[i]))\n",
    "  \n",
    "    return inputs, outputs\n",
    "print(\"슝=3\")"
   ]
  },
  {
   "cell_type": "markdown",
   "id": "adjustable-gabriel",
   "metadata": {},
   "source": [
    "- 로드한 데이터의 샘플 수 확인"
   ]
  },
  {
   "cell_type": "code",
   "execution_count": 5,
   "id": "laughing-heath",
   "metadata": {},
   "outputs": [
    {
     "name": "stdout",
     "output_type": "stream",
     "text": [
      "전체 샘플 수 : 11822\n",
      "전체 샘플 수 : 11822\n"
     ]
    }
   ],
   "source": [
    "# 데이터를 로드하고 전처리하여 질문을 questions, 답변을 answers에 저장\n",
    "questions, answers = load_conversations()\n",
    "print('전체 샘플 수 :', len(questions))\n",
    "print('전체 샘플 수 :', len(answers))"
   ]
  },
  {
   "cell_type": "markdown",
   "id": "organic-chicken",
   "metadata": {},
   "source": [
    "- 질문과 답변은 병렬적으로 구성되는 데이터셋이므로 두 샘플 수는 정확하게 일치해야 함\n",
    "- 둘 다 11,822 개의 샘플이 저장되었음\n",
    "- 임의로 샘플을 출력해서 질문과 답변이 병렬적으로 잘 저장은 되었는지, 그리고 전처리 함수에서 의도했던 전처리가 진행되었는지 확인해 보기"
   ]
  },
  {
   "cell_type": "code",
   "execution_count": 6,
   "id": "exciting-edition",
   "metadata": {},
   "outputs": [
    {
     "name": "stdout",
     "output_type": "stream",
     "text": [
      "전처리 후의 8231번째 질문 샘플: 진짜헤어졌네 결국\n",
      "전처리 후의 8231번째 답변 샘플: 많이 힘들었을 거라 생각해요 .\n",
      "전처리 후의 10915번째 질문 샘플: 이렇게 또 혼자 좋아하고 이별하고 .\n",
      "전처리 후의 10915번째 답변 샘플: 짝사랑이 그런가봐요 . 슬프네요 .\n",
      "전처리 후의 4420번째 질문 샘플: 차 팔아서 불편해\n",
      "전처리 후의 4420번째 답변 샘플: 불편함을 조금 감수해보세요 .\n",
      "전처리 후의 8871번째 질문 샘플: 2년 만났어\n",
      "전처리 후의 8871번째 답변 샘플: 딱 좋을 때네요 .\n",
      "전처리 후의 2507번째 질문 샘플: 소개받았는데 카톡으로 연락 중\n",
      "전처리 후의 2507번째 답변 샘플: 썸에서 연인으로 성공하길 바라요 .\n"
     ]
    }
   ],
   "source": [
    "import random\n",
    "\n",
    "#랜덤으로 인덱스 뽑아서 5개만 확인할 것.\n",
    "length = list(range(0,11822,1))\n",
    "random.shuffle(length)\n",
    "\n",
    "for i in (length[:5]) :\n",
    "    print('전처리 후의 {}번째 질문 샘플: {}'.format(i+1, questions[i]))\n",
    "    print('전처리 후의 {}번째 답변 샘플: {}'.format(i+1, answers[i]))"
   ]
  },
  {
   "cell_type": "markdown",
   "id": "direct-destruction",
   "metadata": {},
   "source": [
    "## 4. Subword TextEncoder 사용하기"
   ]
  },
  {
   "cell_type": "markdown",
   "id": "advisory-mustang",
   "metadata": {},
   "source": [
    "- 한국어 데이터는 형태소 분석기를 사용하여 토크나이징을 해야 한다고 알고 있음\n",
    "- 하지만, 여기서는 형태소 분석기가 아닌 이 실습에서 사용했던 내부 단어 토크나이저인 'SubwordTextEncoder'를 그대로 사용"
   ]
  },
  {
   "cell_type": "markdown",
   "id": "premier-dylan",
   "metadata": {},
   "source": [
    "- 질문과 답변의 셋을 각각 questions와 answers에 저장하였으므로, 본격적으로 전처리를진행\n",
    "- 이번 스텝에서 진행할 전체적인 과정을 요약하면 다음과 같음\n",
    "    - 1. Tensorflow Datasets **SubwordTextEncoder**를 토크나이저로 사용. 단어보다 더 작은 단위인 Subword를 기준으로 토크나이징하고, 각 토큰을 고유한 **정수로 인코딩\n",
    "    - 2. 각 문장을 토큰화하고 각 문장의 시작과 끝을 나타내는 'START_TOKEN' 및 'END_TOKEN'을 추가\n",
    "    - 3. 최대 길이 'MAX_LENGTH'인 40을 넘는 문장 필터링\n",
    "    - 4. MAX_LENGTH보다 길이가 짧ㅇ른 문장들을 40에 맞도록 *패딩*"
   ]
  },
  {
   "cell_type": "markdown",
   "id": "unknown-terminology",
   "metadata": {},
   "source": [
    "### (1) 단어장(Vacabulary) 만들기\n",
    "- 각 단어에 고유한 정수 인덱스를 부여하기 위해서 단어장(Vocabulary) 만들어 보기\n",
    "- 단어장을 만들 때는 질문과 답변 데이터셋을 모두 사용하여 만듬"
   ]
  },
  {
   "cell_type": "code",
   "execution_count": 7,
   "id": "grand-macedonia",
   "metadata": {},
   "outputs": [
    {
     "name": "stdout",
     "output_type": "stream",
     "text": [
      "살짝 오래 걸릴 수 있어요. 스트레칭 한 번 해볼까요? 👐\n",
      "슝=3 \n"
     ]
    }
   ],
   "source": [
    "import tensorflow_datasets as tfds\n",
    "print(\"살짝 오래 걸릴 수 있어요. 스트레칭 한 번 해볼까요? 👐\")\n",
    "\n",
    "# 질문과 답변 데이터셋에 대해서 Vocabulary 생성. (Tensorflow 2.3.0 이상) (클라우드는 2.4)\n",
    "tokenizer = tfds.deprecated.text.SubwordTextEncoder.build_from_corpus(questions + answers, target_vocab_size=2**13)\n",
    "print(\"슝=3 \")"
   ]
  },
  {
   "cell_type": "markdown",
   "id": "civic-container",
   "metadata": {},
   "source": [
    "- 이때, 디코더의 문장 생성 과정에서 사용할 '시작 토큰'과 '종료 토큰'에 대해서도 임의로 단어장에 추가하여서 정수를 부여\n",
    "- 이미 생성된 번화와 겹치지 않도록 각각 단어장의 크기와 그보다 1이 큰 수를 번호로 부여하면 됨"
   ]
  },
  {
   "cell_type": "code",
   "execution_count": 8,
   "id": "spatial-transfer",
   "metadata": {},
   "outputs": [
    {
     "name": "stdout",
     "output_type": "stream",
     "text": [
      "슝=3\n"
     ]
    }
   ],
   "source": [
    "# 시작 토큰과 종료 토큰에 고유한 정수 부여\n",
    "START_TOKEN, END_TOKEN = [tokenizer.vocab_size], [tokenizer.vocab_size + 1]\n",
    "print(\"슝=3\")"
   ]
  },
  {
   "cell_type": "markdown",
   "id": "terminal-shell",
   "metadata": {},
   "source": [
    "- 시작 토큰과 종료 토큰에 부여된 정수를 출력"
   ]
  },
  {
   "cell_type": "code",
   "execution_count": 9,
   "id": "atmospheric-dictionary",
   "metadata": {},
   "outputs": [
    {
     "name": "stdout",
     "output_type": "stream",
     "text": [
      "START_TOKEN의 번호 : [8161]\n",
      "END_TOKEN의 번호 : [8162]\n"
     ]
    }
   ],
   "source": [
    "print('START_TOKEN의 번호 :' ,[tokenizer.vocab_size])\n",
    "print('END_TOKEN의 번호 :' ,[tokenizer.vocab_size + 1])"
   ]
  },
  {
   "cell_type": "markdown",
   "id": "insured-myrtle",
   "metadata": {},
   "source": [
    "- 각각 8161, 8162라는 점에서 현재 단어장의 크기가 8,161(0번부터 8,161번)이라는 의미\n",
    "- 2개의 토큰을 추가해 주었기 때문에 단어장의 크기도 +2임을 명시"
   ]
  },
  {
   "cell_type": "code",
   "execution_count": 10,
   "id": "emotional-tutorial",
   "metadata": {},
   "outputs": [
    {
     "name": "stdout",
     "output_type": "stream",
     "text": [
      "8163\n"
     ]
    }
   ],
   "source": [
    "# 시작 토큰과 종료 토큰을 고려하여 +2를 하여 단어장의 크기 산정\n",
    "VOCAB_SIZE = tokenizer.vocab_size + 2\n",
    "print(VOCAB_SIZE)"
   ]
  },
  {
   "cell_type": "markdown",
   "id": "suitable-textbook",
   "metadata": {},
   "source": [
    "### (2) 각 단어를 고유한 정수로 인코딩(Integer encoding) & 패딩(Padding)\n",
    "- 위에서 'tensorflow_datasets'의 'SubwordTextEncoder'를 사용해서 tokenizer를 정의하고 Vacabulary를 만들었음\n",
    "- 'tokenizer.encode()'로 각 단어를 정수로 변환할 수 있고 또는 'tokenizer.decode()'를 통해 정수 시퀀스를 단어 시퀀스로 변환할 수 있음\n",
    "- 예를 들어서 22번째 샘플을 'tokenizer.encode()'의 입력으로 사용해서 변환 결과 보기"
   ]
  },
  {
   "cell_type": "code",
   "execution_count": 11,
   "id": "protecting-dining",
   "metadata": {},
   "outputs": [
    {
     "name": "stdout",
     "output_type": "stream",
     "text": [
      "정수 인코딩 후의 21번째 질문 샘플: [5756, 610, 2486, 4158]\n",
      "정수 인코딩 후의 21번째 답변 샘플: [2355, 7501, 7, 6265, 98, 1]\n"
     ]
    }
   ],
   "source": [
    "# 임의의 22번째 샘플에 대해서 정수 인코딩 작업을 수행.\n",
    "# 각 토큰을 고유한 정수로 변환\n",
    "print('정수 인코딩 후의 21번째 질문 샘플: {}'.format(tokenizer.encode(questions[21])))\n",
    "print('정수 인코딩 후의 21번째 답변 샘플: {}'.format(tokenizer.encode(answers[21])))"
   ]
  },
  {
   "cell_type": "code",
   "execution_count": 12,
   "id": "active-ferry",
   "metadata": {},
   "outputs": [
    {
     "name": "stdout",
     "output_type": "stream",
     "text": [
      "질문의 최소 길이 : 1\n",
      "질문의 최대 길이 : 16\n",
      "질문의 평균 길이 : 3.937996954829978\n",
      "답변의 최소 길이 : 1\n",
      "답변의 최대 길이 : 24\n",
      "답변의 평균 길이 : 4.716037895449163\n"
     ]
    }
   ],
   "source": [
    "#질문과 답변의 길이 확인\n",
    "question_len = [len(s.split()) for s in questions]\n",
    "answer_len = [len(s.split()) for s in answers]\n",
    "\n",
    "print('질문의 최소 길이 : {}'.format(np.min(question_len)))\n",
    "print('질문의 최대 길이 : {}'.format(np.max(question_len)))\n",
    "print('질문의 평균 길이 : {}'.format(np.mean(question_len)))\n",
    "print('답변의 최소 길이 : {}'.format(np.min(answer_len)))\n",
    "print('답변의 최대 길이 : {}'.format(np.max(answer_len)))\n",
    "print('답변의 평균 길이 : {}'.format(np.mean(answer_len)))"
   ]
  },
  {
   "cell_type": "markdown",
   "id": "interesting-ceiling",
   "metadata": {},
   "source": [
    "- 각 단어에 고유한 정수가 부여된 Vocabulary를 기준으로 단어 시퀀스가 정수 시퀀스로 인코딩된 결과를 확인할 수 있음\n",
    "- 위의 결과와 마찬가지로 질문과 답변 셋에 대해서 전부 **정수 인코딩**을 수행\n",
    "- 이와 동시에 문장의 최대 길이를 정하고, 해당 길이로 **패딩(Padding)**"
   ]
  },
  {
   "cell_type": "code",
   "execution_count": 13,
   "id": "loose-mayor",
   "metadata": {},
   "outputs": [
    {
     "name": "stdout",
     "output_type": "stream",
     "text": [
      "16\n"
     ]
    }
   ],
   "source": [
    "# 샘플의 최대 허용 길이 또는 패딩 후의 최종 길이\n",
    "MAX_LENGTH = 16\n",
    "print(MAX_LENGTH)"
   ]
  },
  {
   "cell_type": "code",
   "execution_count": 14,
   "id": "thrown-camcorder",
   "metadata": {},
   "outputs": [
    {
     "name": "stdout",
     "output_type": "stream",
     "text": [
      "슝=3\n"
     ]
    }
   ],
   "source": [
    "# 정수 인코딩, 최대 길이를 초과하는 샘플 제거, 패딩\n",
    "def tokenize_and_filter(inputs, outputs):\n",
    "    tokenized_inputs, tokenized_outputs = [], []\n",
    "    \n",
    "    for (sentence1, sentence2) in zip(inputs, outputs):\n",
    "        # 정수 인코딩 과정에서 시작 토큰과 종료 토큰을 추가\n",
    "        sentence1 = START_TOKEN + tokenizer.encode(sentence1) + END_TOKEN\n",
    "        sentence2 = START_TOKEN + tokenizer.encode(sentence2) + END_TOKEN\n",
    "\n",
    "        # 최대 길이 40 이하인 경우에만 데이터셋으로 허용\n",
    "        if len(sentence1) <= MAX_LENGTH and len(sentence2) <= MAX_LENGTH:\n",
    "            tokenized_inputs.append(sentence1)\n",
    "            tokenized_outputs.append(sentence2)\n",
    "  \n",
    "        # 최대 길이 40으로 모든 데이터셋을 패딩\n",
    "    tokenized_inputs = tf.keras.preprocessing.sequence.pad_sequences(\n",
    "      tokenized_inputs, maxlen=MAX_LENGTH, padding='post')\n",
    "    tokenized_outputs = tf.keras.preprocessing.sequence.pad_sequences(\n",
    "      tokenized_outputs, maxlen=MAX_LENGTH, padding='post')\n",
    "  \n",
    "    return tokenized_inputs, tokenized_outputs\n",
    "print(\"슝=3\")"
   ]
  },
  {
   "cell_type": "markdown",
   "id": "eastern-revolution",
   "metadata": {},
   "source": [
    "- 정수 인코딩 과정을 수행하면서 샘플의 길이가 40을 넘는 경우는 샘플들을 필터링하였으므로 일부 샘플이 제외됨\n",
    "- 단어장의 크기와 샘플의 개수를 확인"
   ]
  },
  {
   "cell_type": "code",
   "execution_count": 15,
   "id": "threatened-contamination",
   "metadata": {},
   "outputs": [
    {
     "name": "stdout",
     "output_type": "stream",
     "text": [
      "단어장의 크기 : 8163\n",
      "필터링 후의 질문 샘플 개수: 11675\n",
      "필터링 후의 답변 샘플 개수: 11675\n"
     ]
    }
   ],
   "source": [
    "questions, answers = tokenize_and_filter(questions, answers)\n",
    "print('단어장의 크기 :',(VOCAB_SIZE))\n",
    "print('필터링 후의 질문 샘플 개수: {}'.format(len(questions)))\n",
    "print('필터링 후의 답변 샘플 개수: {}'.format(len(answers)))"
   ]
  },
  {
   "cell_type": "markdown",
   "id": "original-somerset",
   "metadata": {},
   "source": [
    "### (3) 교사 강요(Teacher Forcing) 사용하기\n",
    "- **tf.data.Dataset API**는 훈련 프로세스의 속도가 빨라지도록 입력 파이프라인을 구축하는 API\n",
    "- 이를 적극 사용하기 위해서 질문과 답변의 쌍을 'tf.data.Dataset'의 입력으로 넣어주는 작업을 함\n",
    "- 이때, 디코더의 입력과 실제값(레이블)을 정의해 주기 위해서는 **교사 강요(Teacher Forcing)**이라는 언어 모델의 훈련 기법 이해해야 함\n",
    "- 아래의 글을 통해 교사 강요에 대해 알아보기\n",
    "- [위키독스: RNN 언어 모델](https://wikidocs.net/46496)\n",
    "- 이전 자신의 출력이 현재 자신의 상태를 결정하는 모델을 **자기회귀 모델(auto-regressive model, AR)**이라고 함\n",
    "- 앞서 교사 강요를 이해하기 위해 읽었던 글에 등장한 RNN 언어 모델은 대표적인 자기 회귀 모델의 예\n",
    "- 트랜스포머의 디코더 또한 자기회귀 모델\n",
    "- 트랜스포머 디코더에서도 **교사 강요(Teacher Forcing)**를 적용\n",
    "- 질문과 답변의 쌍을 **'tf.data.Dataset API**'의 입력으로 사용하여 파이프라인 구축\n",
    "- 이때, 교사 강요를 위해서 'answers[:, :-1]를 디코더의 입력값, 'answers[:, 1:]를 디코더의 레이블로 사용"
   ]
  },
  {
   "cell_type": "code",
   "execution_count": 16,
   "id": "amazing-honor",
   "metadata": {},
   "outputs": [
    {
     "name": "stdout",
     "output_type": "stream",
     "text": [
      "슝=3\n"
     ]
    }
   ],
   "source": [
    "BATCH_SIZE = 64\n",
    "BUFFER_SIZE = 20000\n",
    "\n",
    "# 디코더는 이전의 target을 다음의 input으로 사용\n",
    "# 이에 따라 outputs에서는 START_TOKEN을 제거\n",
    "dataset = tf.data.Dataset.from_tensor_slices((\n",
    "    {\n",
    "        'inputs': questions,\n",
    "        'dec_inputs': answers[:, :-1]\n",
    "    },\n",
    "    {\n",
    "        'outputs': answers[:, 1:]\n",
    "    },\n",
    "))\n",
    "\n",
    "dataset = dataset.cache()\n",
    "dataset = dataset.shuffle(BUFFER_SIZE)\n",
    "dataset = dataset.batch(BATCH_SIZE)\n",
    "dataset = dataset.prefetch(tf.data.experimental.AUTOTUNE)\n",
    "print(\"슝=3\")"
   ]
  },
  {
   "cell_type": "markdown",
   "id": "adequate-buying",
   "metadata": {},
   "source": [
    "## 5. 모델 구성하기"
   ]
  },
  {
   "cell_type": "markdown",
   "id": "separate-latitude",
   "metadata": {},
   "source": [
    "- 트랜스포머 모델을 구현"
   ]
  },
  {
   "cell_type": "markdown",
   "id": "alert-panic",
   "metadata": {},
   "source": [
    "### 5.1 함수 정의"
   ]
  },
  {
   "cell_type": "code",
   "execution_count": 17,
   "id": "collaborative-disease",
   "metadata": {},
   "outputs": [
    {
     "name": "stdout",
     "output_type": "stream",
     "text": [
      "슝=3\n"
     ]
    }
   ],
   "source": [
    "# 포지셔널 인코딩 레이어\n",
    "class PositionalEncoding(tf.keras.layers.Layer):\n",
    "    \n",
    "    def __init__(self, position, d_model):\n",
    "        super(PositionalEncoding, self).__init__()\n",
    "        self.pos_encoding = self.positional_encoding(position, d_model)\n",
    "\n",
    "    def get_angles(self, position, i, d_model):\n",
    "        angles = 1 / tf.pow(10000, (2 * (i // 2)) / tf.cast(d_model, tf.float32))\n",
    "        return position * angles\n",
    "\n",
    "    def positional_encoding(self, position, d_model):\n",
    "        # 각도 배열 생성\n",
    "        angle_rads = self.get_angles(\n",
    "            position = tf.range(position, dtype = tf.float32)[:, tf.newaxis],\n",
    "            i = tf.range(d_model, dtype = tf.float32)[tf.newaxis, :],\n",
    "            d_model = d_model)\n",
    "\n",
    "        # 배열의 짝수 인덱스에는 sin 함수 적용\n",
    "        sines = tf.math.sin(angle_rads[:, 0::2])\n",
    "        # 배열의 홀수 인덱스에는 cosine 함수 적용\n",
    "        cosines = tf.math.cos(angle_rads[:, 1::2])\n",
    "\n",
    "        # sin과 cosine이 교차되도록 재배열\n",
    "        pos_encoding = tf.stack([sines, cosines], axis=0)\n",
    "        pos_encoding = tf.transpose(pos_encoding,[1, 2, 0]) \n",
    "        pos_encoding = tf.reshape(pos_encoding, [position, d_model])\n",
    "\n",
    "        pos_encoding = pos_encoding[tf.newaxis, ...]\n",
    "        return tf.cast(pos_encoding, tf.float32)\n",
    "    \n",
    "    def call(self, inputs):\n",
    "        return inputs + self.pos_encoding[:, :tf.shape(inputs)[1], :]\n",
    "\n",
    "print(\"슝=3\")"
   ]
  },
  {
   "cell_type": "markdown",
   "id": "governmental-scott",
   "metadata": {},
   "source": [
    "- 어텐션은 단어들 간의 유사도를 구하는 메커니즘\n",
    "- 유사도를 구하는 방법이 있을 것\n",
    "- 트랜스포머에서는 어텐션 값을 구하는 방법으로 아래와 같은 수식을 사용했음\n",
    "![수식.png](./images/수식.png)\n",
    "- Q, K, V는 각각 쿼리(Query), 키(Key), 값(Value)를 나타냄\n",
    "- 앞서 언급했던 어텐션 함수의 정의의 결과값 다시 상기해보기\n",
    "- 어텐션 함수는 주어진 '쿼리(Query)에 대해서 모든 '키(Key)'와의 **유사도**를 각각 구함\n",
    "- 그리고 구해낸 이 유사도를 키와 맵핑되어있는 각각의 '값(Value)'에 반영해줌\n",
    "- 그리고 유사도가 반영된 '값(Value)'을 모두 더해서 뭉쳐주면 이를 최종 결과인 **어텐션 값(Attention Value)**fkrh gka\n",
    "- 위 정의와 아래 내용 3가지만 기억하면 수식을 그림으로 정리할 수 있음\n",
    "    - 1. **Q, K, V**는 단어 벡터를 행으로 하는 문장 행렬\n",
    "    - 2. 벡터의 **내적(dot product)**은 벡터의 **유사도**를 의미\n",
    "    - 3. 특정 값을 분모로 사용하는 것은 값의 크기를 조절하는 스케일링(Scaling)을 위함"
   ]
  },
  {
   "cell_type": "markdown",
   "id": "great-frame",
   "metadata": {},
   "source": [
    "- 우선 Q와 K의 전치 행렬을 곱하는 것을 그림으로 표현하면 다음과 같음\n",
    "![행렬.png](./images/행렬.png)\n",
    "- 문장 행렬 Q와 문장 행렬 K를 곱하면 위의 그림과 같은 초록색 행렬 얻을 수 있음\n",
    "- 위 초록색 행렬이 의미하는 값은 무엇일까?\n",
    "- 예를 들어 'am' 행과 'student' 열의 값은 Q 행렬에 있던 'am' 벡터와 K 행렬에 있던 'student 벡터'의 내적값 의미\n",
    "- 결국 각 단어 벡터의 유사도가 모두 기록된 유사도 행렬이 되는 것"
   ]
  },
  {
   "cell_type": "markdown",
   "id": "inclusive-dallas",
   "metadata": {},
   "source": [
    "- 이 유사도 값을 스케일링 해주기 위해서 행렬 전체를 특정 값으로 나눠주고, 유사도를 0과 1사이의 값으로 Normalize해주기 위해서 소프트맥스 함수를 사용\n",
    "- 여기까지가 Q와 K의 유사도를 구하는 과정\n",
    "- 여기에 문장 행렬 V와 곱하면 **어텐션 값(Attention Value)**를 얻음\n",
    "![행렬2.png](./images/행렬2.png)\n",
    "- 결국 이를모두 하나의 그림으로 표현하면 위와 같음\n",
    "![수식.png](./images/수식.png)\n",
    "- 이 수식은 내적(dot product)을 통해 단어 벡터 간 유사도를 구한 후에, 특정 값을 분모로 나눠주는 방식으로 Q와 K의 유사도를 구하였다고 하여 **스케일드 닷 프로덕트 어텐션(Scaled Dot Product Attention)**이라고 함\n",
    "- 유사도를 구하는 방법이 스케일드 닷 프로덕트(scaled dot product)였기 때문에 이런 이름이 붙은 것\n",
    "- 만약에 분모에 특정 값을 나눠주는 부분을 사용하지 않았다면 어텐션의 이름은 무엇일까?\n",
    "- 그 어텐션은 당연히 **닷 프로덕트 어텐션(dot product attention)**이라고 부름"
   ]
  },
  {
   "cell_type": "code",
   "execution_count": 18,
   "id": "verbal-reader",
   "metadata": {},
   "outputs": [
    {
     "name": "stdout",
     "output_type": "stream",
     "text": [
      "슝=3\n"
     ]
    }
   ],
   "source": [
    "# 스케일드 닷 프로덕트 어텐션 함수\n",
    "def scaled_dot_product_attention(query, key, value, mask):\n",
    "    # 어텐션 가중치는 Q와 K의 닷 프로덕트\n",
    "    matmul_qk = tf.matmul(query, key, transpose_b=True)\n",
    "\n",
    "    # 가중치를 정규화\n",
    "    depth = tf.cast(tf.shape(key)[-1], tf.float32)\n",
    "    logits = matmul_qk / tf.math.sqrt(depth)\n",
    "\n",
    "    # 패딩에 마스크 추가\n",
    "    if mask is not None:\n",
    "        logits += (mask * -1e9)\n",
    "\n",
    "    # softmax적용\n",
    "    attention_weights = tf.nn.softmax(logits, axis=-1)\n",
    "\n",
    "    # 최종 어텐션은 가중치와 V의 닷 프로덕트\n",
    "    output = tf.matmul(attention_weights, value)\n",
    "    return output\n",
    "\n",
    "print(\"슝=3\")"
   ]
  },
  {
   "cell_type": "markdown",
   "id": "beneficial-cargo",
   "metadata": {},
   "source": [
    "### 병렬로 어텐션 수행하기\n",
    "- 트랜스포머에서 'num_heads'라는 변수는 기계가 몇 개의 똑똑한 머리를 사용할지, 다시 말해 병렬적으로 몇 개의 어텐션 연산을 수행할지 결정하는 하이퍼파라미터\n",
    "![병렬.png](./images/병렬.png)\n",
    "- 앞서 포지셔널 인코딩에서 'd_model'은 임베딩 벡터의 차원이라고 언급\n",
    "- 결국 트랜스포머의 초기 입력인 문장 행렬의 크기는 문장의 길이를 행으로, 'd_model'은 열의 크기로 가짐\n",
    "- 트랜스포머는 이렇게 입력된 문장 행렬을 'num_heads'의 수만큼 쪼개서 어텐션을 수행하고, 이렇게 얻은 'num_heads'의 개수만큼의 어텐션 값 행렬을 다시 하나로 concatenate함\n",
    "- 위의 그림은 'num_heads'가 8개인 경우인데, 다시 concatenate하면서 열의 크기가 'd_model'이 됨"
   ]
  },
  {
   "cell_type": "markdown",
   "id": "coral-broad",
   "metadata": {},
   "source": [
    "### 멀티-헤드 어텐션\n",
    "- 병렬로 어텐션을 수행하면 얻을 수 있는 효과는 무엇일까?\n",
    "![멀티헤드어텐션.png](./images/멀티헤드어텐션.png)\n",
    "- 위 그림은 'num_heads'의 값이 8일 때, 병렬로 수행되는 어텐션이 서로 다른 셀프 어텐션 결과를 얻을 수 있음을 보여줌\n",
    "- 다시 말해 8개의 머리는 각각 다른 관점에서 어텐션을 수행하므로 1번의 어텐션만 수행했다면 놓칠 수도 있던 정보를 캐치할 수 있음\n",
    "- 예를 들어, 위 그림에서라면 'it_'이라는 토콘이 'animal_'과 유사하다고 보는 관점과 'street_'과 유사하다고 보는 관점이 한꺼번에 모두 표현 가능하다는 뜻\n",
    "- 이와 같이 어텐션을 병렬로 수행하는 것을 **멀티 헤드 어텐션**이라고 부름"
   ]
  },
  {
   "cell_type": "markdown",
   "id": "minor-northeast",
   "metadata": {},
   "source": [
    "### 구현하기\n",
    "- **멀티 헤드 어텐션**을 구현하면 다음과 같음\n",
    "- 내부적으로는 **스케일드 닷 프로덕트 어텐션 함수**를 호출"
   ]
  },
  {
   "cell_type": "code",
   "execution_count": 19,
   "id": "insured-tolerance",
   "metadata": {},
   "outputs": [
    {
     "name": "stdout",
     "output_type": "stream",
     "text": [
      "슝=3\n"
     ]
    }
   ],
   "source": [
    "class MultiHeadAttention(tf.keras.layers.Layer):\n",
    "\n",
    "    def __init__(self, d_model, num_heads, name=\"multi_head_attention\"):\n",
    "        super(MultiHeadAttention, self).__init__(name=name)\n",
    "        self.num_heads = num_heads\n",
    "        self.d_model = d_model\n",
    "\n",
    "        assert d_model % self.num_heads == 0\n",
    "\n",
    "        self.depth = d_model // self.num_heads\n",
    "\n",
    "        self.query_dense = tf.keras.layers.Dense(units=d_model)\n",
    "        self.key_dense = tf.keras.layers.Dense(units=d_model)\n",
    "        self.value_dense = tf.keras.layers.Dense(units=d_model)\n",
    "\n",
    "        self.dense = tf.keras.layers.Dense(units=d_model)\n",
    "\n",
    "    def split_heads(self, inputs, batch_size):\n",
    "        inputs = tf.reshape(\n",
    "            inputs, shape=(batch_size, -1, self.num_heads, self.depth))\n",
    "        return tf.transpose(inputs, perm=[0, 2, 1, 3])\n",
    "\n",
    "    def call(self, inputs):\n",
    "        query, key, value, mask = inputs['query'], inputs['key'], inputs[\n",
    "            'value'], inputs['mask']\n",
    "        batch_size = tf.shape(query)[0]\n",
    "\n",
    "        # Q, K, V에 각각 Dense를 적용\n",
    "        query = self.query_dense(query)\n",
    "        key = self.key_dense(key)\n",
    "        value = self.value_dense(value)\n",
    "\n",
    "        # 병렬 연산을 위한 머리를 여러 개 만듬\n",
    "        query = self.split_heads(query, batch_size)\n",
    "        key = self.split_heads(key, batch_size)\n",
    "        value = self.split_heads(value, batch_size)\n",
    "\n",
    "        # 스케일드 닷 프로덕트 어텐션 함수\n",
    "        scaled_attention = scaled_dot_product_attention(query, key, value, mask)\n",
    "\n",
    "        scaled_attention = tf.transpose(scaled_attention, perm=[0, 2, 1, 3])\n",
    "\n",
    "        # 어텐션 연산 후에 각 결과를 다시 연결(concatenate)\n",
    "        concat_attention = tf.reshape(scaled_attention,\n",
    "                                      (batch_size, -1, self.d_model))\n",
    "\n",
    "        # 최종 결과에도 Dense를 한 번 더 적용\n",
    "        outputs = self.dense(concat_attention)\n",
    "\n",
    "        return outputs\n",
    "print(\"슝=3\")"
   ]
  },
  {
   "cell_type": "markdown",
   "id": "common-capture",
   "metadata": {},
   "source": [
    "### 패딩 마스킹(Padding Masking)\n",
    "- 첫 번째 마스킹은 패딩 토큰(Padding token)을 이용한 방법\n",
    "- 자연어 처리에서 패딩(Padding)이란 어떤 개념일까?\n",
    "![패딩.png](./images/패딩.png)\n",
    "- 패딩은 문장의 길이가 서로 다를 때, 모든 문장의 길이를 동일하게 해주는 과정에서 정해진 길이보다 짧은 문장의 경우에는 숫자 0을 채워서 문장의 길이를 맞춰주는 자연어 처리 전처리 방법\n",
    "- 위 그림은 케라스의 'pad_sequences()'를 사용하여 패딩을 하는 과정을 시각화한 그림\n",
    "- 주어진 숫자 0은 실제 의미가 있는 단어가 아니므로 실제 어텐션 등과 같은 연산에서는 제외할 필요가 있음\n",
    "- **패딩 마스킹**은 이를 위해 숫자 0인 위치를 체크\n",
    "- 다음은 **패딩 마스킹**을 구현한 함수"
   ]
  },
  {
   "cell_type": "code",
   "execution_count": 20,
   "id": "received-swedish",
   "metadata": {},
   "outputs": [
    {
     "name": "stdout",
     "output_type": "stream",
     "text": [
      "슝=3\n"
     ]
    }
   ],
   "source": [
    "def create_padding_mask(x):\n",
    "    mask = tf.cast(tf.math.equal(x, 0), tf.float32)\n",
    "    # (batch_size, 1, 1, sequence length)\n",
    "    return mask[:, tf.newaxis, tf.newaxis, :]\n",
    "print(\"슝=3\")"
   ]
  },
  {
   "cell_type": "markdown",
   "id": "compressed-server",
   "metadata": {},
   "source": [
    "- 이 함수에 정수 시퀀스를 입력으로 하면, 이 함수는 숫자가 0인 부분을 체크한 벡터를 리턴\n",
    "- 2개의 정수 시퀀스를 입력으로 해보고, 각각 어떤 결과가 나오는지 확인"
   ]
  },
  {
   "cell_type": "code",
   "execution_count": 21,
   "id": "parallel-nutrition",
   "metadata": {},
   "outputs": [
    {
     "name": "stdout",
     "output_type": "stream",
     "text": [
      "tf.Tensor(\n",
      "[[[[0. 0. 1. 0. 1.]]]\n",
      "\n",
      "\n",
      " [[[1. 1. 1. 0. 0.]]]], shape=(2, 1, 1, 5), dtype=float32)\n"
     ]
    }
   ],
   "source": [
    "print(create_padding_mask(tf.constant([[1, 2, 0, 3, 0], [0, 0, 0, 4, 5]])))"
   ]
  },
  {
   "cell_type": "markdown",
   "id": "actual-cable",
   "metadata": {},
   "source": [
    "- 두 정수 시퀀스에 대해서 각각 결과가 출력되는데, 오직 숫자가 0인 위치에서만 숫자 1이 나오고 숫자 0이 아닌 위치에서는 숫자 0인 벡터를 출력\n",
    "- 어텐션 연산 시에 **패딩 마스크**를 참고하면 불필요하게 숫자 0을 참고하지 않게 할 수 있음"
   ]
  },
  {
   "cell_type": "markdown",
   "id": "toxic-monte",
   "metadata": {},
   "source": [
    "### 룩 어헤드 마스킹(Look-ahead masking, 다음 단어 가리기)\n",
    "- 순환 신경망, RNN과 트랜스포머는 문장을 입력받을 때 입력받는 방법이 전혀 다름\n",
    "- RNN은 **step**이라는 개념이 존재해서 각 **step**마다 단어가 순서대로 입력으로 들어가는 구조\n",
    "- 반면, 트래스포머의 경우에는 문장 행렬을 만들어 한번에 행렬 형태로 들어간다는 특증이 있음\n",
    "- 그리고 이 특징 때문에 추가적인 **마스킹(Masking)**이 필요\n",
    "\n",
    "#### RNN\n",
    "- RNN으로 다음 단어를 예측해가면서 문장을 생성해내는 과정 보기\n",
    "- 다시 말해 RNN으로 **디코더** 구현했을 경우\n",
    "![RNN.png](./images/RNN.png)\n",
    "- [출처](http://torch.ch/blog/2016/07/25/nce.html)\n",
    "- RNN은 구조상으로 다음 단어를 만들어 갈 때, 자신보다 앞에 있는 단어들만 참고해서 다음 단어를 예측\n",
    "- 위의 그림을 참고로 각 단계에서 다음 단어 예측 과정을 서술하면 다음과 같음\n",
    "    - **첫 번째 step**\n",
    "        - 현재까지의 입력: what -> 출력: is\n",
    "    - **두 번째 step**\n",
    "        - 현재까지의 입력: what is -> 출력: the\n",
    "    - **세 번째 step**\n",
    "        - 현재까지의 입력: what is the -> 출력 problem\n",
    "        \n",
    "#### 트랜스포머\n",
    "- 하지만,트랜스포머의 경우, 전체 문장이 문장 행렬로 들어가기 때문에 위치와 상관없이 모든 단어를 참고해서 다음 단어를 예측할 수 있음\n",
    "- 하지만, 우리가 희망하는 것은 이전 단어들로부터 다음 단어를 예측하는 훈련을 제대로 하는 것\n",
    "- 따라서 이러한 문제를 해결하기 위해 자신보다 다음에 나올 단어를 참고하지 않도록 가리는 기법이 룩 어헤드 마스킹 기법\n",
    "- 이 기법은 어텐션을 수행할 때, Query단어 뒤에 나오는 Key 단어들에 대해서는 마스킹 진행\n",
    "![마스킹.png](./images/마스킹.png)\n",
    "- 위의 긂에서 빨간색으로 색칠된 부분은 마스킹을 표현하고 있음\n",
    "- 빨간색은 실제 어텐션 연ㅇ산에서가리는 역할을 하여 어텐션 연산 시에 현재 단어를 기준으로 이전 단어들하고만 유사도를 구할 수 있음\n",
    "- 행을 Query, 열을 Key로 표현된 행렬임을 감안하고 천천히 행렬 살펴보기\n",
    "- 예를 들어 Quer 단어가 '찾고'라고 한다면, 이 '찾고'라는 행에는 '\\<s>, <나는>, <행복을>, <찾고>\\'까지의 열만 보이고, 그 뒤 열은 아예 빨간색으로 칠해져 있음\n",
    "- 즉, 유사도를 구할 수 없도록 해놓음\n",
    "- 저 빨간색 부분을 마스킹 함수로 구현하면 다음과 같음"
   ]
  },
  {
   "cell_type": "code",
   "execution_count": 22,
   "id": "looking-asset",
   "metadata": {},
   "outputs": [
    {
     "name": "stdout",
     "output_type": "stream",
     "text": [
      "슝=3\n"
     ]
    }
   ],
   "source": [
    "def create_look_ahead_mask(x):\n",
    "    seq_len = tf.shape(x)[1]\n",
    "    look_ahead_mask = 1 - tf.linalg.band_part(tf.ones((seq_len, seq_len)), -1, 0)\n",
    "    padding_mask = create_padding_mask(x)\n",
    "    return tf.maximum(look_ahead_mask, padding_mask)\n",
    "print(\"슝=3\")"
   ]
  },
  {
   "cell_type": "markdown",
   "id": "international-valve",
   "metadata": {},
   "source": [
    "### 인코더 층 만들기\n",
    "![인코더층.png](./images/인코더층.png)\n",
    "- [출처]( http://jalammar.github.io/illustrated-transformer/)\n",
    "- 하나의 인코더 층은 크게 2개의 서브 층(sublayer)으로 나눠짐\n",
    "- 바로 **셀프 어텐션**과 **피드 포워드 신경망**\n",
    "- 셀프 어텐션은 **멀티 헤드 어텐션**으로 병렬적으로 이루어짐\n",
    "- 2개의 서브 층을 가지는 하나의 인코더 층을 구현하는 함수는 다음과 같음\n",
    "- 함수 내부적으로 첫 번째 서브 층과 두 번째 서브 층을 구현하고 있음"
   ]
  },
  {
   "cell_type": "code",
   "execution_count": 23,
   "id": "alien-possession",
   "metadata": {},
   "outputs": [
    {
     "name": "stdout",
     "output_type": "stream",
     "text": [
      "슝=3\n"
     ]
    }
   ],
   "source": [
    "# 인코더 하나의 레이어를 함수로 구현\n",
    "# 이 하나의 레이어 안에는 2개의 서브 레이어가 존재\n",
    "def encoder_layer(units, d_model, num_heads, dropout, name=\"encoder_layer\"):\n",
    "    inputs = tf.keras.Input(shape=(None, d_model), name=\"inputs\")\n",
    "\n",
    "    # 패딩 마스크 사용\n",
    "    padding_mask = tf.keras.Input(shape=(1, 1, None), name=\"padding_mask\")\n",
    "\n",
    "    # 첫 번째 서브 레이어 : 멀티 헤드 어텐션 수행 (셀프 어텐션)\n",
    "    attention = MultiHeadAttention(\n",
    "        d_model, num_heads, name=\"attention\")({\n",
    "          'query': inputs,\n",
    "          'key': inputs,\n",
    "          'value': inputs,\n",
    "          'mask': padding_mask\n",
    "      })\n",
    "\n",
    "    # 어텐션의 결과는 Dropout과 Layer Normalization이라는 훈련을 돕는 테크닉을 수행\n",
    "    attention = tf.keras.layers.Dropout(rate=dropout)(attention)\n",
    "    attention = tf.keras.layers.LayerNormalization(\n",
    "      epsilon=1e-6)(inputs + attention)\n",
    "\n",
    "    # 두 번째 서브 레이어 : 2개의 완전연결층\n",
    "    outputs = tf.keras.layers.Dense(units=units, activation='relu')(attention)\n",
    "    outputs = tf.keras.layers.Dense(units=d_model)(outputs)\n",
    "\n",
    "    # 완전연결층의 결과는 Dropout과 LayerNormalization이라는 훈련을 돕는 테크닉을 수행\n",
    "    outputs = tf.keras.layers.Dropout(rate=dropout)(outputs)\n",
    "    outputs = tf.keras.layers.LayerNormalization(\n",
    "      epsilon=1e-6)(attention + outputs)\n",
    "\n",
    "    return tf.keras.Model(\n",
    "      inputs=[inputs, padding_mask], outputs=outputs, name=name)\n",
    "print(\"슝=3\")"
   ]
  },
  {
   "cell_type": "markdown",
   "id": "greenhouse-italic",
   "metadata": {},
   "source": [
    "![인코더층2.png](./images/인코더층2.png)\n",
    "- [출처](http://jalammar.github.io/illustrated-transformer/)"
   ]
  },
  {
   "cell_type": "markdown",
   "id": "finite-operator",
   "metadata": {},
   "source": [
    "#### 인코더 층을 쌓아 인코더 만들기\n",
    "- 이렇게 구현된 인코더 층을 **임베딩 층(Embedding layer)**과 **포지셔널 인코딩(Positional Encoding)**을 연결하고, 사용자가 원하는 만큼 인코더 층을 쌓음으로써 트랜스포머의 인코더가 완성됨\n",
    "- 인코더와 디코더 내부에서는 각 서브 층 이후에 훈련을 돕는 **Layer Normalization**이라는 테크닉이 사용됨\n",
    "- 위 그림에서는 **Normalize**라고 표시된 부분에 해당됨\n",
    "- 트랜스포머는 하이퍼파라미터인 **num_layers** 개수의 인코더 층을 쌓았음\n",
    "- 논문에서는 총 6개의 인코더 층을 사용하였지만, 실습에서는 학습 시간을 고려하여 그보다 적은 개수 사용할 예정"
   ]
  },
  {
   "cell_type": "code",
   "execution_count": 24,
   "id": "weekly-webcam",
   "metadata": {},
   "outputs": [
    {
     "name": "stdout",
     "output_type": "stream",
     "text": [
      "슝=3\n"
     ]
    }
   ],
   "source": [
    "def encoder(vocab_size,\n",
    "            num_layers,\n",
    "            units,\n",
    "            d_model,\n",
    "            num_heads,\n",
    "            dropout,\n",
    "            name=\"encoder\"):\n",
    "    inputs = tf.keras.Input(shape=(None,), name=\"inputs\")\n",
    "\n",
    "    # 패딩 마스크 사용\n",
    "    padding_mask = tf.keras.Input(shape=(1, 1, None), name=\"padding_mask\")\n",
    "\n",
    "    # 임베딩 레이어\n",
    "    embeddings = tf.keras.layers.Embedding(vocab_size, d_model)(inputs)\n",
    "    embeddings *= tf.math.sqrt(tf.cast(d_model, tf.float32))\n",
    "\n",
    "    # 포지셔널 인코딩\n",
    "    embeddings = PositionalEncoding(vocab_size, d_model)(embeddings)\n",
    "\n",
    "    outputs = tf.keras.layers.Dropout(rate=dropout)(embeddings)\n",
    "\n",
    "    # num_layers만큼 쌓아올린 인코더의 층.\n",
    "    for i in range(num_layers):\n",
    "        outputs = encoder_layer(\n",
    "            units=units,\n",
    "            d_model=d_model,\n",
    "            num_heads=num_heads,\n",
    "            dropout=dropout,\n",
    "            name=\"encoder_layer_{}\".format(i),\n",
    "        )([outputs, padding_mask])\n",
    "\n",
    "    return tf.keras.Model(\n",
    "      inputs=[inputs, padding_mask], outputs=outputs, name=name)\n",
    "print(\"슝=3\")"
   ]
  },
  {
   "cell_type": "markdown",
   "id": "emotional-tenant",
   "metadata": {},
   "source": [
    "### 디코더 층\n",
    "![디코더.png](./images/디코더.png)\n",
    "- [출처](http://jalammar.github.io/illustrated-transformer/)\n",
    "- 첫 번재는 **셀프 어텐션**, 두 번째는 **인코더-디코더 어텐션**, 세 번째는 **피드 포워드 신경망**\n",
    "- **인코더-디코더 어텐션**은 셀프 어텐션과는 달리, Query가 디코더의 벡터인 반면에 Key와 Value가 인코더의 벡터라는 특징이 있음\n",
    "- 이 부분이 인코더가 입력 문장으로부터 정보를 디코더에 전달하는 과정\n",
    "![디코더2.png](./images/디코더2.png)\n",
    "- [출처]( https://medium.com/@shreyasikalra25/predict-movie-reviews-with-bert-88d8b79f5718)\n",
    "- 인코더의 **셀프 어텐션**과 마찬가지로 디코더의 **셀프 어텐션, 인코더-디코더 어텐션** 2개의 어텐션 모두 **스케일드 닷 프로덕트 어텐션**을 **멀티 헤드 어텐션**으로 병렬적으로 수행\n",
    "- 디코더의 3개의 서브 층을 내부적으로 구현한 디코더의 함수는 다음과 같음"
   ]
  },
  {
   "cell_type": "code",
   "execution_count": 25,
   "id": "intimate-situation",
   "metadata": {},
   "outputs": [
    {
     "name": "stdout",
     "output_type": "stream",
     "text": [
      "슝=3\n"
     ]
    }
   ],
   "source": [
    "# 디코더 하나의 레이어를 함수로 구현.\n",
    "# 이 하나의 레이어 안에는 3개의 서브 레이어가 존재\n",
    "def decoder_layer(units, d_model, num_heads, dropout, name=\"decoder_layer\"):\n",
    "    inputs = tf.keras.Input(shape=(None, d_model), name=\"inputs\")\n",
    "    enc_outputs = tf.keras.Input(shape=(None, d_model), name=\"encoder_outputs\")\n",
    "    look_ahead_mask = tf.keras.Input(\n",
    "      shape=(1, None, None), name=\"look_ahead_mask\")\n",
    "    padding_mask = tf.keras.Input(shape=(1, 1, None), name='padding_mask')\n",
    "\n",
    "    # 첫 번째 서브 레이어 : 멀티 헤드 어텐션 수행 (셀프 어텐션)\n",
    "    attention1 = MultiHeadAttention(\n",
    "      d_model, num_heads, name=\"attention_1\")(inputs={\n",
    "          'query': inputs,\n",
    "          'key': inputs,\n",
    "          'value': inputs,\n",
    "          'mask': look_ahead_mask\n",
    "      })\n",
    "\n",
    "    # 멀티 헤드 어텐션의 결과는 LayerNormalization이라는 훈련을 돕는 테크닉을 수행\n",
    "    attention1 = tf.keras.layers.LayerNormalization(\n",
    "      epsilon=1e-6)(attention1 + inputs)\n",
    "\n",
    "    # 두 번째 서브 레이어 : 마스크드 멀티 헤드 어텐션 수행 (인코더-디코더 어텐션)\n",
    "    attention2 = MultiHeadAttention(\n",
    "      d_model, num_heads, name=\"attention_2\")(inputs={\n",
    "          'query': attention1,\n",
    "          'key': enc_outputs,\n",
    "          'value': enc_outputs,\n",
    "          'mask': padding_mask\n",
    "      })\n",
    "\n",
    "    # 마스크드 멀티 헤드 어텐션의 결과는\n",
    "    # Dropout과 LayerNormalization이라는 훈련을 돕는 테크닉을 수행\n",
    "    attention2 = tf.keras.layers.Dropout(rate=dropout)(attention2)\n",
    "    attention2 = tf.keras.layers.LayerNormalization(\n",
    "      epsilon=1e-6)(attention2 + attention1)\n",
    "\n",
    "    # 세 번째 서브 레이어 : 2개의 완전연결층\n",
    "    outputs = tf.keras.layers.Dense(units=units, activation='relu')(attention2)\n",
    "    outputs = tf.keras.layers.Dense(units=d_model)(outputs)\n",
    "\n",
    "    # 완전연결층의 결과는 Dropout과 LayerNormalization 수행\n",
    "    outputs = tf.keras.layers.Dropout(rate=dropout)(outputs)\n",
    "    outputs = tf.keras.layers.LayerNormalization(\n",
    "      epsilon=1e-6)(outputs + attention2)\n",
    "\n",
    "    return tf.keras.Model(\n",
    "      inputs=[inputs, enc_outputs, look_ahead_mask, padding_mask],\n",
    "      outputs=outputs,\n",
    "      name=name)\n",
    "print(\"슝=3\")"
   ]
  },
  {
   "cell_type": "markdown",
   "id": "actual-university",
   "metadata": {},
   "source": [
    "### 디코더 층을 쌓아 디코더 만들기\n",
    "- 이렇게 구현한 디코더의 층은 **임베딩 층(Embedding layer)**과 **포지셔널 인코딩(Positional Encoding)**을 연결하고, 사용자가 원하는 만큼 디코더 층을 쌓아 트랜스포머의 디코더가 완성됨\n",
    "- 인코더와 마찬가지로 **num_layers** 개수의 디코더 층을 쌓음\n",
    "- 논문에서는 총 6개의 디코더 총을 사용하였지만, 실습에서는 학습 시간을 고려하여 그보다 적은 개수를 사용할 예정"
   ]
  },
  {
   "cell_type": "code",
   "execution_count": 26,
   "id": "greater-words",
   "metadata": {},
   "outputs": [
    {
     "name": "stdout",
     "output_type": "stream",
     "text": [
      "슝=3\n"
     ]
    }
   ],
   "source": [
    "def decoder(vocab_size,\n",
    "            num_layers,\n",
    "            units,\n",
    "            d_model,\n",
    "            num_heads,\n",
    "            dropout,\n",
    "            name='decoder'):\n",
    "    inputs = tf.keras.Input(shape=(None,), name='inputs')\n",
    "    enc_outputs = tf.keras.Input(shape=(None, d_model), name='encoder_outputs')\n",
    "    look_ahead_mask = tf.keras.Input(\n",
    "      shape=(1, None, None), name='look_ahead_mask')\n",
    "\n",
    "    # 패딩 마스크\n",
    "    padding_mask = tf.keras.Input(shape=(1, 1, None), name='padding_mask')\n",
    "  \n",
    "    # 임베딩 레이어\n",
    "    embeddings = tf.keras.layers.Embedding(vocab_size, d_model)(inputs)\n",
    "    embeddings *= tf.math.sqrt(tf.cast(d_model, tf.float32))\n",
    "\n",
    "    # 포지셔널 인코딩\n",
    "    embeddings = PositionalEncoding(vocab_size, d_model)(embeddings)\n",
    "\n",
    "    # Dropout이라는 훈련을 돕는 테크닉을 수행\n",
    "    outputs = tf.keras.layers.Dropout(rate=dropout)(embeddings)\n",
    "\n",
    "    for i in range(num_layers):\n",
    "        outputs = decoder_layer(\n",
    "            units=units,\n",
    "            d_model=d_model,\n",
    "            num_heads=num_heads,\n",
    "            dropout=dropout,\n",
    "            name='decoder_layer_{}'.format(i),\n",
    "        )(inputs=[outputs, enc_outputs, look_ahead_mask, padding_mask])\n",
    "\n",
    "    return tf.keras.Model(\n",
    "      inputs=[inputs, enc_outputs, look_ahead_mask, padding_mask],\n",
    "      outputs=outputs,\n",
    "      name=name)\n",
    "print(\"슝=3\")"
   ]
  },
  {
   "cell_type": "markdown",
   "id": "communist-multiple",
   "metadata": {},
   "source": [
    "- 앞서 사용한 인코더 층 함수와 디코더 층 함수를 사용해 트랜스포머 함수 정의"
   ]
  },
  {
   "cell_type": "code",
   "execution_count": 27,
   "id": "after-budget",
   "metadata": {},
   "outputs": [
    {
     "name": "stdout",
     "output_type": "stream",
     "text": [
      "슝=3\n"
     ]
    }
   ],
   "source": [
    "def transformer(vocab_size,\n",
    "                num_layers,\n",
    "                units,\n",
    "                d_model,\n",
    "                num_heads,\n",
    "                dropout,\n",
    "                name=\"transformer\"):\n",
    "    inputs = tf.keras.Input(shape=(None,), name=\"inputs\")\n",
    "    dec_inputs = tf.keras.Input(shape=(None,), name=\"dec_inputs\")\n",
    "    \n",
    "    # 인코더에서 패딩을 위한 마스크\n",
    "    enc_padding_mask = tf.keras.layers.Lambda(\n",
    "        create_padding_mask, output_shape=(1, 1, None),\n",
    "        name='enc_padding_mask')(inputs)\n",
    "    \n",
    "    # 디코더에서 미래의 토큰을 마스크 하기 위해서 사용합니다.\n",
    "    # 내부적으로 패딩 마스크도 포함되어져 있습니다.\n",
    "    look_ahead_mask = tf.keras.layers.Lambda(\n",
    "        create_look_ahead_mask,\n",
    "        output_shape=(1, None, None),\n",
    "        name='look_ahead_mask')(dec_inputs)\n",
    "    \n",
    "    # 두 번째 어텐션 블록에서 인코더의 벡터들을 마스킹\n",
    "    # 디코더에서 패딩을 위한 마스크\n",
    "    dec_padding_mask = tf.keras.layers.Lambda(\n",
    "        create_padding_mask, output_shape=(1, 1, None),\n",
    "        name='dec_padding_mask')(inputs)\n",
    "\n",
    "    # 인코더\n",
    "    enc_outputs = encoder(\n",
    "        vocab_size=vocab_size,\n",
    "        num_layers=num_layers,\n",
    "        units=units,\n",
    "        d_model=d_model,\n",
    "        num_heads=num_heads,\n",
    "        dropout=dropout,\n",
    "    )(inputs=[inputs, enc_padding_mask])\n",
    "\n",
    "    # 디코더\n",
    "    dec_outputs = decoder(\n",
    "        vocab_size=vocab_size,\n",
    "        num_layers=num_layers,\n",
    "        units=units,\n",
    "        d_model=d_model,\n",
    "        num_heads=num_heads,\n",
    "        dropout=dropout,\n",
    "    )(inputs=[dec_inputs, enc_outputs, look_ahead_mask, dec_padding_mask])\n",
    "    \n",
    "    # 완전연결층\n",
    "    outputs = tf.keras.layers.Dense(units=vocab_size, name=\"outputs\")(dec_outputs)\n",
    "\n",
    "    return tf.keras.Model(inputs=[inputs, dec_inputs], outputs=outputs, name=name)\n",
    "print(\"슝=3\")"
   ]
  },
  {
   "cell_type": "markdown",
   "id": "round-contribution",
   "metadata": {},
   "source": [
    "### (2) 모델 생성하기"
   ]
  },
  {
   "cell_type": "code",
   "execution_count": 28,
   "id": "ambient-domestic",
   "metadata": {},
   "outputs": [
    {
     "name": "stdout",
     "output_type": "stream",
     "text": [
      "Model: \"transformer\"\n",
      "__________________________________________________________________________________________________\n",
      "Layer (type)                    Output Shape         Param #     Connected to                     \n",
      "==================================================================================================\n",
      "inputs (InputLayer)             [(None, None)]       0                                            \n",
      "__________________________________________________________________________________________________\n",
      "dec_inputs (InputLayer)         [(None, None)]       0                                            \n",
      "__________________________________________________________________________________________________\n",
      "enc_padding_mask (Lambda)       (None, 1, 1, None)   0           inputs[0][0]                     \n",
      "__________________________________________________________________________________________________\n",
      "encoder (Functional)            (None, None, 256)    3143936     inputs[0][0]                     \n",
      "                                                                 enc_padding_mask[0][0]           \n",
      "__________________________________________________________________________________________________\n",
      "look_ahead_mask (Lambda)        (None, 1, None, None 0           dec_inputs[0][0]                 \n",
      "__________________________________________________________________________________________________\n",
      "dec_padding_mask (Lambda)       (None, 1, 1, None)   0           inputs[0][0]                     \n",
      "__________________________________________________________________________________________________\n",
      "decoder (Functional)            (None, None, 256)    3671296     dec_inputs[0][0]                 \n",
      "                                                                 encoder[0][0]                    \n",
      "                                                                 look_ahead_mask[0][0]            \n",
      "                                                                 dec_padding_mask[0][0]           \n",
      "__________________________________________________________________________________________________\n",
      "outputs (Dense)                 (None, None, 8163)   2097891     decoder[0][0]                    \n",
      "==================================================================================================\n",
      "Total params: 8,913,123\n",
      "Trainable params: 8,913,123\n",
      "Non-trainable params: 0\n",
      "__________________________________________________________________________________________________\n"
     ]
    }
   ],
   "source": [
    "tf.keras.backend.clear_session()\n",
    "\n",
    "# 하이퍼파라미터\n",
    "NUM_LAYERS = 2 # 인코더와 디코더의 층의 개수\n",
    "D_MODEL = 256 # 인코더와 디코더 내부의 입, 출력의 고정 차원\n",
    "NUM_HEADS = 8 # 멀티 헤드 어텐션에서의 헤드 수 \n",
    "UNITS = 512 # 피드 포워드 신경망의 은닉층의 크기\n",
    "DROPOUT = 0.1 # 드롭아웃의 비율\n",
    "\n",
    "model = transformer(\n",
    "    vocab_size=VOCAB_SIZE,\n",
    "    num_layers=NUM_LAYERS,\n",
    "    units=UNITS,\n",
    "    d_model=D_MODEL,\n",
    "    num_heads=NUM_HEADS,\n",
    "    dropout=DROPOUT)\n",
    "\n",
    "model.summary()"
   ]
  },
  {
   "cell_type": "markdown",
   "id": "warming-folder",
   "metadata": {},
   "source": [
    "### (3) 손실 함수(Loss function)\n",
    "- 레이블인 시퀀스에 패딩이 되어 있으므로, loss를 계산할 때 패딩 마스크를 적용"
   ]
  },
  {
   "cell_type": "code",
   "execution_count": 29,
   "id": "fuzzy-above",
   "metadata": {},
   "outputs": [
    {
     "name": "stdout",
     "output_type": "stream",
     "text": [
      "슝=3\n"
     ]
    }
   ],
   "source": [
    "def loss_function(y_true, y_pred):\n",
    "    y_true = tf.reshape(y_true, shape=(-1, MAX_LENGTH - 1))\n",
    "    \n",
    "    loss = tf.keras.losses.SparseCategoricalCrossentropy(\n",
    "      from_logits=True, reduction='none')(y_true, y_pred)\n",
    "    \n",
    "    mask = tf.cast(tf.not_equal(y_true, 0), tf.float32)\n",
    "    loss = tf.multiply(loss, mask)\n",
    "\n",
    "    return tf.reduce_mean(loss)\n",
    "print(\"슝=3\")"
   ]
  },
  {
   "cell_type": "markdown",
   "id": "laden-recipe",
   "metadata": {},
   "source": [
    "### (4) 커스텀 된 학습률(Learning rate)\n",
    "- 딥러닝 모델학습 시 learning rate는 매우 중요한 하이퍼파라미터\n",
    "- 최근에는 모델학습 초기에 learning rate를 급격히 높였다가, 이후 train step이 진행됨에 따라 서서히 낮추어 가면서 안정적으로 수렴하게 하는 고급 기법을 널리 사용하고 있음\n",
    "- 이런 방법을 커스텀 학습률 스케줄링(Custom Learning rate Scheduling)이라고 함\n",
    "- 논문에 나온 공식을 참고하여 커스텀 학습률 스케줄러를 통한 아담 옵티마이저를 사용\n",
    "- 논문에 나온 공식은 다음과 같음\n",
    "![공식.png](./images/공식.png)"
   ]
  },
  {
   "cell_type": "code",
   "execution_count": 30,
   "id": "african-grace",
   "metadata": {},
   "outputs": [
    {
     "name": "stdout",
     "output_type": "stream",
     "text": [
      "슝=3\n"
     ]
    }
   ],
   "source": [
    "class CustomSchedule(tf.keras.optimizers.schedules.LearningRateSchedule):\n",
    "\n",
    "    def __init__(self, d_model, warmup_steps=4000):\n",
    "        super(CustomSchedule, self).__init__()\n",
    "\n",
    "        self.d_model = d_model\n",
    "        self.d_model = tf.cast(self.d_model, tf.float32)\n",
    "\n",
    "        self.warmup_steps = warmup_steps\n",
    "        \n",
    "    def __call__(self, step):\n",
    "        arg1 = tf.math.rsqrt(step)\n",
    "        arg2 = step * (self.warmup_steps**-1.5)\n",
    "\n",
    "        return tf.math.rsqrt(self.d_model) * tf.math.minimum(arg1, arg2)\n",
    "print(\"슝=3\")"
   ]
  },
  {
   "cell_type": "markdown",
   "id": "premium-albany",
   "metadata": {},
   "source": [
    "- 방금 정의한 커스텀 학습률 스케줄링 계획을 시각화\n",
    "- 위에 언급한 수식은 step_num -0.5에 비례하는 부분과 step_num에 비례하는 부분 중 작은 쪽을 택하도록 되어 있음\n",
    "- 그래서 학습 초기에는 learning_rate가 step_num에 비례해서 증가하다가 이후로는 감소하는 것을 확인할 수 있음"
   ]
  },
  {
   "cell_type": "code",
   "execution_count": 31,
   "id": "sacred-algeria",
   "metadata": {},
   "outputs": [
    {
     "data": {
      "text/plain": [
       "Text(0.5, 0, 'Train Step')"
      ]
     },
     "execution_count": 31,
     "metadata": {},
     "output_type": "execute_result"
    },
    {
     "data": {
      "image/png": "[encoded data removed]",
      "text/plain": [
       "<Figure size 432x288 with 1 Axes>"
      ]
     },
     "metadata": {
      "needs_background": "light"
     },
     "output_type": "display_data"
    }
   ],
   "source": [
    "sample_learning_rate = CustomSchedule(d_model=128)\n",
    "\n",
    "plt.plot(sample_learning_rate(tf.range(200000, dtype=tf.float32)))\n",
    "plt.ylabel(\"Learning Rate\")\n",
    "plt.xlabel(\"Train Step\")"
   ]
  },
  {
   "cell_type": "markdown",
   "id": "contrary-forward",
   "metadata": {},
   "source": [
    "### (5) 모델 컴파일\n",
    "- 손실 함수와 커스텀 된 학습률(learning rate)을 사용하여 모델 컴파일"
   ]
  },
  {
   "cell_type": "code",
   "execution_count": 32,
   "id": "textile-dispatch",
   "metadata": {},
   "outputs": [
    {
     "name": "stdout",
     "output_type": "stream",
     "text": [
      "슝=3\n"
     ]
    }
   ],
   "source": [
    "learning_rate = CustomSchedule(D_MODEL)\n",
    "\n",
    "optimizer = tf.keras.optimizers.Adam(\n",
    "    learning_rate, beta_1=0.9, beta_2=0.98, epsilon=1e-9)\n",
    "\n",
    "def accuracy(y_true, y_pred):\n",
    "    y_true = tf.reshape(y_true, shape=(-1, MAX_LENGTH - 1))\n",
    "    return tf.keras.metrics.sparse_categorical_accuracy(y_true, y_pred)\n",
    "\n",
    "model.compile(optimizer=optimizer, loss=loss_function, metrics=[accuracy])\n",
    "print(\"슝=3\")"
   ]
  },
  {
   "cell_type": "markdown",
   "id": "wireless-territory",
   "metadata": {},
   "source": [
    "### (6) 훈련하기\n",
    "- 총 20 에포크를 학습"
   ]
  },
  {
   "cell_type": "code",
   "execution_count": 33,
   "id": "educational-costa",
   "metadata": {},
   "outputs": [
    {
     "name": "stdout",
     "output_type": "stream",
     "text": [
      "Epoch 1/20\n",
      "183/183 [==============================] - 39s 174ms/step - loss: 3.9073 - accuracy: 0.0319\n",
      "Epoch 2/20\n",
      "183/183 [==============================] - 32s 174ms/step - loss: 3.2101 - accuracy: 0.1250\n",
      "Epoch 3/20\n",
      "183/183 [==============================] - 32s 174ms/step - loss: 2.6113 - accuracy: 0.1301\n",
      "Epoch 4/20\n",
      "183/183 [==============================] - 32s 174ms/step - loss: 2.3993 - accuracy: 0.1386\n",
      "Epoch 5/20\n",
      "183/183 [==============================] - 32s 174ms/step - loss: 2.2377 - accuracy: 0.1472\n",
      "Epoch 6/20\n",
      "183/183 [==============================] - 32s 174ms/step - loss: 2.0967 - accuracy: 0.1583\n",
      "Epoch 7/20\n",
      "183/183 [==============================] - 32s 174ms/step - loss: 1.9114 - accuracy: 0.1729\n",
      "Epoch 8/20\n",
      "183/183 [==============================] - 32s 174ms/step - loss: 1.7306 - accuracy: 0.1930\n",
      "Epoch 9/20\n",
      "183/183 [==============================] - 32s 174ms/step - loss: 1.5241 - accuracy: 0.2148\n",
      "Epoch 10/20\n",
      "183/183 [==============================] - 32s 174ms/step - loss: 1.3044 - accuracy: 0.2417\n",
      "Epoch 11/20\n",
      "183/183 [==============================] - 32s 174ms/step - loss: 1.0912 - accuracy: 0.2701\n",
      "Epoch 12/20\n",
      "183/183 [==============================] - 32s 174ms/step - loss: 0.8745 - accuracy: 0.2985\n",
      "Epoch 13/20\n",
      "183/183 [==============================] - 32s 174ms/step - loss: 0.6728 - accuracy: 0.3277\n",
      "Epoch 14/20\n",
      "183/183 [==============================] - 32s 174ms/step - loss: 0.5129 - accuracy: 0.3532\n",
      "Epoch 15/20\n",
      "183/183 [==============================] - 32s 174ms/step - loss: 0.3692 - accuracy: 0.3809\n",
      "Epoch 16/20\n",
      "183/183 [==============================] - 32s 174ms/step - loss: 0.2622 - accuracy: 0.4010\n",
      "Epoch 17/20\n",
      "183/183 [==============================] - 32s 174ms/step - loss: 0.1834 - accuracy: 0.4135\n",
      "Epoch 18/20\n",
      "183/183 [==============================] - 32s 174ms/step - loss: 0.1326 - accuracy: 0.4221\n",
      "Epoch 19/20\n",
      "183/183 [==============================] - 32s 174ms/step - loss: 0.1129 - accuracy: 0.4233\n",
      "Epoch 20/20\n",
      "183/183 [==============================] - 32s 174ms/step - loss: 0.0997 - accuracy: 0.4244\n"
     ]
    },
    {
     "data": {
      "text/plain": [
       "<tensorflow.python.keras.callbacks.History at 0x7f26eeeb2d50>"
      ]
     },
     "execution_count": 33,
     "metadata": {},
     "output_type": "execute_result"
    }
   ],
   "source": [
    "EPOCHS = 20\n",
    "model.fit(dataset, epochs=EPOCHS, verbose=1)"
   ]
  },
  {
   "cell_type": "markdown",
   "id": "serious-solution",
   "metadata": {},
   "source": [
    "## 6. 모델 평가하기"
   ]
  },
  {
   "cell_type": "markdown",
   "id": "charming-addition",
   "metadata": {},
   "source": [
    "- 전처리 방법을 고려하여 입력된 문장에 대해서 대답을 얻는 예측 함수 만들기"
   ]
  },
  {
   "cell_type": "markdown",
   "id": "curious-computer",
   "metadata": {},
   "source": [
    "- 예측(inference) 단계는 기본적으로 다음과 같은 과정을 거침\n",
    "    - 1. 새로운 입력 문장에 대해서는 훈련 때와 동일한 전처리 거침\n",
    "    - 2. 입력 문장을 토크나이징하고, 'START_TOKEN'과 'END_TOKEN'ㅇ르 추가\n",
    "    - 3. 패딩 마스킹과 룩 어헤드 마스킹을 계산\n",
    "    - 4. 디코더는 입력 시퀀스로부터 다음 단어를 예측\n",
    "    - 5. 디코더는 예측한 다음 단어를 기존의 입력 시퀀스에 추가하여 새로운 입력으로 사용\n",
    "    - 6. 'END_TOKEN'이 예측되거나 문장의 최대 길이에 도달하면 디코더는 동작을 멈춤\n",
    "- 위의 과정을 모두 담은 'decoder_inference()' 함수 만들기"
   ]
  },
  {
   "cell_type": "code",
   "execution_count": 34,
   "id": "developed-highland",
   "metadata": {},
   "outputs": [
    {
     "name": "stdout",
     "output_type": "stream",
     "text": [
      "슝=3\n"
     ]
    }
   ],
   "source": [
    "def decoder_inference(sentence):\n",
    "    sentence = preprocess_sentence(sentence)\n",
    "    \n",
    "    # 입력된 문장을 정수 인코딩 후, 시작 토큰과 종료 토큰을 앞뒤로 추가\n",
    "    # ex) Where have you been? → [[8331   86   30    5 1059    7 8332]]\n",
    "    sentence = tf.expand_dims(\n",
    "        START_TOKEN + tokenizer.encode(sentence) + END_TOKEN, axis=0)\n",
    "    \n",
    "    # 디코더의 현재까지의 예측한 출력 시퀀스가 지속적으로 저장되는 변수\n",
    "    # 처음에는 예측한 내용이 없음으로 시작 토큰만 별도 저장. ex) 8331\n",
    "    output_sequence = tf.expand_dims(START_TOKEN, 0)\n",
    "    \n",
    "    # 디코더의 인퍼런스 단계\n",
    "    for i in range(MAX_LENGTH):\n",
    "        # 디코더는 최대 MAX_LENGTH의 길이만큼 다음 단어 예측을 반복\n",
    "        predictions = model(inputs=[sentence, output_sequence], training=False)\n",
    "        predictions = predictions[:, -1:, :]\n",
    "        \n",
    "        # 현재 예측한 단어의 정수\n",
    "        predicted_id = tf.cast(tf.argmax(predictions, axis=-1), tf.int32)\n",
    "        \n",
    "        # 만약 현재 예측한 단어가 종료 토큰이라면 for문을 종료\n",
    "        if tf.equal(predicted_id, END_TOKEN[0]):\n",
    "            break\n",
    "            \n",
    "        # 예측한 단어들은 지속적으로 output_sequence에 추가됨\n",
    "        # 이 output_sequence는 다시 디코더의 입력이 됨\n",
    "        output_sequence = tf.concat([output_sequence, predicted_id], axis=-1)\n",
    "\n",
    "    return tf.squeeze(output_sequence, axis=0)\n",
    "print(\"슝=3\")"
   ]
  },
  {
   "cell_type": "markdown",
   "id": "obvious-suite",
   "metadata": {},
   "source": [
    "- 임의의 입력 문장에 대해서 'decoder_inference()' 함수를 호출하여 챗봇의 대답을 얻는 'sentence_generation()' 함수 만들기"
   ]
  },
  {
   "cell_type": "code",
   "execution_count": 35,
   "id": "powerful-passport",
   "metadata": {},
   "outputs": [
    {
     "name": "stdout",
     "output_type": "stream",
     "text": [
      "슝=3\n"
     ]
    }
   ],
   "source": [
    "def sentence_generation(sentence):\n",
    "  # 입력 문장에 대해서 디코더를 동작 시켜 예측된 정수 시퀀스를 리턴받음\n",
    "    prediction = decoder_inference(sentence)\n",
    "    \n",
    "    # 정수 시퀀스를 다시 텍스트 시퀀스로 변환\n",
    "    predicted_sentence = tokenizer.decode(\n",
    "      [i for i in prediction if i < tokenizer.vocab_size])\n",
    "    \n",
    "    print('입력 : {}'.format(sentence))\n",
    "    print('출력 : {}'.format(predicted_sentence))\n",
    "\n",
    "    return predicted_sentence\n",
    "print(\"슝=3\")"
   ]
  },
  {
   "cell_type": "markdown",
   "id": "guilty-beverage",
   "metadata": {},
   "source": [
    "- 임의의 문장으로부터 챗봇의 대답 얻어보기"
   ]
  },
  {
   "cell_type": "code",
   "execution_count": 38,
   "id": "related-proceeding",
   "metadata": {},
   "outputs": [
    {
     "name": "stdout",
     "output_type": "stream",
     "text": [
      "입력 : 나 지금 배고파\n",
      "출력 : 뭐 좀 챙겨드세요 .\n"
     ]
    },
    {
     "data": {
      "text/plain": [
       "'뭐 좀 챙겨드세요 .'"
      ]
     },
     "execution_count": 38,
     "metadata": {},
     "output_type": "execute_result"
    }
   ],
   "source": [
    "sentence_generation('나 지금 배고파')"
   ]
  },
  {
   "cell_type": "code",
   "execution_count": 39,
   "id": "separated-producer",
   "metadata": {},
   "outputs": [
    {
     "name": "stdout",
     "output_type": "stream",
     "text": [
      "입력 : 나 지금 피곤해\n",
      "출력 : 좀 더 시간이 필요한 것 같네요 .\n"
     ]
    },
    {
     "data": {
      "text/plain": [
       "'좀 더 시간이 필요한 것 같네요 .'"
      ]
     },
     "execution_count": 39,
     "metadata": {},
     "output_type": "execute_result"
    }
   ],
   "source": [
    "sentence_generation('나 지금 피곤해')"
   ]
  },
  {
   "cell_type": "code",
   "execution_count": 40,
   "id": "hybrid-lindsay",
   "metadata": {},
   "outputs": [
    {
     "name": "stdout",
     "output_type": "stream",
     "text": [
      "입력 : 오늘 점심 뭐 먹을까?\n",
      "출력 : 맛있는 거 먹고 기분이 나아졌다면 걱정은 넣어두세요 .\n"
     ]
    },
    {
     "data": {
      "text/plain": [
       "'맛있는 거 먹고 기분이 나아졌다면 걱정은 넣어두세요 .'"
      ]
     },
     "execution_count": 40,
     "metadata": {},
     "output_type": "execute_result"
    }
   ],
   "source": [
    "sentence_generation('오늘 점심 뭐 먹을까?')"
   ]
  }
 ],
 "metadata": {
  "kernelspec": {
   "display_name": "Python 3",
   "language": "python",
   "name": "python3"
  },
  "language_info": {
   "codemirror_mode": {
    "name": "ipython",
    "version": 3
   },
   "file_extension": ".py",
   "mimetype": "text/x-python",
   "name": "python",
   "nbconvert_exporter": "python",
   "pygments_lexer": "ipython3",
   "version": "3.7.9"
  }
 },
 "nbformat": 4,
 "nbformat_minor": 5
}
