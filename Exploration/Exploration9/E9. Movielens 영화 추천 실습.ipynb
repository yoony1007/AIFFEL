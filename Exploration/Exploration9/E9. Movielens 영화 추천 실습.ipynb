{
 "cells": [
  {
   "cell_type": "markdown",
   "id": "becoming-shoulder",
   "metadata": {},
   "source": [
    "# E9. Movielens 영화 추천 실습"
   ]
  },
  {
   "cell_type": "markdown",
   "id": "intermediate-globe",
   "metadata": {},
   "source": [
    "## 프로젝트 개요"
   ]
  },
  {
   "cell_type": "markdown",
   "id": "turkish-growing",
   "metadata": {},
   "source": [
    "- 머신러닝 어플리케이션 중 가장 상업적인 성공을 거둔 것으로 평가받고 있는 **추천시스템(Recommender System)**에 대해 알아보려고 함\n",
    "- 어느덧 추천시스템은 우리 생활 깊숙이 들어와 있음\n",
    "- 유튜브, 넷플릭스 등 동영상 플랫폼이 기가막히게 내가 좋아할 만한 콘텐츠를 찾아서 자동으로 플레이해 주고 있음\n",
    "- 아마존, 쿠팡 온라인 쇼핑 사이트에서도 내 취향에 맞는 상품추천을 쉽게 접할 수 있음\n",
    "- 페이스북, 인스타그램 같은 SNS는 말할 것도 없고, 어쩌면 느끼지도 못한 사이에 뉴스나 광고까지도 추천시스템의 원리가 숨어들어 있음\n",
    "- 이런 추천시스템의 원리를 한 문장으로 줄인다면 **나와 비슷한 다른 사용자들이 좋아하는 것과 비슷한 것을 내게 추천해 준다**일 것\n",
    "- 하지만 어떤 사용자들이 나와 비슷한지를 어떻게 알 수 있을까?\n",
    "- 또 어떤 상품이나 정보가 서로 유사한지는 어떻게 알 수 있는 걸까?\n",
    "- 추천시스템의 기본 원리를 파악해 보고 나만의 추천시스템을 만들 수 있는 멋진 아이디어 떠올려 보기"
   ]
  },
  {
   "cell_type": "markdown",
   "id": "stretch-macedonia",
   "metadata": {},
   "source": [
    "## 프로젝트 소개"
   ]
  },
  {
   "cell_type": "markdown",
   "id": "virtual-committee",
   "metadata": {},
   "source": [
    "- 추천시스템의 개념과 목적을 이해\n",
    "- Implicit 라이브러리를 활용하여 Matrix Factorization(이하 MF) 기반의 추천 모델을 만들어 보기\n",
    "- 영화 시청 기록을 활용하여 비슷한 영화를 찾고 영화를 추천해 봄\n",
    "- 추천 시스템에서 자주 사용되는 데이터 구조인 CSR Matrix을 익힘\n",
    "- 유저의 행위 데이터 중 Explicit data와 Implicit data의 차이점 익히기\n",
    "- 새로운 데이터셋으로 직접 추천 모델 만들어 보기\n",
    "- MF 모델 학습 방법을 토대로, 내가 좋아할 만한 영화 추천 시스템을 제작해 보기"
   ]
  },
  {
   "cell_type": "markdown",
   "id": "protected-resolution",
   "metadata": {},
   "source": [
    "## 데이터셋 소개"
   ]
  },
  {
   "cell_type": "markdown",
   "id": "satellite-beatles",
   "metadata": {},
   "source": [
    "#### 활용할 데이터셋은 추천시스템의 MNIST라고 부를만한 Movielens 데이터\n",
    "- 유저가 영화에 대해 평점을 매긴 데이터가 데이터 크기 별로 있음. 'Movielens 1M Dataset' 사용을 권장\n",
    "- 별점 데이터는 대표적인 explicit 데이터. 하지만, implicit 데이터로 간주하고 테스트해볼 수 있음\n",
    "- 별점을 **시청횟수**로 해석해서 생각\n",
    "- 또한, 유저가 3점 미만으로 준 데이터는 선호하지 않는다고 가정하고 제외"
   ]
  },
  {
   "cell_type": "markdown",
   "id": "stable-shoot",
   "metadata": {},
   "source": [
    "#### Cloud Storage에 미리 업로드 된 ml-1m폴더 내 파일을 심볼릭 링크로 개인 storage에 연결해 주기\n",
    "```python\n",
    "$ mkdir -p ~/aiffel/recommendata_iu/data/ml-1m\n",
    "$ ln -s ~/data/ml-1m/* ~/aiffel/recommendata_iu/data/ml-1m\n",
    "```"
   ]
  },
  {
   "cell_type": "markdown",
   "id": "satisfied-belgium",
   "metadata": {},
   "source": [
    "## 목차\n"
   ]
  },
  {
   "cell_type": "code",
   "execution_count": 1,
   "id": "derived-andrew",
   "metadata": {},
   "outputs": [],
   "source": [
    "# movies = pd.read_csv(movie_file_path, sep='::', names=cols, engine='python', encoding='ISO-8859-1')\n",
    "# pd.set_option('display.max_rows', 3883) ##전체 movie 행 다 나오게\n",
    "# movies"
   ]
  },
  {
   "cell_type": "markdown",
   "id": "northern-membership",
   "metadata": {},
   "source": [
    "## 1. 데이터 준비와 전처리"
   ]
  },
  {
   "cell_type": "markdown",
   "id": "anonymous-wallet",
   "metadata": {},
   "source": [
    "- Movielens 데이터는 'rating.dat' 안에 이미 인덱싱까지 완료된 사용자-영화-평점 데이터가 깔끔하게 정리되어 있음"
   ]
  },
  {
   "cell_type": "code",
   "execution_count": 2,
   "id": "loaded-telephone",
   "metadata": {},
   "outputs": [
    {
     "data": {
      "text/html": [
       "<div>\n",
       "<style scoped>\n",
       "    .dataframe tbody tr th:only-of-type {\n",
       "        vertical-align: middle;\n",
       "    }\n",
       "\n",
       "    .dataframe tbody tr th {\n",
       "        vertical-align: top;\n",
       "    }\n",
       "\n",
       "    .dataframe thead th {\n",
       "        text-align: right;\n",
       "    }\n",
       "</style>\n",
       "<table border=\"1\" class=\"dataframe\">\n",
       "  <thead>\n",
       "    <tr style=\"text-align: right;\">\n",
       "      <th></th>\n",
       "      <th>user_id</th>\n",
       "      <th>movie_id</th>\n",
       "      <th>rating</th>\n",
       "      <th>timestamp</th>\n",
       "    </tr>\n",
       "  </thead>\n",
       "  <tbody>\n",
       "    <tr>\n",
       "      <th>0</th>\n",
       "      <td>1</td>\n",
       "      <td>1193</td>\n",
       "      <td>5</td>\n",
       "      <td>978300760</td>\n",
       "    </tr>\n",
       "    <tr>\n",
       "      <th>1</th>\n",
       "      <td>1</td>\n",
       "      <td>661</td>\n",
       "      <td>3</td>\n",
       "      <td>978302109</td>\n",
       "    </tr>\n",
       "    <tr>\n",
       "      <th>2</th>\n",
       "      <td>1</td>\n",
       "      <td>914</td>\n",
       "      <td>3</td>\n",
       "      <td>978301968</td>\n",
       "    </tr>\n",
       "    <tr>\n",
       "      <th>3</th>\n",
       "      <td>1</td>\n",
       "      <td>3408</td>\n",
       "      <td>4</td>\n",
       "      <td>978300275</td>\n",
       "    </tr>\n",
       "    <tr>\n",
       "      <th>4</th>\n",
       "      <td>1</td>\n",
       "      <td>2355</td>\n",
       "      <td>5</td>\n",
       "      <td>978824291</td>\n",
       "    </tr>\n",
       "  </tbody>\n",
       "</table>\n",
       "</div>"
      ],
      "text/plain": [
       "   user_id  movie_id  rating  timestamp\n",
       "0        1      1193       5  978300760\n",
       "1        1       661       3  978302109\n",
       "2        1       914       3  978301968\n",
       "3        1      3408       4  978300275\n",
       "4        1      2355       5  978824291"
      ]
     },
     "execution_count": 2,
     "metadata": {},
     "output_type": "execute_result"
    }
   ],
   "source": [
    "import pandas as pd\n",
    "import os\n",
    "rating_file_path = os.getenv('HOME') + '/aiffel/recommendata_iu/data/ml-1m/ratings.dat'\n",
    "ratings_cols = ['user_id', 'movie_id', 'rating', 'timestamp']\n",
    "ratings = pd.read_csv(rating_file_path, sep = '::', names = ratings_cols, engine = 'python', encoding = \"ISO-8859-1\")\n",
    "original_data_size = len(ratings)\n",
    "ratings.head()"
   ]
  },
  {
   "cell_type": "code",
   "execution_count": 3,
   "id": "growing-austria",
   "metadata": {},
   "outputs": [
    {
     "name": "stdout",
     "output_type": "stream",
     "text": [
      "original_data_size: 1000209, filtered_data_size: 836478\n",
      "Ratio of Remaining Data is 83.63%\n"
     ]
    }
   ],
   "source": [
    "# 3점 이상만 남기기\n",
    "ratings = ratings[ratings['rating']>=3]\n",
    "filtered_data_size = len(ratings)\n",
    "\n",
    "print(f'original_data_size: {original_data_size}, filtered_data_size: {filtered_data_size}')\n",
    "print(f'Ratio of Remaining Data is {filtered_data_size / original_data_size:.2%}')"
   ]
  },
  {
   "cell_type": "code",
   "execution_count": 4,
   "id": "ceramic-withdrawal",
   "metadata": {},
   "outputs": [],
   "source": [
    "# ratings 컬럼의 이름을 count('시청 횟수')로 바꾸기\n",
    "ratings.rename(columns = {'rating':'count'}, inplace = True)"
   ]
  },
  {
   "cell_type": "code",
   "execution_count": 5,
   "id": "designed-edwards",
   "metadata": {
    "scrolled": true
   },
   "outputs": [
    {
     "data": {
      "text/plain": [
       "0          5\n",
       "1          3\n",
       "2          3\n",
       "3          4\n",
       "4          5\n",
       "          ..\n",
       "1000203    3\n",
       "1000205    5\n",
       "1000206    5\n",
       "1000207    4\n",
       "1000208    4\n",
       "Name: count, Length: 836478, dtype: int64"
      ]
     },
     "execution_count": 5,
     "metadata": {},
     "output_type": "execute_result"
    }
   ],
   "source": [
    "ratings['count']"
   ]
  },
  {
   "cell_type": "code",
   "execution_count": 6,
   "id": "strange-beauty",
   "metadata": {},
   "outputs": [
    {
     "data": {
      "text/html": [
       "<div>\n",
       "<style scoped>\n",
       "    .dataframe tbody tr th:only-of-type {\n",
       "        vertical-align: middle;\n",
       "    }\n",
       "\n",
       "    .dataframe tbody tr th {\n",
       "        vertical-align: top;\n",
       "    }\n",
       "\n",
       "    .dataframe thead th {\n",
       "        text-align: right;\n",
       "    }\n",
       "</style>\n",
       "<table border=\"1\" class=\"dataframe\">\n",
       "  <thead>\n",
       "    <tr style=\"text-align: right;\">\n",
       "      <th></th>\n",
       "      <th>movie_id</th>\n",
       "      <th>title</th>\n",
       "      <th>genre</th>\n",
       "    </tr>\n",
       "  </thead>\n",
       "  <tbody>\n",
       "    <tr>\n",
       "      <th>0</th>\n",
       "      <td>1</td>\n",
       "      <td>Toy Story (1995)</td>\n",
       "      <td>Animation|Children's|Comedy</td>\n",
       "    </tr>\n",
       "    <tr>\n",
       "      <th>1</th>\n",
       "      <td>2</td>\n",
       "      <td>Jumanji (1995)</td>\n",
       "      <td>Adventure|Children's|Fantasy</td>\n",
       "    </tr>\n",
       "    <tr>\n",
       "      <th>2</th>\n",
       "      <td>3</td>\n",
       "      <td>Grumpier Old Men (1995)</td>\n",
       "      <td>Comedy|Romance</td>\n",
       "    </tr>\n",
       "    <tr>\n",
       "      <th>3</th>\n",
       "      <td>4</td>\n",
       "      <td>Waiting to Exhale (1995)</td>\n",
       "      <td>Comedy|Drama</td>\n",
       "    </tr>\n",
       "    <tr>\n",
       "      <th>4</th>\n",
       "      <td>5</td>\n",
       "      <td>Father of the Bride Part II (1995)</td>\n",
       "      <td>Comedy</td>\n",
       "    </tr>\n",
       "    <tr>\n",
       "      <th>5</th>\n",
       "      <td>6</td>\n",
       "      <td>Heat (1995)</td>\n",
       "      <td>Action|Crime|Thriller</td>\n",
       "    </tr>\n",
       "    <tr>\n",
       "      <th>6</th>\n",
       "      <td>7</td>\n",
       "      <td>Sabrina (1995)</td>\n",
       "      <td>Comedy|Romance</td>\n",
       "    </tr>\n",
       "    <tr>\n",
       "      <th>7</th>\n",
       "      <td>8</td>\n",
       "      <td>Tom and Huck (1995)</td>\n",
       "      <td>Adventure|Children's</td>\n",
       "    </tr>\n",
       "    <tr>\n",
       "      <th>8</th>\n",
       "      <td>9</td>\n",
       "      <td>Sudden Death (1995)</td>\n",
       "      <td>Action</td>\n",
       "    </tr>\n",
       "    <tr>\n",
       "      <th>9</th>\n",
       "      <td>10</td>\n",
       "      <td>GoldenEye (1995)</td>\n",
       "      <td>Action|Adventure|Thriller</td>\n",
       "    </tr>\n",
       "    <tr>\n",
       "      <th>10</th>\n",
       "      <td>11</td>\n",
       "      <td>American President, The (1995)</td>\n",
       "      <td>Comedy|Drama|Romance</td>\n",
       "    </tr>\n",
       "    <tr>\n",
       "      <th>11</th>\n",
       "      <td>12</td>\n",
       "      <td>Dracula: Dead and Loving It (1995)</td>\n",
       "      <td>Comedy|Horror</td>\n",
       "    </tr>\n",
       "    <tr>\n",
       "      <th>12</th>\n",
       "      <td>13</td>\n",
       "      <td>Balto (1995)</td>\n",
       "      <td>Animation|Children's</td>\n",
       "    </tr>\n",
       "    <tr>\n",
       "      <th>13</th>\n",
       "      <td>14</td>\n",
       "      <td>Nixon (1995)</td>\n",
       "      <td>Drama</td>\n",
       "    </tr>\n",
       "    <tr>\n",
       "      <th>14</th>\n",
       "      <td>15</td>\n",
       "      <td>Cutthroat Island (1995)</td>\n",
       "      <td>Action|Adventure|Romance</td>\n",
       "    </tr>\n",
       "    <tr>\n",
       "      <th>15</th>\n",
       "      <td>16</td>\n",
       "      <td>Casino (1995)</td>\n",
       "      <td>Drama|Thriller</td>\n",
       "    </tr>\n",
       "    <tr>\n",
       "      <th>16</th>\n",
       "      <td>17</td>\n",
       "      <td>Sense and Sensibility (1995)</td>\n",
       "      <td>Drama|Romance</td>\n",
       "    </tr>\n",
       "    <tr>\n",
       "      <th>17</th>\n",
       "      <td>18</td>\n",
       "      <td>Four Rooms (1995)</td>\n",
       "      <td>Thriller</td>\n",
       "    </tr>\n",
       "    <tr>\n",
       "      <th>18</th>\n",
       "      <td>19</td>\n",
       "      <td>Ace Ventura: When Nature Calls (1995)</td>\n",
       "      <td>Comedy</td>\n",
       "    </tr>\n",
       "    <tr>\n",
       "      <th>19</th>\n",
       "      <td>20</td>\n",
       "      <td>Money Train (1995)</td>\n",
       "      <td>Action</td>\n",
       "    </tr>\n",
       "    <tr>\n",
       "      <th>20</th>\n",
       "      <td>21</td>\n",
       "      <td>Get Shorty (1995)</td>\n",
       "      <td>Action|Comedy|Drama</td>\n",
       "    </tr>\n",
       "    <tr>\n",
       "      <th>21</th>\n",
       "      <td>22</td>\n",
       "      <td>Copycat (1995)</td>\n",
       "      <td>Crime|Drama|Thriller</td>\n",
       "    </tr>\n",
       "    <tr>\n",
       "      <th>22</th>\n",
       "      <td>23</td>\n",
       "      <td>Assassins (1995)</td>\n",
       "      <td>Thriller</td>\n",
       "    </tr>\n",
       "    <tr>\n",
       "      <th>23</th>\n",
       "      <td>24</td>\n",
       "      <td>Powder (1995)</td>\n",
       "      <td>Drama|Sci-Fi</td>\n",
       "    </tr>\n",
       "    <tr>\n",
       "      <th>24</th>\n",
       "      <td>25</td>\n",
       "      <td>Leaving Las Vegas (1995)</td>\n",
       "      <td>Drama|Romance</td>\n",
       "    </tr>\n",
       "    <tr>\n",
       "      <th>25</th>\n",
       "      <td>26</td>\n",
       "      <td>Othello (1995)</td>\n",
       "      <td>Drama</td>\n",
       "    </tr>\n",
       "    <tr>\n",
       "      <th>26</th>\n",
       "      <td>27</td>\n",
       "      <td>Now and Then (1995)</td>\n",
       "      <td>Drama</td>\n",
       "    </tr>\n",
       "    <tr>\n",
       "      <th>27</th>\n",
       "      <td>28</td>\n",
       "      <td>Persuasion (1995)</td>\n",
       "      <td>Romance</td>\n",
       "    </tr>\n",
       "    <tr>\n",
       "      <th>28</th>\n",
       "      <td>29</td>\n",
       "      <td>City of Lost Children, The (1995)</td>\n",
       "      <td>Adventure|Sci-Fi</td>\n",
       "    </tr>\n",
       "    <tr>\n",
       "      <th>29</th>\n",
       "      <td>30</td>\n",
       "      <td>Shanghai Triad (Yao a yao yao dao waipo qiao) ...</td>\n",
       "      <td>Drama</td>\n",
       "    </tr>\n",
       "  </tbody>\n",
       "</table>\n",
       "</div>"
      ],
      "text/plain": [
       "    movie_id                                              title  \\\n",
       "0          1                                   Toy Story (1995)   \n",
       "1          2                                     Jumanji (1995)   \n",
       "2          3                            Grumpier Old Men (1995)   \n",
       "3          4                           Waiting to Exhale (1995)   \n",
       "4          5                 Father of the Bride Part II (1995)   \n",
       "5          6                                        Heat (1995)   \n",
       "6          7                                     Sabrina (1995)   \n",
       "7          8                                Tom and Huck (1995)   \n",
       "8          9                                Sudden Death (1995)   \n",
       "9         10                                   GoldenEye (1995)   \n",
       "10        11                     American President, The (1995)   \n",
       "11        12                 Dracula: Dead and Loving It (1995)   \n",
       "12        13                                       Balto (1995)   \n",
       "13        14                                       Nixon (1995)   \n",
       "14        15                            Cutthroat Island (1995)   \n",
       "15        16                                      Casino (1995)   \n",
       "16        17                       Sense and Sensibility (1995)   \n",
       "17        18                                  Four Rooms (1995)   \n",
       "18        19              Ace Ventura: When Nature Calls (1995)   \n",
       "19        20                                 Money Train (1995)   \n",
       "20        21                                  Get Shorty (1995)   \n",
       "21        22                                     Copycat (1995)   \n",
       "22        23                                   Assassins (1995)   \n",
       "23        24                                      Powder (1995)   \n",
       "24        25                           Leaving Las Vegas (1995)   \n",
       "25        26                                     Othello (1995)   \n",
       "26        27                                Now and Then (1995)   \n",
       "27        28                                  Persuasion (1995)   \n",
       "28        29                  City of Lost Children, The (1995)   \n",
       "29        30  Shanghai Triad (Yao a yao yao dao waipo qiao) ...   \n",
       "\n",
       "                           genre  \n",
       "0    Animation|Children's|Comedy  \n",
       "1   Adventure|Children's|Fantasy  \n",
       "2                 Comedy|Romance  \n",
       "3                   Comedy|Drama  \n",
       "4                         Comedy  \n",
       "5          Action|Crime|Thriller  \n",
       "6                 Comedy|Romance  \n",
       "7           Adventure|Children's  \n",
       "8                         Action  \n",
       "9      Action|Adventure|Thriller  \n",
       "10          Comedy|Drama|Romance  \n",
       "11                 Comedy|Horror  \n",
       "12          Animation|Children's  \n",
       "13                         Drama  \n",
       "14      Action|Adventure|Romance  \n",
       "15                Drama|Thriller  \n",
       "16                 Drama|Romance  \n",
       "17                      Thriller  \n",
       "18                        Comedy  \n",
       "19                        Action  \n",
       "20           Action|Comedy|Drama  \n",
       "21          Crime|Drama|Thriller  \n",
       "22                      Thriller  \n",
       "23                  Drama|Sci-Fi  \n",
       "24                 Drama|Romance  \n",
       "25                         Drama  \n",
       "26                         Drama  \n",
       "27                       Romance  \n",
       "28              Adventure|Sci-Fi  \n",
       "29                         Drama  "
      ]
     },
     "execution_count": 6,
     "metadata": {},
     "output_type": "execute_result"
    }
   ],
   "source": [
    "# 영화 제목을 보기 위해 메타 데이터 읽어보기\n",
    "movie_file_path = os.getenv('HOME') + '/aiffel/recommendata_iu/data/ml-1m/movies.dat'\n",
    "cols = ['movie_id', 'title', 'genre']\n",
    "movies = pd.read_csv(movie_file_path, sep = '::', names = cols, engine = 'python', encoding = 'ISO-8859-1')\n",
    "movies.head(30)"
   ]
  },
  {
   "cell_type": "markdown",
   "id": "lesser-dictionary",
   "metadata": {},
   "source": [
    "## 2. 분석해 보기"
   ]
  },
  {
   "cell_type": "markdown",
   "id": "critical-caution",
   "metadata": {},
   "source": [
    "### ratings에 있는 유니크한 영화 개수"
   ]
  },
  {
   "cell_type": "code",
   "execution_count": 7,
   "id": "broadband-wright",
   "metadata": {},
   "outputs": [
    {
     "data": {
      "text/plain": [
       "3628"
      ]
     },
     "execution_count": 7,
     "metadata": {},
     "output_type": "execute_result"
    }
   ],
   "source": [
    "ratings['movie_id'].nunique()"
   ]
  },
  {
   "cell_type": "markdown",
   "id": "frequent-flood",
   "metadata": {},
   "source": [
    "### rating에 있는 유니크한 사용자 수"
   ]
  },
  {
   "cell_type": "code",
   "execution_count": 8,
   "id": "tracked-compensation",
   "metadata": {},
   "outputs": [
    {
     "data": {
      "text/plain": [
       "6039"
      ]
     },
     "execution_count": 8,
     "metadata": {},
     "output_type": "execute_result"
    }
   ],
   "source": [
    "ratings['user_id'].nunique()"
   ]
  },
  {
   "cell_type": "markdown",
   "id": "integrated-raise",
   "metadata": {},
   "source": [
    "### movies에 나와 있는 유니크한 영화 장르"
   ]
  },
  {
   "cell_type": "code",
   "execution_count": 9,
   "id": "sealed-chile",
   "metadata": {},
   "outputs": [
    {
     "data": {
      "text/plain": [
       "301"
      ]
     },
     "execution_count": 9,
     "metadata": {},
     "output_type": "execute_result"
    }
   ],
   "source": [
    "movies['genre'].nunique()"
   ]
  },
  {
   "cell_type": "code",
   "execution_count": 10,
   "id": "destroyed-substance",
   "metadata": {},
   "outputs": [
    {
     "data": {
      "text/plain": [
       "array([\"Animation|Children's|Comedy\", \"Adventure|Children's|Fantasy\",\n",
       "       'Comedy|Romance', 'Comedy|Drama', 'Comedy',\n",
       "       'Action|Crime|Thriller', \"Adventure|Children's\", 'Action',\n",
       "       'Action|Adventure|Thriller', 'Comedy|Drama|Romance',\n",
       "       'Comedy|Horror', \"Animation|Children's\", 'Drama',\n",
       "       'Action|Adventure|Romance', 'Drama|Thriller', 'Drama|Romance',\n",
       "       'Thriller', 'Action|Comedy|Drama', 'Crime|Drama|Thriller',\n",
       "       'Drama|Sci-Fi', 'Romance', 'Adventure|Sci-Fi', 'Adventure|Romance',\n",
       "       \"Children's|Comedy|Drama\", 'Documentary', 'Drama|War',\n",
       "       'Action|Crime|Drama', 'Action|Adventure', 'Crime|Thriller',\n",
       "       \"Animation|Children's|Musical|Romance\", 'Action|Drama|Thriller',\n",
       "       \"Children's|Comedy\", 'Drama|Mystery', 'Sci-Fi|Thriller',\n",
       "       'Action|Comedy|Crime|Horror|Thriller', 'Drama|Musical',\n",
       "       'Crime|Drama|Romance', 'Adventure|Drama', 'Action|Thriller',\n",
       "       \"Adventure|Children's|Comedy|Musical\", 'Action|Drama|War',\n",
       "       'Action|Adventure|Crime', 'Crime', 'Drama|Mystery|Romance',\n",
       "       'Action|Drama', 'Drama|Romance|War', 'Horror',\n",
       "       'Action|Adventure|Comedy|Crime', 'Comedy|War',\n",
       "       'Action|Adventure|Mystery|Sci-Fi', 'Drama|Thriller|War',\n",
       "       'Action|Romance|Thriller', 'Crime|Film-Noir|Mystery|Thriller',\n",
       "       'Action|Adventure|Drama|Romance', \"Adventure|Children's|Drama\",\n",
       "       'Action|Sci-Fi|Thriller', 'Action|Adventure|Sci-Fi',\n",
       "       \"Action|Children's\", 'Horror|Sci-Fi', 'Action|Crime|Sci-Fi',\n",
       "       'Western', \"Animation|Children's|Comedy|Romance\",\n",
       "       \"Children's|Drama\", 'Crime|Drama',\n",
       "       'Drama|Fantasy|Romance|Thriller', 'Drama|Horror', 'Comedy|Sci-Fi',\n",
       "       'Mystery|Thriller', \"Adventure|Children's|Comedy|Fantasy|Romance\",\n",
       "       'Action|Adventure|Fantasy|Sci-Fi', 'Drama|Romance|War|Western',\n",
       "       'Action|Crime', 'Crime|Drama|Romance|Thriller',\n",
       "       'Action|Adventure|Western', 'Horror|Thriller',\n",
       "       \"Children's|Comedy|Fantasy\", 'Film-Noir|Thriller',\n",
       "       'Action|Comedy|Musical|Sci-Fi', \"Children's\",\n",
       "       'Drama|Mystery|Thriller', 'Comedy|Romance|War', 'Action|Comedy',\n",
       "       \"Adventure|Children's|Romance\", \"Animation|Children's|Musical\",\n",
       "       'Comedy|Crime|Fantasy', 'Action|Comedy|Western', 'Action|Sci-Fi',\n",
       "       'Action|Adventure|Comedy|Romance', 'Comedy|Crime|Drama',\n",
       "       'Comedy|Thriller', 'Horror|Sci-Fi|Thriller',\n",
       "       'Mystery|Romance|Thriller', 'Comedy|Western', 'Drama|Western',\n",
       "       'Action|Adventure|Crime|Thriller', 'Action|Comedy|War',\n",
       "       'Comedy|Mystery', 'Comedy|Mystery|Romance', 'Comedy|Drama|War',\n",
       "       'Action|Drama|Mystery', 'Comedy|Crime|Horror', 'Film-Noir|Sci-Fi',\n",
       "       'Comedy|Romance|Thriller', \"Action|Adventure|Children's|Sci-Fi\",\n",
       "       \"Children's|Comedy|Musical\", 'Action|Adventure|Comedy',\n",
       "       'Action|Crime|Romance',\n",
       "       \"Action|Adventure|Animation|Children's|Fantasy\",\n",
       "       \"Animation|Children's|Comedy|Musical\", 'Adventure|Drama|Western',\n",
       "       'Action|Adventure|Crime|Drama',\n",
       "       'Action|Adventure|Animation|Horror|Sci-Fi', 'Action|Horror|Sci-Fi',\n",
       "       'War', 'Action|Adventure|Mystery', 'Mystery',\n",
       "       'Action|Adventure|Fantasy',\n",
       "       \"Adventure|Animation|Children's|Comedy|Fantasy\", 'Sci-Fi',\n",
       "       'Documentary|Drama', 'Action|Adventure|Comedy|War',\n",
       "       'Crime|Film-Noir|Thriller', 'Animation',\n",
       "       'Action|Adventure|Romance|Thriller', 'Animation|Sci-Fi',\n",
       "       'Animation|Comedy|Thriller', 'Film-Noir', 'Sci-Fi|War',\n",
       "       'Adventure', 'Comedy|Crime', 'Action|Sci-Fi|War',\n",
       "       'Comedy|Fantasy|Romance|Sci-Fi', 'Fantasy',\n",
       "       'Action|Mystery|Thriller', 'Comedy|Musical',\n",
       "       'Action|Adventure|Sci-Fi|Thriller', \"Children's|Drama|Fantasy\",\n",
       "       'Adventure|War', 'Musical|Romance', 'Comedy|Musical|Romance',\n",
       "       'Comedy|Mystery|Romance|Thriller', 'Film-Noir|Mystery', 'Musical',\n",
       "       \"Adventure|Children's|Drama|Musical\",\n",
       "       'Drama|Mystery|Sci-Fi|Thriller', 'Romance|Thriller',\n",
       "       'Film-Noir|Romance|Thriller', 'Crime|Film-Noir|Mystery',\n",
       "       'Adventure|Comedy', 'Action|Adventure|Romance|War', 'Romance|War',\n",
       "       'Action|Drama|Western', \"Children's|Comedy|Western\",\n",
       "       \"Adventure|Children's|Comedy\", \"Children's|Comedy|Mystery\",\n",
       "       \"Adventure|Children's|Fantasy|Sci-Fi\",\n",
       "       \"Adventure|Animation|Children's|Musical\",\n",
       "       \"Adventure|Children's|Musical\", 'Crime|Film-Noir',\n",
       "       \"Adventure|Children's|Comedy|Fantasy\",\n",
       "       \"Children's|Drama|Fantasy|Sci-Fi\", 'Action|Romance',\n",
       "       'Adventure|Western', 'Comedy|Fantasy', 'Animation|Comedy',\n",
       "       'Crime|Drama|Film-Noir', 'Action|Adventure|Drama|Sci-Fi|War',\n",
       "       'Action|Sci-Fi|Thriller|War', 'Action|Western',\n",
       "       \"Action|Animation|Children's|Sci-Fi|Thriller|War\",\n",
       "       'Action|Adventure|Romance|Sci-Fi|War',\n",
       "       'Action|Horror|Sci-Fi|Thriller',\n",
       "       'Action|Adventure|Comedy|Horror|Sci-Fi', 'Action|Comedy|Musical',\n",
       "       'Mystery|Sci-Fi', 'Film-Noir|Mystery|Thriller',\n",
       "       'Adventure|Comedy|Drama', 'Action|Adventure|Comedy|Horror',\n",
       "       'Action|Drama|Mystery|Romance|Thriller', 'Comedy|Mystery|Thriller',\n",
       "       'Adventure|Animation|Sci-Fi|Thriller', 'Action|Drama|Romance',\n",
       "       'Action|Adventure|Drama', 'Comedy|Drama|Musical',\n",
       "       'Documentary|War', 'Drama|Musical|War', 'Action|Horror',\n",
       "       'Horror|Romance', 'Action|Comedy|Sci-Fi|War', 'Crime|Drama|Sci-Fi',\n",
       "       'Action|Romance|War', 'Action|Comedy|Crime|Drama',\n",
       "       'Action|Drama|Thriller|War', \"Action|Adventure|Children's\",\n",
       "       \"Action|Adventure|Children's|Fantasy\",\n",
       "       \"Adventure|Animation|Children's|Comedy|Musical\",\n",
       "       'Crime|Drama|Mystery', 'Action|Adventure|Comedy|Sci-Fi',\n",
       "       \"Children's|Fantasy\", 'Action|Mystery|Sci-Fi|Thriller',\n",
       "       'Action|Mystery|Romance|Thriller', 'Adventure|Thriller',\n",
       "       'Action|Thriller|War', 'Action|Crime|Mystery',\n",
       "       'Horror|Mystery|Thriller', 'Crime|Horror|Mystery|Thriller',\n",
       "       'Comedy|Drama|Thriller', 'Drama|Sci-Fi|Thriller',\n",
       "       'Drama|Romance|Thriller', 'Action|Adventure|Sci-Fi|War',\n",
       "       'Comedy|Crime|Drama|Mystery', 'Comedy|Crime|Mystery|Thriller',\n",
       "       'Film-Noir|Sci-Fi|Thriller', 'Adventure|Sci-Fi|Thriller',\n",
       "       'Crime|Drama|Mystery|Thriller', 'Comedy|Documentary',\n",
       "       'Documentary|Musical', 'Action|Drama|Sci-Fi|Thriller',\n",
       "       \"Adventure|Animation|Children's|Fantasy\",\n",
       "       'Adventure|Comedy|Romance', 'Mystery|Sci-Fi|Thriller',\n",
       "       'Action|Comedy|Crime', \"Animation|Children's|Fantasy|War\",\n",
       "       'Action|Crime|Drama|Thriller', 'Comedy|Sci-Fi|Western',\n",
       "       \"Children's|Fantasy|Musical\", 'Fantasy|Sci-Fi',\n",
       "       \"Children's|Comedy|Sci-Fi\", \"Action|Adventure|Children's|Comedy\",\n",
       "       \"Adventure|Children's|Drama|Romance\",\n",
       "       \"Adventure|Children's|Sci-Fi\",\n",
       "       \"Adventure|Children's|Comedy|Fantasy|Sci-Fi\",\n",
       "       \"Animation|Children's|Comedy|Musical|Romance\",\n",
       "       \"Children's|Musical\", 'Drama|Fantasy',\n",
       "       \"Animation|Children's|Fantasy|Musical\", 'Adventure|Comedy|Musical',\n",
       "       \"Children's|Sci-Fi\", \"Children's|Horror\", 'Comedy|Fantasy|Romance',\n",
       "       'Comedy|Crime|Thriller', \"Adventure|Animation|Children's|Sci-Fi\",\n",
       "       'Action|Crime|Mystery|Thriller', 'Adventure|Musical',\n",
       "       \"Animation|Children's|Drama|Fantasy\", \"Children's|Fantasy|Sci-Fi\",\n",
       "       'Adventure|Fantasy|Romance', 'Crime|Horror',\n",
       "       'Action|Adventure|Horror', 'Adventure|Fantasy|Sci-Fi',\n",
       "       'Drama|Film-Noir|Thriller', 'Action|Comedy|Fantasy',\n",
       "       'Sci-Fi|Thriller|War', 'Action|Adventure|Sci-Fi|Thriller|War',\n",
       "       'Action|Adventure|Drama|Thriller', 'Crime|Horror|Thriller',\n",
       "       'Animation|Musical', 'Action|War',\n",
       "       'Action|Comedy|Romance|Thriller', 'Comedy|Horror|Thriller',\n",
       "       'Drama|Horror|Thriller', 'Action|Sci-Fi|Thriller|Western',\n",
       "       'Drama|Romance|Sci-Fi', 'Action|Adventure|Horror|Thriller',\n",
       "       'Comedy|Film-Noir|Thriller', 'Comedy|Horror|Musical|Sci-Fi',\n",
       "       'Comedy|Romance|Sci-Fi', 'Action|Comedy|Sci-Fi|Thriller',\n",
       "       'Action|Sci-Fi|Western', 'Comedy|Horror|Musical', 'Crime|Mystery',\n",
       "       'Animation|Mystery', 'Action|Horror|Thriller',\n",
       "       'Action|Drama|Fantasy|Romance', 'Horror|Mystery',\n",
       "       \"Adventure|Animation|Children's\", 'Musical|Romance|War',\n",
       "       'Adventure|Drama|Romance', 'Adventure|Animation|Film-Noir',\n",
       "       'Action|Adventure|Animation', 'Comedy|Drama|Western',\n",
       "       'Adventure|Comedy|Sci-Fi', 'Drama|Romance|Western',\n",
       "       'Comedy|Drama|Sci-Fi', 'Action|Drama|Romance|Thriller',\n",
       "       'Adventure|Romance|Sci-Fi', 'Film-Noir|Horror',\n",
       "       'Crime|Drama|Film-Noir|Thriller', 'Action|Adventure|War',\n",
       "       'Romance|Western', \"Action|Children's|Fantasy\",\n",
       "       'Adventure|Drama|Thriller', 'Adventure|Fantasy', 'Musical|War',\n",
       "       'Adventure|Musical|Romance', 'Action|Romance|Sci-Fi',\n",
       "       'Drama|Film-Noir', 'Comedy|Horror|Sci-Fi',\n",
       "       'Adventure|Drama|Romance|Sci-Fi', 'Adventure|Animation|Sci-Fi',\n",
       "       'Adventure|Crime|Sci-Fi|Thriller'], dtype=object)"
      ]
     },
     "execution_count": 10,
     "metadata": {},
     "output_type": "execute_result"
    }
   ],
   "source": [
    "movies['genre'].unique()"
   ]
  },
  {
   "cell_type": "markdown",
   "id": "sought-calgary",
   "metadata": {},
   "source": [
    "### 가장 인기 있는 영화 30개(인기순)"
   ]
  },
  {
   "cell_type": "code",
   "execution_count": 11,
   "id": "banner-annotation",
   "metadata": {},
   "outputs": [
    {
     "data": {
      "text/html": [
       "<div>\n",
       "<style scoped>\n",
       "    .dataframe tbody tr th:only-of-type {\n",
       "        vertical-align: middle;\n",
       "    }\n",
       "\n",
       "    .dataframe tbody tr th {\n",
       "        vertical-align: top;\n",
       "    }\n",
       "\n",
       "    .dataframe thead th {\n",
       "        text-align: right;\n",
       "    }\n",
       "</style>\n",
       "<table border=\"1\" class=\"dataframe\">\n",
       "  <thead>\n",
       "    <tr style=\"text-align: right;\">\n",
       "      <th></th>\n",
       "      <th>user_id</th>\n",
       "      <th>movie_id</th>\n",
       "      <th>count</th>\n",
       "      <th>timestamp</th>\n",
       "      <th>title</th>\n",
       "      <th>genre</th>\n",
       "    </tr>\n",
       "  </thead>\n",
       "  <tbody>\n",
       "    <tr>\n",
       "      <th>836473</th>\n",
       "      <td>6040</td>\n",
       "      <td>1090</td>\n",
       "      <td>3</td>\n",
       "      <td>956715518</td>\n",
       "      <td>Platoon (1986)</td>\n",
       "      <td>Drama|War</td>\n",
       "    </tr>\n",
       "    <tr>\n",
       "      <th>836474</th>\n",
       "      <td>6040</td>\n",
       "      <td>1094</td>\n",
       "      <td>5</td>\n",
       "      <td>956704887</td>\n",
       "      <td>Crying Game, The (1992)</td>\n",
       "      <td>Drama|Romance|War</td>\n",
       "    </tr>\n",
       "    <tr>\n",
       "      <th>836475</th>\n",
       "      <td>6040</td>\n",
       "      <td>562</td>\n",
       "      <td>5</td>\n",
       "      <td>956704746</td>\n",
       "      <td>Welcome to the Dollhouse (1995)</td>\n",
       "      <td>Comedy|Drama</td>\n",
       "    </tr>\n",
       "    <tr>\n",
       "      <th>836476</th>\n",
       "      <td>6040</td>\n",
       "      <td>1096</td>\n",
       "      <td>4</td>\n",
       "      <td>956715648</td>\n",
       "      <td>Sophie's Choice (1982)</td>\n",
       "      <td>Drama</td>\n",
       "    </tr>\n",
       "    <tr>\n",
       "      <th>836477</th>\n",
       "      <td>6040</td>\n",
       "      <td>1097</td>\n",
       "      <td>4</td>\n",
       "      <td>956715569</td>\n",
       "      <td>E.T. the Extra-Terrestrial (1982)</td>\n",
       "      <td>Children's|Drama|Fantasy|Sci-Fi</td>\n",
       "    </tr>\n",
       "  </tbody>\n",
       "</table>\n",
       "</div>"
      ],
      "text/plain": [
       "        user_id  movie_id  count  timestamp  \\\n",
       "836473     6040      1090      3  956715518   \n",
       "836474     6040      1094      5  956704887   \n",
       "836475     6040       562      5  956704746   \n",
       "836476     6040      1096      4  956715648   \n",
       "836477     6040      1097      4  956715569   \n",
       "\n",
       "                                    title                            genre  \n",
       "836473                     Platoon (1986)                        Drama|War  \n",
       "836474            Crying Game, The (1992)                Drama|Romance|War  \n",
       "836475    Welcome to the Dollhouse (1995)                     Comedy|Drama  \n",
       "836476             Sophie's Choice (1982)                            Drama  \n",
       "836477  E.T. the Extra-Terrestrial (1982)  Children's|Drama|Fantasy|Sci-Fi  "
      ]
     },
     "execution_count": 11,
     "metadata": {},
     "output_type": "execute_result"
    }
   ],
   "source": [
    "# movies DF에 ratings DF를 left join\n",
    "movie_data = pd.merge(ratings, movies, how = 'left', on = 'movie_id')\n",
    "movie_data.tail()"
   ]
  },
  {
   "cell_type": "code",
   "execution_count": 12,
   "id": "minor-muslim",
   "metadata": {
    "scrolled": false
   },
   "outputs": [
    {
     "data": {
      "text/html": [
       "<div>\n",
       "<style scoped>\n",
       "    .dataframe tbody tr th:only-of-type {\n",
       "        vertical-align: middle;\n",
       "    }\n",
       "\n",
       "    .dataframe tbody tr th {\n",
       "        vertical-align: top;\n",
       "    }\n",
       "\n",
       "    .dataframe thead th {\n",
       "        text-align: right;\n",
       "    }\n",
       "</style>\n",
       "<table border=\"1\" class=\"dataframe\">\n",
       "  <thead>\n",
       "    <tr style=\"text-align: right;\">\n",
       "      <th></th>\n",
       "      <th>user_id</th>\n",
       "      <th>count</th>\n",
       "      <th>title</th>\n",
       "      <th>genre</th>\n",
       "    </tr>\n",
       "  </thead>\n",
       "  <tbody>\n",
       "    <tr>\n",
       "      <th>0</th>\n",
       "      <td>1</td>\n",
       "      <td>5</td>\n",
       "      <td>One Flew Over the Cuckoo's Nest (1975)</td>\n",
       "      <td>Drama</td>\n",
       "    </tr>\n",
       "    <tr>\n",
       "      <th>1</th>\n",
       "      <td>1</td>\n",
       "      <td>3</td>\n",
       "      <td>James and the Giant Peach (1996)</td>\n",
       "      <td>Animation|Children's|Musical</td>\n",
       "    </tr>\n",
       "    <tr>\n",
       "      <th>2</th>\n",
       "      <td>1</td>\n",
       "      <td>3</td>\n",
       "      <td>My Fair Lady (1964)</td>\n",
       "      <td>Musical|Romance</td>\n",
       "    </tr>\n",
       "    <tr>\n",
       "      <th>3</th>\n",
       "      <td>1</td>\n",
       "      <td>4</td>\n",
       "      <td>Erin Brockovich (2000)</td>\n",
       "      <td>Drama</td>\n",
       "    </tr>\n",
       "    <tr>\n",
       "      <th>4</th>\n",
       "      <td>1</td>\n",
       "      <td>5</td>\n",
       "      <td>Bug's Life, A (1998)</td>\n",
       "      <td>Animation|Children's|Comedy</td>\n",
       "    </tr>\n",
       "  </tbody>\n",
       "</table>\n",
       "</div>"
      ],
      "text/plain": [
       "   user_id  count                                   title  \\\n",
       "0        1      5  One Flew Over the Cuckoo's Nest (1975)   \n",
       "1        1      3        James and the Giant Peach (1996)   \n",
       "2        1      3                     My Fair Lady (1964)   \n",
       "3        1      4                  Erin Brockovich (2000)   \n",
       "4        1      5                    Bug's Life, A (1998)   \n",
       "\n",
       "                          genre  \n",
       "0                         Drama  \n",
       "1  Animation|Children's|Musical  \n",
       "2               Musical|Romance  \n",
       "3                         Drama  \n",
       "4   Animation|Children's|Comedy  "
      ]
     },
     "execution_count": 12,
     "metadata": {},
     "output_type": "execute_result"
    }
   ],
   "source": [
    "# 사용하지 않을 컬럼 'movie_id'(title을 key값으로 활용) -> 제거\n",
    "# 사용하지 않을 컬럼 'timestamp' -> 제거\n",
    "movie_data = movie_data.drop(columns = ['movie_id', 'timestamp'])\n",
    "movie_data.head()"
   ]
  },
  {
   "cell_type": "code",
   "execution_count": 13,
   "id": "thick-stick",
   "metadata": {},
   "outputs": [
    {
     "data": {
      "text/plain": [
       "title\n",
       "American Beauty (1999)                                   3211\n",
       "Star Wars: Episode IV - A New Hope (1977)                2910\n",
       "Star Wars: Episode V - The Empire Strikes Back (1980)    2885\n",
       "Star Wars: Episode VI - Return of the Jedi (1983)        2716\n",
       "Saving Private Ryan (1998)                               2561\n",
       "Terminator 2: Judgment Day (1991)                        2509\n",
       "Silence of the Lambs, The (1991)                         2498\n",
       "Raiders of the Lost Ark (1981)                           2473\n",
       "Back to the Future (1985)                                2460\n",
       "Matrix, The (1999)                                       2434\n",
       "Jurassic Park (1993)                                     2413\n",
       "Sixth Sense, The (1999)                                  2385\n",
       "Fargo (1996)                                             2371\n",
       "Braveheart (1995)                                        2314\n",
       "Men in Black (1997)                                      2297\n",
       "Schindler's List (1993)                                  2257\n",
       "Princess Bride, The (1987)                               2252\n",
       "Shakespeare in Love (1998)                               2213\n",
       "L.A. Confidential (1997)                                 2210\n",
       "Shawshank Redemption, The (1994)                         2194\n",
       "Godfather, The (1972)                                    2167\n",
       "Groundhog Day (1993)                                     2121\n",
       "E.T. the Extra-Terrestrial (1982)                        2102\n",
       "Being John Malkovich (1999)                              2066\n",
       "Ghostbusters (1984)                                      2051\n",
       "Pulp Fiction (1994)                                      2030\n",
       "Forrest Gump (1994)                                      2022\n",
       "Terminator, The (1984)                                   2019\n",
       "Toy Story (1995)                                         2000\n",
       "Fugitive, The (1993)                                     1941\n",
       "Name: user_id, dtype: int64"
      ]
     },
     "execution_count": 13,
     "metadata": {},
     "output_type": "execute_result"
    }
   ],
   "source": [
    "# 가장 인기있는 영화 30개(인기순)\n",
    "movie_count = movie_data.groupby('title')['user_id'].count()\n",
    "movie_count.sort_values(ascending = False).head(30)"
   ]
  },
  {
   "cell_type": "markdown",
   "id": "about-breathing",
   "metadata": {},
   "source": [
    "### 유저별 몇 개의 영화를 보고 있는지에 대한 통계"
   ]
  },
  {
   "cell_type": "code",
   "execution_count": 14,
   "id": "cheap-taxation",
   "metadata": {},
   "outputs": [
    {
     "data": {
      "text/plain": [
       "user_id\n",
       "1        53\n",
       "2       116\n",
       "3        46\n",
       "4        19\n",
       "5       143\n",
       "       ... \n",
       "6036    708\n",
       "6037    189\n",
       "6038     18\n",
       "6039    119\n",
       "6040    276\n",
       "Name: title, Length: 6039, dtype: int64"
      ]
     },
     "execution_count": 14,
     "metadata": {},
     "output_type": "execute_result"
    }
   ],
   "source": [
    "user_count = movie_data.groupby('user_id')['title'].count()\n",
    "user_count"
   ]
  },
  {
   "cell_type": "code",
   "execution_count": 15,
   "id": "increasing-voltage",
   "metadata": {
    "scrolled": true
   },
   "outputs": [
    {
     "data": {
      "text/plain": [
       "count    6039.000000\n",
       "mean      138.512668\n",
       "std       156.241599\n",
       "min         1.000000\n",
       "25%        38.000000\n",
       "50%        81.000000\n",
       "75%       177.000000\n",
       "max      1968.000000\n",
       "Name: title, dtype: float64"
      ]
     },
     "execution_count": 15,
     "metadata": {},
     "output_type": "execute_result"
    }
   ],
   "source": [
    "user_count.describe()"
   ]
  },
  {
   "cell_type": "code",
   "execution_count": 16,
   "id": "arbitrary-tooth",
   "metadata": {},
   "outputs": [
    {
     "data": {
      "text/plain": [
       "user_id\n",
       "1       4.0\n",
       "2       4.0\n",
       "3       4.0\n",
       "4       5.0\n",
       "5       4.0\n",
       "       ... \n",
       "6036    4.0\n",
       "6037    4.0\n",
       "6038    4.0\n",
       "6039    4.0\n",
       "6040    4.0\n",
       "Name: count, Length: 6039, dtype: float64"
      ]
     },
     "execution_count": 16,
     "metadata": {},
     "output_type": "execute_result"
    }
   ],
   "source": [
    "# 유저별 시청횟수 중앙값에 대한 통계\n",
    "user_median = movie_data.groupby('user_id')['count'].median()\n",
    "user_median"
   ]
  },
  {
   "cell_type": "markdown",
   "id": "varied-yorkshire",
   "metadata": {},
   "source": [
    "## 3. 내가 선호하는 영화를 10가지 골라서 rating에 추가해 주기"
   ]
  },
  {
   "cell_type": "code",
   "execution_count": 17,
   "id": "resistant-chapel",
   "metadata": {},
   "outputs": [
    {
     "data": {
      "text/html": [
       "<div>\n",
       "<style scoped>\n",
       "    .dataframe tbody tr th:only-of-type {\n",
       "        vertical-align: middle;\n",
       "    }\n",
       "\n",
       "    .dataframe tbody tr th {\n",
       "        vertical-align: top;\n",
       "    }\n",
       "\n",
       "    .dataframe thead th {\n",
       "        text-align: right;\n",
       "    }\n",
       "</style>\n",
       "<table border=\"1\" class=\"dataframe\">\n",
       "  <thead>\n",
       "    <tr style=\"text-align: right;\">\n",
       "      <th></th>\n",
       "      <th>user_id</th>\n",
       "      <th>count</th>\n",
       "      <th>title</th>\n",
       "      <th>genre</th>\n",
       "    </tr>\n",
       "  </thead>\n",
       "  <tbody>\n",
       "    <tr>\n",
       "      <th>836468</th>\n",
       "      <td>6040</td>\n",
       "      <td>3</td>\n",
       "      <td>Dune (1984)</td>\n",
       "      <td>Fantasy|Sci-Fi</td>\n",
       "    </tr>\n",
       "    <tr>\n",
       "      <th>836469</th>\n",
       "      <td>6040</td>\n",
       "      <td>5</td>\n",
       "      <td>Last Temptation of Christ, The (1988)</td>\n",
       "      <td>Drama</td>\n",
       "    </tr>\n",
       "    <tr>\n",
       "      <th>836470</th>\n",
       "      <td>6040</td>\n",
       "      <td>5</td>\n",
       "      <td>Saving Private Ryan (1998)</td>\n",
       "      <td>Action|Drama|War</td>\n",
       "    </tr>\n",
       "    <tr>\n",
       "      <th>836471</th>\n",
       "      <td>6040</td>\n",
       "      <td>4</td>\n",
       "      <td>Monty Python's Life of Brian (1979)</td>\n",
       "      <td>Comedy</td>\n",
       "    </tr>\n",
       "    <tr>\n",
       "      <th>836472</th>\n",
       "      <td>6040</td>\n",
       "      <td>4</td>\n",
       "      <td>Reservoir Dogs (1992)</td>\n",
       "      <td>Crime|Thriller</td>\n",
       "    </tr>\n",
       "    <tr>\n",
       "      <th>836473</th>\n",
       "      <td>6040</td>\n",
       "      <td>3</td>\n",
       "      <td>Platoon (1986)</td>\n",
       "      <td>Drama|War</td>\n",
       "    </tr>\n",
       "    <tr>\n",
       "      <th>836474</th>\n",
       "      <td>6040</td>\n",
       "      <td>5</td>\n",
       "      <td>Crying Game, The (1992)</td>\n",
       "      <td>Drama|Romance|War</td>\n",
       "    </tr>\n",
       "    <tr>\n",
       "      <th>836475</th>\n",
       "      <td>6040</td>\n",
       "      <td>5</td>\n",
       "      <td>Welcome to the Dollhouse (1995)</td>\n",
       "      <td>Comedy|Drama</td>\n",
       "    </tr>\n",
       "    <tr>\n",
       "      <th>836476</th>\n",
       "      <td>6040</td>\n",
       "      <td>4</td>\n",
       "      <td>Sophie's Choice (1982)</td>\n",
       "      <td>Drama</td>\n",
       "    </tr>\n",
       "    <tr>\n",
       "      <th>836477</th>\n",
       "      <td>6040</td>\n",
       "      <td>4</td>\n",
       "      <td>E.T. the Extra-Terrestrial (1982)</td>\n",
       "      <td>Children's|Drama|Fantasy|Sci-Fi</td>\n",
       "    </tr>\n",
       "    <tr>\n",
       "      <th>0</th>\n",
       "      <td>jiyoon</td>\n",
       "      <td>5</td>\n",
       "      <td>Lord of the Rings, The (1978)</td>\n",
       "      <td>Adventure|Animation|Children's|Sci-Fi</td>\n",
       "    </tr>\n",
       "    <tr>\n",
       "      <th>1</th>\n",
       "      <td>jiyoon</td>\n",
       "      <td>5</td>\n",
       "      <td>Matrix, The (1999)</td>\n",
       "      <td>Action|Sci-Fi|Thriller</td>\n",
       "    </tr>\n",
       "    <tr>\n",
       "      <th>2</th>\n",
       "      <td>jiyoon</td>\n",
       "      <td>5</td>\n",
       "      <td>Mission: Impossible (1996)</td>\n",
       "      <td>Action|Adventure|Mystery</td>\n",
       "    </tr>\n",
       "    <tr>\n",
       "      <th>3</th>\n",
       "      <td>jiyoon</td>\n",
       "      <td>5</td>\n",
       "      <td>Mission: Impossible 2 (2000)</td>\n",
       "      <td>Action|Thriller</td>\n",
       "    </tr>\n",
       "    <tr>\n",
       "      <th>4</th>\n",
       "      <td>jiyoon</td>\n",
       "      <td>5</td>\n",
       "      <td>Sound of Music, The (1965)</td>\n",
       "      <td>Musical</td>\n",
       "    </tr>\n",
       "    <tr>\n",
       "      <th>5</th>\n",
       "      <td>jiyoon</td>\n",
       "      <td>5</td>\n",
       "      <td>Roman Holiday (1953)</td>\n",
       "      <td>Comedy|Romance</td>\n",
       "    </tr>\n",
       "    <tr>\n",
       "      <th>6</th>\n",
       "      <td>jiyoon</td>\n",
       "      <td>5</td>\n",
       "      <td>Gone with the Wind (1939)</td>\n",
       "      <td>Drama|Romance|War</td>\n",
       "    </tr>\n",
       "    <tr>\n",
       "      <th>7</th>\n",
       "      <td>jiyoon</td>\n",
       "      <td>5</td>\n",
       "      <td>Star Wars: Episode IV - A New Hope (1977)</td>\n",
       "      <td>Action|Adventure|Fantasy|Sci-Fi</td>\n",
       "    </tr>\n",
       "    <tr>\n",
       "      <th>8</th>\n",
       "      <td>jiyoon</td>\n",
       "      <td>5</td>\n",
       "      <td>Star Wars: Episode VI - Return of the Jedi (1983)</td>\n",
       "      <td>Action|Adventure|Romance|Sci-Fi|War</td>\n",
       "    </tr>\n",
       "    <tr>\n",
       "      <th>9</th>\n",
       "      <td>jiyoon</td>\n",
       "      <td>5</td>\n",
       "      <td>Star Wars: Episode I - The Phantom Menace (1999)</td>\n",
       "      <td>Action|Adventure|Fantasy|Sci-Fi</td>\n",
       "    </tr>\n",
       "  </tbody>\n",
       "</table>\n",
       "</div>"
      ],
      "text/plain": [
       "       user_id  count                                              title  \\\n",
       "836468    6040      3                                        Dune (1984)   \n",
       "836469    6040      5              Last Temptation of Christ, The (1988)   \n",
       "836470    6040      5                         Saving Private Ryan (1998)   \n",
       "836471    6040      4                Monty Python's Life of Brian (1979)   \n",
       "836472    6040      4                              Reservoir Dogs (1992)   \n",
       "836473    6040      3                                     Platoon (1986)   \n",
       "836474    6040      5                            Crying Game, The (1992)   \n",
       "836475    6040      5                    Welcome to the Dollhouse (1995)   \n",
       "836476    6040      4                             Sophie's Choice (1982)   \n",
       "836477    6040      4                  E.T. the Extra-Terrestrial (1982)   \n",
       "0       jiyoon      5                      Lord of the Rings, The (1978)   \n",
       "1       jiyoon      5                                 Matrix, The (1999)   \n",
       "2       jiyoon      5                         Mission: Impossible (1996)   \n",
       "3       jiyoon      5                       Mission: Impossible 2 (2000)   \n",
       "4       jiyoon      5                         Sound of Music, The (1965)   \n",
       "5       jiyoon      5                               Roman Holiday (1953)   \n",
       "6       jiyoon      5                          Gone with the Wind (1939)   \n",
       "7       jiyoon      5          Star Wars: Episode IV - A New Hope (1977)   \n",
       "8       jiyoon      5  Star Wars: Episode VI - Return of the Jedi (1983)   \n",
       "9       jiyoon      5   Star Wars: Episode I - The Phantom Menace (1999)   \n",
       "\n",
       "                                        genre  \n",
       "836468                         Fantasy|Sci-Fi  \n",
       "836469                                  Drama  \n",
       "836470                       Action|Drama|War  \n",
       "836471                                 Comedy  \n",
       "836472                         Crime|Thriller  \n",
       "836473                              Drama|War  \n",
       "836474                      Drama|Romance|War  \n",
       "836475                           Comedy|Drama  \n",
       "836476                                  Drama  \n",
       "836477        Children's|Drama|Fantasy|Sci-Fi  \n",
       "0       Adventure|Animation|Children's|Sci-Fi  \n",
       "1                      Action|Sci-Fi|Thriller  \n",
       "2                    Action|Adventure|Mystery  \n",
       "3                             Action|Thriller  \n",
       "4                                     Musical  \n",
       "5                              Comedy|Romance  \n",
       "6                           Drama|Romance|War  \n",
       "7             Action|Adventure|Fantasy|Sci-Fi  \n",
       "8         Action|Adventure|Romance|Sci-Fi|War  \n",
       "9             Action|Adventure|Fantasy|Sci-Fi  "
      ]
     },
     "execution_count": 17,
     "metadata": {},
     "output_type": "execute_result"
    }
   ],
   "source": [
    "# 본인이 좋아하는 영화 제목 데이터로 바꿔서 추가. 단 이름은 꼭 데이터셋에 있는 것과 동일하게 맞추기\n",
    "my_favorite = ['Lord of the Rings, The (1978)', \n",
    "               'Matrix, The (1999)', \n",
    "               'Mission: Impossible (1996)', \n",
    "               'Mission: Impossible 2 (2000)', \n",
    "               'Sound of Music, The (1965)',\n",
    "               'Roman Holiday (1953)',\n",
    "               'Gone with the Wind (1939)',\n",
    "               'Star Wars: Episode IV - A New Hope (1977)',\n",
    "               'Star Wars: Episode VI - Return of the Jedi (1983)',\n",
    "               'Star Wars: Episode I - The Phantom Menace (1999)'\n",
    "               ]\n",
    "my_genre = [\"Adventure|Animation|Children's|Sci-Fi\",\n",
    "            'Action|Sci-Fi|Thriller',\n",
    "            'Action|Adventure|Mystery',\n",
    "            'Action|Thriller',\n",
    "            'Musical',\n",
    "            'Comedy|Romance',\n",
    "            'Drama|Romance|War',\n",
    "            'Action|Adventure|Fantasy|Sci-Fi',\n",
    "            'Action|Adventure|Romance|Sci-Fi|War',\n",
    "            'Action|Adventure|Fantasy|Sci-Fi'\n",
    "           ]\n",
    "\n",
    "# 'jiyoon'이라는 user_id가 위 영화를 5번씩 봤다고 가정\n",
    "my_movie = pd.DataFrame({'user_id':['jiyoon']*10,\n",
    "                         'title':my_favorite,\n",
    "                         'genre':my_genre,\n",
    "                         'count':[5]*10})\n",
    "\n",
    "# user_id에 'jiyoon'가 없으면 my_favorite 데이터를 기존 데이터에 추가\n",
    "if not movie_data.isin({'user_id':['jiyoon']})['user_id'].any():\n",
    "    movie_data = movie_data.append(my_movie)\n",
    "    \n",
    "# 자라 추가되었는지 확인\n",
    "movie_data.tail(20)"
   ]
  },
  {
   "cell_type": "markdown",
   "id": "czech-tamil",
   "metadata": {},
   "source": [
    "## 4. 모델에 활용하기 위한 전처리"
   ]
  },
  {
   "cell_type": "markdown",
   "id": "governmental-plate",
   "metadata": {},
   "source": [
    "- 사람이 태어나면 주민등록번호가, 학교에 가면 출석번호가 있듯이 데이터의 관리를 쉽게 하기 위해 번호를 붙여주고 싶음\n",
    "- 우리가 다루는 데이터에서는 title, genre, user_id 각각에 번호 붙이고 싶음\n",
    "- 보통 이런 작업을 **indexing**이라고 함\n",
    "- 추천시스템, 자연어처리에서 자주 하는 작업들\n",
    "- (참고) pandas.DataFrame.unique()은 특정 컬럼에 포함된 유니크한 데이크만 모아줌. indexing 작업을 위해 매우 유용"
   ]
  },
  {
   "cell_type": "code",
   "execution_count": 18,
   "id": "heard-mission",
   "metadata": {},
   "outputs": [],
   "source": [
    "# 고유한 유저, 아티스트를 찾아내는 코드\n",
    "user_unique = movie_data['user_id'].unique()\n",
    "title_unique = movie_data['title'].unique()\n",
    "genre_unique = movie_data['genre'].unique()\n",
    "\n",
    "# 유저, 아티스트 indexing하는 코드 idx는 index의 약자\n",
    "user_to_idx = {v:k for k,v in enumerate(user_unique)}\n",
    "title_to_idx = {v:k for k,v in enumerate(title_unique)}\n",
    "genre_to_idx = {v:k for k, v in enumerate(genre_unique)}"
   ]
  },
  {
   "cell_type": "code",
   "execution_count": 19,
   "id": "toxic-traffic",
   "metadata": {},
   "outputs": [
    {
     "name": "stdout",
     "output_type": "stream",
     "text": [
      "6039\n",
      "926\n",
      "24\n"
     ]
    }
   ],
   "source": [
    "# 인덱싱이 잘 되었는지 확인\n",
    "\n",
    "# 6039 명의 유저 중 마지막으로 추가된 유저이니 6040이 나와야 함\n",
    "print(user_to_idx['jiyoon'])\n",
    "print(title_to_idx['Lord of the Rings, The (1978)'])\n",
    "print(genre_to_idx['Action|Adventure|Fantasy|Sci-Fi'])"
   ]
  },
  {
   "cell_type": "code",
   "execution_count": 20,
   "id": "abroad-binary",
   "metadata": {},
   "outputs": [
    {
     "name": "stdout",
     "output_type": "stream",
     "text": [
      "user_id column indexing OK!!\n",
      "title column indexing OK!!\n",
      "genre column indexing OK!!\n"
     ]
    },
    {
     "data": {
      "text/html": [
       "<div>\n",
       "<style scoped>\n",
       "    .dataframe tbody tr th:only-of-type {\n",
       "        vertical-align: middle;\n",
       "    }\n",
       "\n",
       "    .dataframe tbody tr th {\n",
       "        vertical-align: top;\n",
       "    }\n",
       "\n",
       "    .dataframe thead th {\n",
       "        text-align: right;\n",
       "    }\n",
       "</style>\n",
       "<table border=\"1\" class=\"dataframe\">\n",
       "  <thead>\n",
       "    <tr style=\"text-align: right;\">\n",
       "      <th></th>\n",
       "      <th>user_id</th>\n",
       "      <th>count</th>\n",
       "      <th>title</th>\n",
       "      <th>genre</th>\n",
       "    </tr>\n",
       "  </thead>\n",
       "  <tbody>\n",
       "    <tr>\n",
       "      <th>0</th>\n",
       "      <td>0</td>\n",
       "      <td>5</td>\n",
       "      <td>0</td>\n",
       "      <td>0</td>\n",
       "    </tr>\n",
       "    <tr>\n",
       "      <th>1</th>\n",
       "      <td>0</td>\n",
       "      <td>3</td>\n",
       "      <td>1</td>\n",
       "      <td>1</td>\n",
       "    </tr>\n",
       "    <tr>\n",
       "      <th>2</th>\n",
       "      <td>0</td>\n",
       "      <td>3</td>\n",
       "      <td>2</td>\n",
       "      <td>2</td>\n",
       "    </tr>\n",
       "    <tr>\n",
       "      <th>3</th>\n",
       "      <td>0</td>\n",
       "      <td>4</td>\n",
       "      <td>3</td>\n",
       "      <td>0</td>\n",
       "    </tr>\n",
       "    <tr>\n",
       "      <th>4</th>\n",
       "      <td>0</td>\n",
       "      <td>5</td>\n",
       "      <td>4</td>\n",
       "      <td>3</td>\n",
       "    </tr>\n",
       "    <tr>\n",
       "      <th>...</th>\n",
       "      <td>...</td>\n",
       "      <td>...</td>\n",
       "      <td>...</td>\n",
       "      <td>...</td>\n",
       "    </tr>\n",
       "    <tr>\n",
       "      <th>5</th>\n",
       "      <td>6039</td>\n",
       "      <td>5</td>\n",
       "      <td>588</td>\n",
       "      <td>45</td>\n",
       "    </tr>\n",
       "    <tr>\n",
       "      <th>6</th>\n",
       "      <td>6039</td>\n",
       "      <td>5</td>\n",
       "      <td>143</td>\n",
       "      <td>53</td>\n",
       "    </tr>\n",
       "    <tr>\n",
       "      <th>7</th>\n",
       "      <td>6039</td>\n",
       "      <td>5</td>\n",
       "      <td>44</td>\n",
       "      <td>24</td>\n",
       "    </tr>\n",
       "    <tr>\n",
       "      <th>8</th>\n",
       "      <td>6039</td>\n",
       "      <td>5</td>\n",
       "      <td>64</td>\n",
       "      <td>33</td>\n",
       "    </tr>\n",
       "    <tr>\n",
       "      <th>9</th>\n",
       "      <td>6039</td>\n",
       "      <td>5</td>\n",
       "      <td>60</td>\n",
       "      <td>24</td>\n",
       "    </tr>\n",
       "  </tbody>\n",
       "</table>\n",
       "<p>836488 rows × 4 columns</p>\n",
       "</div>"
      ],
      "text/plain": [
       "    user_id  count  title  genre\n",
       "0         0      5      0      0\n",
       "1         0      3      1      1\n",
       "2         0      3      2      2\n",
       "3         0      4      3      0\n",
       "4         0      5      4      3\n",
       "..      ...    ...    ...    ...\n",
       "5      6039      5    588     45\n",
       "6      6039      5    143     53\n",
       "7      6039      5     44     24\n",
       "8      6039      5     64     33\n",
       "9      6039      5     60     24\n",
       "\n",
       "[836488 rows x 4 columns]"
      ]
     },
     "execution_count": 20,
     "metadata": {},
     "output_type": "execute_result"
    }
   ],
   "source": [
    "# indexing 통해 데이터 컬럼 내 값을 바꾸는 코드\n",
    "# dictionary 자료형의 get 함수는 https://wikidocs.net/16을 참고\n",
    "\n",
    "# user_to_idx.get을 통해 user_id 컬럼의 모든 값을 인덱싱한 Series를 구해 보기\n",
    "# 정상적으로 인덱싱되지 않은 row가 있다면 인덱스가 NaN가 될테니 dropna()로 제거\n",
    "temp_user_data = movie_data['user_id'].map(user_to_idx.get).dropna()\n",
    "# 모든 row가 정상적으로 인덱싱되었다면\n",
    "if len(temp_user_data) == len(movie_data):\n",
    "    print('user_id column indexing OK!!')\n",
    "    # data['user_id']을 인덱싱된 Series로 교체\n",
    "    movie_data['user_id'] = temp_user_data\n",
    "else:\n",
    "    print('user_id column indexing Fail!!')\n",
    "    \n",
    "# title_to_idx을 통해 title 컬럼도 동일한 방식으로 인덱싱\n",
    "temp_title_data = movie_data['title'].map(title_to_idx.get).dropna()\n",
    "if len(temp_title_data) == len(movie_data):\n",
    "    print('title column indexing OK!!')\n",
    "    movie_data['title'] = temp_title_data\n",
    "else:\n",
    "    print('title column indexing Fail!')\n",
    "    \n",
    "# genre_to_idx을 통해 genre 컬럼도 동일한 방식으로 인덱싱\n",
    "temp_genre_data = movie_data['genre'].map(genre_to_idx.get).dropna()\n",
    "if len(temp_genre_data) == len(movie_data):\n",
    "    print('genre column indexing OK!!')\n",
    "    movie_data['genre'] = temp_genre_data\n",
    "else:\n",
    "    print('genre column indexing Fail!')\n",
    "    \n",
    "movie_data"
   ]
  },
  {
   "cell_type": "markdown",
   "id": "quiet-engineering",
   "metadata": {},
   "source": [
    "## 사용자의 명시적/암묵적 평가"
   ]
  },
  {
   "cell_type": "markdown",
   "id": "right-wales",
   "metadata": {},
   "source": [
    "- Implicit 라이브러리를 활용하여 Matrix Factorization(이하 MF) 기반의 추천 모델을 만들어 보기\n",
    "- 영화 시청 기록을 활용하여 비슷한 영화를 찾고 좋아할 만한 영화를 추천해 봄\n",
    "- 추천 시스템에서 자주 사용되는 데이터 구조인 CSR Matrix을 익힘\n",
    "- 유저의 행위 데이터 중 Explicit data와 Implicit data의 차이점 익히기\n",
    "- 새로운 데이터셋으로 직접 추천 모델 만들어 보기"
   ]
  },
  {
   "cell_type": "code",
   "execution_count": 21,
   "id": "tough-remainder",
   "metadata": {},
   "outputs": [
    {
     "name": "stdout",
     "output_type": "stream",
     "text": [
      "261197, 836488\n",
      "Ratio of only_one over all movie_data is 31.225433%\n"
     ]
    }
   ],
   "source": [
    "# 데이터셋에서 1회만 시청한 영화의 비율\n",
    "\n",
    "# 3회 시청한 영화의 비율을 보는 코드\n",
    "only_one = movie_data[movie_data['count'] < 4]\n",
    "one, all_data = len(only_one), len(movie_data)\n",
    "print(f'{one}, {all_data}')\n",
    "print(f'Ratio of only_one over all movie_data is {one/all_data:2%}')"
   ]
  },
  {
   "cell_type": "markdown",
   "id": "precious-tunisia",
   "metadata": {},
   "source": [
    "## 4. CSR matrix 직접 만들어 보기"
   ]
  },
  {
   "cell_type": "markdown",
   "id": "supreme-transcript",
   "metadata": {},
   "source": [
    "- CSR Matrix는 Sparse한 matrix에서 0이 아닌 유효한 데이터로 채워지는 데이터의 값과 좌표 정보만으로 구성하여 메모리 사용량을 최소화하면서도 Sparse한 matrix와 동일한 행렬을 표현할 수 있도록 하는 데이터 구조\n",
    "- CSR에 대한 자세한 설명은 다음 링크를 참고\n",
    "- [Scipy sparse matrix handling](https://lovit.github.io/nlp/machine%20learning/2018/04/09/sparse_mtarix_handling/#csr-matrix)\n",
    "- [StackOverflow csr_matrix](https://stackoverflow.com/questions/53254104/cant-understand-scipy-sparse-csr-matrix-example/62118005#62118005)"
   ]
  },
  {
   "cell_type": "markdown",
   "id": "separate-highlight",
   "metadata": {},
   "source": [
    "- 우리의 data를 CSR Matrix에 맞게 바꿔보기\n",
    "- DataFrame을 만드는 방식이 다양하듯 csr_matrix를 [만드는 방법](https://docs.scipy.org/doc/scipy/reference/generated/scipy.sparse.csr_matrix.html)은 다양하게 있음\n",
    "- 현재 data와 같은 데이터 구조에 적합한 방식은 위 링크(혹은 아래 사진)에서 4번째로 설명하고 있는 방법\n",
    "![image.png](attachment:image.png)"
   ]
  },
  {
   "cell_type": "markdown",
   "id": "marine-technology",
   "metadata": {},
   "source": [
    "- 이전 스텝에서 설명한 Matrix Factorization 모델을 [implicit](https://github.com/benfred/implicit) 패키지를 사용하여 학습해보기\n",
    "    - 'implicit' 패키지는 이전 스텝에서 설명한 암묵적(implicit) dataset을 사용한 다양한 모델을 굉장히 빠르게 학습할 수 있는 패키지\n",
    "    - 이 패키지에 구현된 'als(AlternatingLeastSquares) 모델'을 사용할 예정\n",
    "    - 'Matrix Factorization'에서 쪼개진 두 Feature Matrix를 한꺼번에 훈련하는 것은 잘 수렴하지 않기 때문에, 한쪽을 고정시키고 다른 쪽을 학습하는 방식을 번갈아 수행하는 AlternatingLeastSquares 방식이 효과적인 것으로 알려져 있음"
   ]
  },
  {
   "cell_type": "code",
   "execution_count": 22,
   "id": "continent-investing",
   "metadata": {
    "scrolled": true
   },
   "outputs": [
    {
     "data": {
      "text/plain": [
       "<6040x3628 sparse matrix of type '<class 'numpy.longlong'>'\n",
       "\twith 836488 stored elements in Compressed Sparse Row format>"
      ]
     },
     "execution_count": 22,
     "metadata": {},
     "output_type": "execute_result"
    }
   ],
   "source": [
    "# 실습 - 위에 설명 토대로 만들어보기\n",
    "from scipy.sparse import csr_matrix\n",
    "\n",
    "num_user = movie_data['user_id'].nunique()\n",
    "num_title = movie_data['title'].nunique()\n",
    "\n",
    "csr_data = csr_matrix((movie_data['count'], (movie_data.user_id, movie_data.title)), shape = (num_user, num_title))\n",
    "csr_data"
   ]
  },
  {
   "cell_type": "code",
   "execution_count": 23,
   "id": "rough-warren",
   "metadata": {},
   "outputs": [],
   "source": [
    "from implicit.als import AlternatingLeastSquares\n",
    "import os\n",
    "import numpy as np\n",
    "\n",
    "# implicit 라이브러리에서 권장하고 있는 부분. 학습 내용과는 무관\n",
    "os.environ['OPENBLAS_NUM_THREADS'] = '1'\n",
    "os.environ['KMP_DUPLICATE_LIB_OK'] = 'True'\n",
    "os.environ['MKL_NUM_THREADS'] = '1'"
   ]
  },
  {
   "cell_type": "markdown",
   "id": "encouraging-marshall",
   "metadata": {},
   "source": [
    "## 5. als_model = AlternatingLeastSquares 모델을 직접 구성하여 훈련시켜 보기"
   ]
  },
  {
   "cell_type": "markdown",
   "id": "posted-secret",
   "metadata": {},
   "source": [
    "- AlternatingLeastSquares 클래스의 __init__ 파라미터 살펴보기\n",
    "    - 1. factors: 유저와 아이템의 벡터를 몇 차원으로 할 것인지\n",
    "    - 2. regularization: 과적합을 방지하기 위해 정규화 값을 얼마나 사용할 것인지\n",
    "    - 3. use_gpu: GPU를 사용할 것인지\n",
    "    - 4. iterations: epochs와 같은 의미. 데이터를 몇 번 반복해서 학습할 것인지\n",
    "- 1, 4를 늘릴수록 학습데이터를 잘 학습하게 되지만, 과적합의 우려가 있으니 좋은 값을 찾아야 함"
   ]
  },
  {
   "cell_type": "code",
   "execution_count": 24,
   "id": "bright-plastic",
   "metadata": {},
   "outputs": [],
   "source": [
    "# Implicit AlternatingLeastSquares 모델의 선언\n",
    "als_model = AlternatingLeastSquares(factors = 800, regularization = 0.01, use_gpu = False, iterations = 50, dtype = np.float32)"
   ]
  },
  {
   "cell_type": "code",
   "execution_count": 25,
   "id": "surface-abortion",
   "metadata": {},
   "outputs": [
    {
     "data": {
      "text/plain": [
       "<3628x6040 sparse matrix of type '<class 'numpy.longlong'>'\n",
       "\twith 836488 stored elements in Compressed Sparse Column format>"
      ]
     },
     "execution_count": 25,
     "metadata": {},
     "output_type": "execute_result"
    }
   ],
   "source": [
    "# als 모델은 input으로 (item x user 꼴의 matrix를 받기 때문에 Transpose해주기)\n",
    "csr_data_transpose = csr_data.T\n",
    "csr_data_transpose"
   ]
  },
  {
   "cell_type": "code",
   "execution_count": 26,
   "id": "overhead-inspiration",
   "metadata": {},
   "outputs": [
    {
     "data": {
      "application/vnd.jupyter.widget-view+json": {
       "model_id": "d08be58a469942128217b4068ecfaa2b",
       "version_major": 2,
       "version_minor": 0
      },
      "text/plain": [
       "  0%|          | 0/50 [00:00<?, ?it/s]"
      ]
     },
     "metadata": {},
     "output_type": "display_data"
    }
   ],
   "source": [
    "# 모델 훈련\n",
    "als_model.fit(csr_data_transpose)"
   ]
  },
  {
   "cell_type": "markdown",
   "id": "decreased-smooth",
   "metadata": {},
   "source": [
    "- 모델 학습이 끝난 상황에서, 아래 2가지 사항을 살펴보기\n",
    "    - 1. Jiyoon 벡터와 'Lord of the Rings, The (1978)'의 **벡터를 어떻게 만들고 있는지**\n",
    "    - 2. 두 벡터를 **곱하면 어떤 값**이 나오는지"
   ]
  },
  {
   "cell_type": "code",
   "execution_count": 27,
   "id": "forward-bicycle",
   "metadata": {},
   "outputs": [
    {
     "name": "stdout",
     "output_type": "stream",
     "text": [
      "슝=3\n"
     ]
    }
   ],
   "source": [
    "jiyoon, Lord_of_the_Rings = user_to_idx['jiyoon'], title_to_idx['Lord of the Rings, The (1978)']\n",
    "jiyoon_vector, Lord_of_the_Rings_vector = als_model.user_factors[jiyoon], als_model.item_factors[Lord_of_the_Rings]\n",
    "\n",
    "print('슝=3')"
   ]
  },
  {
   "cell_type": "code",
   "execution_count": 28,
   "id": "usual-adobe",
   "metadata": {
    "scrolled": true
   },
   "outputs": [
    {
     "data": {
      "text/plain": [
       "array([-0.1839183 ,  0.43249005,  0.055235  , -0.40332624,  0.23932993,\n",
       "       -0.251123  , -0.12939581, -0.10847098,  0.3785765 ,  0.41265664,\n",
       "       -0.44864368,  0.52177894, -0.0887714 ,  0.01709129,  0.37222162,\n",
       "       -0.10494711,  0.21458387,  0.12650062, -0.09736424, -0.12267464,\n",
       "       -0.02575037, -0.45222494,  0.03414068, -0.06216312,  0.16259709,\n",
       "       -0.19161905, -0.04896241,  0.0180705 ,  0.05203411, -0.15737382,\n",
       "        0.11119598, -0.00667049, -0.3003982 ,  0.01176562,  0.48139942,\n",
       "        0.12755077,  0.03107948, -0.26948813,  0.56348306,  0.23911326,\n",
       "       -0.29062542, -0.13624476, -0.20490834, -0.14009564,  0.30739084,\n",
       "        0.07302574,  0.13284875,  0.38438958, -0.03968675,  0.1113116 ,\n",
       "        0.03220798,  0.23882464,  0.1230025 ,  0.3652983 , -0.02871117,\n",
       "        0.17922927, -0.41650733, -0.3159428 ,  0.58795136, -0.06339419,\n",
       "       -0.17682645,  0.1602012 , -0.27514836,  0.07778311, -0.02146344,\n",
       "       -0.17237508,  0.03661646,  0.1416646 , -0.17948286, -0.1076294 ,\n",
       "        0.20842586, -0.1803633 ,  0.24305634,  0.10416035,  0.3779666 ,\n",
       "        0.17543209, -0.12313049,  0.03329379, -0.13649994,  0.28127047,\n",
       "        0.24476391,  0.26828226,  0.14472646, -0.11786597,  0.30374882,\n",
       "        0.4395304 , -0.02317727,  0.05620745,  0.19339117,  0.06326599,\n",
       "       -0.06626847,  0.1647443 , -0.07864919,  0.13090843,  0.17512272,\n",
       "       -0.46361887,  0.25846776, -0.19408825,  0.05667666,  0.14685962,\n",
       "       -0.21712077,  0.03663112,  0.11738478, -0.01108743,  0.00680323,\n",
       "       -0.14480604, -0.19170548,  0.04516999, -0.31063342,  0.13281064,\n",
       "       -0.0702679 , -0.3065235 , -0.2773248 ,  0.05124079,  0.39875698,\n",
       "       -0.4380024 ,  0.14772874,  0.04470894,  0.0052295 ,  0.34002176,\n",
       "       -0.01046975,  0.39156845, -0.09610005,  0.2397821 ,  0.18786494,\n",
       "       -0.28035566, -0.14214389,  0.1880036 ,  0.22123304,  0.25397643,\n",
       "        0.38716897, -0.18152003,  0.47842294,  0.13618971, -0.3690363 ,\n",
       "       -0.19138831, -0.03096722,  0.00824664, -0.23609819, -0.3039051 ,\n",
       "       -0.0404905 , -0.01778889, -0.15189283, -0.30906716, -0.09696645,\n",
       "        0.32182965,  0.44852826, -0.22420458,  0.0565943 ,  0.14334296,\n",
       "        0.2985519 , -0.41025278,  0.11171212,  0.01508849,  0.08695064,\n",
       "        0.2825757 ,  0.36203092,  0.21746002, -0.5185987 ,  0.66487914,\n",
       "       -0.11965027, -0.22059472, -0.20072335, -0.4226372 , -0.03562817,\n",
       "       -0.07419962, -0.08374872,  0.12995185, -0.07447705, -0.19522916,\n",
       "        0.12889859, -0.3005877 ,  0.21462974, -0.04888978,  0.0126281 ,\n",
       "        0.14668787,  0.401322  ,  0.06690878, -0.21731688,  0.21228813,\n",
       "       -0.24439171,  0.18816823, -0.21702242, -0.03388317, -0.45419022,\n",
       "       -0.110809  ,  0.20476802, -0.18473555,  0.18258186,  0.14608851,\n",
       "       -0.2241678 , -0.36130083, -0.19584778, -0.24611913,  0.08128324,\n",
       "        0.28172734, -0.15676771, -0.21438245, -0.00174898, -0.00580843,\n",
       "       -0.16920277, -0.5397793 , -0.08180878, -0.28613716, -0.17236692,\n",
       "        0.10777399, -0.31866726,  0.12236834,  0.07080474,  0.33374757,\n",
       "        0.08605006,  0.20321305, -0.20297974,  0.07565887, -0.1119468 ,\n",
       "       -0.30631346,  0.237789  ,  0.1272827 ,  0.24743506, -0.05374789,\n",
       "       -0.03118749, -0.143595  ,  0.03798234,  0.24869826, -0.05916019,\n",
       "        0.08132587,  0.25974616, -0.41363564, -0.05169542,  0.01056328,\n",
       "       -0.2548208 ,  0.4037181 , -0.3067394 , -0.19414489, -0.1446779 ,\n",
       "       -0.2853017 ,  0.32201838,  0.05767782,  0.38263422, -0.1655921 ,\n",
       "       -0.08698838,  0.42322484, -0.00377653,  0.10212782,  0.06861923,\n",
       "        0.22909592,  0.05415378,  0.1883319 , -0.08614638,  0.21482767,\n",
       "        0.29349515, -0.0069833 ,  0.2507847 ,  0.27147165, -0.18866116,\n",
       "       -0.14953375, -0.08003748,  0.03336025, -0.46869293, -0.01156504,\n",
       "       -0.09404156,  0.02266718, -0.08352882,  0.2546707 ,  0.01522534,\n",
       "       -0.31873792,  0.11246175,  0.10326231, -0.18569495, -0.4241608 ,\n",
       "       -0.38323817,  0.19950815, -0.3156428 , -0.21254988, -0.05673379,\n",
       "        0.02228208, -0.33428013,  0.12896053,  0.05651371,  0.2536182 ,\n",
       "       -0.17472292,  0.37644327,  0.06360558, -0.2909657 ,  0.06211776,\n",
       "        0.35064957,  0.2990318 , -0.39896828, -0.11194226, -0.08979799,\n",
       "       -0.23289922, -0.23934248,  0.13632046,  0.14031555, -0.30538064,\n",
       "        0.04988   ,  0.04956695, -0.4200902 ,  0.28430855, -0.25681037,\n",
       "       -0.06984898, -0.1212047 , -0.18661073, -0.01895713,  0.08079534,\n",
       "       -0.05435719,  0.20206429, -0.5884958 ,  0.04348413,  0.38416556,\n",
       "        0.09202757, -0.05802293,  0.6201827 ,  0.5434053 ,  0.01195878,\n",
       "        0.14509052, -0.04176614, -0.00822976,  0.06462516, -0.02404395,\n",
       "        0.02482034, -0.0753414 ,  0.4654101 , -0.01159612, -0.10002776,\n",
       "       -0.17873049,  0.14542903,  0.01917727, -0.2642302 , -0.04242653,\n",
       "       -0.1936283 ,  0.12984408,  0.2132643 ,  0.20503743, -0.5375094 ,\n",
       "       -0.2917358 ,  0.09322058, -0.1636259 , -0.4091235 ,  0.17871194,\n",
       "       -0.26472634,  0.2756354 ,  0.10889742,  0.11411311,  0.03642703,\n",
       "       -0.34090754,  0.1274783 , -0.08583444, -0.421121  ,  0.49463853,\n",
       "       -0.19198327,  0.39398658, -0.1787977 , -0.1316745 , -0.12671982,\n",
       "        0.12019899,  0.02335722, -0.14396413, -0.5410688 , -0.00398177,\n",
       "       -0.54445565,  0.13744645, -0.07778887, -0.3170843 , -0.08762181,\n",
       "       -0.4465323 , -0.3987403 , -0.38419902, -0.09492173, -0.2053183 ,\n",
       "        0.05342487, -0.02101767,  0.05134647, -0.11406334,  0.0600477 ,\n",
       "        0.05680146, -0.08932634, -0.19894254,  0.07763457,  0.291843  ,\n",
       "        0.22990695, -0.12962437, -0.07788824,  0.01554836, -0.02217554,\n",
       "        0.34033695,  0.42217773,  0.1884133 , -0.09086277, -0.05847466,\n",
       "       -0.14973576,  0.09005658,  0.00730367, -0.16896005,  0.04643321,\n",
       "        0.17946844,  0.07387727, -0.14109805,  0.40026578, -0.5960508 ,\n",
       "       -0.3340842 , -0.09474676, -0.29993528, -0.2625557 ,  0.21117127,\n",
       "        0.1683464 ,  0.36701858, -0.07796416,  0.01900309, -0.02993685,\n",
       "       -0.01142084, -0.14935589,  0.01379942, -0.0135235 , -0.05509422,\n",
       "       -0.26995853, -0.00505908,  0.1714567 ,  0.240136  ,  0.00977514,\n",
       "       -0.235828  , -0.3532639 , -0.09433909,  0.05881759,  0.02795456,\n",
       "        0.00396953, -0.06235487,  0.33251625, -0.15224499, -0.16543673,\n",
       "       -0.06285337,  0.06638905, -0.4038748 , -0.49539107, -0.3653684 ,\n",
       "       -0.07493503,  0.3075972 ,  0.03709596,  0.3651621 , -0.08233522,\n",
       "        0.18595593,  0.05688392,  0.19583179,  0.18014623, -0.21388474,\n",
       "        0.36430106, -0.16963696,  0.3051783 ,  0.06375717,  0.21403052,\n",
       "        0.06815667, -0.3443337 ,  0.1358833 ,  0.10268816, -0.49392426,\n",
       "        0.2498823 , -0.395427  , -0.16245739,  0.21517305,  0.42448187,\n",
       "        0.48347166, -0.41081426, -0.23925506,  0.16023663, -0.01848934,\n",
       "       -0.02545735,  0.19520311,  0.12441025, -0.65462625,  0.12201577,\n",
       "       -0.18861543, -0.05948943, -0.10716718,  0.00740601,  0.30109927,\n",
       "        0.24014477, -0.3088326 ,  0.18398635,  0.45670924, -0.56283075,\n",
       "        0.5801571 ,  0.05889232,  0.01208057, -0.06317893,  0.38887504,\n",
       "        0.01149973,  0.22203967, -0.3188794 , -0.09566738,  0.09137643,\n",
       "       -0.36159387, -0.02399956, -0.17892163, -0.33671322, -0.558696  ,\n",
       "       -0.00180339,  0.19742143,  0.5523407 , -0.09138601, -0.0853989 ,\n",
       "       -0.01698923,  0.2650541 , -0.10344728, -0.09949641,  0.08575208,\n",
       "        0.14455785,  0.0920182 , -0.50014627, -0.04253698,  0.02994605,\n",
       "       -0.22989056,  0.13875714,  0.5318926 , -0.18626212, -0.14579228,\n",
       "        0.02030498, -0.14544612,  0.3039623 , -0.6654377 ,  0.0077543 ,\n",
       "       -0.32822353, -0.23121464, -0.12169387,  0.32213905,  0.2864542 ,\n",
       "       -0.18658942, -0.18692909,  0.28032547, -0.26918817,  0.14053507,\n",
       "        0.04971261, -0.24806681, -0.1270777 ,  0.16639814,  0.14470834,\n",
       "        0.33880916, -0.07988123, -0.16242073,  0.00723642, -0.05420755,\n",
       "       -0.30047685, -0.2941756 , -0.02308663,  0.2745293 ,  0.05810668,\n",
       "        0.21168219, -0.05705252,  0.05092802, -0.2757037 ,  0.48955563,\n",
       "       -0.02215485,  0.12414452,  0.25431174,  0.27788672,  0.4530091 ,\n",
       "       -0.04346774,  0.04714577, -0.19376396,  0.4190941 ,  0.03119859,\n",
       "       -0.45095327, -0.06607042,  0.3407558 , -0.08983186, -0.00362464,\n",
       "       -0.03881317, -0.16833904,  0.21139568,  0.12628926, -0.02835322,\n",
       "        0.13464072, -0.02325321, -0.28166863,  0.16385286, -0.0777301 ,\n",
       "       -0.13799171,  0.14082947, -0.11817727,  0.06308658, -0.04631143,\n",
       "        0.2801403 ,  0.2666945 , -0.19731437,  0.17894447, -0.06756939,\n",
       "        0.25929368,  0.12143346, -0.14922053, -0.0868556 ,  0.4009348 ,\n",
       "       -0.02554268, -0.1233318 , -0.0323291 ,  0.3123682 , -0.12659606,\n",
       "       -0.13580476, -0.09433842, -0.6840561 ,  0.1474444 , -0.35738096,\n",
       "       -0.11993279, -0.02447948, -0.05586839, -0.22356495,  0.12294907,\n",
       "        0.03403043,  0.03476547, -0.2640219 ,  0.2030622 ,  0.04375525,\n",
       "        0.05157482, -0.05794356,  0.35142162,  0.29567656,  0.26103705,\n",
       "        0.05959031,  0.10767109,  0.16323665,  0.00700425, -0.44542196,\n",
       "       -0.05774691, -0.25405487, -0.34874335, -0.13975242,  0.45136178,\n",
       "       -0.17121634,  0.10673713,  0.11245979, -0.05817305, -0.13459513,\n",
       "       -0.10229871,  0.17739214, -0.09717748, -0.33932745, -0.14167485,\n",
       "        0.3461504 ,  0.10603674,  0.09701263,  0.11675629, -0.0952993 ,\n",
       "        0.54411113, -0.05386795, -0.02997963,  0.19876087,  0.3507383 ,\n",
       "       -0.03058193,  0.16973238, -0.1866111 ,  0.10668967, -0.05607048,\n",
       "       -0.1856921 ,  0.1896731 ,  0.24670163,  0.06921023, -0.29153487,\n",
       "       -0.15475662, -0.31298658, -0.04790078, -0.28684962,  0.10129622,\n",
       "        0.1696498 ,  0.08893082,  0.06310797, -0.17367305, -0.2970329 ,\n",
       "       -0.16074277,  0.07264826, -0.0164749 , -0.07581417, -0.29394886,\n",
       "       -0.09537718, -0.0727092 , -0.02672433, -0.63857627,  0.12057415,\n",
       "       -0.34646726,  0.20341574, -0.08361278, -0.09725086, -0.16550994,\n",
       "        0.06135532,  0.22609754,  0.05638916,  0.1096511 ,  0.01726258,\n",
       "       -0.20913859, -0.02109799, -0.20995778, -0.04449107, -0.2893337 ,\n",
       "        0.0611512 ,  0.05671591,  0.13460901, -0.15798986,  0.12516782,\n",
       "        0.03209019,  0.35787728, -0.06675505, -0.24730732, -0.5036433 ,\n",
       "        0.01393226,  0.12962164,  0.05174121,  0.0745652 , -0.17991492,\n",
       "        0.11422259,  0.41709387, -0.45455718,  0.3395399 ,  0.13604629,\n",
       "       -0.20081483, -0.07078672, -0.21967794, -0.12019057,  0.3776043 ,\n",
       "       -0.20134668, -0.05394756,  0.12974261, -0.59592485, -0.05371415,\n",
       "        0.29878995, -0.18257983, -0.23225644,  0.3369858 , -0.19226865,\n",
       "       -0.17323588,  0.2621642 , -0.11855882,  0.01122372,  0.15499875,\n",
       "        0.12154718, -0.03533221, -0.39561293,  0.60693675,  0.14731373,\n",
       "        0.23121819,  0.15630382, -0.17638618,  0.16316858, -0.09263685,\n",
       "       -0.13989115,  0.04995183,  0.0688998 , -0.22705099, -0.37974694,\n",
       "       -0.02869619,  0.3923896 ,  0.07992148, -0.22002469,  0.14590846,\n",
       "        0.1720649 , -0.05047366, -0.14318655, -0.05998959, -0.07593475,\n",
       "        0.10626837,  0.04589428,  0.09971369, -0.17598167, -0.09744027,\n",
       "       -0.11140715, -0.09301633,  0.36331603, -0.09469327, -0.03291567,\n",
       "        0.0098586 , -0.39535037,  0.12050151,  0.30864504, -0.19651812,\n",
       "        0.31147307,  0.02188534,  0.03539565, -0.24110308,  0.24791269,\n",
       "        0.35305253, -0.4926723 ,  0.26749793,  0.14571771, -0.34750336,\n",
       "        0.20492907,  0.40920419,  0.1056627 ,  0.01906762,  0.00321177,\n",
       "        0.03092365,  0.09730618,  0.16392393,  0.12371857, -0.04538986,\n",
       "        0.06017427,  0.5793677 ,  0.07680171,  0.16407213,  0.7862841 ,\n",
       "        0.05784649,  0.20501004,  0.05532636,  0.06722976,  0.3340279 ],\n",
       "      dtype=float32)"
      ]
     },
     "execution_count": 28,
     "metadata": {},
     "output_type": "execute_result"
    }
   ],
   "source": [
    "jiyoon_vector"
   ]
  },
  {
   "cell_type": "code",
   "execution_count": 29,
   "id": "champion-mixture",
   "metadata": {},
   "outputs": [
    {
     "data": {
      "text/plain": [
       "array([ 1.85434222e-02,  7.53026968e-03,  2.28996333e-02,  6.60029845e-03,\n",
       "        4.62359982e-03,  4.81942575e-03,  9.33550112e-03, -4.36752848e-03,\n",
       "        1.42909875e-02,  2.09370255e-03, -5.66500146e-03,  1.06244422e-02,\n",
       "       -3.65818571e-03,  1.73214599e-02,  1.26659507e-02,  3.62861599e-03,\n",
       "        1.52434101e-02,  2.75293216e-02,  8.65666755e-03,  3.16186016e-03,\n",
       "        2.74575576e-02, -6.42956002e-03, -1.81338051e-03, -4.73589217e-03,\n",
       "        2.87427437e-02, -3.65711137e-04, -1.57045887e-03, -8.95292312e-03,\n",
       "        1.08849173e-02, -5.35084167e-03,  1.37343095e-03,  3.44346417e-03,\n",
       "       -1.66002922e-02,  6.53170224e-04,  1.92380250e-02,  6.61880663e-03,\n",
       "        1.49629842e-02,  3.07853357e-03,  7.52672506e-03, -3.64375883e-03,\n",
       "       -4.61074669e-04, -1.00420583e-02,  7.40659796e-03,  9.68132913e-03,\n",
       "       -1.01288138e-02, -3.93235404e-03, -1.12616559e-02,  2.29844898e-02,\n",
       "        1.12524582e-03,  4.20230255e-03,  1.19447028e-02,  1.72951464e-02,\n",
       "        1.57797977e-03,  1.87585428e-02,  1.36519196e-02,  1.02263484e-02,\n",
       "       -2.84958584e-03,  8.99750926e-03,  1.50239803e-02,  3.31914192e-03,\n",
       "       -2.08769422e-02, -1.35685429e-02,  7.79168564e-04,  9.26852506e-03,\n",
       "        2.78002284e-02, -1.61559004e-02, -2.27482952e-02,  1.75729971e-02,\n",
       "       -1.66088697e-02, -6.65864628e-03,  2.70486181e-03, -9.24225990e-03,\n",
       "        1.62377972e-02, -4.58258670e-03,  1.31982341e-02,  2.22376771e-02,\n",
       "        1.07717765e-02, -1.67222954e-02, -1.44023506e-03,  5.09235868e-03,\n",
       "        2.00657584e-02,  1.35231372e-02, -4.16749064e-03,  2.21804362e-02,\n",
       "        2.78936829e-02,  6.56463439e-03,  1.35545048e-03,  5.94191579e-03,\n",
       "        2.01541111e-02, -3.16497899e-04,  2.32871417e-02,  6.36154506e-03,\n",
       "        3.29170167e-03,  5.40580787e-03, -1.90058362e-03,  3.81740578e-03,\n",
       "        1.78658846e-03, -1.32374531e-02,  1.21689439e-02,  4.11281874e-03,\n",
       "        5.45641221e-03,  3.20254965e-03,  4.09293454e-03, -6.71472121e-03,\n",
       "       -2.54536071e-03,  3.49777727e-03,  1.85878971e-03, -1.39643466e-02,\n",
       "       -2.43729143e-03, -4.51429375e-03, -8.28896649e-03, -2.83891149e-03,\n",
       "       -4.28939285e-03,  6.09522860e-04,  1.65848015e-03, -3.71531700e-03,\n",
       "        2.22446471e-02, -6.73302542e-03, -9.32928547e-03,  4.06686310e-03,\n",
       "        1.33564314e-02, -8.12334288e-03, -1.90492310e-02,  2.36409670e-03,\n",
       "        3.32597806e-03,  2.09293514e-02, -5.59054641e-03,  1.86126474e-02,\n",
       "        1.29625658e-02,  1.67174228e-02,  7.20227486e-04, -1.49660548e-02,\n",
       "        8.82535893e-03, -1.48543867e-03,  8.67524184e-03,  4.62846505e-03,\n",
       "        2.66705062e-02,  5.22702653e-03, -2.63736174e-02,  1.70292333e-03,\n",
       "        1.52760483e-02,  1.01179793e-03, -2.51266025e-02,  1.06297377e-02,\n",
       "       -8.28258134e-03,  2.35313717e-02,  8.53638723e-03,  6.08238904e-03,\n",
       "        3.09405872e-03,  1.33598382e-02,  1.34471785e-02, -2.75742169e-03,\n",
       "        1.77656040e-02, -5.95384976e-03,  1.16686923e-02,  8.04003142e-03,\n",
       "        6.69553783e-03,  5.89820324e-03,  7.40951218e-04,  1.18803186e-02,\n",
       "        3.70482891e-03,  1.59989262e-03,  5.77024277e-03, -3.29362578e-03,\n",
       "        1.71013158e-02,  1.42605659e-02, -1.46587221e-02, -1.52203068e-03,\n",
       "       -9.88811068e-03,  1.81145873e-02,  7.26373075e-03, -6.08360814e-03,\n",
       "        2.07052268e-02, -1.06195058e-03, -6.58326491e-04,  2.29629148e-02,\n",
       "        1.09837344e-02,  2.23365799e-02,  2.33263131e-02,  1.96171552e-02,\n",
       "       -1.16404323e-02, -3.75039387e-03,  1.38712162e-02,  1.16068975e-03,\n",
       "       -1.55760441e-02, -1.61813889e-02,  1.74361113e-02, -1.17409108e-02,\n",
       "        3.28069516e-02, -4.38446132e-03,  4.97449655e-03, -1.85251608e-02,\n",
       "       -6.58140006e-03,  3.25381197e-03,  8.76384601e-03,  1.15859685e-02,\n",
       "        9.04533453e-03,  2.14391928e-02,  1.25738299e-02, -4.46447544e-03,\n",
       "        9.15899780e-03, -2.32399274e-02, -1.11657334e-03,  3.86638497e-03,\n",
       "       -1.07588414e-02,  2.07147282e-03, -2.18274500e-02,  1.05160745e-02,\n",
       "        1.39181819e-02,  2.40690969e-02,  1.27880340e-02,  4.47371072e-04,\n",
       "       -2.35663098e-03,  7.03175971e-03, -2.31993999e-02, -1.00892847e-02,\n",
       "       -3.97002231e-03, -6.65496453e-04,  1.05314525e-02,  1.71779506e-02,\n",
       "        2.16217022e-02,  3.10006668e-03,  5.02613606e-03,  2.47704033e-02,\n",
       "        2.05507334e-02, -1.01077510e-02,  1.58503130e-02, -5.25424629e-03,\n",
       "        1.26785170e-02,  1.05104893e-02,  8.14829255e-04,  9.29276366e-03,\n",
       "        1.40951453e-02, -1.78811476e-02,  8.57160706e-03, -6.08043931e-03,\n",
       "       -5.48224617e-03,  8.54166504e-03,  2.08493154e-02,  8.34774133e-03,\n",
       "       -8.53865687e-03,  1.39233097e-02,  2.23620329e-02, -7.64483027e-03,\n",
       "       -1.86861097e-03,  1.74159613e-02,  1.15867928e-02, -4.38885065e-03,\n",
       "        1.55195966e-02,  2.91086491e-02,  1.24356225e-02, -8.85633286e-03,\n",
       "        1.52712185e-02,  2.00297721e-02,  1.04406979e-02,  2.49706162e-03,\n",
       "        9.47406399e-04, -2.10990990e-03,  5.30452374e-03,  4.83166939e-03,\n",
       "        1.54452259e-02, -4.88911802e-03,  1.42714949e-02,  8.45767616e-04,\n",
       "       -1.55392168e-02, -1.70056242e-02,  8.86730943e-03,  1.80450976e-02,\n",
       "        8.77807476e-03, -2.36156560e-03, -1.18656075e-02,  2.54809354e-02,\n",
       "       -7.41322478e-03,  1.32871736e-02,  2.75168363e-02, -1.69586667e-04,\n",
       "        5.12709888e-03,  8.72839417e-04, -6.37240289e-03,  9.49230697e-03,\n",
       "       -6.03658892e-03,  1.70688462e-02,  8.50205403e-03,  7.20876385e-04,\n",
       "        1.17385983e-02,  4.15271008e-03,  5.39149856e-03, -1.00891013e-02,\n",
       "        1.14420336e-03, -1.85930834e-03, -1.03257513e-02, -1.70095246e-02,\n",
       "       -1.24943284e-02, -3.85755580e-03, -1.23007060e-03,  8.44728574e-03,\n",
       "        4.01861587e-04, -5.43747982e-03,  2.31345873e-02,  8.82335845e-03,\n",
       "       -1.07276933e-02,  1.77293606e-02, -8.46453197e-03,  1.78833529e-02,\n",
       "        3.96980532e-03, -1.11099062e-02,  2.40070801e-02, -1.00167003e-02,\n",
       "        1.87514164e-02, -3.33207170e-03,  1.90976877e-02, -2.45662173e-03,\n",
       "        1.36364307e-02,  2.05362830e-02, -5.97075326e-03,  8.76950193e-03,\n",
       "        1.87623855e-02, -4.03895829e-04,  5.40239178e-03,  5.26659191e-03,\n",
       "        1.33211780e-02,  6.53680135e-03,  1.07486155e-02, -9.38019622e-03,\n",
       "        4.29804856e-03,  1.32374689e-02,  1.49774579e-02, -1.53523758e-02,\n",
       "       -1.36386207e-03,  1.51549028e-02,  4.86130966e-03, -4.71854862e-03,\n",
       "        1.40538635e-02,  4.52048611e-03, -7.64200790e-03, -1.18507454e-02,\n",
       "       -5.89371054e-03, -8.40077177e-03,  1.67285721e-03, -2.09720177e-03,\n",
       "       -6.09996403e-03, -6.55376539e-03,  1.48546239e-02,  1.14963036e-02,\n",
       "        1.13492843e-03, -7.87581224e-03, -7.72003725e-04, -8.31100717e-03,\n",
       "        4.76611685e-03,  1.78252161e-02, -1.29439542e-02,  1.38048017e-02,\n",
       "       -1.37419812e-02,  8.35952628e-03,  8.57406354e-04, -2.98533472e-03,\n",
       "        5.60061366e-04, -1.46852410e-03, -9.60407406e-03,  7.16647890e-04,\n",
       "        1.25143584e-03,  1.09196352e-02,  1.07112890e-02,  8.53946432e-03,\n",
       "        1.86517071e-02,  1.25360591e-02, -1.00676939e-02,  1.69236101e-02,\n",
       "       -1.19656613e-02,  7.53431022e-03,  1.26339393e-02, -7.20359525e-03,\n",
       "        2.19734013e-02,  5.89358329e-04,  1.65436734e-02,  1.22202896e-02,\n",
       "        3.11944447e-03,  1.54908905e-02,  7.91120250e-03,  1.84442215e-02,\n",
       "       -7.35585112e-03,  1.24931075e-02, -7.96653517e-03, -3.29264416e-03,\n",
       "       -4.36547305e-03,  4.27574338e-03,  3.32477093e-02,  5.67473285e-03,\n",
       "        2.44380208e-03,  6.60740072e-03, -3.23629729e-03,  1.58092827e-02,\n",
       "        6.39399933e-03, -1.21857384e-02, -2.58034538e-03,  5.15340827e-03,\n",
       "        1.31177818e-02, -3.31570081e-05,  4.25012456e-03, -3.46618588e-03,\n",
       "       -6.06197864e-03,  1.55441370e-02, -1.06449826e-02, -1.04606645e-02,\n",
       "        8.35983828e-03,  6.01345394e-03,  1.31578837e-02,  8.57763272e-03,\n",
       "        1.83299556e-02,  9.38014407e-03,  1.73248816e-03,  7.11692544e-03,\n",
       "        2.56027072e-03,  1.19898068e-02,  6.89346530e-03,  9.99427307e-03,\n",
       "        4.18163091e-03,  4.91415802e-03,  4.45206929e-03,  3.49404756e-03,\n",
       "        9.09254327e-03, -4.06260928e-03, -7.75470026e-03, -5.15227625e-03,\n",
       "        5.93365822e-03,  2.93726828e-02, -1.01813832e-02,  2.45891120e-02,\n",
       "        1.40583301e-02,  2.65237992e-03,  4.13108896e-03,  2.30488717e-03,\n",
       "        6.48514228e-03,  6.93028187e-03,  7.06398487e-03,  2.96313632e-02,\n",
       "        1.05893118e-02,  5.58903301e-03,  1.16801716e-03,  7.29216170e-03,\n",
       "        1.48783587e-02, -7.28336337e-04,  1.36340910e-03,  8.98414571e-03,\n",
       "        1.56698637e-02,  3.37691717e-02,  1.46954991e-02,  8.86463001e-03,\n",
       "        2.66049616e-02,  1.01792924e-02,  7.76728103e-03,  4.16911393e-03,\n",
       "        1.53404633e-02,  1.93097088e-02, -4.16572113e-03,  1.43693713e-02,\n",
       "       -5.26490971e-04, -1.04667770e-03, -1.65409711e-03, -3.41001269e-03,\n",
       "        8.86641094e-04, -1.54280728e-02,  5.48573956e-03,  2.84087379e-03,\n",
       "        1.74416676e-02, -4.96683130e-03, -7.51772430e-03, -2.00587371e-03,\n",
       "       -1.30609870e-02,  1.48615893e-03,  1.01330785e-04,  1.10715050e-02,\n",
       "        1.37913860e-02,  1.68471485e-02, -3.03050969e-03,  1.68272899e-03,\n",
       "        1.16979526e-02,  1.68133359e-02, -2.79209297e-03, -2.57007293e-02,\n",
       "        6.55286154e-03, -5.32927038e-03,  1.04051614e-02,  8.95851851e-03,\n",
       "        4.87673795e-03, -1.25930775e-02, -2.11881008e-03, -5.00707980e-03,\n",
       "        5.39951585e-03, -1.71312466e-02, -9.08276718e-03, -3.26445629e-03,\n",
       "       -5.10027865e-03,  9.15443059e-03, -4.57952032e-03,  1.30949449e-02,\n",
       "        7.07247062e-03,  3.12675759e-02, -1.39246217e-03, -1.85529923e-03,\n",
       "        8.00349191e-03,  2.03320384e-02,  1.54144065e-02, -6.95952820e-03,\n",
       "        1.81547236e-02, -1.03678275e-02,  1.54103013e-03, -5.02093695e-03,\n",
       "        1.18044764e-02,  1.37899425e-02, -1.84882525e-02,  5.25281765e-03,\n",
       "        1.28984516e-02,  8.75520706e-03,  1.56164421e-02, -1.38892643e-02,\n",
       "        1.06252171e-02,  1.39804240e-02, -2.81022768e-02, -2.87709059e-03,\n",
       "        3.67440213e-03,  1.41364904e-02,  2.43098824e-03,  2.21396200e-02,\n",
       "       -1.97758176e-03, -8.13163538e-03,  1.86537905e-03,  1.38180880e-02,\n",
       "       -2.06047054e-02, -6.14742283e-03,  1.75996572e-02, -2.80680135e-03,\n",
       "        8.51648452e-04,  1.62817221e-02,  1.95173454e-02,  1.51291606e-03,\n",
       "        8.17866810e-03, -3.56946781e-04,  1.83506031e-02,  1.24727245e-02,\n",
       "       -1.12112891e-02,  3.20441177e-04,  1.25579524e-03,  4.24483122e-04,\n",
       "       -4.07841057e-03,  1.82897877e-02,  9.11546685e-03,  3.08231800e-03,\n",
       "        3.72149376e-03,  1.62280891e-02,  6.81786472e-03,  2.52422616e-02,\n",
       "        1.28214974e-02,  2.29234751e-02,  6.60667941e-03, -2.08583884e-02,\n",
       "        2.39234809e-02,  3.04175867e-03,  6.01057312e-04,  2.90430058e-02,\n",
       "       -2.16766167e-03,  1.43128308e-02,  5.91272488e-03,  1.31865917e-02,\n",
       "       -4.18789731e-03,  1.80330444e-02, -1.46698963e-03,  9.45237093e-03,\n",
       "        2.22762208e-02,  1.59051698e-02,  2.21210755e-02, -3.48092086e-04,\n",
       "       -1.04528349e-02,  1.18631031e-02, -1.96162798e-02,  1.39019499e-02,\n",
       "        1.09291822e-02,  7.64826778e-04,  2.42303833e-02, -5.23296092e-03,\n",
       "        1.67182907e-02,  1.46273494e-04,  5.84972464e-03,  1.05312709e-02,\n",
       "       -2.71269376e-03,  1.09521039e-02,  4.86445024e-05,  1.35881454e-02,\n",
       "        5.94189717e-03,  1.49993058e-02,  9.18713119e-03, -2.51500821e-03,\n",
       "       -5.26175275e-03, -4.04218584e-03,  2.61077052e-03,  1.40696876e-02,\n",
       "       -4.38284455e-03,  5.34099620e-03,  3.03678866e-02,  1.11797899e-02,\n",
       "        7.88124464e-03,  8.82006343e-03, -1.52727193e-03,  7.90549815e-03,\n",
       "        3.10736652e-02,  1.09595675e-02, -1.24050882e-02, -5.17760217e-03,\n",
       "        1.39724463e-02, -1.88158490e-02,  8.53613950e-03,  2.06222222e-03,\n",
       "        1.01951612e-02,  2.50248052e-02,  1.46323061e-02,  3.02511714e-02,\n",
       "        1.03243766e-02,  8.76083132e-03, -2.97009060e-03, -6.89146947e-03,\n",
       "        4.82655509e-04, -3.20625317e-04,  7.08993757e-03, -1.77875371e-03,\n",
       "        6.57014549e-03,  5.93866780e-03, -6.64518867e-03,  2.70419344e-02,\n",
       "       -1.24188606e-03,  5.01985662e-03, -1.80489209e-03,  1.43465516e-03,\n",
       "       -1.12330383e-02, -7.58109381e-03,  1.44670543e-03,  2.00897059e-03,\n",
       "        6.65139221e-03,  7.61672040e-04, -4.82110772e-03,  9.43136460e-04,\n",
       "        1.54374670e-02,  1.97100602e-02,  3.73838982e-03,  1.15457214e-02,\n",
       "        9.02950019e-03,  4.39573731e-03,  1.34700276e-02,  5.92409354e-03,\n",
       "        1.59295946e-02, -1.38222752e-03, -3.11244559e-03,  1.57924567e-03,\n",
       "       -2.55448581e-03,  1.80143900e-02,  9.02951416e-03,  1.51879024e-02,\n",
       "       -5.07448707e-03,  2.22218297e-02, -1.74621399e-02,  2.35375483e-02,\n",
       "       -1.03911767e-02,  1.96800800e-04,  5.42688463e-03, -7.39704445e-03,\n",
       "        3.40395514e-03, -2.28834176e-03,  1.80955138e-02,  1.05511015e-02,\n",
       "        1.09384665e-02,  5.29898144e-03,  6.31578965e-03, -1.79032516e-02,\n",
       "        6.41955249e-03, -1.55358473e-02, -4.24957310e-04, -2.78760958e-03,\n",
       "       -2.24629063e-02,  1.78139210e-02,  1.18116923e-02, -1.33173447e-03,\n",
       "       -2.30860822e-02, -1.30402378e-03,  1.89951565e-02,  1.34212640e-03,\n",
       "        1.80915894e-03,  2.29625893e-03, -1.00598251e-03,  1.22522954e-02,\n",
       "       -5.79360174e-03, -3.80689697e-03,  1.76815446e-02,  6.01864001e-03,\n",
       "        1.00493040e-02, -1.09645762e-02,  1.72833353e-02, -4.84503992e-03,\n",
       "        2.67736427e-02,  1.01930322e-02, -3.58509453e-04, -2.74713431e-03,\n",
       "        1.06637906e-02,  3.64553891e-02,  1.65773891e-02,  6.53808052e-03,\n",
       "        1.25685874e-02,  1.75491776e-02,  3.92358890e-03, -7.64918048e-04,\n",
       "        1.59675647e-02,  8.38231295e-03,  6.65101875e-03,  4.71837912e-03,\n",
       "        2.36428976e-02,  1.53026346e-03,  8.84100236e-03,  4.17560618e-03,\n",
       "        2.15349114e-03,  3.81130609e-03,  8.88198987e-03,  8.97258893e-03,\n",
       "        1.35491733e-02, -4.04120050e-03,  7.33506167e-03,  5.18708397e-03,\n",
       "        2.12567523e-02, -4.54316242e-03,  6.45259721e-03,  2.65087970e-02,\n",
       "        1.95575356e-02,  2.93670893e-02,  1.19594019e-02,  8.91174003e-03,\n",
       "       -1.03170332e-02,  1.18035125e-02,  2.45598368e-02,  1.89598780e-02,\n",
       "        1.21218117e-03,  6.85515406e-05, -4.86846035e-03,  2.33355090e-02,\n",
       "       -1.23364218e-02, -1.50713846e-02, -5.18564926e-03,  2.53701303e-02,\n",
       "       -1.03116836e-02,  7.89175276e-03,  3.90041969e-03, -6.65218243e-03,\n",
       "        4.81222384e-03,  1.20640481e-02,  5.16688917e-03,  1.53766423e-02,\n",
       "       -7.64395017e-03,  5.94996382e-03, -1.52437156e-02,  1.01298876e-02,\n",
       "        2.65996307e-02, -1.71488244e-03,  5.20507991e-03,  6.34470163e-03,\n",
       "       -1.25629976e-02, -1.54582188e-02,  2.66274740e-03, -3.35387839e-03,\n",
       "       -2.88281729e-03, -3.35063576e-03, -7.19744153e-03,  5.23803243e-03,\n",
       "       -1.13685429e-02,  1.00879865e-02,  3.29328887e-02, -2.60870648e-03,\n",
       "        8.26994237e-03,  8.23154487e-03,  6.05243118e-03,  2.05968283e-02,\n",
       "       -2.25594286e-02,  2.24936325e-02,  4.80791740e-03,  1.45731196e-02,\n",
       "        6.97903975e-04,  2.07036342e-02,  2.15459634e-02,  2.27669720e-03,\n",
       "        1.03794206e-02, -3.80188785e-03,  5.08800754e-03,  1.91387963e-02,\n",
       "        5.63578214e-03,  5.27491211e-04,  1.15557546e-02,  1.00556957e-02,\n",
       "        6.46071276e-03,  1.33808497e-02,  1.00826728e-03,  4.66698315e-03,\n",
       "        2.94305920e-03,  1.06568239e-03,  1.00141494e-02,  6.52857125e-03],\n",
       "      dtype=float32)"
      ]
     },
     "execution_count": 29,
     "metadata": {},
     "output_type": "execute_result"
    }
   ],
   "source": [
    "Lord_of_the_Rings_vector"
   ]
  },
  {
   "cell_type": "code",
   "execution_count": 30,
   "id": "treated-stack",
   "metadata": {},
   "outputs": [
    {
     "data": {
      "text/plain": [
       "0.76883113"
      ]
     },
     "execution_count": 30,
     "metadata": {},
     "output_type": "execute_result"
    }
   ],
   "source": [
    "# jiyoon과 Lord_of_the_Rings를 내적하는 코드\n",
    "np.dot(jiyoon_vector, Lord_of_the_Rings_vector)"
   ]
  },
  {
   "cell_type": "markdown",
   "id": "difficult-agency",
   "metadata": {},
   "source": [
    "- 1이 나와야 될 것 같은데 0.78 정도가 나옴\n",
    "- factors를 늘리거나 iterator를 늘려야 할 것\n",
    "- 이후 진행되는 내용은 일단 이렇게 학습된 모델 사용\n",
    "- Q9. 만약 이 두 수치를 늘려 1에 가깝게 나왔다면 이 모델이 잘 학습되었다고 볼 수 있을까?\n",
    "- A9. 아직 검증되지 않았음. 학습 데이터에 대해서 fitting은 되었지만 아직 보지 못한 데이터에 대한, 예를 들어 queen을 선호할지에 대한 예측을 잘할지 못할지는 검증하지 않았기 때문"
   ]
  },
  {
   "cell_type": "markdown",
   "id": "arabic-nurse",
   "metadata": {},
   "source": [
    "## 6. 내가 선호하는 10가지 영화 중 하나와 그 외의 영화 하나를 골라 훈련된 모델이 예측한 나의 선호도 파악"
   ]
  },
  {
   "cell_type": "markdown",
   "id": "shared-leave",
   "metadata": {},
   "source": [
    "### 선호하는 영화 리스트에 있는 영화로 선호도 파악"
   ]
  },
  {
   "cell_type": "code",
   "execution_count": 31,
   "id": "critical-support",
   "metadata": {},
   "outputs": [
    {
     "name": "stdout",
     "output_type": "stream",
     "text": [
      "슝=3\n"
     ]
    }
   ],
   "source": [
    "jiyoon, mission_impossible = user_to_idx['jiyoon'], title_to_idx['Mission: Impossible 2 (2000)']\n",
    "jiyoon_vector, mission_impossible_vector = als_model.user_factors[jiyoon], als_model.item_factors[mission_impossible]\n",
    "\n",
    "print('슝=3')"
   ]
  },
  {
   "cell_type": "code",
   "execution_count": 32,
   "id": "purple-promise",
   "metadata": {},
   "outputs": [
    {
     "data": {
      "text/plain": [
       "0.961501"
      ]
     },
     "execution_count": 32,
     "metadata": {},
     "output_type": "execute_result"
    }
   ],
   "source": [
    "np.dot(jiyoon_vector, mission_impossible_vector)"
   ]
  },
  {
   "cell_type": "markdown",
   "id": "cutting-inspiration",
   "metadata": {},
   "source": [
    "### 선호하는 영화 리스트에 없는 영화로 선호도 파악"
   ]
  },
  {
   "cell_type": "code",
   "execution_count": 33,
   "id": "dietary-letters",
   "metadata": {},
   "outputs": [
    {
     "name": "stdout",
     "output_type": "stream",
     "text": [
      "슝=3\n"
     ]
    }
   ],
   "source": [
    "jiyoon, money_train = user_to_idx['jiyoon'], title_to_idx['Money Train (1995)']\n",
    "jiyoon_vector, money_train_vector = als_model.user_factors[jiyoon], als_model.item_factors[money_train]\n",
    "\n",
    "print('슝=3')"
   ]
  },
  {
   "cell_type": "code",
   "execution_count": 34,
   "id": "roman-slide",
   "metadata": {},
   "outputs": [
    {
     "data": {
      "text/plain": [
       "-0.0041221213"
      ]
     },
     "execution_count": 34,
     "metadata": {},
     "output_type": "execute_result"
    }
   ],
   "source": [
    "np.dot(jiyoon_vector, money_train_vector)"
   ]
  },
  {
   "cell_type": "markdown",
   "id": "warming-screen",
   "metadata": {},
   "source": [
    "## 7. 내가 좋아하는 영화와 비슷한 영화 추천받아 보기"
   ]
  },
  {
   "cell_type": "markdown",
   "id": "oriental-collaboration",
   "metadata": {},
   "source": [
    "- 'AlternatingLeastSquares' 클래스에 구현되어 있는 'similar_items' 메서드를 통하여 비슷한 아티스트 앚기"
   ]
  },
  {
   "cell_type": "code",
   "execution_count": 51,
   "id": "excessive-emphasis",
   "metadata": {},
   "outputs": [
    {
     "data": {
      "text/plain": [
       "[(926, 0.99999994),\n",
       " (3448, 0.40339133),\n",
       " (3090, 0.40339074),\n",
       " (3603, 0.4031433),\n",
       " (2788, 0.40177187),\n",
       " (3449, 0.40025333),\n",
       " (2791, 0.39768407),\n",
       " (3447, 0.39700016),\n",
       " (3382, 0.39687335),\n",
       " (3011, 0.39672184),\n",
       " (3618, 0.3963863),\n",
       " (3195, 0.3950951),\n",
       " (3545, 0.39460236),\n",
       " (3177, 0.39425617),\n",
       " (3572, 0.39419943)]"
      ]
     },
     "execution_count": 51,
     "metadata": {},
     "output_type": "execute_result"
    }
   ],
   "source": [
    "# (movie_title, 유사도) Tuple로 반환\n",
    "favorite_movie = 'Lord of the Rings, The (1978)'\n",
    "movie_id = title_to_idx[favorite_movie]\n",
    "similar_movie = als_model.similar_items(movie_id, N = 15)\n",
    "similar_movie"
   ]
  },
  {
   "cell_type": "code",
   "execution_count": 52,
   "id": "painted-jimmy",
   "metadata": {},
   "outputs": [
    {
     "data": {
      "text/plain": [
       "['Lord of the Rings, The (1978)',\n",
       " 'Hangmen Also Die (1943)',\n",
       " 'Fausto (1993)',\n",
       " 'Snowriders (1996)',\n",
       " 'Giant Gila Monster, The (1959)',\n",
       " 'Mamma Roma (1962)',\n",
       " 'Blood Beach (1981)',\n",
       " 'Raining Stones (1993)',\n",
       " 'Grandview, U.S.A. (1984)',\n",
       " 'Kids of the Round Table (1995)',\n",
       " 'Nemesis 2: Nebula (1995)',\n",
       " 'Sticky Fingers of Time, The (1997)',\n",
       " 'Ten Benny (1997)',\n",
       " 'Just the Ticket (1999)',\n",
       " \"I Don't Want to Talk About It (De eso no se habla) (1993)\"]"
      ]
     },
     "execution_count": 52,
     "metadata": {},
     "output_type": "execute_result"
    }
   ],
   "source": [
    "# movie id를 다시 영화 이름으로 매핑시켜주기\n",
    "# artist_to_idx를 뒤집어, index로부터 artist 이름을 얻는 dict 생성\n",
    "idx_to_title = {v:k for k,v in title_to_idx.items()}\n",
    "[idx_to_title[i[0]] for i in similar_movie]"
   ]
  },
  {
   "cell_type": "code",
   "execution_count": 55,
   "id": "productive-capture",
   "metadata": {},
   "outputs": [
    {
     "name": "stdout",
     "output_type": "stream",
     "text": [
      "슝=3\n"
     ]
    }
   ],
   "source": [
    "# 위의 코드를 함수로 만들고 확인\n",
    "def get_similar_movie(movie_name: str):\n",
    "    movie_id = title_to_idx[movie_name]\n",
    "    similar_movie = als_model.similar_items(movie_id, N = 15)\n",
    "    similar_movie = [idx_to_title[i[0]] for i in similar_movie]\n",
    "    return similar_movie\n",
    "print(\"슝=3\")"
   ]
  },
  {
   "cell_type": "code",
   "execution_count": 58,
   "id": "acceptable-houston",
   "metadata": {},
   "outputs": [
    {
     "data": {
      "text/plain": [
       "['Mission: Impossible (1996)',\n",
       " 'Diamonds (1999)',\n",
       " 'Beautiful (2000)',\n",
       " \"Brown's Requiem (1998)\",\n",
       " 'Montana (1998)',\n",
       " \"Where's Marlowe? (1999)\",\n",
       " 'Digimon: The Movie (2000)',\n",
       " 'Welcome to Woop-Woop (1997)',\n",
       " 'One Little Indian (1973)',\n",
       " 'Sweet Nothing (1995)',\n",
       " 'Jerry & Tom (1998)',\n",
       " 'Tough and Deadly (1995)',\n",
       " 'Full Speed (1996)',\n",
       " 'Secret Agent, The (1996)',\n",
       " 'Strike! (a.k.a. All I Wanna Do, The Hairy Bird) (1998)']"
      ]
     },
     "execution_count": 58,
     "metadata": {},
     "output_type": "execute_result"
    }
   ],
   "source": [
    "get_similar_movie('Mission: Impossible (1996)')"
   ]
  },
  {
   "cell_type": "code",
   "execution_count": 59,
   "id": "wired-cooling",
   "metadata": {},
   "outputs": [
    {
     "data": {
      "text/plain": [
       "['Star Wars: Episode IV - A New Hope (1977)',\n",
       " 'Loser (1991)',\n",
       " 'Ulysses (Ulisse) (1954)',\n",
       " 'Gay Deceivers, The (1969)',\n",
       " 'Boys (1996)',\n",
       " 'Slappy and the Stinkers (1998)',\n",
       " 'Simon Sez (1999)',\n",
       " 'Zachariah (1971)',\n",
       " 'Match, The (1999)',\n",
       " 'Jerry & Tom (1998)',\n",
       " 'Sunchaser, The (1996)',\n",
       " 'On Our Merry Way (1948)',\n",
       " 'Boys, The (1997)',\n",
       " 'Second Jungle Book: Mowgli & Baloo, The (1997)',\n",
       " 'Closer You Get, The (2000)']"
      ]
     },
     "execution_count": 59,
     "metadata": {},
     "output_type": "execute_result"
    }
   ],
   "source": [
    "get_similar_movie('Star Wars: Episode IV - A New Hope (1977)')"
   ]
  },
  {
   "cell_type": "markdown",
   "id": "unlikely-electronics",
   "metadata": {},
   "source": [
    "## 8. 내가 가장 좋아할 만한 영화들을 추천받아 보기"
   ]
  },
  {
   "cell_type": "code",
   "execution_count": 60,
   "id": "academic-match",
   "metadata": {},
   "outputs": [
    {
     "data": {
      "text/plain": [
       "[(2045, 0.13515465),\n",
       " (1244, 0.12895477),\n",
       " (910, 0.12779123),\n",
       " (1334, 0.12613024),\n",
       " (1378, 0.12333718),\n",
       " (603, 0.120343775),\n",
       " (961, 0.11866408),\n",
       " (1561, 0.109034255),\n",
       " (726, 0.10569918),\n",
       " (1224, 0.10567024),\n",
       " (933, 0.10434912),\n",
       " (874, 0.10321961),\n",
       " (2200, 0.102724954),\n",
       " (920, 0.10133519),\n",
       " (549, 0.09691833),\n",
       " (903, 0.09589224),\n",
       " (1309, 0.09586428),\n",
       " (70, 0.09549944),\n",
       " (1587, 0.09466808),\n",
       " (663, 0.09450415)]"
      ]
     },
     "execution_count": 60,
     "metadata": {},
     "output_type": "execute_result"
    }
   ],
   "source": [
    "user = user_to_idx['jiyoon']\n",
    "\n",
    "# recommend에서는 user*item CSR Matrix 받음\n",
    "movie_recommended = als_model.recommend(user, csr_data, N = 20, filter_already_liked_items = True)\n",
    "movie_recommended"
   ]
  },
  {
   "cell_type": "code",
   "execution_count": 62,
   "id": "illegal-joint",
   "metadata": {},
   "outputs": [
    {
     "data": {
      "text/plain": [
       "['For Love of the Game (1999)',\n",
       " 'Sommersby (1993)',\n",
       " 'Heavy Metal (1981)',\n",
       " 'To Catch a Thief (1955)',\n",
       " 'Swiss Family Robinson (1960)',\n",
       " 'Alien Nation (1988)',\n",
       " 'Say Anything... (1989)',\n",
       " 'Object of My Affection, The (1998)',\n",
       " 'Blair Witch Project, The (1999)',\n",
       " 'About Last Night... (1986)',\n",
       " 'Wild Wild West (1999)',\n",
       " 'Invasion of the Body Snatchers (1956)',\n",
       " 'Bottle Rocket (1996)',\n",
       " 'Night of the Comet (1984)',\n",
       " 'High Noon (1952)',\n",
       " 'Shaft (2000)',\n",
       " \"Kelly's Heroes (1970)\",\n",
       " 'Ran (1985)',\n",
       " 'Quiet Man, The (1952)',\n",
       " \"Singin' in the Rain (1952)\"]"
      ]
     },
     "execution_count": 62,
     "metadata": {},
     "output_type": "execute_result"
    }
   ],
   "source": [
    "[idx_to_title[i[0]] for i in movie_recommended]"
   ]
  },
  {
   "cell_type": "markdown",
   "id": "thick-flavor",
   "metadata": {},
   "source": [
    "- 'AlternatingLeastSquares' 클래스에 구현된 'explain' 메소드를 사용하면 기록을 남긴 데이터 중 **이 추천에 기여한 정도**를 확인할 수 있음"
   ]
  },
  {
   "cell_type": "code",
   "execution_count": 63,
   "id": "optional-ozone",
   "metadata": {},
   "outputs": [],
   "source": [
    "for_love_of_the_game = title_to_idx['For Love of the Game (1999)']\n",
    "explain = als_model.explain(user, csr_data, itemid = for_love_of_the_game)"
   ]
  },
  {
   "cell_type": "code",
   "execution_count": 64,
   "id": "usual-raleigh",
   "metadata": {},
   "outputs": [
    {
     "data": {
      "text/plain": [
       "[('Lord of the Rings, The (1978)', 0.05803270327111559),\n",
       " ('Sound of Music, The (1965)', 0.03094664680172436),\n",
       " ('Roman Holiday (1953)', 0.023830598271674698),\n",
       " ('Gone with the Wind (1939)', 0.018466176744799556),\n",
       " ('Star Wars: Episode I - The Phantom Menace (1999)', 0.010362091933639713),\n",
       " ('Star Wars: Episode IV - A New Hope (1977)', 0.004045278513402119),\n",
       " ('Mission: Impossible (1996)', -7.465593501598464e-05),\n",
       " ('Matrix, The (1999)', -0.0029843389094726287),\n",
       " ('Mission: Impossible 2 (2000)', -0.003720375833198364),\n",
       " ('Star Wars: Episode VI - Return of the Jedi (1983)', -0.004103583130146129)]"
      ]
     },
     "execution_count": 64,
     "metadata": {},
     "output_type": "execute_result"
    }
   ],
   "source": [
    "[(idx_to_title[i[0]], i[1]) for i in explain[1]]"
   ]
  },
  {
   "cell_type": "markdown",
   "id": "funded-radical",
   "metadata": {},
   "source": [
    "- 이 method는 추천한 영화의 점수에 기여한 다른 영화와 기여도(합이 콘텐츠의 점수가 됨)를 반환\n",
    "- 어떤 영화들이 이 추천에 얼마나 기여하고 있는가"
   ]
  }
 ],
 "metadata": {
  "kernelspec": {
   "display_name": "Python 3",
   "language": "python",
   "name": "python3"
  },
  "language_info": {
   "codemirror_mode": {
    "name": "ipython",
    "version": 3
   },
   "file_extension": ".py",
   "mimetype": "text/x-python",
   "name": "python",
   "nbconvert_exporter": "python",
   "pygments_lexer": "ipython3",
   "version": "3.7.9"
  }
 },
 "nbformat": 4,
 "nbformat_minor": 5
}
